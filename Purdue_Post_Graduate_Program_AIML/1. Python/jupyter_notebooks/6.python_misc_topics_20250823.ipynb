{
 "cells": [
  {
   "cell_type": "markdown",
   "id": "c080ea3f",
   "metadata": {},
   "source": [
    "# Python Misc Topics"
   ]
  },
  {
   "cell_type": "markdown",
   "id": "c8e9317e",
   "metadata": {},
   "source": [
    "List Comprehension"
   ]
  },
  {
   "cell_type": "code",
   "execution_count": 1,
   "id": "aa6969a8",
   "metadata": {},
   "outputs": [
    {
     "name": "stdout",
     "output_type": "stream",
     "text": [
      "[1, 4, 9, 16, 25]\n"
     ]
    }
   ],
   "source": [
    "nums = [1,2,3,4,5]\n",
    "\n",
    "squares = [num**2 for num in  nums]\n",
    "print(squares)"
   ]
  },
  {
   "cell_type": "code",
   "execution_count": 2,
   "id": "23f95ea2",
   "metadata": {},
   "outputs": [
    {
     "data": {
      "text/plain": [
       "[0, 2, 4, 6, 8, 10, 12, 14, 16, 18, 20, 22, 24, 26, 28]"
      ]
     },
     "execution_count": 2,
     "metadata": {},
     "output_type": "execute_result"
    }
   ],
   "source": [
    "# more advanced list comprehension\n",
    "even_nums = [num for num in range(30) if num % 2 ==0]\n",
    "even_nums"
   ]
  },
  {
   "cell_type": "code",
   "execution_count": 2,
   "id": "4368eb29",
   "metadata": {},
   "outputs": [
    {
     "data": {
      "text/plain": [
       "'Old'"
      ]
     },
     "execution_count": 2,
     "metadata": {},
     "output_type": "execute_result"
    }
   ],
   "source": [
    "num = 50\n",
    "status = 'Old' if num >= 45 else 'young'\n",
    "status"
   ]
  },
  {
   "cell_type": "code",
   "execution_count": 3,
   "id": "6b899c74",
   "metadata": {},
   "outputs": [
    {
     "data": {
      "text/plain": [
       "['odd', 'even', 'odd', 'even', 'odd']"
      ]
     },
     "execution_count": 3,
     "metadata": {},
     "output_type": "execute_result"
    }
   ],
   "source": [
    "# blending both\n",
    "nums = [1,2,3,4,5]\n",
    "\n",
    "labels = ['even' if num % 2 == 0 else 'odd' for num in nums]\n",
    "labels"
   ]
  },
  {
   "cell_type": "markdown",
   "id": "a29b0ca1",
   "metadata": {},
   "source": [
    "## Error Exception Handling"
   ]
  },
  {
   "cell_type": "markdown",
   "id": "489cf387",
   "metadata": {},
   "source": [
    "`try` and `except`"
   ]
  },
  {
   "cell_type": "code",
   "execution_count": 4,
   "id": "46f5dbd6",
   "metadata": {},
   "outputs": [
    {
     "ename": "FileNotFoundError",
     "evalue": "[Errno 2] No such file or directory: 'test.txt'",
     "output_type": "error",
     "traceback": [
      "\u001b[0;31m---------------------------------------------------------------------------\u001b[0m",
      "\u001b[0;31mFileNotFoundError\u001b[0m                         Traceback (most recent call last)",
      "Cell \u001b[0;32mIn[4], line 2\u001b[0m\n\u001b[1;32m      1\u001b[0m \u001b[38;5;66;03m#this line will fail\u001b[39;00m\n\u001b[0;32m----> 2\u001b[0m f \u001b[38;5;241m=\u001b[39m \u001b[38;5;28;43mopen\u001b[39;49m\u001b[43m(\u001b[49m\u001b[38;5;124;43m'\u001b[39;49m\u001b[38;5;124;43mtest.txt\u001b[39;49m\u001b[38;5;124;43m'\u001b[39;49m\u001b[43m)\u001b[49m\n",
      "File \u001b[0;32m~/Library/Python/3.11/lib/python/site-packages/IPython/core/interactiveshell.py:284\u001b[0m, in \u001b[0;36m_modified_open\u001b[0;34m(file, *args, **kwargs)\u001b[0m\n\u001b[1;32m    277\u001b[0m \u001b[38;5;28;01mif\u001b[39;00m file \u001b[38;5;129;01min\u001b[39;00m {\u001b[38;5;241m0\u001b[39m, \u001b[38;5;241m1\u001b[39m, \u001b[38;5;241m2\u001b[39m}:\n\u001b[1;32m    278\u001b[0m     \u001b[38;5;28;01mraise\u001b[39;00m \u001b[38;5;167;01mValueError\u001b[39;00m(\n\u001b[1;32m    279\u001b[0m         \u001b[38;5;124mf\u001b[39m\u001b[38;5;124m\"\u001b[39m\u001b[38;5;124mIPython won\u001b[39m\u001b[38;5;124m'\u001b[39m\u001b[38;5;124mt let you open fd=\u001b[39m\u001b[38;5;132;01m{\u001b[39;00mfile\u001b[38;5;132;01m}\u001b[39;00m\u001b[38;5;124m by default \u001b[39m\u001b[38;5;124m\"\u001b[39m\n\u001b[1;32m    280\u001b[0m         \u001b[38;5;124m\"\u001b[39m\u001b[38;5;124mas it is likely to crash IPython. If you know what you are doing, \u001b[39m\u001b[38;5;124m\"\u001b[39m\n\u001b[1;32m    281\u001b[0m         \u001b[38;5;124m\"\u001b[39m\u001b[38;5;124myou can use builtins\u001b[39m\u001b[38;5;124m'\u001b[39m\u001b[38;5;124m open.\u001b[39m\u001b[38;5;124m\"\u001b[39m\n\u001b[1;32m    282\u001b[0m     )\n\u001b[0;32m--> 284\u001b[0m \u001b[38;5;28;01mreturn\u001b[39;00m \u001b[43mio_open\u001b[49m\u001b[43m(\u001b[49m\u001b[43mfile\u001b[49m\u001b[43m,\u001b[49m\u001b[43m \u001b[49m\u001b[38;5;241;43m*\u001b[39;49m\u001b[43margs\u001b[49m\u001b[43m,\u001b[49m\u001b[43m \u001b[49m\u001b[38;5;241;43m*\u001b[39;49m\u001b[38;5;241;43m*\u001b[39;49m\u001b[43mkwargs\u001b[49m\u001b[43m)\u001b[49m\n",
      "\u001b[0;31mFileNotFoundError\u001b[0m: [Errno 2] No such file or directory: 'test.txt'"
     ]
    }
   ],
   "source": [
    "#this line will fail\n",
    "f = open('test.txt')"
   ]
  },
  {
   "cell_type": "code",
   "execution_count": 5,
   "id": "c2a2cfda",
   "metadata": {},
   "outputs": [
    {
     "ename": "ZeroDivisionError",
     "evalue": "division by zero",
     "output_type": "error",
     "traceback": [
      "\u001b[0;31m---------------------------------------------------------------------------\u001b[0m",
      "\u001b[0;31mZeroDivisionError\u001b[0m                         Traceback (most recent call last)",
      "Cell \u001b[0;32mIn[5], line 1\u001b[0m\n\u001b[0;32m----> 1\u001b[0m \u001b[38;5;241;43m400\u001b[39;49m\u001b[38;5;241;43m/\u001b[39;49m\u001b[38;5;241;43m0\u001b[39;49m\n",
      "\u001b[0;31mZeroDivisionError\u001b[0m: division by zero"
     ]
    }
   ],
   "source": [
    "400/0"
   ]
  },
  {
   "cell_type": "code",
   "execution_count": 6,
   "id": "70ef4fa6",
   "metadata": {},
   "outputs": [
    {
     "name": "stdout",
     "output_type": "stream",
     "text": [
      "Sorry. This file does not exist!\n"
     ]
    }
   ],
   "source": [
    "try:\n",
    "    f = open('test.txt')\n",
    "except Exception: #for any error type or exception\n",
    "    print('Sorry. This file does not exist!')"
   ]
  },
  {
   "cell_type": "code",
   "execution_count": 4,
   "id": "dd43d550",
   "metadata": {},
   "outputs": [
    {
     "name": "stdout",
     "output_type": "stream",
     "text": [
      "Sorry. This file does not exist!\n"
     ]
    }
   ],
   "source": [
    "# to make the error more specific to file not found\n",
    "try:\n",
    "    f = open('test.txt')\n",
    "except FileNotFoundError: #for specific file not found error\n",
    "    print('Sorry. This file does not exist!')"
   ]
  },
  {
   "cell_type": "code",
   "execution_count": 1,
   "id": "be1e2b8f",
   "metadata": {},
   "outputs": [
    {
     "data": {
      "text/plain": [
       "['ArithmeticError',\n",
       " 'AssertionError',\n",
       " 'AttributeError',\n",
       " 'BaseException',\n",
       " 'BaseExceptionGroup',\n",
       " 'BlockingIOError',\n",
       " 'BrokenPipeError',\n",
       " 'BufferError',\n",
       " 'BytesWarning',\n",
       " 'ChildProcessError',\n",
       " 'ConnectionAbortedError',\n",
       " 'ConnectionError',\n",
       " 'ConnectionRefusedError',\n",
       " 'ConnectionResetError',\n",
       " 'DeprecationWarning',\n",
       " 'EOFError',\n",
       " 'Ellipsis',\n",
       " 'EncodingWarning',\n",
       " 'EnvironmentError',\n",
       " 'Exception',\n",
       " 'ExceptionGroup',\n",
       " 'False',\n",
       " 'FileExistsError',\n",
       " 'FileNotFoundError',\n",
       " 'FloatingPointError',\n",
       " 'FutureWarning',\n",
       " 'GeneratorExit',\n",
       " 'IOError',\n",
       " 'ImportError',\n",
       " 'ImportWarning',\n",
       " 'IndentationError',\n",
       " 'IndexError',\n",
       " 'InterruptedError',\n",
       " 'IsADirectoryError',\n",
       " 'KeyError',\n",
       " 'KeyboardInterrupt',\n",
       " 'LookupError',\n",
       " 'MemoryError',\n",
       " 'ModuleNotFoundError',\n",
       " 'NameError',\n",
       " 'None',\n",
       " 'NotADirectoryError',\n",
       " 'NotImplemented',\n",
       " 'NotImplementedError',\n",
       " 'OSError',\n",
       " 'OverflowError',\n",
       " 'PendingDeprecationWarning',\n",
       " 'PermissionError',\n",
       " 'ProcessLookupError',\n",
       " 'RecursionError',\n",
       " 'ReferenceError',\n",
       " 'ResourceWarning',\n",
       " 'RuntimeError',\n",
       " 'RuntimeWarning',\n",
       " 'StopAsyncIteration',\n",
       " 'StopIteration',\n",
       " 'SyntaxError',\n",
       " 'SyntaxWarning',\n",
       " 'SystemError',\n",
       " 'SystemExit',\n",
       " 'TabError',\n",
       " 'TimeoutError',\n",
       " 'True',\n",
       " 'TypeError',\n",
       " 'UnboundLocalError',\n",
       " 'UnicodeDecodeError',\n",
       " 'UnicodeEncodeError',\n",
       " 'UnicodeError',\n",
       " 'UnicodeTranslateError',\n",
       " 'UnicodeWarning',\n",
       " 'UserWarning',\n",
       " 'ValueError',\n",
       " 'Warning',\n",
       " 'ZeroDivisionError',\n",
       " '__IPYTHON__',\n",
       " '__build_class__',\n",
       " '__debug__',\n",
       " '__doc__',\n",
       " '__import__',\n",
       " '__loader__',\n",
       " '__name__',\n",
       " '__package__',\n",
       " '__spec__',\n",
       " 'abs',\n",
       " 'aiter',\n",
       " 'all',\n",
       " 'anext',\n",
       " 'any',\n",
       " 'ascii',\n",
       " 'bin',\n",
       " 'bool',\n",
       " 'breakpoint',\n",
       " 'bytearray',\n",
       " 'bytes',\n",
       " 'callable',\n",
       " 'chr',\n",
       " 'classmethod',\n",
       " 'compile',\n",
       " 'complex',\n",
       " 'copyright',\n",
       " 'credits',\n",
       " 'delattr',\n",
       " 'dict',\n",
       " 'dir',\n",
       " 'display',\n",
       " 'divmod',\n",
       " 'enumerate',\n",
       " 'eval',\n",
       " 'exec',\n",
       " 'execfile',\n",
       " 'filter',\n",
       " 'float',\n",
       " 'format',\n",
       " 'frozenset',\n",
       " 'get_ipython',\n",
       " 'getattr',\n",
       " 'globals',\n",
       " 'hasattr',\n",
       " 'hash',\n",
       " 'help',\n",
       " 'hex',\n",
       " 'id',\n",
       " 'input',\n",
       " 'int',\n",
       " 'isinstance',\n",
       " 'issubclass',\n",
       " 'iter',\n",
       " 'len',\n",
       " 'license',\n",
       " 'list',\n",
       " 'locals',\n",
       " 'map',\n",
       " 'max',\n",
       " 'memoryview',\n",
       " 'min',\n",
       " 'next',\n",
       " 'object',\n",
       " 'oct',\n",
       " 'open',\n",
       " 'ord',\n",
       " 'pow',\n",
       " 'print',\n",
       " 'property',\n",
       " 'range',\n",
       " 'repr',\n",
       " 'reversed',\n",
       " 'round',\n",
       " 'runfile',\n",
       " 'set',\n",
       " 'setattr',\n",
       " 'slice',\n",
       " 'sorted',\n",
       " 'staticmethod',\n",
       " 'str',\n",
       " 'sum',\n",
       " 'super',\n",
       " 'tuple',\n",
       " 'type',\n",
       " 'vars',\n",
       " 'zip']"
      ]
     },
     "execution_count": 1,
     "metadata": {},
     "output_type": "execute_result"
    }
   ],
   "source": [
    "dir(locals()['__builtins__'])"
   ]
  },
  {
   "cell_type": "markdown",
   "id": "82442a91",
   "metadata": {},
   "source": [
    "Using Multiple `Except` statements"
   ]
  },
  {
   "cell_type": "code",
   "execution_count": null,
   "id": "32ee04dd",
   "metadata": {},
   "outputs": [
    {
     "name": "stdout",
     "output_type": "stream",
     "text": [
      "We have a value error\n"
     ]
    }
   ],
   "source": [
    "try:\n",
    "    x = int('my text')\n",
    "except ValueError:\n",
    "    print('We have a value error')\n",
    "except TypeError:\n",
    "    print('We have a type error')\n",
    "else:\n",
    "    print('input is good')"
   ]
  },
  {
   "cell_type": "code",
   "execution_count": null,
   "id": "e3a31f65",
   "metadata": {},
   "outputs": [
    {
     "name": "stdout",
     "output_type": "stream",
     "text": [
      "Sorry. type([Errno 2] No such file or directory: 'test.txt')\n"
     ]
    }
   ],
   "source": [
    "try:\n",
    "    f = open('test.txt')\n",
    "    #step2\n",
    "    #step3\n",
    "    #step4\n",
    "\n",
    "except Exception as e: #for any error type or exception\n",
    "    print(f'Sorry. type({e})') #capture and show the error "
   ]
  },
  {
   "cell_type": "markdown",
   "id": "5a87b9a5",
   "metadata": {},
   "source": [
    "**Exercise** Build a program that handles the format for user input to get `int` only."
   ]
  },
  {
   "cell_type": "markdown",
   "id": "dbedd20c",
   "metadata": {},
   "source": [
    "We can leverage `try - except` to make the process continuous until the condition is met."
   ]
  },
  {
   "cell_type": "code",
   "execution_count": 9,
   "id": "66d1a1bd",
   "metadata": {},
   "outputs": [
    {
     "name": "stdout",
     "output_type": "stream",
     "text": [
      "Oops! That was a non-number. Try again....\n",
      "Oops! That was a non-number. Try again....\n",
      "Oops! That was a non-number. Try again....\n"
     ]
    }
   ],
   "source": [
    "while True:\n",
    "    try:\n",
    "        x = int(input('Please enter a number:'))\n",
    "        break\n",
    "    except ValueError:\n",
    "        print('Oops! That was a non-number. Try again....')"
   ]
  },
  {
   "cell_type": "code",
   "execution_count": null,
   "id": "a250c408",
   "metadata": {},
   "outputs": [],
   "source": [
    "max_tries = 3\n",
    "try_count = 0\n",
    "\n",
    "while try_count <max_tries:"
   ]
  },
  {
   "cell_type": "markdown",
   "id": "1243723a",
   "metadata": {},
   "source": [
    "## `getpass()` functionality"
   ]
  },
  {
   "cell_type": "markdown",
   "id": "25e62b91",
   "metadata": {},
   "source": [
    "It helps hide the password during input."
   ]
  },
  {
   "cell_type": "code",
   "execution_count": 10,
   "id": "dac5d07d",
   "metadata": {},
   "outputs": [],
   "source": [
    "user_name = input('Enter your user name:')\n",
    "user_pass = input('Enter your user password:')"
   ]
  },
  {
   "cell_type": "code",
   "execution_count": null,
   "id": "6b1cf466",
   "metadata": {},
   "outputs": [],
   "source": [
    "#to hide the password input\n",
    "import getpass #\"pip install getpass\" if you don't have it "
   ]
  },
  {
   "cell_type": "code",
   "execution_count": 12,
   "id": "3d3e220c",
   "metadata": {},
   "outputs": [],
   "source": [
    "user_pass = getpass.getpass(prompt='Enter your password:')"
   ]
  },
  {
   "cell_type": "markdown",
   "id": "a2e9914e",
   "metadata": {},
   "source": [
    "## Using `dattime` in Python"
   ]
  },
  {
   "cell_type": "code",
   "execution_count": 13,
   "id": "96adadaa",
   "metadata": {},
   "outputs": [],
   "source": [
    "import datetime"
   ]
  },
  {
   "cell_type": "code",
   "execution_count": 15,
   "id": "61df2394",
   "metadata": {},
   "outputs": [
    {
     "name": "stdout",
     "output_type": "stream",
     "text": [
      "2025-08-23 11:13:19.102593\n"
     ]
    }
   ],
   "source": [
    "#current timestamp\n",
    "right_now = datetime.datetime.now()\n",
    "print(right_now)"
   ]
  },
  {
   "cell_type": "code",
   "execution_count": 18,
   "id": "36e0a40f",
   "metadata": {},
   "outputs": [
    {
     "name": "stdout",
     "output_type": "stream",
     "text": [
      "2022-10-24 12:00:00\n"
     ]
    }
   ],
   "source": [
    "#define a specific datetime\n",
    "my_datetime = datetime.datetime(2022,10,24,12,0,0)\n",
    "print(my_datetime)"
   ]
  },
  {
   "cell_type": "code",
   "execution_count": 19,
   "id": "816d3882",
   "metadata": {},
   "outputs": [
    {
     "data": {
      "text/plain": [
       "2022"
      ]
     },
     "execution_count": 19,
     "metadata": {},
     "output_type": "execute_result"
    }
   ],
   "source": [
    "#extract components\n",
    "my_datetime.year"
   ]
  },
  {
   "cell_type": "code",
   "execution_count": 20,
   "id": "8dfc5d32",
   "metadata": {},
   "outputs": [
    {
     "data": {
      "text/plain": [
       "10"
      ]
     },
     "execution_count": 20,
     "metadata": {},
     "output_type": "execute_result"
    }
   ],
   "source": [
    "my_datetime.month"
   ]
  },
  {
   "cell_type": "code",
   "execution_count": 22,
   "id": "917e76af",
   "metadata": {},
   "outputs": [
    {
     "name": "stdout",
     "output_type": "stream",
     "text": [
      "2022-10-25 12:00:00\n"
     ]
    }
   ],
   "source": [
    "# add 1 day to a specific date\n",
    "one_day = datetime.timedelta(days=1)\n",
    "print(my_datetime + one_day)"
   ]
  },
  {
   "cell_type": "markdown",
   "id": "f98f55cb",
   "metadata": {},
   "source": [
    "Time formatting using `strftime()` - reference https://strftime.org"
   ]
  },
  {
   "cell_type": "code",
   "execution_count": 23,
   "id": "ae59cb70",
   "metadata": {},
   "outputs": [
    {
     "name": "stdout",
     "output_type": "stream",
     "text": [
      "2022-10-24 12:00:00\n"
     ]
    }
   ],
   "source": [
    "print(my_datetime)"
   ]
  },
  {
   "cell_type": "code",
   "execution_count": null,
   "id": "fe8f3a40",
   "metadata": {},
   "outputs": [
    {
     "data": {
      "text/plain": [
       "'24/10/2022'"
      ]
     },
     "execution_count": 24,
     "metadata": {},
     "output_type": "execute_result"
    }
   ],
   "source": [
    "my_datetime_format = my_datetime.strftime('%d/%m/%Y')\n",
    "my_datetime_format"
   ]
  },
  {
   "cell_type": "code",
   "execution_count": 25,
   "id": "883f13fb",
   "metadata": {},
   "outputs": [
    {
     "data": {
      "text/plain": [
       "'Mon'"
      ]
     },
     "execution_count": 25,
     "metadata": {},
     "output_type": "execute_result"
    }
   ],
   "source": [
    "date_day = my_datetime.strftime('%a')\n",
    "date_day"
   ]
  },
  {
   "cell_type": "code",
   "execution_count": null,
   "id": "e5bb9424",
   "metadata": {},
   "outputs": [],
   "source": []
  }
 ],
 "metadata": {
  "kernelspec": {
   "display_name": "Python 3",
   "language": "python",
   "name": "python3"
  },
  "language_info": {
   "codemirror_mode": {
    "name": "ipython",
    "version": 3
   },
   "file_extension": ".py",
   "mimetype": "text/x-python",
   "name": "python",
   "nbconvert_exporter": "python",
   "pygments_lexer": "ipython3",
   "version": "3.11.3"
  }
 },
 "nbformat": 4,
 "nbformat_minor": 5
}
