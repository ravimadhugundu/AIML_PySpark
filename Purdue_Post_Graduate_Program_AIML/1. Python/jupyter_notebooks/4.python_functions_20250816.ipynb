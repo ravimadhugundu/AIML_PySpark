{
 "cells": [
  {
   "cell_type": "markdown",
   "id": "34bab949",
   "metadata": {},
   "source": [
    "## Functions in Python\n",
    "- Functions are reusable blocks of code designed to perform specific tasks.\n",
    "- Key features:\n",
    "    - Code Reusability: write code once and reuse multiple times\n",
    "    - Modularity: breaking the program into smaller segments and use them in different places, which makes it easy to debug, manage, and share.\n",
    "    - Readability: it helps organize the code nad improve readability\n",
    "\n",
    "- Two Types:\n",
    "    - Built-in functions: e.g. `print()` or `len()`\n",
    "    - User-defined functions: custom functions defined by the programmer.\n",
    "\n",
    "- Custom function syntax:\n",
    "```python\n",
    "def my_function(attribute):\n",
    "    task 1\n",
    "    task 2\n",
    "    return #optional\n",
    "```\n"
   ]
  },
  {
   "cell_type": "code",
   "execution_count": 3,
   "id": "6ab753ed",
   "metadata": {},
   "outputs": [],
   "source": [
    "def greetings(UserName, GreetingType):\n",
    "    return f'{GreetingType}, {UserName}!'"
   ]
  },
  {
   "cell_type": "code",
   "execution_count": 4,
   "id": "15ffb97f",
   "metadata": {},
   "outputs": [],
   "source": [
    "#style 2 for giving an output\n",
    "def greetings(UserName, GreetingType):\n",
    "    print(f'{GreetingType}, {UserName}!')"
   ]
  },
  {
   "cell_type": "code",
   "execution_count": 5,
   "id": "ea5e74d1",
   "metadata": {},
   "outputs": [
    {
     "name": "stdout",
     "output_type": "stream",
     "text": [
      "Hello, Mark!\n"
     ]
    }
   ],
   "source": [
    "# after defining the function, we need to call it\n",
    "greetings('Mark','Hello')"
   ]
  },
  {
   "cell_type": "code",
   "execution_count": null,
   "id": "4572947c",
   "metadata": {},
   "outputs": [
    {
     "name": "stdout",
     "output_type": "stream",
     "text": [
      "Mark, Hello!\n"
     ]
    }
   ],
   "source": [
    "greetings('Hello', 'Mark') #if not specified, the function will capture attributes and input in the exact original order"
   ]
  },
  {
   "cell_type": "markdown",
   "id": "22c70ce2",
   "metadata": {},
   "source": [
    "> if not specified, the function will capture attributes and input in the exact original order"
   ]
  },
  {
   "cell_type": "code",
   "execution_count": 7,
   "id": "ec786e3e",
   "metadata": {},
   "outputs": [
    {
     "name": "stdout",
     "output_type": "stream",
     "text": [
      "Hello, Mark!\n"
     ]
    }
   ],
   "source": [
    "#workaround\n",
    "greetings(GreetingType='Hello', UserName='Mark')"
   ]
  },
  {
   "cell_type": "markdown",
   "id": "b7af3c32",
   "metadata": {},
   "source": [
    "Passing a missing argument"
   ]
  },
  {
   "cell_type": "code",
   "execution_count": 8,
   "id": "bf0e66be",
   "metadata": {},
   "outputs": [
    {
     "ename": "TypeError",
     "evalue": "greetings() missing 1 required positional argument: 'GreetingType'",
     "output_type": "error",
     "traceback": [
      "\u001b[0;31m---------------------------------------------------------------------------\u001b[0m",
      "\u001b[0;31mTypeError\u001b[0m                                 Traceback (most recent call last)",
      "Cell \u001b[0;32mIn[8], line 1\u001b[0m\n\u001b[0;32m----> 1\u001b[0m \u001b[43mgreetings\u001b[49m\u001b[43m(\u001b[49m\u001b[38;5;124;43m'\u001b[39;49m\u001b[38;5;124;43mMark\u001b[39;49m\u001b[38;5;124;43m'\u001b[39;49m\u001b[43m)\u001b[49m\n",
      "\u001b[0;31mTypeError\u001b[0m: greetings() missing 1 required positional argument: 'GreetingType'"
     ]
    }
   ],
   "source": [
    "greetings('Mark')"
   ]
  },
  {
   "cell_type": "markdown",
   "id": "38b8ca66",
   "metadata": {},
   "source": [
    "> Workaround: define a default value for a potential missing argument"
   ]
  },
  {
   "cell_type": "code",
   "execution_count": null,
   "id": "57a0eedb",
   "metadata": {},
   "outputs": [],
   "source": [
    "def greetings(UserName, GreetingType='Hi'):\n",
    "    print(f'{GreetingType}, {UserName}!')"
   ]
  },
  {
   "cell_type": "code",
   "execution_count": 10,
   "id": "dd9cc075",
   "metadata": {},
   "outputs": [
    {
     "name": "stdout",
     "output_type": "stream",
     "text": [
      "Hi, Mark!\n"
     ]
    }
   ],
   "source": [
    "greetings('Mark')"
   ]
  },
  {
   "cell_type": "code",
   "execution_count": 11,
   "id": "7f1371c2",
   "metadata": {},
   "outputs": [],
   "source": [
    "def check_pos_neg(num):\n",
    "    if num > 0:\n",
    "        return 'Positive'\n",
    "    elif num < 0:\n",
    "        return 'Negative'\n",
    "    else:\n",
    "        return 'Zero'"
   ]
  },
  {
   "cell_type": "code",
   "execution_count": 16,
   "id": "41ce9047",
   "metadata": {},
   "outputs": [
    {
     "data": {
      "text/plain": [
       "'Positive'"
      ]
     },
     "execution_count": 16,
     "metadata": {},
     "output_type": "execute_result"
    }
   ],
   "source": [
    "eval_result = check_pos_neg(4) \n",
    "eval_result\n"
   ]
  },
  {
   "cell_type": "markdown",
   "id": "99965eec",
   "metadata": {},
   "source": [
    "> For default values, make sure they are all defined at the end. Can't mix and match in the order. The non-default arguments should come first."
   ]
  },
  {
   "cell_type": "markdown",
   "id": "ce7b7967",
   "metadata": {},
   "source": [
    "**Exercise** build a function that applies a flat tax value of 18%."
   ]
  },
  {
   "cell_type": "code",
   "execution_count": 18,
   "id": "78f43d87",
   "metadata": {},
   "outputs": [],
   "source": [
    "def amount_aft_tax(Amount, Tax=0.18):\n",
    "    amount_after = Amount * (1-Tax)\n",
    "    print('Amount After Tax', amount_after)"
   ]
  },
  {
   "cell_type": "code",
   "execution_count": 19,
   "id": "93007738",
   "metadata": {},
   "outputs": [
    {
     "name": "stdout",
     "output_type": "stream",
     "text": [
      "Amount After Tax 41000.0\n"
     ]
    }
   ],
   "source": [
    "amount_aft_tax(50000)"
   ]
  },
  {
   "cell_type": "code",
   "execution_count": 20,
   "id": "e61f6e55",
   "metadata": {},
   "outputs": [
    {
     "name": "stdout",
     "output_type": "stream",
     "text": [
      "Amount After Tax 39000.0\n"
     ]
    }
   ],
   "source": [
    "#customize the tax value\n",
    "amount_aft_tax(50000, Tax=.22)"
   ]
  },
  {
   "cell_type": "markdown",
   "id": "80af9b0a",
   "metadata": {},
   "source": [
    "### Arbitrary Arguments\n",
    "- They allow functions to accept multiple arguments\n",
    "- It's useful when the function doesn't have a specific number of inputs\n",
    "- It's denoted by `*` - typically `*args`"
   ]
  },
  {
   "cell_type": "code",
   "execution_count": 21,
   "id": "512aca03",
   "metadata": {},
   "outputs": [],
   "source": [
    "# build a function that adds numbers\n",
    "def my_tot(a,b,c,d):\n",
    "    return a+b+c+d"
   ]
  },
  {
   "cell_type": "code",
   "execution_count": 22,
   "id": "e652dea0",
   "metadata": {},
   "outputs": [
    {
     "data": {
      "text/plain": [
       "22"
      ]
     },
     "execution_count": 22,
     "metadata": {},
     "output_type": "execute_result"
    }
   ],
   "source": [
    "my_tot(4,5,6,7) #we are limited to only passing 4 values"
   ]
  },
  {
   "cell_type": "code",
   "execution_count": 23,
   "id": "a8fd37f0",
   "metadata": {},
   "outputs": [
    {
     "ename": "TypeError",
     "evalue": "my_tot() takes 4 positional arguments but 6 were given",
     "output_type": "error",
     "traceback": [
      "\u001b[0;31m---------------------------------------------------------------------------\u001b[0m",
      "\u001b[0;31mTypeError\u001b[0m                                 Traceback (most recent call last)",
      "Cell \u001b[0;32mIn[23], line 1\u001b[0m\n\u001b[0;32m----> 1\u001b[0m \u001b[43mmy_tot\u001b[49m\u001b[43m(\u001b[49m\u001b[38;5;241;43m4\u001b[39;49m\u001b[43m,\u001b[49m\u001b[38;5;241;43m5\u001b[39;49m\u001b[43m,\u001b[49m\u001b[38;5;241;43m6\u001b[39;49m\u001b[43m,\u001b[49m\u001b[38;5;241;43m7\u001b[39;49m\u001b[43m,\u001b[49m\u001b[38;5;241;43m10\u001b[39;49m\u001b[43m,\u001b[49m\u001b[38;5;241;43m20\u001b[39;49m\u001b[43m)\u001b[49m\n",
      "\u001b[0;31mTypeError\u001b[0m: my_tot() takes 4 positional arguments but 6 were given"
     ]
    }
   ],
   "source": [
    "my_tot(4,5,6,7,10,20)"
   ]
  },
  {
   "cell_type": "code",
   "execution_count": 24,
   "id": "a9398283",
   "metadata": {},
   "outputs": [],
   "source": [
    "def my_tot(*args):\n",
    "    return sum(args)"
   ]
  },
  {
   "cell_type": "code",
   "execution_count": 25,
   "id": "c328dea3",
   "metadata": {},
   "outputs": [
    {
     "data": {
      "text/plain": [
       "52"
      ]
     },
     "execution_count": 25,
     "metadata": {},
     "output_type": "execute_result"
    }
   ],
   "source": [
    "my_tot(4,5,6,7,10,20)"
   ]
  },
  {
   "cell_type": "code",
   "execution_count": 26,
   "id": "9946894d",
   "metadata": {},
   "outputs": [
    {
     "data": {
      "text/plain": [
       "122"
      ]
     },
     "execution_count": 26,
     "metadata": {},
     "output_type": "execute_result"
    }
   ],
   "source": [
    "my_tot(4,5,6,7,10,20,34,5,6,7,8,9,1)"
   ]
  },
  {
   "cell_type": "code",
   "execution_count": null,
   "id": "01cc64f2",
   "metadata": {},
   "outputs": [],
   "source": [
    "def return_1st_elm(*args):\n",
    "    return args[0]"
   ]
  },
  {
   "cell_type": "code",
   "execution_count": 28,
   "id": "156def0d",
   "metadata": {},
   "outputs": [
    {
     "data": {
      "text/plain": [
       "4"
      ]
     },
     "execution_count": 28,
     "metadata": {},
     "output_type": "execute_result"
    }
   ],
   "source": [
    "return_1st_elm(4,5,6,7,10,20,34,5,6,7,8,9,1)"
   ]
  },
  {
   "cell_type": "markdown",
   "id": "308b7b23",
   "metadata": {},
   "source": [
    "For dictionaries, we can use `**kwargs`"
   ]
  },
  {
   "cell_type": "code",
   "execution_count": null,
   "id": "bf2fb189",
   "metadata": {},
   "outputs": [],
   "source": [
    "def print_info(**kwargs):\n",
    "    for key in kwargs.keys(): #using kwargs as a dictionary object\n",
    "        print(f\"{key}: {kwargs[key]}\")"
   ]
  },
  {
   "cell_type": "code",
   "execution_count": 31,
   "id": "3f568652",
   "metadata": {},
   "outputs": [
    {
     "name": "stdout",
     "output_type": "stream",
     "text": [
      "name: Mike\n",
      "age: 50\n",
      "city: Atlanta\n",
      "state: GA\n"
     ]
    }
   ],
   "source": [
    "print_info(name='Mike', age='50', city='Atlanta', state='GA')"
   ]
  },
  {
   "cell_type": "markdown",
   "id": "b4744101",
   "metadata": {},
   "source": [
    "### Scope of A Function"
   ]
  },
  {
   "cell_type": "markdown",
   "id": "463143b3",
   "metadata": {},
   "source": [
    "- Global Variable: a variable that's defined outside the function.\n",
    "- Local Variable: a variable that's defined inside the function. Cna only be changed when you redefine the function."
   ]
  },
  {
   "cell_type": "code",
   "execution_count": 33,
   "id": "608e6e1b",
   "metadata": {},
   "outputs": [],
   "source": [
    "#global variable\n",
    "\n",
    "var = 20\n",
    "\n",
    "def func1(var):\n",
    "    return var*50"
   ]
  },
  {
   "cell_type": "code",
   "execution_count": 34,
   "id": "328e2abd",
   "metadata": {},
   "outputs": [
    {
     "data": {
      "text/plain": [
       "1000"
      ]
     },
     "execution_count": 34,
     "metadata": {},
     "output_type": "execute_result"
    }
   ],
   "source": [
    "func1(var)"
   ]
  },
  {
   "cell_type": "code",
   "execution_count": null,
   "id": "63ce6faa",
   "metadata": {},
   "outputs": [],
   "source": [
    "#local variable\n",
    "def frt_log(num):\n",
    "    fruit = 'apples(s)' #local variable\n",
    "    print(f'I have {num} {fruit}')"
   ]
  },
  {
   "cell_type": "code",
   "execution_count": 36,
   "id": "95788d3e",
   "metadata": {},
   "outputs": [
    {
     "name": "stdout",
     "output_type": "stream",
     "text": [
      "I have 40 apples(s)\n"
     ]
    }
   ],
   "source": [
    "frt_log(40)"
   ]
  },
  {
   "cell_type": "markdown",
   "id": "f05f8ec1",
   "metadata": {},
   "source": [
    "## Useful Tools to Apply Functions"
   ]
  },
  {
   "cell_type": "markdown",
   "id": "d5784f75",
   "metadata": {},
   "source": [
    "`map()` function"
   ]
  },
  {
   "cell_type": "markdown",
   "id": "6acfcacb",
   "metadata": {},
   "source": [
    "**Exercise** build a function that converts temperatures from C to F.\n",
    "\n",
    "$$(32°F − 32) × \\frac{5}{9}$$\n",
    "\n",
    "$$F = (C * 9/5) + 32$$"
   ]
  },
  {
   "cell_type": "code",
   "execution_count": null,
   "id": "d14b8c39",
   "metadata": {},
   "outputs": [
    {
     "name": "stdout",
     "output_type": "stream",
     "text": [
      "Temperature in F: 71.6\n",
      "Temperature in F: 80.6\n",
      "Temperature in F: 91.4\n",
      "Temperature in F: 69.8\n",
      "Temperature in F: 64.4\n"
     ]
    }
   ],
   "source": [
    "temp_list = [22,27,33,21,18]\n",
    "temp_list_F = []\n",
    "for C in temp_list:\n",
    "    F = (C * 9/5) + 32\n",
    "    print(f'Temperature in F:',F)\n",
    "    temp_list_F.append(F)"
   ]
  },
  {
   "cell_type": "code",
   "execution_count": 39,
   "id": "3e1ebdd5",
   "metadata": {},
   "outputs": [
    {
     "data": {
      "text/plain": [
       "[71.6, 80.6, 91.4, 69.8, 64.4]"
      ]
     },
     "execution_count": 39,
     "metadata": {},
     "output_type": "execute_result"
    }
   ],
   "source": [
    "temp_list_F"
   ]
  },
  {
   "cell_type": "code",
   "execution_count": null,
   "id": "9bb4691b",
   "metadata": {},
   "outputs": [
    {
     "data": {
      "text/plain": [
       "[71.6, 80.6, 91.4, 69.8, 64.4]"
      ]
     },
     "execution_count": 40,
     "metadata": {},
     "output_type": "execute_result"
    }
   ],
   "source": [
    "# method 2 using map()\n",
    "\n",
    "def tempF(C):\n",
    "    return (C * 9/5) + 32\n",
    "\n",
    "#map requires list conversion\n",
    "temp_list_F = list(map(tempF, temp_list))\n",
    "temp_list_F"
   ]
  },
  {
   "cell_type": "code",
   "execution_count": 41,
   "id": "cc1609ff",
   "metadata": {},
   "outputs": [
    {
     "data": {
      "text/plain": [
       "[1, 2, 3, 4, 5]"
      ]
     },
     "execution_count": 41,
     "metadata": {},
     "output_type": "execute_result"
    }
   ],
   "source": [
    "# can be also used for existing(builtin) python functions\n",
    "nums = [1,-2,3,4,-5]\n",
    "\n",
    "nums_abs = list(map(abs, nums))\n",
    "nums_abs"
   ]
  },
  {
   "cell_type": "markdown",
   "id": "22ba2db4",
   "metadata": {},
   "source": [
    "`lambda` efficient one line expression for a function"
   ]
  },
  {
   "cell_type": "code",
   "execution_count": 42,
   "id": "c6e7daef",
   "metadata": {},
   "outputs": [],
   "source": [
    "#add 20 to an input\n",
    "my_func = lambda x: x+20"
   ]
  },
  {
   "cell_type": "code",
   "execution_count": 44,
   "id": "03ed3e90",
   "metadata": {},
   "outputs": [
    {
     "data": {
      "text/plain": [
       "44"
      ]
     },
     "execution_count": 44,
     "metadata": {},
     "output_type": "execute_result"
    }
   ],
   "source": [
    "my_func(24)"
   ]
  },
  {
   "cell_type": "code",
   "execution_count": null,
   "id": "1b805a18",
   "metadata": {},
   "outputs": [],
   "source": [
    "orders = [\n",
    "    {'orderid:':2324234, 'customer_id':'c1', 'product_name'=}\n",
    "]"
   ]
  }
 ],
 "metadata": {
  "kernelspec": {
   "display_name": "Python 3",
   "language": "python",
   "name": "python3"
  },
  "language_info": {
   "codemirror_mode": {
    "name": "ipython",
    "version": 3
   },
   "file_extension": ".py",
   "mimetype": "text/x-python",
   "name": "python",
   "nbconvert_exporter": "python",
   "pygments_lexer": "ipython3",
   "version": "3.11.3"
  }
 },
 "nbformat": 4,
 "nbformat_minor": 5
}
