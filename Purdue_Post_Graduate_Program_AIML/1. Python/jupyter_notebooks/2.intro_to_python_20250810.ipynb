{
 "cells": [
  {
   "cell_type": "markdown",
   "id": "e2519252",
   "metadata": {},
   "source": [
    "# Introduction to Python"
   ]
  },
  {
   "cell_type": "markdown",
   "id": "650979f8",
   "metadata": {},
   "source": [
    "## Arithmetic Operators"
   ]
  },
  {
   "cell_type": "code",
   "execution_count": 103,
   "id": "b912467d",
   "metadata": {},
   "outputs": [
    {
     "data": {
      "text/plain": [
       "6"
      ]
     },
     "execution_count": 103,
     "metadata": {},
     "output_type": "execute_result"
    }
   ],
   "source": [
    "1 + 5"
   ]
  },
  {
   "cell_type": "code",
   "execution_count": 104,
   "id": "d379fa37",
   "metadata": {},
   "outputs": [
    {
     "data": {
      "text/plain": [
       "0.5"
      ]
     },
     "execution_count": 104,
     "metadata": {},
     "output_type": "execute_result"
    }
   ],
   "source": [
    "1 / 2"
   ]
  },
  {
   "cell_type": "code",
   "execution_count": 105,
   "id": "d184ce4b",
   "metadata": {},
   "outputs": [
    {
     "data": {
      "text/plain": [
       "256"
      ]
     },
     "execution_count": 105,
     "metadata": {},
     "output_type": "execute_result"
    }
   ],
   "source": [
    "#exponents\n",
    "4 ** 4"
   ]
  },
  {
   "cell_type": "code",
   "execution_count": 106,
   "id": "97770eac",
   "metadata": {},
   "outputs": [
    {
     "data": {
      "text/plain": [
       "29"
      ]
     },
     "execution_count": 106,
     "metadata": {},
     "output_type": "execute_result"
    }
   ],
   "source": [
    "# python will follow order of operations\n",
    "5 + 4 * 6"
   ]
  },
  {
   "cell_type": "code",
   "execution_count": 107,
   "id": "928a658f",
   "metadata": {},
   "outputs": [
    {
     "data": {
      "text/plain": [
       "2"
      ]
     },
     "execution_count": 107,
     "metadata": {},
     "output_type": "execute_result"
    }
   ],
   "source": [
    "4 - 2"
   ]
  },
  {
   "cell_type": "code",
   "execution_count": 108,
   "id": "db6d428a",
   "metadata": {},
   "outputs": [
    {
     "name": "stdout",
     "output_type": "stream",
     "text": [
      "Hello, World!\n"
     ]
    }
   ],
   "source": [
    "print('Hello, World!')"
   ]
  },
  {
   "cell_type": "markdown",
   "id": "eb6a84df",
   "metadata": {},
   "source": [
    "## Using Variables"
   ]
  },
  {
   "cell_type": "code",
   "execution_count": 109,
   "id": "0b4a7fc5",
   "metadata": {},
   "outputs": [],
   "source": [
    "# defining x and y\n",
    "x = 5\n",
    "y = 10"
   ]
  },
  {
   "cell_type": "code",
   "execution_count": 110,
   "id": "eae53935",
   "metadata": {},
   "outputs": [
    {
     "data": {
      "text/plain": [
       "15"
      ]
     },
     "execution_count": 110,
     "metadata": {},
     "output_type": "execute_result"
    }
   ],
   "source": [
    "x + y"
   ]
  },
  {
   "cell_type": "code",
   "execution_count": 111,
   "id": "79fd03ed",
   "metadata": {},
   "outputs": [
    {
     "data": {
      "text/plain": [
       "593.2"
      ]
     },
     "execution_count": 111,
     "metadata": {},
     "output_type": "execute_result"
    }
   ],
   "source": [
    "# different method of defining multiple variables\n",
    "x, y, z = 50, 12, 6.8 # note that the new values assigned to x and y will overwrite the old values\n",
    "\n",
    "x * y - z"
   ]
  },
  {
   "cell_type": "markdown",
   "id": "2e3f14f2",
   "metadata": {},
   "source": [
    "## Python Identifiers (variables) Rules\n",
    "- It's a name used to identify variables, functions, or any python objects\n",
    "- Can be a combination of:\n",
    "    - Letters in lower or upper case\n",
    "    - digits\n",
    "    - underscore (e.g. my_variable = 70)\n",
    "- An identifier cannot start with a  digit\n",
    "- Avoid special chars (!, @, #, $, %)\n",
    "- Avoid using reserved words (e.g. class, str, int)\n",
    "- They are case sensitive. a is different than A"
   ]
  },
  {
   "cell_type": "code",
   "execution_count": 112,
   "id": "e32528a2",
   "metadata": {},
   "outputs": [
    {
     "data": {
      "text/plain": [
       "52"
      ]
     },
     "execution_count": 112,
     "metadata": {},
     "output_type": "execute_result"
    }
   ],
   "source": [
    "a = 46\n",
    "a + 6"
   ]
  },
  {
   "cell_type": "code",
   "execution_count": 113,
   "id": "9afe6e98",
   "metadata": {},
   "outputs": [
    {
     "name": "stdout",
     "output_type": "stream",
     "text": [
      "['False', 'None', 'True', 'and', 'as', 'assert', 'async', 'await', 'break', 'class', 'continue', 'def', 'del', 'elif', 'else', 'except', 'finally', 'for', 'from', 'global', 'if', 'import', 'in', 'is', 'lambda', 'nonlocal', 'not', 'or', 'pass', 'raise', 'return', 'try', 'while', 'with', 'yield']\n"
     ]
    }
   ],
   "source": [
    "import keyword\n",
    "print(keyword.kwlist)"
   ]
  },
  {
   "cell_type": "markdown",
   "id": "f1f32819",
   "metadata": {},
   "source": [
    "## Logical Operators"
   ]
  },
  {
   "cell_type": "code",
   "execution_count": 114,
   "id": "eed8b17a",
   "metadata": {},
   "outputs": [],
   "source": [
    "a = 20\n",
    "b = 10"
   ]
  },
  {
   "cell_type": "code",
   "execution_count": 115,
   "id": "502bc018",
   "metadata": {},
   "outputs": [
    {
     "data": {
      "text/plain": [
       "True"
      ]
     },
     "execution_count": 115,
     "metadata": {},
     "output_type": "execute_result"
    }
   ],
   "source": [
    "a > b"
   ]
  },
  {
   "cell_type": "code",
   "execution_count": 116,
   "id": "26b215cd",
   "metadata": {},
   "outputs": [
    {
     "data": {
      "text/plain": [
       "False"
      ]
     },
     "execution_count": 116,
     "metadata": {},
     "output_type": "execute_result"
    }
   ],
   "source": [
    "a < b"
   ]
  },
  {
   "cell_type": "code",
   "execution_count": 117,
   "id": "b1c6b230",
   "metadata": {},
   "outputs": [
    {
     "data": {
      "text/plain": [
       "True"
      ]
     },
     "execution_count": 117,
     "metadata": {},
     "output_type": "execute_result"
    }
   ],
   "source": [
    "# combine multiple conditions\n",
    "z = 10\n",
    "\n",
    "(a > b) & (z == b)"
   ]
  },
  {
   "cell_type": "code",
   "execution_count": 118,
   "id": "76bd3a78",
   "metadata": {},
   "outputs": [
    {
     "data": {
      "text/plain": [
       "False"
      ]
     },
     "execution_count": 118,
     "metadata": {},
     "output_type": "execute_result"
    }
   ],
   "source": [
    "(a > b and z > b)"
   ]
  },
  {
   "cell_type": "code",
   "execution_count": 119,
   "id": "ec8b2323",
   "metadata": {},
   "outputs": [
    {
     "data": {
      "text/plain": [
       "True"
      ]
     },
     "execution_count": 119,
     "metadata": {},
     "output_type": "execute_result"
    }
   ],
   "source": [
    "(a > b or z > b) # one of the conditions has to be satisfied "
   ]
  },
  {
   "cell_type": "code",
   "execution_count": 120,
   "id": "e4649b3c",
   "metadata": {},
   "outputs": [
    {
     "data": {
      "text/plain": [
       "False"
      ]
     },
     "execution_count": 120,
     "metadata": {},
     "output_type": "execute_result"
    }
   ],
   "source": [
    "not(a<50)"
   ]
  },
  {
   "cell_type": "code",
   "execution_count": 121,
   "id": "edc30372",
   "metadata": {},
   "outputs": [
    {
     "data": {
      "text/plain": [
       "True"
      ]
     },
     "execution_count": 121,
     "metadata": {},
     "output_type": "execute_result"
    }
   ],
   "source": [
    "5 != 3"
   ]
  },
  {
   "cell_type": "code",
   "execution_count": 122,
   "id": "ee454d4b",
   "metadata": {},
   "outputs": [
    {
     "name": "stdout",
     "output_type": "stream",
     "text": [
      "8\n",
      "24\n"
     ]
    }
   ],
   "source": [
    "print(5 + 3)\n",
    "print(4 + 20)"
   ]
  },
  {
   "cell_type": "markdown",
   "id": "5b5157f0",
   "metadata": {},
   "source": [
    "## Importing a Python Library"
   ]
  },
  {
   "cell_type": "code",
   "execution_count": 123,
   "id": "922aef3b",
   "metadata": {},
   "outputs": [
    {
     "data": {
      "text/plain": [
       "32.0"
      ]
     },
     "execution_count": 123,
     "metadata": {},
     "output_type": "execute_result"
    }
   ],
   "source": [
    "import math\n",
    "math.sqrt(1024)"
   ]
  },
  {
   "cell_type": "markdown",
   "id": "20bbe79b",
   "metadata": {},
   "source": [
    "> Libraries can be imported once per session. If the session is closed, the import library command needs to be run again."
   ]
  },
  {
   "cell_type": "markdown",
   "id": "ad5f3c7b",
   "metadata": {},
   "source": [
    "For full list of available functions in `math` https://docs.python.org/3/library/math.html"
   ]
  },
  {
   "cell_type": "markdown",
   "id": "f111bd29",
   "metadata": {},
   "source": [
    "## Python Data Types"
   ]
  },
  {
   "cell_type": "markdown",
   "id": "d201ce45",
   "metadata": {},
   "source": [
    "- Numbers: integers and floats\n",
    "- Strings: a sequence of alphanumeric chars\n",
    "- Sequences:\n",
    "    - Lists: mutable sequences (editable)\n",
    "    - Sets: mutable sequences for only unique element (no duplication)\n",
    "    - Tuples immutable sequences (uneditable)\n",
    "- Dictionaries: collection of key-value pair for data\n",
    "- Booleans: True/False"
   ]
  },
  {
   "cell_type": "markdown",
   "id": "081bfba5",
   "metadata": {},
   "source": [
    "### Numbers"
   ]
  },
  {
   "cell_type": "code",
   "execution_count": 124,
   "id": "f2d781f5",
   "metadata": {},
   "outputs": [],
   "source": [
    "x = 100"
   ]
  },
  {
   "cell_type": "code",
   "execution_count": 125,
   "id": "3c1303af",
   "metadata": {},
   "outputs": [
    {
     "data": {
      "text/plain": [
       "int"
      ]
     },
     "execution_count": 125,
     "metadata": {},
     "output_type": "execute_result"
    }
   ],
   "source": [
    "type(x)"
   ]
  },
  {
   "cell_type": "code",
   "execution_count": 126,
   "id": "259e9d26",
   "metadata": {},
   "outputs": [
    {
     "data": {
      "text/plain": [
       "float"
      ]
     },
     "execution_count": 126,
     "metadata": {},
     "output_type": "execute_result"
    }
   ],
   "source": [
    "v = 5.7\n",
    "type(v)"
   ]
  },
  {
   "cell_type": "code",
   "execution_count": 127,
   "id": "840823e6",
   "metadata": {},
   "outputs": [
    {
     "data": {
      "text/plain": [
       "5"
      ]
     },
     "execution_count": 127,
     "metadata": {},
     "output_type": "execute_result"
    }
   ],
   "source": [
    "int(v)"
   ]
  },
  {
   "cell_type": "code",
   "execution_count": 128,
   "id": "6bac1b5b",
   "metadata": {},
   "outputs": [
    {
     "data": {
      "text/plain": [
       "5"
      ]
     },
     "execution_count": 128,
     "metadata": {},
     "output_type": "execute_result"
    }
   ],
   "source": [
    "math.ceil(4.6)"
   ]
  },
  {
   "cell_type": "markdown",
   "id": "db46e3d3",
   "metadata": {},
   "source": [
    "### Strings"
   ]
  },
  {
   "cell_type": "code",
   "execution_count": 129,
   "id": "d5308e69",
   "metadata": {},
   "outputs": [
    {
     "data": {
      "text/plain": [
       "str"
      ]
     },
     "execution_count": 129,
     "metadata": {},
     "output_type": "execute_result"
    }
   ],
   "source": [
    "my_str = 'this is a string'\n",
    "type(my_str)"
   ]
  },
  {
   "cell_type": "code",
   "execution_count": 130,
   "id": "18bbb30a",
   "metadata": {},
   "outputs": [
    {
     "name": "stdout",
     "output_type": "stream",
     "text": [
      "this is a string\n",
      "this is a second string\n"
     ]
    }
   ],
   "source": [
    "my_str = 'this is a string'\n",
    "my_str2 = 'this is a second string'\n",
    "print(my_str)\n",
    "print(my_str2)"
   ]
  },
  {
   "cell_type": "markdown",
   "id": "4c718a76",
   "metadata": {},
   "source": [
    "Using double vs single quote \n",
    "- You can use either. \n",
    "- Using both becomes important when you have special chars"
   ]
  },
  {
   "cell_type": "code",
   "execution_count": 131,
   "id": "43799828",
   "metadata": {},
   "outputs": [],
   "source": [
    "my_str = \"He's a nice person\"\n",
    "\n",
    "my_str = 'This is a \"text\" example'"
   ]
  },
  {
   "cell_type": "markdown",
   "id": "dc19c621",
   "metadata": {},
   "source": [
    "#### String Concat with Print"
   ]
  },
  {
   "cell_type": "code",
   "execution_count": 132,
   "id": "d82df03d",
   "metadata": {},
   "outputs": [],
   "source": [
    "\n",
    "num = 40\n",
    "item = 'apples'\n"
   ]
  },
  {
   "cell_type": "code",
   "execution_count": 133,
   "id": "b42bb1d0",
   "metadata": {},
   "outputs": [
    {
     "name": "stdout",
     "output_type": "stream",
     "text": [
      "We have 40 apples\n"
     ]
    }
   ],
   "source": [
    "#method 1\n",
    "print('We have '+str(num)+' '+item)"
   ]
  },
  {
   "cell_type": "code",
   "execution_count": 134,
   "id": "34db9692",
   "metadata": {},
   "outputs": [
    {
     "name": "stdout",
     "output_type": "stream",
     "text": [
      "We have 40 apples\n"
     ]
    }
   ],
   "source": [
    "#method 2\n",
    "print('We have',num,item)"
   ]
  },
  {
   "cell_type": "code",
   "execution_count": 135,
   "id": "f69b18e6",
   "metadata": {},
   "outputs": [
    {
     "name": "stdout",
     "output_type": "stream",
     "text": [
      "We have 40 apples\n"
     ]
    }
   ],
   "source": [
    "#method 3 - we don't use numbers make sure you follow the exact order\n",
    "print('We have {} {}'.format(num, item))"
   ]
  },
  {
   "cell_type": "code",
   "execution_count": 136,
   "id": "1814c02b",
   "metadata": {},
   "outputs": [
    {
     "name": "stdout",
     "output_type": "stream",
     "text": [
      "We have 40 apples. apples are delicious\n"
     ]
    }
   ],
   "source": [
    "#method 3 - more examples with indices - counting starts from 0\n",
    "print('We have {0} {1}. {1} are delicious'.format(num, item))"
   ]
  },
  {
   "cell_type": "code",
   "execution_count": 137,
   "id": "a8b02c4e",
   "metadata": {},
   "outputs": [
    {
     "name": "stdout",
     "output_type": "stream",
     "text": [
      "We have 40 apples. apples are delicious\n"
     ]
    }
   ],
   "source": [
    "#Method 4\n",
    "print(f'We have {num} {item}. {item} are delicious')"
   ]
  },
  {
   "cell_type": "markdown",
   "id": "d56eb88f",
   "metadata": {},
   "source": [
    "#### String Functions in Python"
   ]
  },
  {
   "cell_type": "code",
   "execution_count": 138,
   "id": "427b2062",
   "metadata": {},
   "outputs": [
    {
     "data": {
      "text/plain": [
       "'THIS IS A TEXT'"
      ]
     },
     "execution_count": 138,
     "metadata": {},
     "output_type": "execute_result"
    }
   ],
   "source": [
    "# text formatting\n",
    "my_str = 'THis iS A teXT'\n",
    "my_str.upper()"
   ]
  },
  {
   "cell_type": "code",
   "execution_count": 139,
   "id": "6118dee4",
   "metadata": {},
   "outputs": [
    {
     "data": {
      "text/plain": [
       "'this is a text'"
      ]
     },
     "execution_count": 139,
     "metadata": {},
     "output_type": "execute_result"
    }
   ],
   "source": [
    "my_str.lower()"
   ]
  },
  {
   "cell_type": "code",
   "execution_count": 140,
   "id": "216913f5",
   "metadata": {},
   "outputs": [
    {
     "data": {
      "text/plain": [
       "'This Is A Text'"
      ]
     },
     "execution_count": 140,
     "metadata": {},
     "output_type": "execute_result"
    }
   ],
   "source": [
    "my_str.title()"
   ]
  },
  {
   "cell_type": "code",
   "execution_count": 141,
   "id": "5b165ac3",
   "metadata": {},
   "outputs": [
    {
     "data": {
      "text/plain": [
       "'Hello'"
      ]
     },
     "execution_count": 141,
     "metadata": {},
     "output_type": "execute_result"
    }
   ],
   "source": [
    "my_str = \"    Hello    \"\n",
    "my_str.strip()"
   ]
  },
  {
   "cell_type": "code",
   "execution_count": 142,
   "id": "cba63a87",
   "metadata": {},
   "outputs": [
    {
     "data": {
      "text/plain": [
       "'00042'"
      ]
     },
     "execution_count": 142,
     "metadata": {},
     "output_type": "execute_result"
    }
   ],
   "source": [
    "#add leading zeroes to a number\n",
    "numb = '42'\n",
    "padded_number = numb.zfill(5) #pads zeroes to give a 5 char-wide string\n",
    "padded_number"
   ]
  },
  {
   "cell_type": "code",
   "execution_count": 143,
   "id": "fd480c8c",
   "metadata": {},
   "outputs": [
    {
     "data": {
      "text/plain": [
       "'     Hello'"
      ]
     },
     "execution_count": 143,
     "metadata": {},
     "output_type": "execute_result"
    }
   ],
   "source": [
    "my_str = 'Hello'\n",
    "my_str.rjust(10)"
   ]
  },
  {
   "cell_type": "markdown",
   "id": "fa0f494e",
   "metadata": {},
   "source": [
    "Python full string functions list https://docs.python.org/3/library/string.html"
   ]
  },
  {
   "cell_type": "code",
   "execution_count": 144,
   "id": "4b95f99a",
   "metadata": {},
   "outputs": [
    {
     "data": {
      "text/plain": [
       "True"
      ]
     },
     "execution_count": 144,
     "metadata": {},
     "output_type": "execute_result"
    }
   ],
   "source": [
    "# checking content\n",
    "my_str = '70'\n",
    "my_str.isdigit()"
   ]
  },
  {
   "cell_type": "markdown",
   "id": "52a9f29c",
   "metadata": {},
   "source": [
    "> Make sure you define the string. Using the function on its own does not overwrite."
   ]
  },
  {
   "cell_type": "code",
   "execution_count": 145,
   "id": "f5b0ddc3",
   "metadata": {},
   "outputs": [
    {
     "data": {
      "text/plain": [
       "'THIS IS A TEXT'"
      ]
     },
     "execution_count": 145,
     "metadata": {},
     "output_type": "execute_result"
    }
   ],
   "source": [
    "my_str = 'THis iS A teXT'\n",
    "# redefine the str to overwrite with the formatting\n",
    "my_str = my_str.upper()\n",
    "my_str"
   ]
  },
  {
   "cell_type": "code",
   "execution_count": 146,
   "id": "4d44edec",
   "metadata": {},
   "outputs": [
    {
     "data": {
      "text/plain": [
       "'Hi, World!'"
      ]
     },
     "execution_count": 146,
     "metadata": {},
     "output_type": "execute_result"
    }
   ],
   "source": [
    "# replace\n",
    "my_str = 'Hello, World!'\n",
    "new_str = my_str.replace('Hello', 'Hi')\n",
    "new_str"
   ]
  },
  {
   "cell_type": "code",
   "execution_count": 147,
   "id": "b400162a",
   "metadata": {},
   "outputs": [
    {
     "data": {
      "text/plain": [
       "['Hello', ' World! Thanks', ' take care!']"
      ]
     },
     "execution_count": 147,
     "metadata": {},
     "output_type": "execute_result"
    }
   ],
   "source": [
    "my_str = \"Hello, World! Thanks, take care!\"\n",
    "my_str.split(',')"
   ]
  },
  {
   "cell_type": "code",
   "execution_count": 148,
   "id": "c513293d",
   "metadata": {},
   "outputs": [
    {
     "data": {
      "text/plain": [
       "'THIS IS A STRING'"
      ]
     },
     "execution_count": 148,
     "metadata": {},
     "output_type": "execute_result"
    }
   ],
   "source": [
    "# stacking multiple functions\n",
    "my_str = '    THis iS A teXT   '\n",
    "my_str = my_str.upper().strip().replace('TEXT', 'STRING') #make sure you use TEXT uppercase because python is case sensitive\n",
    "my_str"
   ]
  },
  {
   "cell_type": "code",
   "execution_count": 149,
   "id": "61f0a31a",
   "metadata": {},
   "outputs": [
    {
     "data": {
      "text/plain": [
       "True"
      ]
     },
     "execution_count": 149,
     "metadata": {},
     "output_type": "execute_result"
    }
   ],
   "source": [
    "# membership or search\n",
    "my_str = \"Hello, World! Thanks, take care!\"\n",
    "\n",
    "'Thanks' in my_str"
   ]
  },
  {
   "cell_type": "code",
   "execution_count": 150,
   "id": "082938fc",
   "metadata": {},
   "outputs": [
    {
     "data": {
      "text/plain": [
       "False"
      ]
     },
     "execution_count": 150,
     "metadata": {},
     "output_type": "execute_result"
    }
   ],
   "source": [
    "'Thanks' not in my_str"
   ]
  },
  {
   "cell_type": "code",
   "execution_count": 151,
   "id": "0b3aa3db",
   "metadata": {},
   "outputs": [
    {
     "data": {
      "text/plain": [
       "0"
      ]
     },
     "execution_count": 151,
     "metadata": {},
     "output_type": "execute_result"
    }
   ],
   "source": [
    "my_str = 'Python is fun. Python is good'\n",
    "str_pos = my_str.find('Python') #return the lowest index where the substring is found\n",
    "str_pos"
   ]
  },
  {
   "cell_type": "code",
   "execution_count": 152,
   "id": "32a25f2a",
   "metadata": {},
   "outputs": [
    {
     "data": {
      "text/plain": [
       "15"
      ]
     },
     "execution_count": 152,
     "metadata": {},
     "output_type": "execute_result"
    }
   ],
   "source": [
    "my_str = 'Python is fun. Python is good'\n",
    "str_pos = my_str.find('Python',2)\n",
    "str_pos"
   ]
  },
  {
   "cell_type": "markdown",
   "id": "ea1a7be4",
   "metadata": {},
   "source": [
    "> If the word is not found, it will return -1"
   ]
  },
  {
   "cell_type": "markdown",
   "id": "a62d6881",
   "metadata": {},
   "source": [
    "### String Indexing or Slicing"
   ]
  },
  {
   "cell_type": "code",
   "execution_count": 153,
   "id": "a1f46275",
   "metadata": {},
   "outputs": [],
   "source": [
    "d = 'Sunday'\n",
    "\n",
    "# S u n d a y\n",
    "# 0 1 2 3 4 5"
   ]
  },
  {
   "cell_type": "code",
   "execution_count": 154,
   "id": "43d4c7d2",
   "metadata": {},
   "outputs": [
    {
     "data": {
      "text/plain": [
       "'n'"
      ]
     },
     "execution_count": 154,
     "metadata": {},
     "output_type": "execute_result"
    }
   ],
   "source": [
    "d[2]"
   ]
  },
  {
   "cell_type": "code",
   "execution_count": 155,
   "id": "f080c16a",
   "metadata": {},
   "outputs": [
    {
     "data": {
      "text/plain": [
       "'a'"
      ]
     },
     "execution_count": 155,
     "metadata": {},
     "output_type": "execute_result"
    }
   ],
   "source": [
    "d[4]"
   ]
  },
  {
   "cell_type": "code",
   "execution_count": 156,
   "id": "391c3380",
   "metadata": {},
   "outputs": [
    {
     "data": {
      "text/plain": [
       "'und'"
      ]
     },
     "execution_count": 156,
     "metadata": {},
     "output_type": "execute_result"
    }
   ],
   "source": [
    "# range\n",
    "d[1:4] # the range end index does not get included"
   ]
  },
  {
   "cell_type": "code",
   "execution_count": 157,
   "id": "a213b7ef",
   "metadata": {},
   "outputs": [
    {
     "data": {
      "text/plain": [
       "'y'"
      ]
     },
     "execution_count": 157,
     "metadata": {},
     "output_type": "execute_result"
    }
   ],
   "source": [
    "x = 5\n",
    "\n",
    "d[x]"
   ]
  },
  {
   "cell_type": "code",
   "execution_count": 158,
   "id": "1c7a366a",
   "metadata": {},
   "outputs": [
    {
     "name": "stdout",
     "output_type": "stream",
     "text": [
      "day\n",
      "day\n"
     ]
    }
   ],
   "source": [
    "# grabbing the last 3 chars\n",
    "print(d[3:6])\n",
    "print(d[3:]) # when we don't specify a num at the end, it uses infinity"
   ]
  },
  {
   "cell_type": "code",
   "execution_count": 159,
   "id": "032030be",
   "metadata": {},
   "outputs": [
    {
     "data": {
      "text/plain": [
       "'Sund'"
      ]
     },
     "execution_count": 159,
     "metadata": {},
     "output_type": "execute_result"
    }
   ],
   "source": [
    "# using no num for start point, starts from the beginning all the time\n",
    "d[:4]"
   ]
  },
  {
   "cell_type": "code",
   "execution_count": 160,
   "id": "e40f4883",
   "metadata": {},
   "outputs": [
    {
     "data": {
      "text/plain": [
       "'Sunday'"
      ]
     },
     "execution_count": 160,
     "metadata": {},
     "output_type": "execute_result"
    }
   ],
   "source": [
    "d[:]"
   ]
  },
  {
   "cell_type": "code",
   "execution_count": 161,
   "id": "38b3fd03",
   "metadata": {},
   "outputs": [
    {
     "data": {
      "text/plain": [
       "'$1000'"
      ]
     },
     "execution_count": 161,
     "metadata": {},
     "output_type": "execute_result"
    }
   ],
   "source": [
    "#data cleansing scenarios where indicies are useful\n",
    "'Sunday'\n",
    "'Sun'\n",
    "'Tues'\n",
    "\n",
    "'$80'\n",
    "'$1000'"
   ]
  },
  {
   "cell_type": "code",
   "execution_count": 162,
   "id": "5f4c8be5",
   "metadata": {},
   "outputs": [
    {
     "data": {
      "text/plain": [
       "'y'"
      ]
     },
     "execution_count": 162,
     "metadata": {},
     "output_type": "execute_result"
    }
   ],
   "source": [
    "# negative indices\n",
    "# S   u  n  d  a  y\n",
    "# -6 -5 -4 -3 -2 -1\n",
    "\n",
    "d[-1]"
   ]
  },
  {
   "cell_type": "code",
   "execution_count": 163,
   "id": "8f60b2de",
   "metadata": {},
   "outputs": [
    {
     "data": {
      "text/plain": [
       "('y', 'a')"
      ]
     },
     "execution_count": 163,
     "metadata": {},
     "output_type": "execute_result"
    }
   ],
   "source": [
    "# this is a scenario where negative indcies become useful\n",
    "\n",
    "s = 'Sunday'\n",
    "t = 'Tuesday'\n",
    "\n",
    "s[5], t[5]"
   ]
  },
  {
   "cell_type": "code",
   "execution_count": 164,
   "id": "d607ea7f",
   "metadata": {},
   "outputs": [
    {
     "data": {
      "text/plain": [
       "('y', 'y')"
      ]
     },
     "execution_count": 164,
     "metadata": {},
     "output_type": "execute_result"
    }
   ],
   "source": [
    "s[-1], t[-1]"
   ]
  },
  {
   "cell_type": "code",
   "execution_count": 165,
   "id": "5edceb4b",
   "metadata": {},
   "outputs": [
    {
     "data": {
      "text/plain": [
       "'y'"
      ]
     },
     "execution_count": 165,
     "metadata": {},
     "output_type": "execute_result"
    }
   ],
   "source": [
    "s[len(s)-1]"
   ]
  },
  {
   "cell_type": "markdown",
   "id": "5e4be084",
   "metadata": {},
   "source": [
    "## Lists"
   ]
  },
  {
   "cell_type": "markdown",
   "id": "472f5695",
   "metadata": {},
   "source": [
    "Lists are sequences of elements separated by commas and can take any data type"
   ]
  },
  {
   "cell_type": "code",
   "execution_count": 166,
   "id": "619e7aa6",
   "metadata": {},
   "outputs": [
    {
     "data": {
      "text/plain": [
       "list"
      ]
     },
     "execution_count": 166,
     "metadata": {},
     "output_type": "execute_result"
    }
   ],
   "source": [
    "my_list = ['a', 34, 'cat', False]\n",
    "\n",
    "type(my_list)"
   ]
  },
  {
   "cell_type": "code",
   "execution_count": 167,
   "id": "57eec139",
   "metadata": {},
   "outputs": [
    {
     "data": {
      "text/plain": [
       "['a', 34, 'cat', False, 'g']"
      ]
     },
     "execution_count": 167,
     "metadata": {},
     "output_type": "execute_result"
    }
   ],
   "source": [
    "# adding an item to a list - to the end of the list\n",
    "my_list.append('g')\n",
    "my_list"
   ]
  },
  {
   "cell_type": "code",
   "execution_count": 168,
   "id": "fa9aeace",
   "metadata": {},
   "outputs": [
    {
     "data": {
      "text/plain": [
       "['a', 'x', 34, 'cat', False, 'g']"
      ]
     },
     "execution_count": 168,
     "metadata": {},
     "output_type": "execute_result"
    }
   ],
   "source": [
    "# to insert ina  specific position\n",
    "my_list.insert(1,'x')\n",
    "my_list"
   ]
  },
  {
   "cell_type": "code",
   "execution_count": 169,
   "id": "0bf5e390",
   "metadata": {},
   "outputs": [
    {
     "data": {
      "text/plain": [
       "['a', 'x', 34, 'cat', False, 'g', 4, 7, 2]"
      ]
     },
     "execution_count": 169,
     "metadata": {},
     "output_type": "execute_result"
    }
   ],
   "source": [
    "# extend will append multiple elements to a list\n",
    "my_list.extend([4,7,2])\n",
    "my_list"
   ]
  },
  {
   "cell_type": "code",
   "execution_count": 170,
   "id": "42dae1b2",
   "metadata": {},
   "outputs": [
    {
     "data": {
      "text/plain": [
       "['a', 'x', 'cat', 'g']"
      ]
     },
     "execution_count": 170,
     "metadata": {},
     "output_type": "execute_result"
    }
   ],
   "source": [
    "my_list_str = [item for item in my_list if isinstance(item, str)]\n",
    "my_list_str"
   ]
  },
  {
   "cell_type": "code",
   "execution_count": 171,
   "id": "ef78cc47",
   "metadata": {},
   "outputs": [
    {
     "data": {
      "text/plain": [
       "['a', 'x', 34, 'dog', False, 'g', 4, 7, 2]"
      ]
     },
     "execution_count": 171,
     "metadata": {},
     "output_type": "execute_result"
    }
   ],
   "source": [
    "# using indices to update a specific element in the list\n",
    "my_list[3] = 'dog'\n",
    "my_list"
   ]
  },
  {
   "cell_type": "code",
   "execution_count": 172,
   "id": "4dda0358",
   "metadata": {},
   "outputs": [
    {
     "data": {
      "text/plain": [
       "2"
      ]
     },
     "execution_count": 172,
     "metadata": {},
     "output_type": "execute_result"
    }
   ],
   "source": [
    "# get the index of an element on the list\n",
    "itm_index = my_list.index(34)\n",
    "itm_index"
   ]
  },
  {
   "cell_type": "code",
   "execution_count": 173,
   "id": "e6b126ea",
   "metadata": {},
   "outputs": [
    {
     "data": {
      "text/plain": [
       "['a', 34, 'dog', False, 'g', 4, 7, 2]"
      ]
     },
     "execution_count": 173,
     "metadata": {},
     "output_type": "execute_result"
    }
   ],
   "source": [
    "#remove an item from a list\n",
    "my_list.remove('x')\n",
    "my_list"
   ]
  },
  {
   "cell_type": "code",
   "execution_count": 174,
   "id": "698114e1",
   "metadata": {},
   "outputs": [
    {
     "data": {
      "text/plain": [
       "['a', 34, 'dog', False, 'g', 4, 7]"
      ]
     },
     "execution_count": 174,
     "metadata": {},
     "output_type": "execute_result"
    }
   ],
   "source": [
    "# remove the last item\n",
    "my_list.pop()\n",
    "my_list"
   ]
  },
  {
   "cell_type": "code",
   "execution_count": 175,
   "id": "86ab53d1",
   "metadata": {},
   "outputs": [
    {
     "data": {
      "text/plain": [
       "[False, 'g', 4]"
      ]
     },
     "execution_count": 175,
     "metadata": {},
     "output_type": "execute_result"
    }
   ],
   "source": [
    "# get a slice of a list\n",
    "sub_list = my_list[-4:-1] # or use [3:]\n",
    "sub_list"
   ]
  },
  {
   "cell_type": "code",
   "execution_count": 176,
   "id": "eec59b7f",
   "metadata": {},
   "outputs": [
    {
     "data": {
      "text/plain": [
       "True"
      ]
     },
     "execution_count": 176,
     "metadata": {},
     "output_type": "execute_result"
    }
   ],
   "source": [
    "my_list = [12,10,7, 4, 100]\n",
    "\n",
    "10 in my_list"
   ]
  },
  {
   "cell_type": "code",
   "execution_count": 177,
   "id": "96d11e6f",
   "metadata": {},
   "outputs": [
    {
     "data": {
      "text/plain": [
       "False"
      ]
     },
     "execution_count": 177,
     "metadata": {},
     "output_type": "execute_result"
    }
   ],
   "source": [
    "13 in my_list"
   ]
  },
  {
   "cell_type": "code",
   "execution_count": 178,
   "id": "f68a1df4",
   "metadata": {},
   "outputs": [
    {
     "data": {
      "text/plain": [
       "[4, 7, 10, 12, 100]"
      ]
     },
     "execution_count": 178,
     "metadata": {},
     "output_type": "execute_result"
    }
   ],
   "source": [
    "# sorting\n",
    "sorted_list = sorted(my_list)\n",
    "sorted_list"
   ]
  },
  {
   "cell_type": "code",
   "execution_count": 179,
   "id": "30bb71af",
   "metadata": {},
   "outputs": [
    {
     "data": {
      "text/plain": [
       "[4, 7, 10, 12, 100]"
      ]
     },
     "execution_count": 179,
     "metadata": {},
     "output_type": "execute_result"
    }
   ],
   "source": [
    "my_list.sort() #sort() overwrites withing redefining the list\n",
    "my_list"
   ]
  },
  {
   "cell_type": "code",
   "execution_count": 180,
   "id": "2fbcbe5e",
   "metadata": {},
   "outputs": [
    {
     "data": {
      "text/plain": [
       "[100, 12, 10, 7, 4]"
      ]
     },
     "execution_count": 180,
     "metadata": {},
     "output_type": "execute_result"
    }
   ],
   "source": [
    "my_list.sort(reverse=True) #reverse order\n",
    "my_list"
   ]
  },
  {
   "cell_type": "code",
   "execution_count": 181,
   "id": "7dd29ed5",
   "metadata": {},
   "outputs": [
    {
     "data": {
      "text/plain": [
       "[4, 7, 10, 12, 100]"
      ]
     },
     "execution_count": 181,
     "metadata": {},
     "output_type": "execute_result"
    }
   ],
   "source": [
    "reversed_list = list(reversed(my_list))\n",
    "reversed_list"
   ]
  },
  {
   "cell_type": "code",
   "execution_count": 182,
   "id": "cc27ddb4",
   "metadata": {},
   "outputs": [
    {
     "ename": "TypeError",
     "evalue": "'<' not supported between instances of 'int' and 'str'",
     "output_type": "error",
     "traceback": [
      "\u001b[31m---------------------------------------------------------------------------\u001b[39m",
      "\u001b[31mTypeError\u001b[39m                                 Traceback (most recent call last)",
      "\u001b[36mCell\u001b[39m\u001b[36m \u001b[39m\u001b[32mIn[182]\u001b[39m\u001b[32m, line 3\u001b[39m\n\u001b[32m      1\u001b[39m \u001b[38;5;66;03m# sort by default will throw an error when we have a mix of data types\u001b[39;00m\n\u001b[32m      2\u001b[39m my_list = [\u001b[33m'\u001b[39m\u001b[33ma\u001b[39m\u001b[33m'\u001b[39m, \u001b[32m34\u001b[39m, \u001b[33m'\u001b[39m\u001b[33mcat\u001b[39m\u001b[33m'\u001b[39m, \u001b[38;5;28;01mFalse\u001b[39;00m]\n\u001b[32m----> \u001b[39m\u001b[32m3\u001b[39m \u001b[43mmy_list\u001b[49m\u001b[43m.\u001b[49m\u001b[43msort\u001b[49m\u001b[43m(\u001b[49m\u001b[43m)\u001b[49m\n",
      "\u001b[31mTypeError\u001b[39m: '<' not supported between instances of 'int' and 'str'"
     ]
    }
   ],
   "source": [
    "# sort by default will throw an error when we have a mix of data types\n",
    "my_list = ['a', 34, 'cat', False]\n",
    "my_list.sort()"
   ]
  },
  {
   "cell_type": "code",
   "execution_count": 81,
   "id": "36a6df83",
   "metadata": {},
   "outputs": [
    {
     "data": {
      "text/plain": [
       "[34, False, 'a', 'cat']"
      ]
     },
     "execution_count": 81,
     "metadata": {},
     "output_type": "execute_result"
    }
   ],
   "source": [
    "my_list = ['a', 34, 'cat', False] \n",
    "my_list.sort(key=str)#num, booleans, alpha\n",
    "my_list"
   ]
  },
  {
   "cell_type": "code",
   "execution_count": 82,
   "id": "6e91bf22",
   "metadata": {},
   "outputs": [
    {
     "data": {
      "text/plain": [
       "4"
      ]
     },
     "execution_count": 82,
     "metadata": {},
     "output_type": "execute_result"
    }
   ],
   "source": [
    "# count the num of elements\n",
    "len(my_list)\n"
   ]
  },
  {
   "cell_type": "code",
   "execution_count": 83,
   "id": "b05870bf",
   "metadata": {},
   "outputs": [
    {
     "data": {
      "text/plain": [
       "3"
      ]
     },
     "execution_count": 83,
     "metadata": {},
     "output_type": "execute_result"
    }
   ],
   "source": [
    "# count the num of occurances for a specific element in a list\n",
    "my_list = [1,2,3,4,4,5,6,8,4]\n",
    "my_list.count(4)"
   ]
  },
  {
   "cell_type": "markdown",
   "id": "22d3729f",
   "metadata": {},
   "source": [
    "List docs in python https://docs.python.org/3/tutorial/datastructures.html"
   ]
  },
  {
   "cell_type": "markdown",
   "id": "733e23af",
   "metadata": {},
   "source": [
    "### Tuples"
   ]
  },
  {
   "cell_type": "code",
   "execution_count": 84,
   "id": "103ab60d",
   "metadata": {},
   "outputs": [
    {
     "data": {
      "text/plain": [
       "tuple"
      ]
     },
     "execution_count": 84,
     "metadata": {},
     "output_type": "execute_result"
    }
   ],
   "source": [
    "my_tp = (3,4,6) #note the round parantheses \n",
    "type(my_tp)"
   ]
  },
  {
   "cell_type": "markdown",
   "id": "27f8a30c",
   "metadata": {},
   "source": [
    "| | Tuple | List |\n",
    "|----|----|----|\n",
    "|Modification| Immutable | Mutable |\n",
    "|Performance| Fast | Slow|"
   ]
  },
  {
   "cell_type": "markdown",
   "id": "87914d4f",
   "metadata": {},
   "source": [
    "## Dictionaries"
   ]
  },
  {
   "cell_type": "markdown",
   "id": "37bce360",
   "metadata": {},
   "source": [
    "They are used to store data in key-value pairs"
   ]
  },
  {
   "cell_type": "code",
   "execution_count": 85,
   "id": "4829ea7a",
   "metadata": {},
   "outputs": [],
   "source": [
    "my_dict = {\n",
    "    # key : value\n",
    "    'brand':'Ford',\n",
    "    'model':'Mustang',\n",
    "    'year':1964,\n",
    "    'color':'red'\n",
    "}"
   ]
  },
  {
   "cell_type": "code",
   "execution_count": 86,
   "id": "e66cd603",
   "metadata": {},
   "outputs": [
    {
     "data": {
      "text/plain": [
       "'Mustang'"
      ]
     },
     "execution_count": 86,
     "metadata": {},
     "output_type": "execute_result"
    }
   ],
   "source": [
    "#reference a specific value using a key - get the car odel\n",
    "my_dict['model']"
   ]
  },
  {
   "cell_type": "code",
   "execution_count": 87,
   "id": "c29cfe75",
   "metadata": {},
   "outputs": [
    {
     "name": "stdout",
     "output_type": "stream",
     "text": [
      "My car is Ford Mustang - color is red.\n"
     ]
    }
   ],
   "source": [
    "# concat\n",
    "print(f\"My car is {my_dict['brand']} {my_dict['model']} - color is {my_dict['color']}.\")"
   ]
  },
  {
   "cell_type": "code",
   "execution_count": 88,
   "id": "bedc326e",
   "metadata": {},
   "outputs": [
    {
     "data": {
      "text/plain": [
       "{'brand': 'Ford', 'model': 'Mustang', 'year': 1964, 'color': 'Black'}"
      ]
     },
     "execution_count": 88,
     "metadata": {},
     "output_type": "execute_result"
    }
   ],
   "source": [
    "#update a value in a  dict\n",
    "my_dict['color'] = 'Black'\n",
    "my_dict"
   ]
  },
  {
   "cell_type": "code",
   "execution_count": 89,
   "id": "273a01ae",
   "metadata": {},
   "outputs": [
    {
     "data": {
      "text/plain": [
       "{'brand': 'Ford', 'model': 'Mustang', 'year': 1964}"
      ]
     },
     "execution_count": 89,
     "metadata": {},
     "output_type": "execute_result"
    }
   ],
   "source": [
    "#remove a key from the dict\n",
    "del my_dict['color'] \n",
    "my_dict"
   ]
  },
  {
   "cell_type": "code",
   "execution_count": 90,
   "id": "93d3102b",
   "metadata": {},
   "outputs": [
    {
     "data": {
      "text/plain": [
       "True"
      ]
     },
     "execution_count": 90,
     "metadata": {},
     "output_type": "execute_result"
    }
   ],
   "source": [
    "#membership evaluation\n",
    "'year' in my_dict"
   ]
  },
  {
   "cell_type": "code",
   "execution_count": 91,
   "id": "e4d14a35",
   "metadata": {},
   "outputs": [
    {
     "data": {
      "text/plain": [
       "dict_keys(['brand', 'model', 'year'])"
      ]
     },
     "execution_count": 91,
     "metadata": {},
     "output_type": "execute_result"
    }
   ],
   "source": [
    "# get a list of keys\n",
    "my_dict.keys()"
   ]
  },
  {
   "cell_type": "code",
   "execution_count": 92,
   "id": "8a2f077b",
   "metadata": {},
   "outputs": [
    {
     "data": {
      "text/plain": [
       "dict_values(['Ford', 'Mustang', 1964])"
      ]
     },
     "execution_count": 92,
     "metadata": {},
     "output_type": "execute_result"
    }
   ],
   "source": [
    "#get a list of values\n",
    "my_dict.values()"
   ]
  },
  {
   "cell_type": "code",
   "execution_count": 93,
   "id": "b2b6f923",
   "metadata": {},
   "outputs": [
    {
     "data": {
      "text/plain": [
       "{'brand': 'Ford',\n",
       " 'model': 'Mustang',\n",
       " 'year': 1964,\n",
       " 'engine': 'V6',\n",
       " 'type': 'coupe'}"
      ]
     },
     "execution_count": 93,
     "metadata": {},
     "output_type": "execute_result"
    }
   ],
   "source": [
    "# merge 2 dictionaries together\n",
    "my_dict2 = {'engine':'V6',\n",
    "            'type':'coupe'}\n",
    "\n",
    "my_dict.update(my_dict2)\n",
    "\n",
    "my_dict"
   ]
  },
  {
   "cell_type": "markdown",
   "id": "a884b75e",
   "metadata": {},
   "source": [
    "Using a dictionary with lists. Indexing with Key Reference"
   ]
  },
  {
   "cell_type": "code",
   "execution_count": 94,
   "id": "c4e06d93",
   "metadata": {},
   "outputs": [],
   "source": [
    "my_dict = {\n",
    "    # key : value\n",
    "    'brand':['Ford','Chevrolet', 'Audi'],\n",
    "    'model':['Mustang', 'Camaro','R6'],\n",
    "    'year':[1964,1970, 2008],\n",
    "    'color':['red','blue', 'white']\n",
    "}"
   ]
  },
  {
   "cell_type": "code",
   "execution_count": 95,
   "id": "741bd07d",
   "metadata": {},
   "outputs": [],
   "source": [
    "my_dict['brand'].append('Jeep')\n",
    "my_dict['model'].append('Cherokee')\n",
    "my_dict['year'].append('1970')\n",
    "my_dict['color'].append('green')\n",
    "\n",
    "#alternative\n",
    "#my_dict.append({'brand':'Jeep','model':'Cherokee'.....})"
   ]
  },
  {
   "cell_type": "code",
   "execution_count": 96,
   "id": "d62daee2",
   "metadata": {},
   "outputs": [
    {
     "data": {
      "text/plain": [
       "{'brand': ['Ford', 'Chevrolet', 'Audi', 'Jeep'],\n",
       " 'model': ['Mustang', 'Camaro', 'R6', 'Cherokee'],\n",
       " 'year': [1964, 1970, 2008, '1970'],\n",
       " 'color': ['red', 'blue', 'white', 'green']}"
      ]
     },
     "execution_count": 96,
     "metadata": {},
     "output_type": "execute_result"
    }
   ],
   "source": [
    "my_dict"
   ]
  },
  {
   "cell_type": "code",
   "execution_count": 97,
   "id": "72c689fe",
   "metadata": {},
   "outputs": [
    {
     "data": {
      "text/plain": [
       "['Ford', 'Chevrolet', 'Audi', 'Jeep']"
      ]
     },
     "execution_count": 97,
     "metadata": {},
     "output_type": "execute_result"
    }
   ],
   "source": [
    "my_dict['brand'] #gives the full list"
   ]
  },
  {
   "cell_type": "code",
   "execution_count": 98,
   "id": "486abf81",
   "metadata": {},
   "outputs": [
    {
     "data": {
      "text/plain": [
       "list"
      ]
     },
     "execution_count": 98,
     "metadata": {},
     "output_type": "execute_result"
    }
   ],
   "source": [
    "type(my_dict['brand'])"
   ]
  },
  {
   "cell_type": "code",
   "execution_count": 99,
   "id": "e86a3fcf",
   "metadata": {},
   "outputs": [
    {
     "data": {
      "text/plain": [
       "'Audi'"
      ]
     },
     "execution_count": 99,
     "metadata": {},
     "output_type": "execute_result"
    }
   ],
   "source": [
    "#we can stack index location since the output is a list\n",
    "# audi\n",
    "my_dict['brand'][2]"
   ]
  },
  {
   "cell_type": "code",
   "execution_count": 100,
   "id": "234a0be1",
   "metadata": {},
   "outputs": [
    {
     "data": {
      "text/plain": [
       "{'brand': ['Ford', 'Chevrolet', 'Audi', 'Jeep'],\n",
       " 'model': ['Mustang', 'Camaro', 'R6', 'Cherokee'],\n",
       " 'year': [1964, 1970, 2008, '1970'],\n",
       " 'color': ['red', 'blue', 'silver', 'green']}"
      ]
     },
     "execution_count": 100,
     "metadata": {},
     "output_type": "execute_result"
    }
   ],
   "source": [
    "#change the color for Audi\n",
    "my_dict['color'][2] = 'silver'\n",
    "my_dict"
   ]
  },
  {
   "cell_type": "markdown",
   "id": "7c574d0d",
   "metadata": {},
   "source": [
    "> if you do my_dict['brand'].sort() it'll only sort the items for that key."
   ]
  },
  {
   "cell_type": "code",
   "execution_count": 101,
   "id": "b3d0f381",
   "metadata": {},
   "outputs": [
    {
     "data": {
      "text/plain": [
       "{'brand': ['Ford', 'Chevrolet', 'Audi', 'Jeep'],\n",
       " 'model': ['Mustang', 'Camaro', 'R6', 'Cherokee'],\n",
       " 'year': [1964, 1970, 2008, '1970'],\n",
       " 'color': ['red', 'blue', 'silver', 'green'],\n",
       " 'engine': ['V8', 'V6', 'V6', 'V4']}"
      ]
     },
     "execution_count": 101,
     "metadata": {},
     "output_type": "execute_result"
    }
   ],
   "source": [
    "# adding a new key\n",
    "my_dict['engine'] = ['V8', 'V6', 'V6', 'V4']\n",
    "my_dict"
   ]
  },
  {
   "cell_type": "code",
   "execution_count": 102,
   "id": "f9b1d10b",
   "metadata": {},
   "outputs": [
    {
     "data": {
      "text/plain": [
       "2"
      ]
     },
     "execution_count": 102,
     "metadata": {},
     "output_type": "execute_result"
    }
   ],
   "source": [
    "# find audi in the dict\n",
    "audi_pos =my_dict['brand'].index('Audi')\n",
    "audi_pos"
   ]
  },
  {
   "cell_type": "code",
   "execution_count": null,
   "id": "14ecdff7",
   "metadata": {},
   "outputs": [],
   "source": []
  }
 ],
 "metadata": {
  "kernelspec": {
   "display_name": "Python 3",
   "language": "python",
   "name": "python3"
  },
  "language_info": {
   "codemirror_mode": {
    "name": "ipython",
    "version": 3
   },
   "file_extension": ".py",
   "mimetype": "text/x-python",
   "name": "python",
   "nbconvert_exporter": "python",
   "pygments_lexer": "ipython3",
   "version": "3.13.6"
  }
 },
 "nbformat": 4,
 "nbformat_minor": 5
}
