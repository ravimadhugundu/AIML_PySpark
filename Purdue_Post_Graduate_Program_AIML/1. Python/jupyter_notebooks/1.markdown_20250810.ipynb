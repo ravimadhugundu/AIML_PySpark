{
 "cells": [
  {
   "cell_type": "markdown",
   "id": "f7f6d464",
   "metadata": {},
   "source": [
    "# Main Title "
   ]
  },
  {
   "cell_type": "markdown",
   "id": "4f4f1e8c",
   "metadata": {},
   "source": [
    "## Title Level 2"
   ]
  },
  {
   "cell_type": "markdown",
   "id": "b343c809",
   "metadata": {},
   "source": [
    "This is a paragraph."
   ]
  },
  {
   "cell_type": "markdown",
   "id": "5a9f6e4e",
   "metadata": {},
   "source": [
    "- item 1\n",
    "    - item 1 - A\n",
    "    - item 1 - B\n",
    "    - Item 1 - C\n",
    "        - item 1 - C - 1 \n",
    "- item 2\n",
    "- item 3"
   ]
  },
  {
   "cell_type": "markdown",
   "id": "99925534",
   "metadata": {},
   "source": [
    "This piece of text is **BOLD**"
   ]
  },
  {
   "cell_type": "markdown",
   "id": "6eabd829",
   "metadata": {},
   "source": [
    "[Markdown Cheat Sheet](https://www.markdownguide.org/cheat-sheet/)"
   ]
  },
  {
   "cell_type": "markdown",
   "id": "93156ca4",
   "metadata": {},
   "source": [
    "![DS](https://cdn.carleton.edu/uploads/sites/114/2018/02/Data-Science-Venn-Diagram-by-Shelly-Palmer-2015-1ct291l.png)"
   ]
  },
  {
   "cell_type": "markdown",
   "id": "2dd695c3",
   "metadata": {},
   "source": [
    "You can use HTML inside of Markdown to have better control."
   ]
  },
  {
   "cell_type": "markdown",
   "id": "acd23ff3",
   "metadata": {},
   "source": [
    "<img src='https://cdn.carleton.edu/uploads/sites/114/2018/02/Data-Science-Venn-Diagram-by-Shelly-Palmer-2015-1ct291l.png' alt='ds' width='200' height='200' >"
   ]
  },
  {
   "cell_type": "markdown",
   "id": "8669158b",
   "metadata": {},
   "source": []
  }
 ],
 "metadata": {
  "language_info": {
   "name": "python"
  }
 },
 "nbformat": 4,
 "nbformat_minor": 5
}
