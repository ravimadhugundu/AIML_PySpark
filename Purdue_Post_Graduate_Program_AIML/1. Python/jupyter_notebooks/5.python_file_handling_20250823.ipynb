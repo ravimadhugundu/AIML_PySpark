{
 "cells": [
  {
   "cell_type": "markdown",
   "id": "ef6c7d2a",
   "metadata": {},
   "source": [
    "# File Handling in Python"
   ]
  },
  {
   "cell_type": "markdown",
   "id": "45d68ec6",
   "metadata": {},
   "source": [
    "## Reading a File"
   ]
  },
  {
   "cell_type": "code",
   "execution_count": 1,
   "id": "6ab3fe69",
   "metadata": {},
   "outputs": [
    {
     "name": "stdout",
     "output_type": "stream",
     "text": [
      "This will overwrite the existing content of my file.\n",
      "This is added information.\n"
     ]
    }
   ],
   "source": [
    "my_file = open('example.txt', 'r') #as long as the file saved in the same directory as the notebook, no need to specify the path\n",
    "file_content = my_file.read()\n",
    "\n",
    "print(file_content)\n",
    "my_file.close()"
   ]
  },
  {
   "cell_type": "markdown",
   "id": "7af1143b",
   "metadata": {},
   "source": [
    "## Writing to a File"
   ]
  },
  {
   "cell_type": "code",
   "execution_count": 2,
   "id": "09e10845",
   "metadata": {},
   "outputs": [
    {
     "name": "stdout",
     "output_type": "stream",
     "text": [
      "This will overwrite the existing content of my file.\n"
     ]
    }
   ],
   "source": [
    "my_file = open('example.txt', 'w+') # w is for write\n",
    "#if file doesn't exist it'll create it\n",
    "my_file.write('This will overwrite the existing content of my file.')\n",
    "my_file.seek(0)\n",
    "file_content = my_file.read()\n",
    "print(file_content)\n"
   ]
  },
  {
   "cell_type": "markdown",
   "id": "527d0c38",
   "metadata": {},
   "source": [
    "## Append to a File"
   ]
  },
  {
   "cell_type": "code",
   "execution_count": 3,
   "id": "ba7053fc",
   "metadata": {},
   "outputs": [
    {
     "name": "stdout",
     "output_type": "stream",
     "text": [
      "This will overwrite the existing content of my file.\n",
      "This is added information.\n"
     ]
    }
   ],
   "source": [
    "my_file = open('example.txt', 'a') # a is for append\n",
    "my_file.write('\\nThis is added information.') #\\n will ensure the text is added as a new line\n",
    "\n",
    "my_file = open('example.txt', 'r')\n",
    "file_content = my_file.read()\n",
    "print(file_content)\n"
   ]
  },
  {
   "cell_type": "markdown",
   "id": "6d5fe076",
   "metadata": {},
   "source": [
    "- `open()` doesn't care about the file extension as long as it's readable text.\n",
    "- For Excel, you need to use specialized libraries like `openpyxl` and `pandas`"
   ]
  },
  {
   "cell_type": "markdown",
   "id": "79c12cae",
   "metadata": {},
   "source": [
    "## Reading `csv` files"
   ]
  },
  {
   "cell_type": "code",
   "execution_count": 4,
   "id": "6754a133",
   "metadata": {},
   "outputs": [],
   "source": [
    "import csv"
   ]
  },
  {
   "cell_type": "code",
   "execution_count": 5,
   "id": "ee7d71de",
   "metadata": {},
   "outputs": [
    {
     "name": "stdout",
     "output_type": "stream",
     "text": [
      "['9']\n",
      "['167']\n",
      "['30']\n",
      "['71']\n",
      "['102']\n",
      "['87']\n",
      "['229']\n",
      "['227']\n",
      "['91']\n",
      "['78']\n",
      "['84']\n",
      "['177']\n",
      "['91']\n",
      "['26']\n",
      "['226']\n",
      "['7']\n",
      "['92']\n",
      "['215']\n",
      "['185']\n",
      "['86']\n",
      "['119']\n",
      "['191']\n",
      "['21']\n",
      "['182']\n",
      "['53']\n",
      "['70']\n",
      "['185']\n",
      "['129']\n",
      "['232']\n",
      "['28']\n",
      "['106']\n",
      "['136']\n",
      "['62']\n",
      "['168']\n",
      "['139']\n",
      "['154']\n",
      "['149']\n",
      "['125']\n",
      "['188']\n",
      "['29']\n",
      "['180']\n",
      "['7']\n",
      "['166']\n",
      "['228']\n",
      "['72']\n",
      "['25']\n",
      "['114']\n",
      "['135']\n",
      "['54']\n",
      "['208']\n",
      "['33']\n",
      "['228']\n",
      "['125']\n",
      "['82']\n",
      "['69']\n",
      "['53']\n",
      "['218']\n",
      "['90']\n",
      "['52']\n",
      "['153']\n",
      "['101']\n",
      "['157']\n",
      "['160']\n",
      "['9']\n",
      "['187']\n",
      "['20']\n",
      "['93']\n",
      "['42']\n",
      "['65']\n",
      "['225']\n",
      "['56']\n",
      "['55']\n"
     ]
    }
   ],
   "source": [
    "with open('data.csv','r') as file:\n",
    "    reader = csv.reader(file)\n",
    "    for row in reader:\n",
    "        print(row)"
   ]
  },
  {
   "cell_type": "code",
   "execution_count": 6,
   "id": "0dfe9406",
   "metadata": {},
   "outputs": [],
   "source": [
    "with open('data.csv','r') as file:\n",
    "    reader = csv.DictReader(file)\n",
    "    #build the data dictionary\n",
    "    data_dict = [row for row in reader]\n"
   ]
  },
  {
   "cell_type": "code",
   "execution_count": 7,
   "id": "9a6ccb1d",
   "metadata": {},
   "outputs": [
    {
     "data": {
      "text/plain": [
       "[{'9': '167'},\n",
       " {'9': '30'},\n",
       " {'9': '71'},\n",
       " {'9': '102'},\n",
       " {'9': '87'},\n",
       " {'9': '229'},\n",
       " {'9': '227'},\n",
       " {'9': '91'},\n",
       " {'9': '78'},\n",
       " {'9': '84'},\n",
       " {'9': '177'},\n",
       " {'9': '91'},\n",
       " {'9': '26'},\n",
       " {'9': '226'},\n",
       " {'9': '7'},\n",
       " {'9': '92'},\n",
       " {'9': '215'},\n",
       " {'9': '185'},\n",
       " {'9': '86'},\n",
       " {'9': '119'},\n",
       " {'9': '191'},\n",
       " {'9': '21'},\n",
       " {'9': '182'},\n",
       " {'9': '53'},\n",
       " {'9': '70'},\n",
       " {'9': '185'},\n",
       " {'9': '129'},\n",
       " {'9': '232'},\n",
       " {'9': '28'},\n",
       " {'9': '106'},\n",
       " {'9': '136'},\n",
       " {'9': '62'},\n",
       " {'9': '168'},\n",
       " {'9': '139'},\n",
       " {'9': '154'},\n",
       " {'9': '149'},\n",
       " {'9': '125'},\n",
       " {'9': '188'},\n",
       " {'9': '29'},\n",
       " {'9': '180'},\n",
       " {'9': '7'},\n",
       " {'9': '166'},\n",
       " {'9': '228'},\n",
       " {'9': '72'},\n",
       " {'9': '25'},\n",
       " {'9': '114'},\n",
       " {'9': '135'},\n",
       " {'9': '54'},\n",
       " {'9': '208'},\n",
       " {'9': '33'},\n",
       " {'9': '228'},\n",
       " {'9': '125'},\n",
       " {'9': '82'},\n",
       " {'9': '69'},\n",
       " {'9': '53'},\n",
       " {'9': '218'},\n",
       " {'9': '90'},\n",
       " {'9': '52'},\n",
       " {'9': '153'},\n",
       " {'9': '101'},\n",
       " {'9': '157'},\n",
       " {'9': '160'},\n",
       " {'9': '9'},\n",
       " {'9': '187'},\n",
       " {'9': '20'},\n",
       " {'9': '93'},\n",
       " {'9': '42'},\n",
       " {'9': '65'},\n",
       " {'9': '225'},\n",
       " {'9': '56'},\n",
       " {'9': '55'}]"
      ]
     },
     "execution_count": 7,
     "metadata": {},
     "output_type": "execute_result"
    }
   ],
   "source": [
    "data_dict"
   ]
  },
  {
   "cell_type": "markdown",
   "id": "6c07a4a0",
   "metadata": {},
   "source": [
    "Open multiple files in a directory"
   ]
  },
  {
   "cell_type": "code",
   "execution_count": 8,
   "id": "4422c2ba",
   "metadata": {},
   "outputs": [
    {
     "ename": "FileNotFoundError",
     "evalue": "[WinError 3] The system cannot find the path specified: 'my_documents'",
     "output_type": "error",
     "traceback": [
      "\u001b[31m---------------------------------------------------------------------------\u001b[39m",
      "\u001b[31mFileNotFoundError\u001b[39m                         Traceback (most recent call last)",
      "\u001b[36mCell\u001b[39m\u001b[36m \u001b[39m\u001b[32mIn[8]\u001b[39m\u001b[32m, line 5\u001b[39m\n\u001b[32m      1\u001b[39m \u001b[38;5;28;01mimport\u001b[39;00m\u001b[38;5;250m \u001b[39m\u001b[34;01mos\u001b[39;00m\n\u001b[32m      3\u001b[39m folder_path = \u001b[33m'\u001b[39m\u001b[33mmy_documents\u001b[39m\u001b[33m'\u001b[39m\n\u001b[32m----> \u001b[39m\u001b[32m5\u001b[39m \u001b[38;5;28;01mfor\u001b[39;00m filename \u001b[38;5;129;01min\u001b[39;00m \u001b[43mos\u001b[49m\u001b[43m.\u001b[49m\u001b[43mlistdir\u001b[49m\u001b[43m(\u001b[49m\u001b[43mfolder_path\u001b[49m\u001b[43m)\u001b[49m:\n\u001b[32m      6\u001b[39m     file_path = os.path.join(folder_path, filename)\n\u001b[32m      8\u001b[39m     \u001b[38;5;66;03m#then same open file process\u001b[39;00m\n",
      "\u001b[31mFileNotFoundError\u001b[39m: [WinError 3] The system cannot find the path specified: 'my_documents'"
     ]
    }
   ],
   "source": [
    "import os\n",
    "\n",
    "folder_path = 'my_documents'\n",
    "\n",
    "for filename in os.listdir(folder_path):\n",
    "    file_path = os.path.join(folder_path, filename)\n",
    "\n",
    "    #then same open file process"
   ]
  }
 ],
 "metadata": {
  "kernelspec": {
   "display_name": "Python 3",
   "language": "python",
   "name": "python3"
  },
  "language_info": {
   "codemirror_mode": {
    "name": "ipython",
    "version": 3
   },
   "file_extension": ".py",
   "mimetype": "text/x-python",
   "name": "python",
   "nbconvert_exporter": "python",
   "pygments_lexer": "ipython3",
   "version": "3.13.6"
  }
 },
 "nbformat": 4,
 "nbformat_minor": 5
}
