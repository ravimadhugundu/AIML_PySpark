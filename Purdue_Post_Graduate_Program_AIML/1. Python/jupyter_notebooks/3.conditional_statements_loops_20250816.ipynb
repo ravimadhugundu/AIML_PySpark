{
 "cells": [
  {
   "cell_type": "markdown",
   "id": "d99fd02d",
   "metadata": {},
   "source": [
    "# Conditional Statements and Loops"
   ]
  },
  {
   "cell_type": "markdown",
   "id": "f68eceb7",
   "metadata": {},
   "source": [
    "## Conditional Statements\n",
    "- They let you build logic and control the processing of your program by making **decision** based on **Conditions**\n",
    "- It's a logic for evaluation. If it's true, it executes the underlying task.\n",
    "- Syntax: `if` and `:` and indentation"
   ]
  },
  {
   "cell_type": "code",
   "execution_count": 1,
   "id": "784be753",
   "metadata": {},
   "outputs": [
    {
     "name": "stdout",
     "output_type": "stream",
     "text": [
      "Yes\n"
     ]
    }
   ],
   "source": [
    "x = 10 \n",
    "\n",
    "if x > 4:\n",
    "    print('Yes')"
   ]
  },
  {
   "cell_type": "markdown",
   "id": "c585ae01",
   "metadata": {},
   "source": [
    "### Using `if` and `else` statements "
   ]
  },
  {
   "cell_type": "code",
   "execution_count": 2,
   "id": "f2ac2800",
   "metadata": {},
   "outputs": [
    {
     "name": "stdout",
     "output_type": "stream",
     "text": [
      "No\n"
     ]
    }
   ],
   "source": [
    "x = 10 \n",
    "\n",
    "if x < 4:\n",
    "    print('Yes')\n",
    "else:\n",
    "    print('No')"
   ]
  },
  {
   "cell_type": "code",
   "execution_count": 3,
   "id": "b4d2eddf",
   "metadata": {},
   "outputs": [
    {
     "name": "stdout",
     "output_type": "stream",
     "text": [
      "It's always sunny in Phily\n"
     ]
    }
   ],
   "source": [
    "is_sunny = True\n",
    "\n",
    "if is_sunny:\n",
    "    print(\"It's always sunny in Phily\")\n",
    "else:\n",
    "    print(\"It's not sunny\")"
   ]
  },
  {
   "cell_type": "markdown",
   "id": "ab9f73c9",
   "metadata": {},
   "source": [
    "`input()` function can be used along with `if` to capture use input and process it with logic."
   ]
  },
  {
   "cell_type": "code",
   "execution_count": 4,
   "id": "9b9f57fe",
   "metadata": {},
   "outputs": [
    {
     "name": "stdout",
     "output_type": "stream",
     "text": [
      "24\n"
     ]
    }
   ],
   "source": [
    "x = input('Enter Value')\n",
    "print(x)"
   ]
  },
  {
   "cell_type": "markdown",
   "id": "9135ae21",
   "metadata": {},
   "source": [
    "**Exercise**\n",
    "- Build a program that tells the user if they can open a bank account or not - based on their age.\n",
    "- if the age is over 18 then \"allowed\". if not, \"they need a custodian account\""
   ]
  },
  {
   "cell_type": "code",
   "execution_count": 5,
   "id": "269cc716",
   "metadata": {},
   "outputs": [
    {
     "name": "stdout",
     "output_type": "stream",
     "text": [
      "Your age is: 24\n",
      "You can open a bank account\n"
     ]
    }
   ],
   "source": [
    "#taking an input - by default it takes text values. So, we need to convert to int for our evaluation \n",
    "x = int(input('Enter your age'))\n",
    "\n",
    "print('Your age is:',x)\n",
    "\n",
    "#evaluation\n",
    "if x >= 18:\n",
    "    print('You can open a bank account')\n",
    "\n",
    "else:\n",
    "    print('You need a parent to open a custodian account')"
   ]
  },
  {
   "cell_type": "markdown",
   "id": "37e9f527",
   "metadata": {},
   "source": [
    "`elif` (Else If statement)"
   ]
  },
  {
   "cell_type": "markdown",
   "id": "1a1f75d6",
   "metadata": {},
   "source": [
    "**Exercise** Build a program that can check if the fruit is Orange, Apple, or unidentified."
   ]
  },
  {
   "cell_type": "code",
   "execution_count": 6,
   "id": "7ffe22f7",
   "metadata": {},
   "outputs": [
    {
     "name": "stdout",
     "output_type": "stream",
     "text": [
      "Fruit is unidentified\n"
     ]
    }
   ],
   "source": [
    "fruit = 'Kiwi'\n",
    "\n",
    "if fruit == 'Apple':\n",
    "    print(\"it's an\", fruit)\n",
    "elif fruit == 'Orange':\n",
    "    print(\"it's an\", fruit)\n",
    "elif fruit == 'Guave':\n",
    "    print(\"it's an\", fruit)\n",
    "\n",
    "else:\n",
    "    print('Fruit is unidentified')"
   ]
  },
  {
   "cell_type": "markdown",
   "id": "9bce8db5",
   "metadata": {},
   "source": [
    "You can also use `match`. However, it's only supported with Python 3.10 and beyond."
   ]
  },
  {
   "cell_type": "code",
   "execution_count": 7,
   "id": "3743f291",
   "metadata": {},
   "outputs": [
    {
     "name": "stdout",
     "output_type": "stream",
     "text": [
      "it's an Orange\n"
     ]
    }
   ],
   "source": [
    "fruit = 'Orange'\n",
    "\n",
    "match fruit:\n",
    "    case 'Apple':\n",
    "        print(\"it's an\", fruit)\n",
    "    case 'Orange':\n",
    "        print(\"it's an\", fruit)"
   ]
  },
  {
   "cell_type": "markdown",
   "id": "f6101cde",
   "metadata": {},
   "source": [
    "### Nested `if` Statements"
   ]
  },
  {
   "cell_type": "markdown",
   "id": "77cf3704",
   "metadata": {},
   "source": [
    "**Exercise** Check if a number if between 3 and 20."
   ]
  },
  {
   "cell_type": "code",
   "execution_count": 8,
   "id": "3c16af94",
   "metadata": {},
   "outputs": [
    {
     "name": "stdout",
     "output_type": "stream",
     "text": [
      "x is between 3 and 20\n"
     ]
    }
   ],
   "source": [
    "x = 5\n",
    "\n",
    "if x>3:\n",
    "    if x<20:\n",
    "        print('x is between 3 and 20')"
   ]
  },
  {
   "cell_type": "markdown",
   "id": "d4760568",
   "metadata": {},
   "source": [
    "**Exercise** Build an item list for shopping. If the item does not exist, then print a message \"unavailable\"."
   ]
  },
  {
   "cell_type": "code",
   "execution_count": 9,
   "id": "678fc855",
   "metadata": {},
   "outputs": [
    {
     "name": "stdout",
     "output_type": "stream",
     "text": [
      "watermelon is unavailable\n"
     ]
    }
   ],
   "source": [
    "fruits = ['apple', 'banana', 'kiwi']\n",
    "\n",
    "f = 'watermelon'\n",
    "\n",
    "if f in fruits:\n",
    "    print(f'{f} is available')\n",
    "else:\n",
    "    print(f'{f} is unavailable')"
   ]
  },
  {
   "cell_type": "markdown",
   "id": "f83a7a24",
   "metadata": {},
   "source": [
    "Ternary Conditional Expression in Python"
   ]
  },
  {
   "cell_type": "code",
   "execution_count": 10,
   "id": "5bb0790d",
   "metadata": {},
   "outputs": [
    {
     "data": {
      "text/plain": [
       "'Open Account'"
      ]
     },
     "execution_count": 10,
     "metadata": {},
     "output_type": "execute_result"
    }
   ],
   "source": [
    "age = 20\n",
    "\n",
    "status = 'Open Account' if age >=18 else ' Open A Custodial Account'\n",
    "status"
   ]
  },
  {
   "cell_type": "markdown",
   "id": "67c6cd6c",
   "metadata": {},
   "source": [
    "## Python Loops"
   ]
  },
  {
   "cell_type": "markdown",
   "id": "29022fea",
   "metadata": {},
   "source": [
    "- Loops are essential to programming as they repeat a task multiple times , iterating through data structures, or automating a process.\n",
    "- In Python we have 2 types:\n",
    "    - `for` loop: can iterate over a sequence (list, tuple, string, range, etc...)\n",
    "    - `while` loop:\n",
    "        - Repeats as long as a condition is `True`\n",
    "        - It requires an exit condition to avoid infinite loops"
   ]
  },
  {
   "cell_type": "markdown",
   "id": "eca53869",
   "metadata": {},
   "source": [
    "### `for` loops"
   ]
  },
  {
   "cell_type": "code",
   "execution_count": 11,
   "id": "8aac542a",
   "metadata": {},
   "outputs": [
    {
     "name": "stdout",
     "output_type": "stream",
     "text": [
      "Fruit: apple\n",
      "Fruit: banana\n",
      "Fruit: kiwi\n"
     ]
    }
   ],
   "source": [
    "fruits = ['apple', 'banana', 'kiwi']\n",
    "\n",
    "for f in fruits:\n",
    "    print('Fruit:',f)"
   ]
  },
  {
   "cell_type": "markdown",
   "id": "b4c09c5b",
   "metadata": {},
   "source": [
    "#### Combine `if` and `for` loop"
   ]
  },
  {
   "cell_type": "markdown",
   "id": "c9418a42",
   "metadata": {},
   "source": [
    "**Exercise** Print the numbers in the list below that are less than 10."
   ]
  },
  {
   "cell_type": "code",
   "execution_count": 12,
   "id": "43297abb",
   "metadata": {},
   "outputs": [
    {
     "name": "stdout",
     "output_type": "stream",
     "text": [
      "5\n",
      "7\n",
      "9\n"
     ]
    }
   ],
   "source": [
    "my_list = [5, 15, 7, 11, 9, 100, 55]\n",
    "\n",
    "for n in my_list:\n",
    "    if n <10:\n",
    "        print(n)"
   ]
  },
  {
   "cell_type": "markdown",
   "id": "99ed2e7a",
   "metadata": {},
   "source": [
    "Then, add a logic for numbers > 10 where it multiplies by 2"
   ]
  },
  {
   "cell_type": "code",
   "execution_count": 13,
   "id": "0676f4a3",
   "metadata": {},
   "outputs": [
    {
     "name": "stdout",
     "output_type": "stream",
     "text": [
      "5\n",
      "30\n",
      "7\n",
      "22\n",
      "9\n",
      "200\n",
      "110\n"
     ]
    }
   ],
   "source": [
    "for n in my_list:\n",
    "    if n <10:\n",
    "        print(n)\n",
    "    else:\n",
    "        print(n*2)"
   ]
  },
  {
   "cell_type": "code",
   "execution_count": 14,
   "id": "ee42878d",
   "metadata": {},
   "outputs": [
    {
     "name": "stdout",
     "output_type": "stream",
     "text": [
      "12 greater than 10\n",
      "12 is even\n",
      "35 greater than 10\n",
      "3 less than 5\n"
     ]
    }
   ],
   "source": [
    "# for with nested if statements\n",
    "nums = [5, 12, 7 , 35, 3]\n",
    "\n",
    "for num in nums:\n",
    "    if num>10:\n",
    "        print(f'{num} greater than 10')\n",
    "        if num % 2 == 0:\n",
    "            print(f'{num} is even')\n",
    "\n",
    "    if num<5:\n",
    "        print(f'{num} less than 5')"
   ]
  },
  {
   "cell_type": "markdown",
   "id": "a67bc5ca",
   "metadata": {},
   "source": [
    "### Using `range()` with `for` loop"
   ]
  },
  {
   "cell_type": "markdown",
   "id": "73b38d19",
   "metadata": {},
   "source": [
    "`range(start, end, step)`"
   ]
  },
  {
   "cell_type": "code",
   "execution_count": 15,
   "id": "2aa2f4aa",
   "metadata": {},
   "outputs": [
    {
     "data": {
      "text/plain": [
       "[1, 2, 3, 4, 5, 6, 7, 8, 9, 10, 11, 12, 13, 14, 15, 16, 17, 18, 19, 20]"
      ]
     },
     "execution_count": 15,
     "metadata": {},
     "output_type": "execute_result"
    }
   ],
   "source": [
    "# builds a sequence\n",
    "list(range(1,21)) #the number on the right is not included.thus, a sequence between 1 and 20"
   ]
  },
  {
   "cell_type": "code",
   "execution_count": 16,
   "id": "fdc811e6",
   "metadata": {},
   "outputs": [
    {
     "data": {
      "text/plain": [
       "[1, 3, 5, 7, 9, 11, 13, 15, 17, 19]"
      ]
     },
     "execution_count": 16,
     "metadata": {},
     "output_type": "execute_result"
    }
   ],
   "source": [
    "#using steps\n",
    "list(range(1,21, 2))"
   ]
  },
  {
   "cell_type": "code",
   "execution_count": 17,
   "id": "d7ca50ee",
   "metadata": {},
   "outputs": [
    {
     "data": {
      "text/plain": [
       "[5, 4, 3, 2, 1]"
      ]
     },
     "execution_count": 17,
     "metadata": {},
     "output_type": "execute_result"
    }
   ],
   "source": [
    "#reverse order\n",
    "list(range(5,0, -1))"
   ]
  },
  {
   "cell_type": "code",
   "execution_count": 18,
   "id": "f77a9b4d",
   "metadata": {},
   "outputs": [
    {
     "data": {
      "text/plain": [
       "[20, 18, 16, 14, 12, 10, 8, 6, 4, 2]"
      ]
     },
     "execution_count": 18,
     "metadata": {},
     "output_type": "execute_result"
    }
   ],
   "source": [
    "# build a reverse sequence from 20 to 0 with even numbers\n",
    "list(range(20,0, -2))"
   ]
  },
  {
   "cell_type": "markdown",
   "id": "4f608657",
   "metadata": {},
   "source": [
    "**Exercise** Build a for loop that counts to 10."
   ]
  },
  {
   "cell_type": "code",
   "execution_count": 19,
   "id": "66dcb2fe",
   "metadata": {},
   "outputs": [
    {
     "name": "stdout",
     "output_type": "stream",
     "text": [
      "1\n",
      "2\n",
      "3\n",
      "4\n",
      "5\n",
      "6\n",
      "7\n",
      "8\n",
      "9\n",
      "10\n",
      "Counting is done!\n"
     ]
    }
   ],
   "source": [
    "for i in range(1,11):\n",
    "    print(i)\n",
    "print('Counting is done!')"
   ]
  },
  {
   "cell_type": "markdown",
   "id": "d41283b3",
   "metadata": {},
   "source": [
    "## `while` loop in python\n",
    "- Control flow statement in programming that repeatedly executes a block of code **as long as a given condition is true.**\n",
    "- It's useful when you **don't know beforehand** how many times you need to repeat something, and you want to keep looping **until some condition changes**."
   ]
  },
  {
   "cell_type": "markdown",
   "id": "e125a7be",
   "metadata": {},
   "source": [
    "**Exercise** Using `while` loop count from 1 to 8."
   ]
  },
  {
   "cell_type": "code",
   "execution_count": 20,
   "id": "9f9da4db",
   "metadata": {},
   "outputs": [
    {
     "name": "stdout",
     "output_type": "stream",
     "text": [
      "1\n",
      "2\n",
      "3\n",
      "4\n",
      "5\n",
      "6\n",
      "7\n",
      "8\n",
      "Count is done!\n"
     ]
    }
   ],
   "source": [
    "count = 1\n",
    "\n",
    "while count <= 8:\n",
    "    print(count)\n",
    "    #important components - otherwise, it will run to infinity\n",
    "    count += 1 #similar to having count = count + 1\n",
    "print('Count is done!')"
   ]
  },
  {
   "cell_type": "markdown",
   "id": "d2f3878f",
   "metadata": {},
   "source": [
    "**Exercise** now change it to a countdown."
   ]
  },
  {
   "cell_type": "code",
   "execution_count": 21,
   "id": "960440c9",
   "metadata": {},
   "outputs": [
    {
     "name": "stdout",
     "output_type": "stream",
     "text": [
      "10\n",
      "9\n",
      "8\n",
      "7\n",
      "6\n",
      "5\n",
      "4\n",
      "3\n",
      "2\n",
      "1\n",
      "Countdown is done!\n"
     ]
    }
   ],
   "source": [
    "n = 10\n",
    "\n",
    "while n > 0:\n",
    "    print(n)\n",
    "    n-=1\n",
    "print('Countdown is done!')"
   ]
  },
  {
   "cell_type": "code",
   "execution_count": 22,
   "id": "4ecbc96c",
   "metadata": {},
   "outputs": [
    {
     "name": "stdout",
     "output_type": "stream",
     "text": [
      "apple\n",
      "banana\n",
      "kiwi\n"
     ]
    }
   ],
   "source": [
    "fruits = ['apple', 'banana', 'kiwi']\n",
    "\n",
    "count = 0\n",
    "\n",
    "while count < len(fruits):\n",
    "    print(fruits[count])\n",
    "    count += 1"
   ]
  },
  {
   "cell_type": "markdown",
   "id": "65629fd1",
   "metadata": {},
   "source": [
    "## Nested Loops"
   ]
  },
  {
   "cell_type": "markdown",
   "id": "94f2bc13",
   "metadata": {},
   "source": [
    "**Exercise** build a nested loop that displays the table of multiplication starting from 2 and end at 10. Example:\n",
    "- 2 x 1 = 2\n",
    "- 2 x 2 = 4\n",
    "- 2 x 3 = 6\n",
    "- ....."
   ]
  },
  {
   "cell_type": "code",
   "execution_count": 23,
   "id": "4e38daa8",
   "metadata": {},
   "outputs": [
    {
     "name": "stdout",
     "output_type": "stream",
     "text": [
      "Multiplication table for: 2\n",
      "2 x 1 = 2\n",
      "2 x 2 = 4\n",
      "2 x 3 = 6\n",
      "2 x 4 = 8\n",
      "2 x 5 = 10\n",
      "2 x 6 = 12\n",
      "2 x 7 = 14\n",
      "2 x 8 = 16\n",
      "2 x 9 = 18\n",
      "2 x 10 = 20\n",
      "Multiplication table for: 3\n",
      "3 x 1 = 3\n",
      "3 x 2 = 6\n",
      "3 x 3 = 9\n",
      "3 x 4 = 12\n",
      "3 x 5 = 15\n",
      "3 x 6 = 18\n",
      "3 x 7 = 21\n",
      "3 x 8 = 24\n",
      "3 x 9 = 27\n",
      "3 x 10 = 30\n",
      "Multiplication table for: 4\n",
      "4 x 1 = 4\n",
      "4 x 2 = 8\n",
      "4 x 3 = 12\n",
      "4 x 4 = 16\n",
      "4 x 5 = 20\n",
      "4 x 6 = 24\n",
      "4 x 7 = 28\n",
      "4 x 8 = 32\n",
      "4 x 9 = 36\n",
      "4 x 10 = 40\n",
      "Multiplication table for: 5\n",
      "5 x 1 = 5\n",
      "5 x 2 = 10\n",
      "5 x 3 = 15\n",
      "5 x 4 = 20\n",
      "5 x 5 = 25\n",
      "5 x 6 = 30\n",
      "5 x 7 = 35\n",
      "5 x 8 = 40\n",
      "5 x 9 = 45\n",
      "5 x 10 = 50\n",
      "Multiplication table for: 6\n",
      "6 x 1 = 6\n",
      "6 x 2 = 12\n",
      "6 x 3 = 18\n",
      "6 x 4 = 24\n",
      "6 x 5 = 30\n",
      "6 x 6 = 36\n",
      "6 x 7 = 42\n",
      "6 x 8 = 48\n",
      "6 x 9 = 54\n",
      "6 x 10 = 60\n",
      "Multiplication table for: 7\n",
      "7 x 1 = 7\n",
      "7 x 2 = 14\n",
      "7 x 3 = 21\n",
      "7 x 4 = 28\n",
      "7 x 5 = 35\n",
      "7 x 6 = 42\n",
      "7 x 7 = 49\n",
      "7 x 8 = 56\n",
      "7 x 9 = 63\n",
      "7 x 10 = 70\n",
      "Multiplication table for: 8\n",
      "8 x 1 = 8\n",
      "8 x 2 = 16\n",
      "8 x 3 = 24\n",
      "8 x 4 = 32\n",
      "8 x 5 = 40\n",
      "8 x 6 = 48\n",
      "8 x 7 = 56\n",
      "8 x 8 = 64\n",
      "8 x 9 = 72\n",
      "8 x 10 = 80\n",
      "Multiplication table for: 9\n",
      "9 x 1 = 9\n",
      "9 x 2 = 18\n",
      "9 x 3 = 27\n",
      "9 x 4 = 36\n",
      "9 x 5 = 45\n",
      "9 x 6 = 54\n",
      "9 x 7 = 63\n",
      "9 x 8 = 72\n",
      "9 x 9 = 81\n",
      "9 x 10 = 90\n",
      "Multiplication table for: 10\n",
      "10 x 1 = 10\n",
      "10 x 2 = 20\n",
      "10 x 3 = 30\n",
      "10 x 4 = 40\n",
      "10 x 5 = 50\n",
      "10 x 6 = 60\n",
      "10 x 7 = 70\n",
      "10 x 8 = 80\n",
      "10 x 9 = 90\n",
      "10 x 10 = 100\n"
     ]
    }
   ],
   "source": [
    "for a in range(2,11):\n",
    "    print('Multiplication table for:',a)\n",
    "\n",
    "    #inner loop\n",
    "    for b in range(1,11):\n",
    "        print(f'{a} x {b} = {a*b}')"
   ]
  },
  {
   "cell_type": "markdown",
   "id": "4c3fef50",
   "metadata": {},
   "source": [
    "## Loop Control Statements\n",
    "- They are very effective to add more control for the loop\n",
    "- We have 2 different control statements in Python `break` and `continue`"
   ]
  },
  {
   "cell_type": "markdown",
   "id": "ae631b3b",
   "metadata": {},
   "source": [
    "**Exercise** We have the following string 'automation'.\n",
    "1. Iterate through every letter and stop at letter 'm'\n",
    "2. Iterate through every letter and skip the letter 'a'"
   ]
  },
  {
   "cell_type": "code",
   "execution_count": 24,
   "id": "9dc2d898",
   "metadata": {},
   "outputs": [],
   "source": [
    "my_str = 'automation'"
   ]
  },
  {
   "cell_type": "code",
   "execution_count": 25,
   "id": "adffe506",
   "metadata": {},
   "outputs": [
    {
     "name": "stdout",
     "output_type": "stream",
     "text": [
      "a\n",
      "u\n",
      "t\n",
      "o\n"
     ]
    }
   ],
   "source": [
    "#answer 1\n",
    "for s in my_str:\n",
    "    #keep iterating through every letter until you reach m, then break the loop\n",
    "    if s == 'm':\n",
    "        break\n",
    "    print(s)"
   ]
  },
  {
   "cell_type": "code",
   "execution_count": 26,
   "id": "93bdf9df",
   "metadata": {},
   "outputs": [
    {
     "name": "stdout",
     "output_type": "stream",
     "text": [
      "u\n",
      "t\n",
      "o\n",
      "m\n",
      "t\n",
      "i\n",
      "o\n",
      "n\n"
     ]
    }
   ],
   "source": [
    "# answer 2\n",
    "for s in my_str:\n",
    "    if s == 'a':\n",
    "        continue #move on to the next item, do not execute the next function (print)\n",
    "    print(s)"
   ]
  },
  {
   "cell_type": "markdown",
   "id": "2e4b7f64",
   "metadata": {},
   "source": [
    "## Additional Functionality of Loops"
   ]
  },
  {
   "cell_type": "markdown",
   "id": "804e5ba1",
   "metadata": {},
   "source": [
    "### Using `zip()` Function\n",
    "It allows iterating through multiple lists."
   ]
  },
  {
   "cell_type": "code",
   "execution_count": 27,
   "id": "2a79432f",
   "metadata": {},
   "outputs": [
    {
     "name": "stdout",
     "output_type": "stream",
     "text": [
      "Mary's age is 25 years old. His/her grade is B.\n",
      "Jack's age is 30 years old. His/her grade is C.\n",
      "Todd's age is 43 years old. His/her grade is A.\n"
     ]
    }
   ],
   "source": [
    "names = ['Mary', 'Jack', 'Todd']\n",
    "ages = [25, 30, 43]\n",
    "grades = ['B', 'C', 'A']\n",
    "\n",
    "# print both age and name\n",
    "for n, a, g in zip(names, ages, grades):\n",
    "    print(f\"{n}'s age is {a} years old. His/her grade is {g}.\")"
   ]
  },
  {
   "cell_type": "markdown",
   "id": "ceaffae2",
   "metadata": {},
   "source": [
    "> If you use lists with different lengths, you get an output based on the shortest list."
   ]
  },
  {
   "cell_type": "code",
   "execution_count": 28,
   "id": "73902668",
   "metadata": {},
   "outputs": [
    {
     "name": "stdout",
     "output_type": "stream",
     "text": [
      "Mary's age is 25 years old. His/her grade is B.\n",
      "Jack's age is 30 years old. His/her grade is C.\n"
     ]
    }
   ],
   "source": [
    "names = ['Mary', 'Jack', 'Todd']\n",
    "ages = [25, 30, 43]\n",
    "grades = ['B', 'C'] #only 2 items\n",
    "\n",
    "# print both age and name\n",
    "for n, a, g in zip(names, ages, grades):\n",
    "    print(f\"{n}'s age is {a} years old. His/her grade is {g}.\")"
   ]
  },
  {
   "cell_type": "markdown",
   "id": "a0f74713",
   "metadata": {},
   "source": [
    "If you want to keep all the values, use `zip_longest()`"
   ]
  },
  {
   "cell_type": "code",
   "execution_count": 29,
   "id": "340bc49e",
   "metadata": {},
   "outputs": [
    {
     "name": "stdout",
     "output_type": "stream",
     "text": [
      "Mary's age is 25 years old. His/her grade is B.\n",
      "Jack's age is 30 years old. His/her grade is C.\n",
      "Todd's age is 43 years old. His/her grade is N/A.\n"
     ]
    }
   ],
   "source": [
    "import itertools \n",
    "\n",
    "# print both age and name\n",
    "for n, a, g in itertools.zip_longest(names, ages, grades, fillvalue='N/A'):\n",
    "    print(f\"{n}'s age is {a} years old. His/her grade is {g}.\")"
   ]
  },
  {
   "cell_type": "markdown",
   "id": "0ff87d1e",
   "metadata": {},
   "source": [
    "### Using `enumerate()`\n",
    "It helps define an index based on the passed list."
   ]
  },
  {
   "cell_type": "code",
   "execution_count": 30,
   "id": "a29718a7",
   "metadata": {},
   "outputs": [
    {
     "name": "stdout",
     "output_type": "stream",
     "text": [
      "Student 1: Mary\n",
      "Student 2: Jack\n",
      "Student 3: Todd\n",
      "Student 4: Becky\n"
     ]
    }
   ],
   "source": [
    "names = ['Mary', 'Jack', 'Todd','Becky']\n",
    "\n",
    "for i, n in enumerate(names): #by default starts from 0\n",
    "    print(f'Student {i+1}: {n}')"
   ]
  },
  {
   "cell_type": "code",
   "execution_count": 31,
   "id": "c9a8934d",
   "metadata": {},
   "outputs": [
    {
     "name": "stdout",
     "output_type": "stream",
     "text": [
      "Student 2: Jack\n",
      "Student 3: Todd\n",
      "Student 4: Becky\n"
     ]
    }
   ],
   "source": [
    "#alternative \n",
    "for i, n in enumerate(names, start=1):\n",
    "    if i == 1:\n",
    "        continue\n",
    "    print(f'Student {i}: {n}')"
   ]
  },
  {
   "cell_type": "markdown",
   "id": "f35eb932",
   "metadata": {},
   "source": [
    "### Using Loops with Dictionaries"
   ]
  },
  {
   "cell_type": "code",
   "execution_count": 32,
   "id": "c54061cf",
   "metadata": {},
   "outputs": [
    {
     "name": "stdout",
     "output_type": "stream",
     "text": [
      "Mary's age is 25 years old.\n",
      "Jack's age is 30 years old.\n",
      "Todd's age is 43 years old.\n"
     ]
    }
   ],
   "source": [
    "my_dict = {\n",
    "        'names' : ['Mary', 'Jack', 'Todd'],\n",
    "        'ages' : [25, 30, 43]\n",
    "}\n",
    "\n",
    "keys = list(my_dict.keys())\n",
    "\n",
    "# print both age and name\n",
    "for values in zip(my_dict[keys[0]], my_dict[keys[1]]):\n",
    "    print(f\"{values[0]}'s age is {values[1]} years old.\")"
   ]
  },
  {
   "cell_type": "code",
   "execution_count": null,
   "id": "dc065fd6",
   "metadata": {},
   "outputs": [],
   "source": []
  }
 ],
 "metadata": {
  "kernelspec": {
   "display_name": "Python 3",
   "language": "python",
   "name": "python3"
  },
  "language_info": {
   "codemirror_mode": {
    "name": "ipython",
    "version": 3
   },
   "file_extension": ".py",
   "mimetype": "text/x-python",
   "name": "python",
   "nbconvert_exporter": "python",
   "pygments_lexer": "ipython3",
   "version": "3.13.6"
  }
 },
 "nbformat": 4,
 "nbformat_minor": 5
}
