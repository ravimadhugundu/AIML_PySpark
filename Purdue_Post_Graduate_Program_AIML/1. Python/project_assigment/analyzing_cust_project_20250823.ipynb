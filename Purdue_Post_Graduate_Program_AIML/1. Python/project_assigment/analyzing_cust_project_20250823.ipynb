{
 "cells": [
  {
   "cell_type": "markdown",
   "id": "88890e15",
   "metadata": {},
   "source": [
    "# Project Walkthrough"
   ]
  },
  {
   "cell_type": "markdown",
   "id": "afb6f741",
   "metadata": {},
   "source": [
    "## Analyzing Customer Orders Using Python\n",
    "1. Store customer orders\n",
    "    - Build lists and dictionaries or lists of lists\n",
    "    - Make sure the categories are exact spelling and case (python is case sensitive)\n",
    "2. see examples below\n",
    "3. Analyze Customer Orders:\n",
    "    - Use a loop to iterate through each customer\n",
    "    - inside the loop calculate the sum of prices of all products\n",
    "    - use the dictionary defined in step 1 to map customers to their orders and categories\n",
    "    - Utilize `if`, `elif`, and `else` to classify based on 50, 50 to 100, and over 100\n",
    "4. Generate business insights\n",
    "    - building a dictionary and zero values to store the revenue for each product  `category_revenue = {'Electronics':0}`\n",
    "    - loop through your order and add the price for each product to the total\n",
    "\n",
    "> Make sure you are showing the output from `print()` in your notebook before submission."
   ]
  },
  {
   "cell_type": "code",
   "execution_count": 4,
   "id": "94710b65",
   "metadata": {},
   "outputs": [],
   "source": [
    "#list\n",
    "customers = ['Pooja','Alice','Bassel']"
   ]
  },
  {
   "cell_type": "code",
   "execution_count": 3,
   "id": "c245ca2a",
   "metadata": {},
   "outputs": [],
   "source": [
    "#example of a list of tuples\n",
    "orders = [('Pooja', 'Laptop', '1300', 'Electronics'), ('Alice', 'Mouse', '20', 'Electronics')]"
   ]
  },
  {
   "cell_type": "code",
   "execution_count": 7,
   "id": "20cc2ea5",
   "metadata": {},
   "outputs": [],
   "source": [
    "#product classification\n",
    "prod_cat = {'Laptop:':'Electronics',\n",
    "            'Shoes':'Clothing',\n",
    "            'Backpack':'Clothing',\n",
    "            'Mouse':'Electronics'}"
   ]
  },
  {
   "cell_type": "code",
   "execution_count": 6,
   "id": "98008e51",
   "metadata": {},
   "outputs": [
    {
     "name": "stdout",
     "output_type": "stream",
     "text": [
      "Bassel\n"
     ]
    }
   ],
   "source": [
    "customer = 'Bassel'\n",
    "\n",
    "if customer in customers:\n",
    "    print(customer)\n",
    "else:\n",
    "    print('customer does not exist')"
   ]
  },
  {
   "cell_type": "code",
   "execution_count": 9,
   "id": "09779474",
   "metadata": {},
   "outputs": [
    {
     "data": {
      "text/plain": [
       "{'Clothing', 'Electronics'}"
      ]
     },
     "execution_count": 9,
     "metadata": {},
     "output_type": "execute_result"
    }
   ],
   "source": [
    "set(prod_cat.values())"
   ]
  },
  {
   "cell_type": "markdown",
   "id": "96a0e707",
   "metadata": {},
   "source": []
  },
  {
   "cell_type": "code",
   "execution_count": null,
   "id": "252ee49e",
   "metadata": {},
   "outputs": [],
   "source": []
  }
 ],
 "metadata": {
  "kernelspec": {
   "display_name": "Python 3",
   "language": "python",
   "name": "python3"
  },
  "language_info": {
   "codemirror_mode": {
    "name": "ipython",
    "version": 3
   },
   "file_extension": ".py",
   "mimetype": "text/x-python",
   "name": "python",
   "nbconvert_exporter": "python",
   "pygments_lexer": "ipython3",
   "version": "3.11.3"
  }
 },
 "nbformat": 4,
 "nbformat_minor": 5
}
