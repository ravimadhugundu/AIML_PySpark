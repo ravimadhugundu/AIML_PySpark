{
 "cells": [
  {
   "cell_type": "markdown",
   "id": "bcf86e07",
   "metadata": {},
   "source": [
    "### Analyzing Customer Orders Using Python\n",
    "1. Store customer orders"
   ]
  },
  {
   "cell_type": "code",
   "execution_count": 22,
   "id": "57cd2f28",
   "metadata": {},
   "outputs": [],
   "source": [
    "# Create a list of customer names\n",
    "customers = [\"Alice Johnson\",\"Brian Smith\", \"Catherine Lee\",\"David Patel\",\"Emily Nguyen\",\"Franklin Torres\",\"Grace Kim\",\"Henry Adams\",\"Isabella Martinez\",\"Jack Thompson\"]\n",
    "# Store each customer's order details (customer name, product, price, category) as tuples inside a list\n",
    "customer_ord_dtl = [('Alice Johnson', 'laptop', '1415', 'Electronics'),\n",
    "                   ('Brian Smith', 'phone', '1200', 'Electronics'), \n",
    "                   ('Isabella Martinez', 'shirt', '8', 'Apparel & Accessories'), \n",
    "                   ('David Patel', 'pant', '75', 'Apparel & Accessories'), \n",
    "                   ('Emily Nguyen', 'soap', '15', 'Health & Beauty'), \n",
    "                   ('Grace Kim', 'shampoo', '25', 'Health & Beauty'), \n",
    "                   ('Grace Kim', 'rice', '20', 'Groceries & Food'), \n",
    "                   ('Grace Kim', 'pizza', '50', 'Groceries & Food'), \n",
    "                   ('Isabella Martinez', 'bicycle', '41', 'Sports & Outdoors'), \n",
    "                   ('Emily Nguyen', 'helmet', '25', 'Sports & Outdoors')]"
   ]
  },
  {
   "cell_type": "code",
   "execution_count": 32,
   "id": "cdf15a22",
   "metadata": {},
   "outputs": [
    {
     "data": {
      "text/plain": [
       "{'Alice Johnson': ['laptop'],\n",
       " 'Brian Smith': ['phone'],\n",
       " 'Isabella Martinez': ['shirt', 'bicycle'],\n",
       " 'David Patel': ['pant'],\n",
       " 'Emily Nguyen': ['soap', 'helmet'],\n",
       " 'Grace Kim': ['shampoo', 'rice', 'pizza']}"
      ]
     },
     "execution_count": 32,
     "metadata": {},
     "output_type": "execute_result"
    }
   ],
   "source": [
    "# Use a dictionary where keys are customer names and values are lists of ordered products\n",
    "from collections import defaultdict\n",
    "customer_ord_dict = defaultdict(list)\n",
    "\n",
    "for name, item, price, category in customer_ord_dtl:\n",
    "    customer_ord_dict[name].append((item))\n",
    "customer_ord_dict = dict(customer_ord_dict)\n",
    "customer_ord_dict"
   ]
  },
  {
   "cell_type": "markdown",
   "id": "4e8438b8",
   "metadata": {},
   "source": [
    "2. Classify products by category\n",
    "    - Create a set of unique product categories\n",
    "    - Display all available product categories"
   ]
  },
  {
   "cell_type": "code",
   "execution_count": 45,
   "id": "0bbbc765",
   "metadata": {},
   "outputs": [
    {
     "data": {
      "text/plain": [
       "{'laptop': ['Electronics'],\n",
       " 'phone': ['Electronics'],\n",
       " 'shirt': ['Apparel & Accessories'],\n",
       " 'pant': ['Apparel & Accessories'],\n",
       " 'soap': ['Health & Beauty'],\n",
       " 'shampoo': ['Health & Beauty'],\n",
       " 'rice': ['Groceries & Food'],\n",
       " 'pizza': ['Groceries & Food'],\n",
       " 'bicycle': ['Sports & Outdoors'],\n",
       " 'helmet': ['Sports & Outdoors']}"
      ]
     },
     "execution_count": 45,
     "metadata": {},
     "output_type": "execute_result"
    }
   ],
   "source": [
    "# Use a dictionary to map each product to its respective category\n",
    "prod_catg = defaultdict(list)\n",
    "for name, item, price, catg in customer_ord_dtl:\n",
    "    prod_catg[item].append(catg)\n",
    "prod_category = dict(prod_catg)\n",
    "prod_category\n",
    "# prod_category = {'laptop': 'Electronics', 'phone': 'Electronics', 'shirt': 'Apparel & Accessories', 'pant':'Apparel & Accessories', 'soap':'Health & Beauty', 'shampoo':'Health & Beauty', 'rice':'Groceries & Food', 'pizza':'Groceries & Food', 'bicycle':'Sports & Outdoors','helmet':'Sports & Outdoors'}"
   ]
  },
  {
   "cell_type": "code",
   "execution_count": 50,
   "id": "c6d9931e",
   "metadata": {},
   "outputs": [
    {
     "data": {
      "text/plain": [
       "{'Apparel & Accessories',\n",
       " 'Electronics',\n",
       " 'Groceries & Food',\n",
       " 'Health & Beauty',\n",
       " 'Sports & Outdoors'}"
      ]
     },
     "execution_count": 50,
     "metadata": {},
     "output_type": "execute_result"
    }
   ],
   "source": [
    "# Display all available product categories\n",
    "unique_prod_category = set(v[0] for v in prod_category.values())\n",
    "unique_prod_category"
   ]
  },
  {
   "cell_type": "markdown",
   "id": "0e660880",
   "metadata": {},
   "source": [
    "3. Analyze customer orders"
   ]
  },
  {
   "cell_type": "code",
   "execution_count": 3,
   "id": "d27adc4c",
   "metadata": {},
   "outputs": [
    {
     "name": "stdout",
     "output_type": "stream",
     "text": [
      "{'Alice Johnson': 1415, 'Brian Smith': 1200, 'Isabella Martinez': 49, 'David Patel': 75, 'Emily Nguyen': 40, 'Grace Kim': 95}\n",
      "{'Alice Johnson': 'high-value buyer', 'Brian Smith': 'high-value buyer', 'Isabella Martinez': 'low-value buyer', 'David Patel': 'moderate buyer', 'Emily Nguyen': 'low-value buyer', 'Grace Kim': 'moderate buyer'}\n"
     ]
    }
   ],
   "source": [
    "# Use a loop to calculate the total amount each customer spends\n",
    "customer_total_spends_amt = {}\n",
    "for cust_name, prd, price, ctg in customer_ord_dtl:\n",
    "    if cust_name in customer_total_spends_amt:\n",
    "        customer_total_spends_amt[cust_name] += int(price)\n",
    "    else:\n",
    "        customer_total_spends_amt[cust_name] = int(price)\n",
    "print(customer_total_spends_amt)\n",
    "\n",
    "# If the total purchase value is above $100, classify the customer as a high-value buyer\n",
    "# If it is between $50 and $100, classify the customer as a moderate buyer\n",
    "# If it is below $50, classify them as a low-value buyer\n",
    "customer_classification= {}    \n",
    "for key, val in customer_total_spends_amt.items():\n",
    "    if int(val) > 100:\n",
    "        customer_classification[key] = 'high-value buyer'\n",
    "    elif (int(val) > 50) and (int(val)) < 100:\n",
    "        customer_classification[key] = 'moderate buyer'\n",
    "    else:\n",
    "        customer_classification[key] = 'low-value buyer'    \n",
    "print(customer_classification)        "
   ]
  },
  {
   "cell_type": "markdown",
   "id": "6f400c38",
   "metadata": {},
   "source": [
    "4. Generate business insights"
   ]
  },
  {
   "cell_type": "code",
   "execution_count": 51,
   "id": "4f3597b9",
   "metadata": {},
   "outputs": [
    {
     "name": "stdout",
     "output_type": "stream",
     "text": [
      "{'Electronics': 2615, 'Apparel & Accessories': 83, 'Health & Beauty': 40, 'Groceries & Food': 70, 'Sports & Outdoors': 66}\n",
      "{'shirt', 'rice', 'pizza', 'helmet', 'pant', 'soap', 'shampoo', 'laptop', 'bicycle', 'phone'}\n",
      "{'Brian Smith', 'Alice Johnson'}\n",
      "['Alice Johnson', 'Brian Smith', 'Grace Kim']\n"
     ]
    }
   ],
   "source": [
    "# Calculate the total revenue per product category and store it in a dictionary\n",
    "total_rev_per_prod_cat = {}\n",
    "for cust_name, prod, price, prod_cat in customer_ord_dtl:\n",
    "    if prod_cat in total_rev_per_prod_cat:\n",
    "        total_rev_per_prod_cat[prod_cat] += int(price)\n",
    "    else: \n",
    "        total_rev_per_prod_cat[prod_cat] = int(price)\n",
    "print(total_rev_per_prod_cat)\n",
    "\n",
    "# Extract unique products from all orders using a set\n",
    "unique_prod = set()\n",
    "for cust_name, prod, price, prod_cat in customer_ord_dtl:\n",
    "    if prod not in unique_prod:\n",
    "        unique_prod.add(prod) \n",
    "print(unique_prod)\n",
    "\n",
    "# Use a list comprehension to find all customers who purchased electronics\n",
    "all_cust_electronics = set()\n",
    "# for cust_name, prod, price, prod_cat in customer_ord_dtl:\n",
    "#     if prod_cat == 'Electronics':\n",
    "#         all_cust_electronics.add(cust_name)\n",
    "# print(list(all_cust_electronics))\n",
    "all_cust_electronics = [cust_name for cust_name, prod, price, prod_cat in customer_ord_dtl if prod_cat == 'Electronics']\n",
    "print(set(all_cust_electronics))\n",
    "\n",
    "# Identify the top three highest-spending customers using sorting\n",
    "customer_total_spends_amt = {}\n",
    "for cust_name, prd, price, ctg in customer_ord_dtl:\n",
    "    if cust_name in customer_total_spends_amt:\n",
    "        customer_total_spends_amt[cust_name] += int(price)\n",
    "    else:\n",
    "        customer_total_spends_amt[cust_name] = int(price)\n",
    "sorted_dict = list(dict(sorted(customer_total_spends_amt.items(), key=lambda item:item[1], reverse=True)[:3]).keys())\n",
    "print(sorted_dict)\n"
   ]
  },
  {
   "cell_type": "markdown",
   "id": "a0489c8b",
   "metadata": {},
   "source": [
    "5 Organize and display data"
   ]
  },
  {
   "cell_type": "code",
   "execution_count": null,
   "id": "c75b00fe",
   "metadata": {},
   "outputs": [
    {
     "name": "stdout",
     "output_type": "stream",
     "text": [
      "Alice Johnson -> Total_spent = $1415, Category = high-value buyer\n",
      "Brian Smith -> Total_spent = $1200, Category = high-value buyer\n",
      "Isabella Martinez -> Total_spent = $49, Category = low-value buyer\n",
      "David Patel -> Total_spent = $75, Category = moderate buyer\n",
      "Emily Nguyen -> Total_spent = $40, Category = low-value buyer\n",
      "Grace Kim -> Total_spent = $95, Category = moderate buyer\n"
     ]
    }
   ],
   "source": [
    "# Print a summary of each customer’s total spending and their classification\n",
    "customer_total_spends_amt\n",
    "customer_classification\n",
    "combined_data = {\n",
    "    name: {'total_spend': customer_total_spends_amt[name], 'category': customer_classification[name]}\n",
    "    for name in customer_total_spends_amt\n",
    "}\n",
    "#print(combined_data)\n",
    "for name, info in combined_data.items():\n",
    "    print(f\"{name} -> Total_spent = ${info['total_spend']}, Category = {info['category']}\")\n",
    "\n"
   ]
  },
  {
   "cell_type": "code",
   "execution_count": 74,
   "id": "630d06b9",
   "metadata": {},
   "outputs": [
    {
     "data": {
      "text/plain": [
       "defaultdict(set,\n",
       "            {'Alice Johnson': {'Electronics'},\n",
       "             'Brian Smith': {'Electronics'},\n",
       "             'Isabella Martinez': {'Apparel & Accessories',\n",
       "              'Sports & Outdoors'},\n",
       "             'David Patel': {'Apparel & Accessories'},\n",
       "             'Emily Nguyen': {'Health & Beauty', 'Sports & Outdoors'},\n",
       "             'Grace Kim': {'Groceries & Food', 'Health & Beauty'}})"
      ]
     },
     "execution_count": 74,
     "metadata": {},
     "output_type": "execute_result"
    }
   ],
   "source": [
    "# Use set operations to find customers who purchased from multiple categories\n",
    "customer_categories = defaultdict(set)\n",
    "for name, item, price, category in customer_ord_dtl:\n",
    "    customer_categories[name].add(category)\n",
    "   \n",
    "customer_categories \n",
    "# customer_categories = dict(customer_categories).keys()\n",
    "# customer_categories = set(customer_categories)\n",
    "# customer_categories"
   ]
  },
  {
   "cell_type": "code",
   "execution_count": 75,
   "id": "9613c593",
   "metadata": {},
   "outputs": [
    {
     "name": "stdout",
     "output_type": "stream",
     "text": [
      "{'Grace Kim', 'Emily Nguyen', 'Isabella Martinez'}\n"
     ]
    }
   ],
   "source": [
    "multi_category_customers = {name for name, categories in customer_categories.items() if len(categories) > 1}\n",
    "print(multi_category_customers)"
   ]
  },
  {
   "cell_type": "code",
   "execution_count": 78,
   "id": "ea07f078",
   "metadata": {},
   "outputs": [
    {
     "name": "stdout",
     "output_type": "stream",
     "text": [
      "{'Brian Smith', 'Alice Johnson'}\n",
      "{'David Patel', 'Isabella Martinez'}\n",
      "set()\n"
     ]
    }
   ],
   "source": [
    "# Identify common customers who bought both electronics and clothing\n",
    "electronics_customers = {name for name, cats in customer_categories.items() if 'Electronics' in cats}\n",
    "print(electronics_customers)\n",
    "clothing_customers = {name for name, cats in customer_categories.items() if 'Apparel & Accessories' in cats}\n",
    "print(clothing_customers)\n",
    "common_customers = electronics_customers & clothing_customers\n",
    "print(common_customers)"
   ]
  }
 ],
 "metadata": {
  "kernelspec": {
   "display_name": "Python 3",
   "language": "python",
   "name": "python3"
  },
  "language_info": {
   "codemirror_mode": {
    "name": "ipython",
    "version": 3
   },
   "file_extension": ".py",
   "mimetype": "text/x-python",
   "name": "python",
   "nbconvert_exporter": "python",
   "pygments_lexer": "ipython3",
   "version": "3.13.6"
  }
 },
 "nbformat": 4,
 "nbformat_minor": 5
}
