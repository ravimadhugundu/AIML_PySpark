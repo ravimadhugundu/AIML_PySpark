{
 "cells": [
  {
   "cell_type": "markdown",
   "id": "3954d9fe",
   "metadata": {},
   "source": [
    "# Intro to NumPy"
   ]
  },
  {
   "cell_type": "markdown",
   "id": "14b78a24",
   "metadata": {},
   "source": [
    "- Short for Numerical Python\n",
    "- It is a fundamental library in the DS ecosystem\n",
    "- It provides powerful tools for working with multidimensional arrays and matrices:\n",
    "    - n-dimension arrays `ndarray`: core data structure. They offer efficient storage for various data types: strings, integers, floats, booleans, etc...\n",
    "    - Array operations: a rich set of mathematical and statistical operations (functions)\n",
    "    - Indexing, slicing, and merging or arrays\n",
    "    - Linear Algebra concepts\n",
    "    - Random array/matrix generation\n",
    "- Advantages:\n",
    "    - Performance and speed\n",
    "    - IntegrationL it integrates easily with different DS modules, such as Pandas, Tensorflow, Schi-kit Learn, MatplotLib....\n",
    "    - It's the foundation of so many DS libraries"
   ]
  },
  {
   "cell_type": "markdown",
   "id": "112e18c1",
   "metadata": {},
   "source": [
    "## Basics"
   ]
  },
  {
   "cell_type": "markdown",
   "id": "aaf43f17",
   "metadata": {},
   "source": [
    "`pip install numpy`"
   ]
  },
  {
   "cell_type": "markdown",
   "id": "40123480",
   "metadata": {},
   "source": [
    "> make sure you restart the kernel after installation "
   ]
  },
  {
   "cell_type": "code",
   "execution_count": 2,
   "id": "15c18a9c",
   "metadata": {},
   "outputs": [],
   "source": [
    "import numpy as np"
   ]
  },
  {
   "cell_type": "code",
   "execution_count": 3,
   "id": "4b268baa",
   "metadata": {},
   "outputs": [
    {
     "name": "stdout",
     "output_type": "stream",
     "text": [
      "absl-py==1.4.0\n",
      "accelerate==1.3.0\n",
      "ace_tools==0.0\n",
      "acres==0.5.0\n",
      "aiofiles==24.1.0\n",
      "aiohttp==3.9.5\n",
      "aiosignal==1.3.1\n",
      "alpaca-py==0.42.0\n",
      "alpaca-trade-api==3.2.0\n",
      "altair==5.5.0\n",
      "ambivalent==0.3.0\n",
      "annotated-types==0.7.0\n",
      "anyio==4.4.0\n",
      "anywidget==0.9.13\n",
      "appdirs==1.4.4\n",
      "appnope==0.1.3\n",
      "aquarel==0.0.6\n",
      "argon2-cffi==23.1.0\n",
      "argon2-cffi-bindings==21.2.0\n",
      "arrow==1.3.0\n",
      "asttokens==2.2.1\n",
      "astunparse==1.6.3\n",
      "async-lru==2.0.4\n",
      "attrs==23.1.0\n",
      "audioread==3.0.1\n",
      "Babel==2.15.0\n",
      "backcall==0.2.0\n",
      "basemap==1.4.1\n",
      "basemap-data==1.3.2\n",
      "beautifulsoup4==4.12.2\n",
      "bleach==6.1.0\n",
      "blinker==1.9.0\n",
      "bokeh==3.6.2\n",
      "Boruta==0.3\n",
      "branca==0.6.0\n",
      "cachetools==5.3.1\n",
      "calmap==0.0.11\n",
      "calplot==0.1.7.5\n",
      "catboost==1.2.8\n",
      "catppuccin==2.3.4\n",
      "certifi==2024.2.2\n",
      "cffi==1.15.1\n",
      "chardet==5.1.0\n",
      "charset-normalizer==3.1.0\n",
      "ci-info==0.3.0\n",
      "click==8.1.4\n",
      "click-plugins==1.1.1\n",
      "cligj==0.7.2\n",
      "colorcet==3.1.0\n",
      "colormaps==0.4.2\n",
      "comm==0.1.3\n",
      "configobj==5.0.9\n",
      "configparser==7.2.0\n",
      "contourpy==1.3.1\n",
      "cryptography==41.0.1\n",
      "cssselect==1.2.0\n",
      "cssutils==2.11.1\n",
      "cycler==0.11.0\n",
      "dash==3.0.4\n",
      "dataclasses-json==0.6.7\n",
      "dataframe_image==0.2.4\n",
      "datasets==3.0.1\n",
      "debugpy==1.6.7\n",
      "decorator==5.1.1\n",
      "defusedxml==0.7.1\n",
      "deprecation==2.1.0\n",
      "diffusers==0.32.2\n",
      "dill==0.3.8\n",
      "dm-tree==0.1.9\n",
      "docstring_parser==0.16\n",
      "docx==0.2.4\n",
      "drawdata==0.3.7\n",
      "einops==0.8.1\n",
      "entrypoints==0.4\n",
      "et-xmlfile==1.1.0\n",
      "etelemetry==0.3.1\n",
      "etils==1.12.2\n",
      "exception==0.1.0\n",
      "executing==1.2.0\n",
      "fastjsonschema==2.17.1\n",
      "filelock==3.13.1\n",
      "Fiona==1.9.4.post1\n",
      "fitz==0.0.1.dev2\n",
      "Flask==3.0.3\n",
      "flatbuffers==23.5.26\n",
      "folium==0.14.0\n",
      "fonttools==4.39.4\n",
      "fqdn==1.5.1\n",
      "frontend==0.0.3\n",
      "frozendict==2.3.8\n",
      "frozenlist==1.4.1\n",
      "fsspec==2024.3.1\n",
      "ftfy==6.3.1\n",
      "gast==0.4.0\n",
      "geopandas==0.13.2\n",
      "gitdb==4.0.12\n",
      "GitPython==3.1.44\n",
      "google-auth==2.22.0\n",
      "google-auth-oauthlib==1.0.0\n",
      "google-pasta==0.2.0\n",
      "googleapis-common-protos==1.69.2\n",
      "googlefinance==0.7\n",
      "graphviz==0.20.3\n",
      "grpcio==1.49.1\n",
      "h11==0.14.0\n",
      "h5py==3.10.0\n",
      "holoviews==1.20.0\n",
      "html2image==2.0.4.3\n",
      "html5lib==1.1\n",
      "httpcore==1.0.5\n",
      "httplib2==0.22.0\n",
      "httpx==0.27.0\n",
      "httpx-sse==0.4.1\n",
      "huggingface-hub==0.26.0\n",
      "idna==3.4\n",
      "imageio==2.34.0\n",
      "imbalanced-learn==0.13.0\n",
      "imblearn==0.0\n",
      "immutabledict==4.2.1\n",
      "importlib_metadata==8.6.1\n",
      "importlib_resources==6.5.2\n",
      "inexactsearch==1.0.2\n",
      "ipykernel==6.23.1\n",
      "ipython==8.13.2\n",
      "ipywidgets==8.1.5\n",
      "isoduration==20.11.0\n",
      "itsdangerous==2.2.0\n",
      "jedi==0.18.2\n",
      "Jinja2==3.1.2\n",
      "joblib==1.2.0\n",
      "joypy==0.2.6\n",
      "json5==0.9.25\n",
      "jsonpatch==1.33\n",
      "jsonpointer==3.0.0\n",
      "jsonschema==4.23.0\n",
      "jsonschema-specifications==2023.12.1\n",
      "jupyter-events==0.10.0\n",
      "jupyter-lsp==2.2.5\n",
      "jupyter_client==7.4.9\n",
      "jupyter_core==5.3.0\n",
      "jupyter_server==2.14.2\n",
      "jupyter_server_terminals==0.5.3\n",
      "jupyterlab==4.2.3\n",
      "jupyterlab_pygments==0.3.0\n",
      "jupyterlab_server==2.27.2\n",
      "jupyterlab_widgets==3.0.13\n",
      "kaleido==0.2.1\n",
      "keras==3.1.1\n",
      "kiwisolver==1.4.4\n",
      "langchain==0.3.26\n",
      "langchain-community==0.3.27\n",
      "langchain-core==0.3.69\n",
      "langchain-text-splitters==0.3.8\n",
      "langsmith==0.4.8\n",
      "lazy_loader==0.3\n",
      "libclang==16.0.6\n",
      "librosa==0.10.2.post1\n",
      "linkify-it-py==2.0.3\n",
      "llvmlite==0.40.1\n",
      "looseversion==1.3.0\n",
      "lxml==4.9.2\n",
      "mapclassify==2.5.0\n",
      "Markdown==3.4.4\n",
      "markdown-it-py==3.0.0\n",
      "MarkupSafe==2.1.3\n",
      "marshmallow==3.26.1\n",
      "matplotlib==3.8.4\n",
      "matplotlib-inline==0.1.6\n",
      "matplotx==0.3.10\n",
      "mdit-py-plugins==0.4.2\n",
      "mdurl==0.1.2\n",
      "mistune==3.0.2\n",
      "ml-dtypes==0.3.2\n",
      "more-itertools==10.3.0\n",
      "mplcyberpunk==0.7.0\n",
      "mpmath==1.3.0\n",
      "msgpack==1.0.3\n",
      "multidict==6.0.5\n",
      "multiprocess==0.70.16\n",
      "multitasking==0.0.11\n",
      "mypy_extensions==1.1.0\n",
      "namex==0.0.7\n",
      "narwhals==1.34.1\n",
      "nbclient==0.10.0\n",
      "nbconvert==7.16.4\n",
      "nbformat==5.9.0\n",
      "nest-asyncio==1.5.6\n",
      "networkx==3.1\n",
      "nibabel==5.3.2\n",
      "nipype==1.10.0\n",
      "nltk==3.8.1\n",
      "notebook==7.2.1\n",
      "notebook_shim==0.2.4\n",
      "nulltype==2.3.1\n",
      "numba==0.57.1\n",
      "numpy==1.24.4\n",
      "oauthlib==3.2.2\n",
      "opencv-python==4.9.0.80\n",
      "openpyxl==3.1.2\n",
      "opt-einsum==3.3.0\n",
      "optree==0.10.0\n",
      "orjson==3.11.0\n",
      "overrides==7.7.0\n",
      "packaging==25.0\n",
      "pandas==2.3.1\n",
      "pandas-datareader==0.10.0\n",
      "pandocfilters==1.5.1\n",
      "panel==1.5.5\n",
      "param==2.2.0\n",
      "parso==0.8.3\n",
      "pathlib==1.0.1\n",
      "patsy==0.5.3\n",
      "pdfrw==0.4\n",
      "pexpect==4.8.0\n",
      "pickleshare==0.7.5\n",
      "Pillow==9.5.0\n",
      "plaid-python==32.0.0\n",
      "platformdirs==3.5.1\n",
      "playsound==1.3.0\n",
      "plotly==5.14.1\n",
      "polars==0.19.2\n",
      "pooch==1.8.2\n",
      "prometheus_client==0.20.0\n",
      "promise==2.3\n",
      "prompt-toolkit==3.0.38\n",
      "protobuf==4.25.3\n",
      "prov==2.1.1\n",
      "psutil==5.9.5\n",
      "psygnal==0.11.1\n",
      "ptyprocess==0.7.0\n",
      "pure-eval==0.2.2\n",
      "puremagic==1.29\n",
      "pyarrow==17.0.0\n",
      "pyasn1==0.5.0\n",
      "pyasn1-modules==0.3.0\n",
      "pycparser==2.21\n",
      "pydantic==2.11.7\n",
      "pydantic-settings==2.10.1\n",
      "pydantic_core==2.33.2\n",
      "pydeck==0.9.1\n",
      "pydot==3.0.1\n",
      "pydub==0.25.1\n",
      "Pygments==2.15.1\n",
      "pynndescent==0.5.13\n",
      "pyod==2.0.5\n",
      "pyotp==2.9.0\n",
      "pyparsing==3.0.9\n",
      "pyproj==3.6.0\n",
      "pyrsistent==0.19.3\n",
      "pyshp==2.3.1\n",
      "python-dateutil==2.9.0.post0\n",
      "python-dotenv==1.1.0\n",
      "python-json-logger==2.0.7\n",
      "pytube==15.0.0\n",
      "pytz==2025.2\n",
      "pyviz_comms==3.0.3\n",
      "pyxnat==1.6.3\n",
      "PyYAML==6.0.1\n",
      "pyzmq==24.0.1\n",
      "QuantLib==1.37\n",
      "rdflib==7.1.4\n",
      "referencing==0.35.1\n",
      "regex==2023.12.25\n",
      "reportlab==4.3.1\n",
      "requests==2.32.3\n",
      "requests-oauthlib==1.3.1\n",
      "requests-toolbelt==1.0.0\n",
      "retrying==1.3.4\n",
      "rfc3339-validator==0.1.4\n",
      "rfc3986-validator==0.1.1\n",
      "rich==13.7.1\n",
      "robin-stocks==3.4.0\n",
      "rpds-py==0.19.0\n",
      "rsa==4.9\n",
      "safetensors==0.4.5\n",
      "scikeras==0.11.0\n",
      "scikit-image==0.22.0\n",
      "scikit-learn==1.7.1\n",
      "scikit-surprise==1.1.3\n",
      "scipy==1.15.1\n",
      "seaborn==0.13.2\n",
      "Send2Trash==1.8.3\n",
      "shapely==2.0.1\n",
      "silpa-common==0.3\n",
      "simple-parsing==0.1.7\n",
      "simplejson==3.20.1\n",
      "six==1.17.0\n",
      "sklearn==0.0.post5\n",
      "sklearn-compat==0.1.3\n",
      "smmap==5.0.2\n",
      "sniffio==1.3.1\n",
      "soundex==1.1.3\n",
      "soundfile==0.12.1\n",
      "soupsieve==2.4.1\n",
      "soxr==0.5.0.post1\n",
      "spellchecker==0.4\n",
      "SQLAlchemy==2.0.41\n",
      "squarify==0.4.4\n",
      "sseclient-py==1.8.0\n",
      "stack-data==0.6.2\n",
      "starlette==0.47.1\n",
      "statsmodels==0.14.0\n",
      "stock_treemap==1.6\n",
      "streamlit==1.44.1\n",
      "sympy==1.12\n",
      "tenacity==8.2.2\n",
      "tensorboard==2.16.2\n",
      "tensorboard-data-server==0.7.1\n",
      "tensorflow==2.16.1\n",
      "tensorflow-datasets==4.9.8\n",
      "tensorflow-estimator==2.13.0\n",
      "tensorflow-hub==0.16.1\n",
      "tensorflow-io-gcs-filesystem==0.36.0\n",
      "tensorflow-macos==2.13.0\n",
      "tensorflow-metadata==1.17.1\n",
      "termcolor==2.3.0\n",
      "terminado==0.18.1\n",
      "tf_keras==2.16.0\n",
      "threadpoolctl==3.1.0\n",
      "tifffile==2024.2.12\n",
      "tinycss2==1.3.0\n",
      "tk==0.1.0\n",
      "tokenizers==0.21.0\n",
      "toml==0.10.2\n",
      "torch==2.2.1\n",
      "torchvision==0.17.1\n",
      "tornado==6.3.2\n",
      "tqdm==4.66.5\n",
      "traitlets==5.9.0\n",
      "traits==7.0.2\n",
      "transformers==4.48.2\n",
      "types-python-dateutil==2.9.0.20240316\n",
      "typing-inspect==0.9.0\n",
      "typing-inspection==0.4.1\n",
      "typing_extensions==4.14.1\n",
      "tzdata==2025.2\n",
      "uc-micro-py==1.0.3\n",
      "ucimlrepo==0.0.7\n",
      "umap==0.1.1\n",
      "umap-learn==0.5.9.post2\n",
      "uri-template==1.3.0\n",
      "urllib3==1.26.16\n",
      "uvicorn==0.35.0\n",
      "vecstack==0.4.0\n",
      "wcwidth==0.2.6\n",
      "webcolors==24.6.0\n",
      "webencodings==0.5.1\n",
      "websocket-client==1.8.0\n",
      "websockets==10.4\n",
      "Werkzeug==3.0.6\n",
      "widgetsnbextension==4.0.13\n",
      "wrapt==1.15.0\n",
      "xgboost==3.0.3\n",
      "xxhash==3.5.0\n",
      "xyzservices==2023.5.0\n",
      "yarl==1.9.4\n",
      "yfinance==0.2.20\n",
      "zipp==3.21.0\n",
      "zstandard==0.23.0\n",
      "Note: you may need to restart the kernel to use updated packages.\n"
     ]
    }
   ],
   "source": [
    "pip freeze"
   ]
  },
  {
   "cell_type": "code",
   "execution_count": 4,
   "id": "bfb7fb9f",
   "metadata": {},
   "outputs": [
    {
     "data": {
      "text/plain": [
       "array([5, 6, 7])"
      ]
     },
     "execution_count": 4,
     "metadata": {},
     "output_type": "execute_result"
    }
   ],
   "source": [
    "# let's build our first array\n",
    "arr = np.array([5,6,7])\n",
    "arr"
   ]
  },
  {
   "cell_type": "code",
   "execution_count": 5,
   "id": "8f6986a8",
   "metadata": {},
   "outputs": [
    {
     "data": {
      "text/plain": [
       "numpy.ndarray"
      ]
     },
     "execution_count": 5,
     "metadata": {},
     "output_type": "execute_result"
    }
   ],
   "source": [
    "type(arr)"
   ]
  },
  {
   "cell_type": "code",
   "execution_count": 6,
   "id": "c96898b9",
   "metadata": {},
   "outputs": [
    {
     "name": "stdout",
     "output_type": "stream",
     "text": [
      "<class 'list'>\n",
      "<class 'numpy.ndarray'>\n"
     ]
    }
   ],
   "source": [
    "#convert a list into an array\n",
    "\n",
    "my_list = [4,5,6,7,8,9]\n",
    "\n",
    "arr = np.array(my_list)\n",
    "\n",
    "print(type(my_list))\n",
    "print(type(arr))"
   ]
  },
  {
   "cell_type": "markdown",
   "id": "958e1512",
   "metadata": {},
   "source": [
    "`arange()` function"
   ]
  },
  {
   "cell_type": "code",
   "execution_count": 7,
   "id": "1a08c832",
   "metadata": {},
   "outputs": [
    {
     "data": {
      "text/plain": [
       "[0, 1, 2, 3, 4, 5, 6, 7, 8, 9, 10, 11, 12, 13, 14, 15, 16, 17, 18, 19, 20]"
      ]
     },
     "execution_count": 7,
     "metadata": {},
     "output_type": "execute_result"
    }
   ],
   "source": [
    "list(range(0,21))"
   ]
  },
  {
   "cell_type": "code",
   "execution_count": 8,
   "id": "90ac7838",
   "metadata": {},
   "outputs": [
    {
     "data": {
      "text/plain": [
       "array([ 0,  1,  2,  3,  4,  5,  6,  7,  8,  9, 10, 11, 12, 13, 14, 15, 16,\n",
       "       17, 18, 19, 20])"
      ]
     },
     "execution_count": 8,
     "metadata": {},
     "output_type": "execute_result"
    }
   ],
   "source": [
    "np.arange(0,21) #sequence from 0 to 20"
   ]
  },
  {
   "cell_type": "code",
   "execution_count": 9,
   "id": "965d1885",
   "metadata": {},
   "outputs": [
    {
     "data": {
      "text/plain": [
       "array([0. , 0.5, 1. , 1.5, 2. , 2.5, 3. , 3.5, 4. , 4.5, 5. ])"
      ]
     },
     "execution_count": 9,
     "metadata": {},
     "output_type": "execute_result"
    }
   ],
   "source": [
    "#fractional \n",
    "arr2 = np.arange(0,5.5,0.5)\n",
    "arr2"
   ]
  },
  {
   "cell_type": "code",
   "execution_count": 10,
   "id": "b7a08c84",
   "metadata": {},
   "outputs": [
    {
     "data": {
      "text/plain": [
       "dtype('float64')"
      ]
     },
     "execution_count": 10,
     "metadata": {},
     "output_type": "execute_result"
    }
   ],
   "source": [
    "arr2.dtype"
   ]
  },
  {
   "cell_type": "code",
   "execution_count": 11,
   "id": "6f25cb20",
   "metadata": {},
   "outputs": [
    {
     "name": "stdout",
     "output_type": "stream",
     "text": [
      "Num of dim: 1\n",
      "Array datatype: float64\n"
     ]
    }
   ],
   "source": [
    "print('Num of dim:', arr2.ndim)\n",
    "print('Array datatype:', arr2.dtype)"
   ]
  },
  {
   "cell_type": "markdown",
   "id": "0c320298",
   "metadata": {},
   "source": [
    "### Speed test between `ndarray` and `list`"
   ]
  },
  {
   "cell_type": "code",
   "execution_count": 12,
   "id": "74dc1f9b",
   "metadata": {},
   "outputs": [
    {
     "name": "stdout",
     "output_type": "stream",
     "text": [
      "Time taken for list: 0.05801892280578613 seconds\n",
      "Time taken for NumPy array: 0.0016629695892333984 seconds\n"
     ]
    }
   ],
   "source": [
    "import time\n",
    "\n",
    "# Define the size of the data\n",
    "size = 10**6\n",
    "\n",
    "# Create a list and NumPy array with random data\n",
    "list_data = list(range(size))\n",
    "numpy_array = np.arange(size)\n",
    "\n",
    "# Perform element-wise multiplication using a loop (for list)\n",
    "start_time = time.time()\n",
    "for i in range(size):\n",
    "    list_data[i] *= 2\n",
    "end_time = time.time()\n",
    "list_time = end_time - start_time\n",
    "\n",
    "# Perform element-wise multiplication using NumPy\n",
    "start_time = time.time()\n",
    "numpy_array *= 2\n",
    "end_time = time.time()\n",
    "numpy_time = end_time - start_time\n",
    "\n",
    "print(f\"Time taken for list: {list_time} seconds\")\n",
    "print(f\"Time taken for NumPy array: {numpy_time} seconds\")\n"
   ]
  },
  {
   "cell_type": "markdown",
   "id": "42bf0094",
   "metadata": {},
   "source": [
    "## Array Dimensions"
   ]
  },
  {
   "cell_type": "code",
   "execution_count": 13,
   "id": "97f70cef",
   "metadata": {},
   "outputs": [
    {
     "data": {
      "text/plain": [
       "0"
      ]
     },
     "execution_count": 13,
     "metadata": {},
     "output_type": "execute_result"
    }
   ],
   "source": [
    "#0d array (scaler)\n",
    "a0 = np.array(40)\n",
    "a0.ndim"
   ]
  },
  {
   "cell_type": "code",
   "execution_count": 14,
   "id": "318b4fb4",
   "metadata": {},
   "outputs": [
    {
     "data": {
      "text/plain": [
       "1"
      ]
     },
     "execution_count": 14,
     "metadata": {},
     "output_type": "execute_result"
    }
   ],
   "source": [
    "#1d array - vector/line\n",
    "a1 = np.array([5,6,8])\n",
    "a1.ndim"
   ]
  },
  {
   "cell_type": "code",
   "execution_count": 15,
   "id": "e261b7d9",
   "metadata": {},
   "outputs": [
    {
     "data": {
      "text/plain": [
       "2"
      ]
     },
     "execution_count": 15,
     "metadata": {},
     "output_type": "execute_result"
    }
   ],
   "source": [
    "#2d array - matrix or table\n",
    "a2 = np.array([[10,5,7],\n",
    "               [12,7,15]])\n",
    "a2.ndim"
   ]
  },
  {
   "cell_type": "code",
   "execution_count": 16,
   "id": "86499535",
   "metadata": {},
   "outputs": [
    {
     "data": {
      "text/plain": [
       "(2, 3)"
      ]
     },
     "execution_count": 16,
     "metadata": {},
     "output_type": "execute_result"
    }
   ],
   "source": [
    "# get the num of rows and cols\n",
    "#num of rows, num of cols\n",
    "a2.shape"
   ]
  },
  {
   "cell_type": "code",
   "execution_count": 17,
   "id": "c8587252",
   "metadata": {},
   "outputs": [
    {
     "data": {
      "text/plain": [
       "6"
      ]
     },
     "execution_count": 17,
     "metadata": {},
     "output_type": "execute_result"
    }
   ],
   "source": [
    "a2.size #num of elements"
   ]
  },
  {
   "cell_type": "code",
   "execution_count": 18,
   "id": "7646ae85",
   "metadata": {},
   "outputs": [],
   "source": [
    "a2 = np.array([[10,5,7],\n",
    "               [12,7,np.nan]])"
   ]
  },
  {
   "cell_type": "markdown",
   "id": "c87ffb3b",
   "metadata": {},
   "source": [
    "![im](https://miro.medium.com/v2/resize:fit:931/1*XIOuiEjfXAXOFa0-w2_pTw.jpeg)"
   ]
  },
  {
   "cell_type": "code",
   "execution_count": 19,
   "id": "cc796cfa",
   "metadata": {},
   "outputs": [
    {
     "data": {
      "text/plain": [
       "array([[[5, 6, 7, 8],\n",
       "        [4, 7, 2, 3],\n",
       "        [5, 8, 0, 3]],\n",
       "\n",
       "       [[5, 0, 7, 8],\n",
       "        [1, 8, 2, 1],\n",
       "        [3, 8, 8, 3]],\n",
       "\n",
       "       [[5, 6, 7, 8],\n",
       "        [4, 7, 2, 3],\n",
       "        [4, 7, 2, 3]]])"
      ]
     },
     "execution_count": 19,
     "metadata": {},
     "output_type": "execute_result"
    }
   ],
   "source": [
    "a3 = np.array([[[5,6,7,8],\n",
    "                [4,7,2,3],\n",
    "                [5,8,0,3]\n",
    "                ],#layer 2\n",
    "                [[5,0,7,8],\n",
    "                [1,8,2,1],\n",
    "                [3,8,8,3]\n",
    "                ],#layer 3\n",
    "                [[5,6,7,8],\n",
    "                [4,7,2,3],\n",
    "                [4,7,2,3]\n",
    "                ]\n",
    "                ])\n",
    "\n",
    "a3"
   ]
  },
  {
   "cell_type": "code",
   "execution_count": 20,
   "id": "3bac061a",
   "metadata": {},
   "outputs": [
    {
     "data": {
      "text/plain": [
       "3"
      ]
     },
     "execution_count": 20,
     "metadata": {},
     "output_type": "execute_result"
    }
   ],
   "source": [
    "a3.ndim"
   ]
  },
  {
   "cell_type": "code",
   "execution_count": 21,
   "id": "0b22f129",
   "metadata": {},
   "outputs": [
    {
     "data": {
      "text/plain": [
       "(3, 3, 4)"
      ]
     },
     "execution_count": 21,
     "metadata": {},
     "output_type": "execute_result"
    }
   ],
   "source": [
    "a3.shape #(layer, row, col)"
   ]
  },
  {
   "cell_type": "code",
   "execution_count": 22,
   "id": "6fdb6bbe",
   "metadata": {},
   "outputs": [
    {
     "name": "stdout",
     "output_type": "stream",
     "text": [
      "This array has 3 layers, 3 rows, and 4 columns\n"
     ]
    }
   ],
   "source": [
    "print(f'This array has {a3.shape[0]} layers, {a3.shape[1]} rows, and {a3.shape[2]} columns')"
   ]
  },
  {
   "cell_type": "markdown",
   "id": "472e8fef",
   "metadata": {},
   "source": [
    "## Arithmetic Operations in NumPy"
   ]
  },
  {
   "cell_type": "code",
   "execution_count": 23,
   "id": "0cf52fca",
   "metadata": {},
   "outputs": [],
   "source": [
    "arr1 = np.array([2,0,8])\n",
    "arr2 = np.array([9,7,4])"
   ]
  },
  {
   "cell_type": "code",
   "execution_count": 24,
   "id": "00a51b87",
   "metadata": {},
   "outputs": [
    {
     "data": {
      "text/plain": [
       "array([11,  7, 12])"
      ]
     },
     "execution_count": 24,
     "metadata": {},
     "output_type": "execute_result"
    }
   ],
   "source": [
    "arr1 + arr2"
   ]
  },
  {
   "cell_type": "code",
   "execution_count": 25,
   "id": "87897735",
   "metadata": {},
   "outputs": [
    {
     "data": {
      "text/plain": [
       "array([18,  0, 32])"
      ]
     },
     "execution_count": 25,
     "metadata": {},
     "output_type": "execute_result"
    }
   ],
   "source": [
    "arr1 * arr2"
   ]
  },
  {
   "cell_type": "markdown",
   "id": "bd37ad66",
   "metadata": {},
   "source": [
    "#### Broadcasting "
   ]
  },
  {
   "cell_type": "markdown",
   "id": "265250e2",
   "metadata": {},
   "source": [
    "The term broadcasting describes how NumPy treats arrays with different shapes during arithmetic operations."
   ]
  },
  {
   "cell_type": "code",
   "execution_count": 26,
   "id": "14f4e098",
   "metadata": {},
   "outputs": [
    {
     "data": {
      "text/plain": [
       "array([2, 4, 6])"
      ]
     },
     "execution_count": 26,
     "metadata": {},
     "output_type": "execute_result"
    }
   ],
   "source": [
    "arr1 = np.array([1,2,3]) #1d\n",
    "arr2 = np.array(2) #0d\n",
    "\n",
    "arr1 * arr2"
   ]
  },
  {
   "cell_type": "markdown",
   "id": "13e39307",
   "metadata": {},
   "source": [
    "![bc](https://numpy.org/doc/stable/_images/broadcasting_1.png)"
   ]
  },
  {
   "cell_type": "code",
   "execution_count": 27,
   "id": "efbb43d1",
   "metadata": {},
   "outputs": [
    {
     "data": {
      "text/plain": [
       "array([[ 1.,  2.,  3.],\n",
       "       [11., 12., 13.],\n",
       "       [21., 22., 23.],\n",
       "       [31., 32., 33.]])"
      ]
     },
     "execution_count": 27,
     "metadata": {},
     "output_type": "execute_result"
    }
   ],
   "source": [
    "import numpy as np\n",
    "a = np.array([[ 0.0,  0.0,  0.0],\n",
    "              [10.0, 10.0, 10.0],\n",
    "              [20.0, 20.0, 20.0],\n",
    "              [30.0, 30.0, 30.0]])\n",
    "b = np.array([1.0, 2.0, 3.0])\n",
    "a + b\n"
   ]
  },
  {
   "cell_type": "markdown",
   "id": "e1bde3f3",
   "metadata": {},
   "source": [
    "![bc](https://numpy.org/doc/stable/_images/broadcasting_2.png)"
   ]
  },
  {
   "cell_type": "code",
   "execution_count": 28,
   "id": "8f8b4c91",
   "metadata": {},
   "outputs": [
    {
     "ename": "ValueError",
     "evalue": "operands could not be broadcast together with shapes (4,3) (4,) ",
     "output_type": "error",
     "traceback": [
      "\u001b[0;31m---------------------------------------------------------------------------\u001b[0m",
      "\u001b[0;31mValueError\u001b[0m                                Traceback (most recent call last)",
      "Cell \u001b[0;32mIn[28], line 2\u001b[0m\n\u001b[1;32m      1\u001b[0m b \u001b[38;5;241m=\u001b[39m np\u001b[38;5;241m.\u001b[39marray([\u001b[38;5;241m1.0\u001b[39m, \u001b[38;5;241m2.0\u001b[39m, \u001b[38;5;241m3.0\u001b[39m, \u001b[38;5;241m4.0\u001b[39m])\n\u001b[0;32m----> 2\u001b[0m \u001b[43ma\u001b[49m\u001b[43m \u001b[49m\u001b[38;5;241;43m+\u001b[39;49m\u001b[43m \u001b[49m\u001b[43mb\u001b[49m \n",
      "\u001b[0;31mValueError\u001b[0m: operands could not be broadcast together with shapes (4,3) (4,) "
     ]
    }
   ],
   "source": [
    "b = np.array([1.0, 2.0, 3.0, 4.0])\n",
    "a + b "
   ]
  },
  {
   "cell_type": "markdown",
   "id": "6462fca9",
   "metadata": {},
   "source": [
    "![m](https://numpy.org/doc/stable/_images/broadcasting_3.png)"
   ]
  },
  {
   "cell_type": "code",
   "execution_count": 29,
   "id": "551c398c",
   "metadata": {},
   "outputs": [
    {
     "data": {
      "text/plain": [
       "array([[ 1.,  1.,  1.],\n",
       "       [12., 12., 12.],\n",
       "       [23., 23., 23.],\n",
       "       [34., 34., 34.]])"
      ]
     },
     "execution_count": 29,
     "metadata": {},
     "output_type": "execute_result"
    }
   ],
   "source": [
    "b = np.array([[1.0], [2.0], [3.0], [4.0]]) #vertical 4-row array\n",
    "a + b "
   ]
  },
  {
   "cell_type": "markdown",
   "id": "1fdd7212",
   "metadata": {},
   "source": [
    "### Additional NumPy Functions"
   ]
  },
  {
   "cell_type": "markdown",
   "id": "ecb6a283",
   "metadata": {},
   "source": [
    "`reshape()`"
   ]
  },
  {
   "cell_type": "code",
   "execution_count": 30,
   "id": "e02b8dc4",
   "metadata": {},
   "outputs": [
    {
     "data": {
      "text/plain": [
       "array([1, 2, 3, 4, 5, 6])"
      ]
     },
     "execution_count": 30,
     "metadata": {},
     "output_type": "execute_result"
    }
   ],
   "source": [
    "arr = np.arange(1,7)\n",
    "arr"
   ]
  },
  {
   "cell_type": "code",
   "execution_count": 31,
   "id": "670e48f0",
   "metadata": {},
   "outputs": [
    {
     "data": {
      "text/plain": [
       "array([[1, 2, 3],\n",
       "       [4, 5, 6]])"
      ]
     },
     "execution_count": 31,
     "metadata": {},
     "output_type": "execute_result"
    }
   ],
   "source": [
    "#convert to a 2d array with 2x3 shape\n",
    "arr_reshaped = arr.reshape(2,3)\n",
    "arr_reshaped"
   ]
  },
  {
   "cell_type": "code",
   "execution_count": 32,
   "id": "dea7ebf3",
   "metadata": {},
   "outputs": [
    {
     "data": {
      "text/plain": [
       "2"
      ]
     },
     "execution_count": 32,
     "metadata": {},
     "output_type": "execute_result"
    }
   ],
   "source": [
    "arr_reshaped.ndim"
   ]
  },
  {
   "cell_type": "code",
   "execution_count": 33,
   "id": "2b340306",
   "metadata": {},
   "outputs": [
    {
     "data": {
      "text/plain": [
       "(12,)"
      ]
     },
     "execution_count": 33,
     "metadata": {},
     "output_type": "execute_result"
    }
   ],
   "source": [
    "arr = np.arange(1,13)\n",
    "arr.shape"
   ]
  },
  {
   "cell_type": "code",
   "execution_count": 34,
   "id": "c5a80b4d",
   "metadata": {},
   "outputs": [
    {
     "data": {
      "text/plain": [
       "array([[[ 1,  2,  3],\n",
       "        [ 4,  5,  6]],\n",
       "\n",
       "       [[ 7,  8,  9],\n",
       "        [10, 11, 12]]])"
      ]
     },
     "execution_count": 34,
     "metadata": {},
     "output_type": "execute_result"
    }
   ],
   "source": [
    "arr_3d = arr.reshape(2,2,3)\n",
    "arr_3d"
   ]
  },
  {
   "cell_type": "code",
   "execution_count": 35,
   "id": "377aa91f",
   "metadata": {},
   "outputs": [
    {
     "data": {
      "text/plain": [
       "array([ 1,  2,  3,  4,  5,  6,  7,  8,  9, 10, 11, 12])"
      ]
     },
     "execution_count": 35,
     "metadata": {},
     "output_type": "execute_result"
    }
   ],
   "source": [
    "arr_3d.reshape(-1) #flatten the array regardless of size (back to 1 d)"
   ]
  },
  {
   "cell_type": "markdown",
   "id": "bc47ad95",
   "metadata": {},
   "source": [
    "`resize()` will force the array to take the specified shape"
   ]
  },
  {
   "cell_type": "code",
   "execution_count": 36,
   "id": "ed667343",
   "metadata": {},
   "outputs": [
    {
     "data": {
      "text/plain": [
       "array([[1, 2, 3],\n",
       "       [4, 5, 6]])"
      ]
     },
     "execution_count": 36,
     "metadata": {},
     "output_type": "execute_result"
    }
   ],
   "source": [
    "np.resize(arr,(2,3))"
   ]
  },
  {
   "cell_type": "markdown",
   "id": "acdd0c4f",
   "metadata": {},
   "source": [
    "## Arrays with String Data Type"
   ]
  },
  {
   "cell_type": "code",
   "execution_count": 37,
   "id": "e566dac9",
   "metadata": {},
   "outputs": [
    {
     "data": {
      "text/plain": [
       "array(['a', 'b', 'c'], dtype='<U1')"
      ]
     },
     "execution_count": 37,
     "metadata": {},
     "output_type": "execute_result"
    }
   ],
   "source": [
    "a = np.array(['a','b','c']) #U means unicode string\n",
    "a"
   ]
  },
  {
   "cell_type": "code",
   "execution_count": 38,
   "id": "7df1a797",
   "metadata": {},
   "outputs": [],
   "source": [
    "greetings = np.array(['Hello', 'Welcome'])\n",
    "subjects = np.array([' Learners', ' to the Class!'])"
   ]
  },
  {
   "cell_type": "code",
   "execution_count": 39,
   "id": "508f71ef",
   "metadata": {},
   "outputs": [
    {
     "data": {
      "text/plain": [
       "array(['Hello Learners', 'Welcome to the Class!'], dtype='<U21')"
      ]
     },
     "execution_count": 39,
     "metadata": {},
     "output_type": "execute_result"
    }
   ],
   "source": [
    "#to apply functions on strings we need to use char sub-module\n",
    "np.char.add(greetings, subjects)"
   ]
  },
  {
   "cell_type": "code",
   "execution_count": 40,
   "id": "1ff3e52a",
   "metadata": {},
   "outputs": [
    {
     "data": {
      "text/plain": [
       "array(['Hello', 'Welcome', ' Learners', ' to the Class!'], dtype='<U14')"
      ]
     },
     "execution_count": 40,
     "metadata": {},
     "output_type": "execute_result"
    }
   ],
   "source": [
    "# concatenate function will merge the 2 lists with all elements independently\n",
    "np.concatenate((greetings,subjects))"
   ]
  },
  {
   "cell_type": "code",
   "execution_count": 72,
   "id": "d8ce02fe",
   "metadata": {},
   "outputs": [
    {
     "data": {
      "text/plain": [
       "array(['HELLO', 'Hello', 'WELcome', 'heLLo', 'hello', 'welCome'],\n",
       "      dtype='<U7')"
      ]
     },
     "execution_count": 72,
     "metadata": {},
     "output_type": "execute_result"
    }
   ],
   "source": [
    "#text formatting\n",
    "a = np.array(['Hello', 'hello', 'heLLo','HELLO', 'welCome','WELcome']) \n",
    "np.unique(a)"
   ]
  },
  {
   "cell_type": "code",
   "execution_count": 73,
   "id": "f90fd884",
   "metadata": {},
   "outputs": [
    {
     "data": {
      "text/plain": [
       "array(['HELLO', 'HELLO', 'HELLO', 'HELLO', 'WELCOME', 'WELCOME'],\n",
       "      dtype='<U7')"
      ]
     },
     "execution_count": 73,
     "metadata": {},
     "output_type": "execute_result"
    }
   ],
   "source": [
    "a = np.char.upper(a)\n",
    "a"
   ]
  },
  {
   "cell_type": "code",
   "execution_count": 74,
   "id": "57173391",
   "metadata": {},
   "outputs": [
    {
     "data": {
      "text/plain": [
       "array(['HELLO', 'WELCOME'], dtype='<U7')"
      ]
     },
     "execution_count": 74,
     "metadata": {},
     "output_type": "execute_result"
    }
   ],
   "source": [
    "np.unique(a)"
   ]
  },
  {
   "cell_type": "code",
   "execution_count": 75,
   "id": "2ed16396",
   "metadata": {},
   "outputs": [
    {
     "data": {
      "text/plain": [
       "(array(['HELLO', 'WELCOME'], dtype='<U7'), array([4, 2]))"
      ]
     },
     "execution_count": 75,
     "metadata": {},
     "output_type": "execute_result"
    }
   ],
   "source": [
    "np.unique(a, return_counts=True)"
   ]
  },
  {
   "cell_type": "markdown",
   "id": "0935a53f",
   "metadata": {},
   "source": [
    "**Exercise** Clean the array below (remove extra spaces) and make it consistent."
   ]
  },
  {
   "cell_type": "code",
   "execution_count": 59,
   "id": "9be7aa40",
   "metadata": {},
   "outputs": [],
   "source": [
    "a = np.array([' Model A ', ' Model B ', ' Model C ', ' Concept D ', ' Concept E '])"
   ]
  },
  {
   "cell_type": "code",
   "execution_count": 60,
   "id": "65b1cb02",
   "metadata": {},
   "outputs": [
    {
     "data": {
      "text/plain": [
       "array([' Concept A ', ' Concept B ', ' Concept C ', ' Concept D ',\n",
       "       ' Concept E '], dtype='<U11')"
      ]
     },
     "execution_count": 60,
     "metadata": {},
     "output_type": "execute_result"
    }
   ],
   "source": [
    "a = np.char.replace(a, 'Model', 'Concept')\n",
    "a"
   ]
  },
  {
   "cell_type": "code",
   "execution_count": 61,
   "id": "64a84f80",
   "metadata": {},
   "outputs": [
    {
     "data": {
      "text/plain": [
       "array(['Concept A', 'Concept B', 'Concept C', 'Concept D', 'Concept E'],\n",
       "      dtype='<U11')"
      ]
     },
     "execution_count": 61,
     "metadata": {},
     "output_type": "execute_result"
    }
   ],
   "source": [
    "a = np.char.strip(a)\n",
    "a"
   ]
  },
  {
   "cell_type": "markdown",
   "id": "3f508f1c",
   "metadata": {},
   "source": [
    "> for additional string functions, go to https://numpy.org/devdocs/reference/generated/numpy.char.chararray.html"
   ]
  },
  {
   "cell_type": "code",
   "execution_count": null,
   "id": "64f9844b",
   "metadata": {},
   "outputs": [
    {
     "data": {
      "text/plain": [
       "array([[10, 20],\n",
       "       [ 5,  8],\n",
       "       [ 6,  0],\n",
       "       [ 1,  9]])"
      ]
     },
     "execution_count": 41,
     "metadata": {},
     "output_type": "execute_result"
    }
   ],
   "source": [
    "# concat can glue 2 arrays together\n",
    "\n",
    "arr1 = np.array([[10,20],\n",
    "                 [5,8]])\n",
    "\n",
    "arr2 = np.array([[6,0],\n",
    "                 [1,9]])\n",
    "\n",
    "np.concatenate((arr1,arr2), axis=0)"
   ]
  },
  {
   "cell_type": "code",
   "execution_count": 50,
   "id": "0363916b",
   "metadata": {},
   "outputs": [
    {
     "data": {
      "text/plain": [
       "array([[10, 20,  6,  0],\n",
       "       [ 5,  8,  1,  9]])"
      ]
     },
     "execution_count": 50,
     "metadata": {},
     "output_type": "execute_result"
    }
   ],
   "source": [
    "# to stitch them together side by side, use axis =1\n",
    "np.concatenate((arr1,arr2), axis=1)"
   ]
  },
  {
   "cell_type": "code",
   "execution_count": 43,
   "id": "21efa886",
   "metadata": {},
   "outputs": [
    {
     "data": {
      "text/plain": [
       "array([ 1,  2,  3,  4,  5,  6,  7,  8,  9, 10, 11, 12])"
      ]
     },
     "execution_count": 43,
     "metadata": {},
     "output_type": "execute_result"
    }
   ],
   "source": [
    "arr"
   ]
  },
  {
   "cell_type": "code",
   "execution_count": 46,
   "id": "c91febf3",
   "metadata": {},
   "outputs": [
    {
     "data": {
      "text/plain": [
       "array([[10, 20],\n",
       "       [ 5,  8]])"
      ]
     },
     "execution_count": 46,
     "metadata": {},
     "output_type": "execute_result"
    }
   ],
   "source": [
    "arr1 = np.array([[10,20],\n",
    "                 [5,8]])\n",
    "arr1"
   ]
  },
  {
   "cell_type": "code",
   "execution_count": 45,
   "id": "2fdd045e",
   "metadata": {},
   "outputs": [
    {
     "data": {
      "text/plain": [
       "array([[ 0,  0,  0,  0],\n",
       "       [ 0, 10, 20,  0],\n",
       "       [ 0,  5,  8,  0],\n",
       "       [ 0,  0,  0,  0]])"
      ]
     },
     "execution_count": 45,
     "metadata": {},
     "output_type": "execute_result"
    }
   ],
   "source": [
    "np.pad(arr1, pad_width=1)"
   ]
  },
  {
   "cell_type": "code",
   "execution_count": 48,
   "id": "f9f9bb8a",
   "metadata": {},
   "outputs": [
    {
     "data": {
      "text/plain": [
       "array([[10, 20,  5,  8],\n",
       "       [10, 20,  5,  8],\n",
       "       [10, 20,  5,  8],\n",
       "       [10, 20,  5,  8]])"
      ]
     },
     "execution_count": 48,
     "metadata": {},
     "output_type": "execute_result"
    }
   ],
   "source": [
    "np.resize(arr1, (4,4))"
   ]
  },
  {
   "cell_type": "code",
   "execution_count": 51,
   "id": "ab7e5d72",
   "metadata": {},
   "outputs": [
    {
     "data": {
      "text/plain": [
       "array([[10,  5],\n",
       "       [20,  8],\n",
       "       [ 8,  9]])"
      ]
     },
     "execution_count": 51,
     "metadata": {},
     "output_type": "execute_result"
    }
   ],
   "source": [
    "#transpose function\n",
    "arr4 = np.array([[10,20,8],\n",
    "                 [5,8,9]])\n",
    "\n",
    "arr4.T"
   ]
  },
  {
   "cell_type": "code",
   "execution_count": 52,
   "id": "50c26526",
   "metadata": {},
   "outputs": [
    {
     "data": {
      "text/plain": [
       "array([[[5, 5, 5],\n",
       "        [4, 1, 4],\n",
       "        [5, 3, 4]],\n",
       "\n",
       "       [[6, 0, 6],\n",
       "        [7, 8, 7],\n",
       "        [8, 8, 7]],\n",
       "\n",
       "       [[7, 7, 7],\n",
       "        [2, 2, 2],\n",
       "        [0, 8, 2]],\n",
       "\n",
       "       [[8, 8, 8],\n",
       "        [3, 1, 3],\n",
       "        [3, 3, 3]]])"
      ]
     },
     "execution_count": 52,
     "metadata": {},
     "output_type": "execute_result"
    }
   ],
   "source": [
    "a3.T"
   ]
  },
  {
   "cell_type": "markdown",
   "id": "c670c1a3",
   "metadata": {},
   "source": [
    "### Statistical Functions "
   ]
  },
  {
   "cell_type": "code",
   "execution_count": 62,
   "id": "3b66a465",
   "metadata": {},
   "outputs": [
    {
     "data": {
      "text/plain": [
       "array([[0.60595497, 0.15186761, 0.33890448, 0.98481206, 0.34582998,\n",
       "        0.07005466, 0.59527585, 0.28616717, 0.69132383, 0.42187157]])"
      ]
     },
     "execution_count": 62,
     "metadata": {},
     "output_type": "execute_result"
    }
   ],
   "source": [
    "# generate random array\n",
    "arr = np.random.rand(1,10) #1d array with 10 elements\n",
    "arr"
   ]
  },
  {
   "cell_type": "code",
   "execution_count": 64,
   "id": "1b0f84df",
   "metadata": {},
   "outputs": [
    {
     "name": "stdout",
     "output_type": "stream",
     "text": [
      "Array average: 0.45\n"
     ]
    }
   ],
   "source": [
    "print(f'Array average: {np.mean(arr):.2f}')"
   ]
  },
  {
   "cell_type": "code",
   "execution_count": 66,
   "id": "4b09aa12",
   "metadata": {},
   "outputs": [
    {
     "name": "stdout",
     "output_type": "stream",
     "text": [
      "Array median: 0.383850777954323\n",
      "Array standard deviation: 0.26\n",
      "Array maximum: 0.9848120626086528\n"
     ]
    }
   ],
   "source": [
    "print(f'Array median: {np.median(arr)}')\n",
    "print(f'Array standard deviation: {np.std(arr):.2f}')\n",
    "print(f'Array maximum: {np.max(arr)}')"
   ]
  },
  {
   "cell_type": "code",
   "execution_count": 67,
   "id": "6cc557c2",
   "metadata": {},
   "outputs": [
    {
     "data": {
      "text/plain": [
       "18.166666666666668"
      ]
     },
     "execution_count": 67,
     "metadata": {},
     "output_type": "execute_result"
    }
   ],
   "source": [
    "a = np.array([[ 2.0,  7.0,  0.0],\n",
    "              [12.0, 10.0, 19.0],\n",
    "              [21.0, 25.0, 20.0],\n",
    "              [40.0, 30.0, 32.0]])\n",
    "\n",
    "np.mean(a) #a.mean()"
   ]
  },
  {
   "cell_type": "markdown",
   "id": "39d2836f",
   "metadata": {},
   "source": [
    "![ax](https://www.sharpsightlabs.com/wp-content/uploads/2018/12/numpy-arrays-have-axes_updated_v2.png)"
   ]
  },
  {
   "cell_type": "code",
   "execution_count": 68,
   "id": "3ddb603d",
   "metadata": {},
   "outputs": [
    {
     "data": {
      "text/plain": [
       "array([18.75, 18.  , 17.75])"
      ]
     },
     "execution_count": 68,
     "metadata": {},
     "output_type": "execute_result"
    }
   ],
   "source": [
    "np.mean(a, axis=0)"
   ]
  },
  {
   "cell_type": "code",
   "execution_count": 71,
   "id": "8ec4cd46",
   "metadata": {},
   "outputs": [
    {
     "data": {
      "text/plain": [
       "array([ 3.        , 13.66666667, 22.        , 34.        ])"
      ]
     },
     "execution_count": 71,
     "metadata": {},
     "output_type": "execute_result"
    }
   ],
   "source": [
    "np.mean(a, axis=1)"
   ]
  },
  {
   "cell_type": "markdown",
   "id": "8726394b",
   "metadata": {},
   "source": [
    "### Filtering in NumPy"
   ]
  },
  {
   "cell_type": "code",
   "execution_count": 78,
   "id": "fb7808c5",
   "metadata": {},
   "outputs": [],
   "source": [
    "arr = np.array([1,2,3,5,6,7,8,9,10,12,13,22,30,8,9,18])\n"
   ]
  },
  {
   "cell_type": "code",
   "execution_count": 79,
   "id": "79455495",
   "metadata": {},
   "outputs": [
    {
     "data": {
      "text/plain": [
       "array([ 1,  2,  3,  5,  6,  7,  8,  9, 10, 12,  8,  9])"
      ]
     },
     "execution_count": 79,
     "metadata": {},
     "output_type": "execute_result"
    }
   ],
   "source": [
    "# get the elements in the array that are less than 13\n",
    "arr_filt = arr[arr<13]\n",
    "arr_filt"
   ]
  },
  {
   "cell_type": "code",
   "execution_count": 80,
   "id": "6bbf015e",
   "metadata": {},
   "outputs": [
    {
     "data": {
      "text/plain": [
       "array([ 5,  6,  7,  8,  9, 10, 12,  8,  9])"
      ]
     },
     "execution_count": 80,
     "metadata": {},
     "output_type": "execute_result"
    }
   ],
   "source": [
    "#multiple conditions\n",
    "arr_filt = arr[(arr<13)&(arr>4)]\n",
    "arr_filt"
   ]
  },
  {
   "cell_type": "markdown",
   "id": "c8a01e6e",
   "metadata": {},
   "source": [
    "Using `where()`"
   ]
  },
  {
   "cell_type": "code",
   "execution_count": 81,
   "id": "09c6af96",
   "metadata": {},
   "outputs": [
    {
     "data": {
      "text/plain": [
       "array([ 6,  7,  8,  9, 10, 12, 13, 22, 30,  8,  9, 18])"
      ]
     },
     "execution_count": 81,
     "metadata": {},
     "output_type": "execute_result"
    }
   ],
   "source": [
    "arr_filt = arr[np.where(arr>5)]\n",
    "arr_filt"
   ]
  },
  {
   "cell_type": "markdown",
   "id": "4a1b02c7",
   "metadata": {},
   "source": [
    "`where()` can work like the `IF()` in Excel"
   ]
  },
  {
   "cell_type": "markdown",
   "id": "f3ed2d72",
   "metadata": {},
   "source": [
    "IF (condition, then, else)"
   ]
  },
  {
   "cell_type": "code",
   "execution_count": 83,
   "id": "39df2c1d",
   "metadata": {},
   "outputs": [
    {
     "data": {
      "text/plain": [
       "array([ 1,  2,  3,  5,  6,  7,  8,  9, 10, 12, 13, 22, 30,  8,  9, 18])"
      ]
     },
     "execution_count": 83,
     "metadata": {},
     "output_type": "execute_result"
    }
   ],
   "source": [
    "arr"
   ]
  },
  {
   "cell_type": "code",
   "execution_count": 82,
   "id": "e41adc0d",
   "metadata": {},
   "outputs": [
    {
     "data": {
      "text/plain": [
       "array([False, False, False,  True,  True,  True,  True,  True,  True,\n",
       "        True,  True,  True,  True,  True,  True,  True])"
      ]
     },
     "execution_count": 82,
     "metadata": {},
     "output_type": "execute_result"
    }
   ],
   "source": [
    "np.where(arr>4, True, False)"
   ]
  },
  {
   "cell_type": "code",
   "execution_count": 98,
   "id": "d746a313",
   "metadata": {},
   "outputs": [
    {
     "data": {
      "text/plain": [
       "array(['less than 4', 'less than 4', 'less than 4', 'more than 4',\n",
       "       'more than 4', 'more than 4', 'more than 4', 'more than 4',\n",
       "       'more than 4', 'more than 4', 'more than 4', 'more than 4',\n",
       "       'more than 4', 'more than 4', 'more than 4', 'more than 4'],\n",
       "      dtype='<U11')"
      ]
     },
     "execution_count": 98,
     "metadata": {},
     "output_type": "execute_result"
    }
   ],
   "source": [
    "np.where(arr>4, 'more than 4', 'less than 4')"
   ]
  },
  {
   "cell_type": "code",
   "execution_count": 91,
   "id": "97bcdc02",
   "metadata": {},
   "outputs": [
    {
     "data": {
      "text/plain": [
       "array(['less than 4', 'less than 4', 'less than 4', 'less than 20',\n",
       "       'less than 20', 'less than 20', 'less than 20', 'less than 20',\n",
       "       'less than 20', 'less than 20', 'less than 20', '22', '30',\n",
       "       'less than 20', 'less than 20', 'less than 20'], dtype='<U21')"
      ]
     },
     "execution_count": 91,
     "metadata": {},
     "output_type": "execute_result"
    }
   ],
   "source": [
    "np.where(arr>4, np.where(arr<20, 'less than 20', arr)\n",
    "         , 'less than 4')"
   ]
  },
  {
   "cell_type": "code",
   "execution_count": 92,
   "id": "d0632107",
   "metadata": {},
   "outputs": [],
   "source": [
    "def square_val(x):\n",
    "    return x ** 2\n",
    "\n",
    "def double_val(x):\n",
    "    return x * 2"
   ]
  },
  {
   "cell_type": "code",
   "execution_count": 93,
   "id": "a0ed0e5c",
   "metadata": {},
   "outputs": [
    {
     "data": {
      "text/plain": [
       "array([ 1,  4,  9, 25, 36, 49, 64, 81, 20, 24, 26, 44, 60, 64, 81, 36])"
      ]
     },
     "execution_count": 93,
     "metadata": {},
     "output_type": "execute_result"
    }
   ],
   "source": [
    "np.where(arr>=10, double_val(arr), square_val(arr))"
   ]
  },
  {
   "cell_type": "code",
   "execution_count": null,
   "id": "5c570f8a",
   "metadata": {},
   "outputs": [
    {
     "data": {
      "text/plain": [
       "array([ 1,  4,  9, 25, 36, 49, 64, 81,  5,  7,  8, 17, 25, 64, 81, 13])"
      ]
     },
     "execution_count": 96,
     "metadata": {},
     "output_type": "execute_result"
    }
   ],
   "source": [
    "np.where(arr>=10, (lambda x: x-5)(arr), square_val(arr))"
   ]
  },
  {
   "cell_type": "code",
   "execution_count": 95,
   "id": "5b627f4a",
   "metadata": {},
   "outputs": [
    {
     "data": {
      "text/plain": [
       "array([ 1,  0,  3,  5,  0,  7,  0,  9,  0,  0, 13,  0,  0,  0,  9,  0])"
      ]
     },
     "execution_count": 95,
     "metadata": {},
     "output_type": "execute_result"
    }
   ],
   "source": [
    "np.where((lambda x: x %2 == 0)(arr), 0, arr)"
   ]
  },
  {
   "cell_type": "code",
   "execution_count": 104,
   "id": "effc078d",
   "metadata": {},
   "outputs": [
    {
     "data": {
      "text/plain": [
       "array([4])"
      ]
     },
     "execution_count": 104,
     "metadata": {},
     "output_type": "execute_result"
    }
   ],
   "source": [
    "a = np.array([4,4,5,2,3,4])\n",
    "\n",
    "org, dup_cnts = np.unique(a, return_counts=True)\n",
    "dup = org[dup_cnts>1]\n",
    "dup"
   ]
  },
  {
   "cell_type": "code",
   "execution_count": 105,
   "id": "09fd2a01",
   "metadata": {},
   "outputs": [
    {
     "data": {
      "text/plain": [
       "array([nan, nan,  5.,  2.,  3., nan])"
      ]
     },
     "execution_count": 105,
     "metadata": {},
     "output_type": "execute_result"
    }
   ],
   "source": [
    "np.where(np.isin(a, dup), np.nan,a)"
   ]
  },
  {
   "cell_type": "code",
   "execution_count": null,
   "id": "f9759828",
   "metadata": {},
   "outputs": [],
   "source": [
    "a = np.array([[ 2.0,  7.0,  0.0],\n",
    "              [12.0, 10.0, 19.0],\n",
    "              [21.0, 25.0, 20.0],\n",
    "              [40.0, 30.0, 32.0]])\n"
   ]
  },
  {
   "cell_type": "markdown",
   "id": "ac25b410",
   "metadata": {},
   "source": [
    "**Exercise** if the num > 5, subtract 3, otherwise, leave it as is."
   ]
  },
  {
   "cell_type": "code",
   "execution_count": 89,
   "id": "80acecc6",
   "metadata": {},
   "outputs": [
    {
     "data": {
      "text/plain": [
       "array([[ 2.,  4.,  0.],\n",
       "       [ 9.,  7., 16.],\n",
       "       [18., 22., 17.],\n",
       "       [37., 27., 29.]])"
      ]
     },
     "execution_count": 89,
     "metadata": {},
     "output_type": "execute_result"
    }
   ],
   "source": [
    "np.where(a>5,a-3,a)"
   ]
  },
  {
   "cell_type": "markdown",
   "id": "8476049a",
   "metadata": {},
   "source": [
    "### Slicing and Dicing Using Indices"
   ]
  },
  {
   "cell_type": "markdown",
   "id": "f4f789e0",
   "metadata": {},
   "source": [
    "![ind](https://www.oreilly.com/api/v2/epubs/9781449323592/files/httpatomoreillycomsourceoreillyimages2172112.png)"
   ]
  },
  {
   "cell_type": "code",
   "execution_count": 107,
   "id": "552006f1",
   "metadata": {},
   "outputs": [],
   "source": [
    "a = np.array([[ 2.0,  7.0,  0.0],\n",
    "              [12.0, 10.0, 19.0],\n",
    "              [21.0, 25.0, 20.0]])\n"
   ]
  },
  {
   "cell_type": "markdown",
   "id": "6724da40",
   "metadata": {},
   "source": [
    "[row pos, col pos]"
   ]
  },
  {
   "cell_type": "code",
   "execution_count": 108,
   "id": "b4777d66",
   "metadata": {},
   "outputs": [
    {
     "data": {
      "text/plain": [
       "2.0"
      ]
     },
     "execution_count": 108,
     "metadata": {},
     "output_type": "execute_result"
    }
   ],
   "source": [
    "a[0,0]"
   ]
  },
  {
   "cell_type": "code",
   "execution_count": 109,
   "id": "b0635bf5",
   "metadata": {},
   "outputs": [
    {
     "data": {
      "text/plain": [
       "25.0"
      ]
     },
     "execution_count": 109,
     "metadata": {},
     "output_type": "execute_result"
    }
   ],
   "source": [
    "a[2,1]"
   ]
  },
  {
   "cell_type": "code",
   "execution_count": null,
   "id": "2365d69f",
   "metadata": {},
   "outputs": [
    {
     "data": {
      "text/plain": [
       "array([21., 25., 20.])"
      ]
     },
     "execution_count": 110,
     "metadata": {},
     "output_type": "execute_result"
    }
   ],
   "source": [
    "a[2] #3rd row"
   ]
  },
  {
   "cell_type": "code",
   "execution_count": null,
   "id": "57b6d986",
   "metadata": {},
   "outputs": [
    {
     "data": {
      "text/plain": [
       "array([ 7., 10., 25.])"
      ]
     },
     "execution_count": 111,
     "metadata": {},
     "output_type": "execute_result"
    }
   ],
   "source": [
    "a[:,1] #2nd col"
   ]
  },
  {
   "cell_type": "code",
   "execution_count": null,
   "id": "2a073479",
   "metadata": {},
   "outputs": [
    {
     "data": {
      "text/plain": [
       "array([[12., 10., 19.],\n",
       "       [21., 25., 20.]])"
      ]
     },
     "execution_count": 112,
     "metadata": {},
     "output_type": "execute_result"
    }
   ],
   "source": [
    "#ranges\n",
    "a[1:] #last 2 rows"
   ]
  },
  {
   "cell_type": "markdown",
   "id": "6b87081d",
   "metadata": {},
   "source": [
    "[row range, col range]"
   ]
  },
  {
   "cell_type": "code",
   "execution_count": 113,
   "id": "2fbeb8d7",
   "metadata": {},
   "outputs": [
    {
     "data": {
      "text/plain": [
       "array([[10., 19.],\n",
       "       [25., 20.]])"
      ]
     },
     "execution_count": 113,
     "metadata": {},
     "output_type": "execute_result"
    }
   ],
   "source": [
    "a[1:, 1:]"
   ]
  },
  {
   "cell_type": "code",
   "execution_count": 115,
   "id": "59012c35",
   "metadata": {},
   "outputs": [
    {
     "data": {
      "text/plain": [
       "array([[ 7.,  0.],\n",
       "       [10., 19.]])"
      ]
     },
     "execution_count": 115,
     "metadata": {},
     "output_type": "execute_result"
    }
   ],
   "source": [
    "a[:2,1:]"
   ]
  },
  {
   "cell_type": "code",
   "execution_count": 116,
   "id": "32087c21",
   "metadata": {},
   "outputs": [],
   "source": [
    "a = np.array([[ 2.0,  7.0,  0.0],\n",
    "              [12.0, 10.0, 19.0],\n",
    "              [21.0, 25.0, 20.0],\n",
    "              [4   , 5   , 8   ]])\n"
   ]
  },
  {
   "cell_type": "code",
   "execution_count": 117,
   "id": "c519a154",
   "metadata": {},
   "outputs": [
    {
     "data": {
      "text/plain": [
       "array([[10., 19.],\n",
       "       [25., 20.],\n",
       "       [ 5.,  8.]])"
      ]
     },
     "execution_count": 117,
     "metadata": {},
     "output_type": "execute_result"
    }
   ],
   "source": [
    "a[1:,1:]"
   ]
  },
  {
   "cell_type": "code",
   "execution_count": 119,
   "id": "9794f13a",
   "metadata": {},
   "outputs": [
    {
     "data": {
      "text/plain": [
       "array([ 7., 10., 25.])"
      ]
     },
     "execution_count": 119,
     "metadata": {},
     "output_type": "execute_result"
    }
   ],
   "source": [
    "a[:3,1]"
   ]
  },
  {
   "cell_type": "code",
   "execution_count": 121,
   "id": "40845e64",
   "metadata": {},
   "outputs": [
    {
     "data": {
      "text/plain": [
       "array([[10., 19.],\n",
       "       [25., 20.]])"
      ]
     },
     "execution_count": 121,
     "metadata": {},
     "output_type": "execute_result"
    }
   ],
   "source": [
    "a[1:3,1:]"
   ]
  },
  {
   "cell_type": "code",
   "execution_count": 122,
   "id": "76179e68",
   "metadata": {},
   "outputs": [
    {
     "data": {
      "text/plain": [
       "array([[ 2.,  7.,  0.],\n",
       "       [12.,  8., 19.],\n",
       "       [21.,  8., 20.],\n",
       "       [ 4.,  5.,  8.]])"
      ]
     },
     "execution_count": 122,
     "metadata": {},
     "output_type": "execute_result"
    }
   ],
   "source": [
    "a[:,1] = np.where(a[:,1]>7,8,a[:,1])\n",
    "a"
   ]
  },
  {
   "cell_type": "code",
   "execution_count": 144,
   "id": "ec4803c0",
   "metadata": {},
   "outputs": [
    {
     "data": {
      "text/plain": [
       "array([4., 5., 8.])"
      ]
     },
     "execution_count": 144,
     "metadata": {},
     "output_type": "execute_result"
    }
   ],
   "source": [
    "a[-1]"
   ]
  },
  {
   "cell_type": "markdown",
   "id": "8717d42f",
   "metadata": {},
   "source": [
    "### Data Generation and Importing in NumPy"
   ]
  },
  {
   "cell_type": "code",
   "execution_count": 123,
   "id": "bbdd0160",
   "metadata": {},
   "outputs": [
    {
     "data": {
      "text/plain": [
       "array([43,  6,  8,  2,  2,  3, 37, 36,  3, 10, 29, 44, 42, 35, 12, 50,  5,\n",
       "       35, 14, 45, 28, 26, 50, 25, 32, 45, 32, 31, 12,  4, 22, 17, 54, 36,\n",
       "       54, 10, 39, 39, 14, 51])"
      ]
     },
     "execution_count": 123,
     "metadata": {},
     "output_type": "execute_result"
    }
   ],
   "source": [
    "np.random.randint(low=1,high=55, size=40)"
   ]
  },
  {
   "cell_type": "code",
   "execution_count": 134,
   "id": "aa9261aa",
   "metadata": {},
   "outputs": [
    {
     "data": {
      "text/plain": [
       "array([[17, 17, 41, 23, 20, 46, 30, 37, 34, 30],\n",
       "       [41, 52, 28,  5, 49, 10, 43,  5, 54,  9],\n",
       "       [46, 22, 39, 47, 30, 41, 21,  3, 17, 32],\n",
       "       [10, 36, 15,  4, 49, 17, 10, 33, 32, 49],\n",
       "       [ 4, 38, 37, 18, 30, 24,  4, 13, 51, 35],\n",
       "       [12, 28, 50, 25, 41, 28,  6, 26, 37, 26],\n",
       "       [16,  7, 40, 39, 24, 13,  1,  4, 32, 16],\n",
       "       [46, 25, 25, 29, 22, 16, 26, 29,  4, 37],\n",
       "       [45,  6, 43, 35, 14, 28, 43,  1,  4, 18],\n",
       "       [ 9, 44, 44, 40, 49, 12, 45, 15, 43, 39]])"
      ]
     },
     "execution_count": 134,
     "metadata": {},
     "output_type": "execute_result"
    }
   ],
   "source": [
    "np.random.randint(low=1,high=55, size=(10,10))"
   ]
  },
  {
   "cell_type": "code",
   "execution_count": null,
   "id": "72c0d226",
   "metadata": {},
   "outputs": [
    {
     "data": {
      "text/plain": [
       "array([2., 4., 6., 8.])"
      ]
     },
     "execution_count": 138,
     "metadata": {},
     "output_type": "execute_result"
    }
   ],
   "source": [
    "# build a sequence betwee 2 numbers\n",
    "# start, end, divisions\n",
    "np.linspace(2,8,4)"
   ]
  },
  {
   "cell_type": "code",
   "execution_count": 139,
   "id": "34d590cd",
   "metadata": {},
   "outputs": [
    {
     "data": {
      "text/plain": [
       "array([0.        , 0.00200401, 0.00400802, 0.00601202, 0.00801603,\n",
       "       0.01002004, 0.01202405, 0.01402806, 0.01603206, 0.01803607,\n",
       "       0.02004008, 0.02204409, 0.0240481 , 0.0260521 , 0.02805611,\n",
       "       0.03006012, 0.03206413, 0.03406814, 0.03607214, 0.03807615,\n",
       "       0.04008016, 0.04208417, 0.04408818, 0.04609218, 0.04809619,\n",
       "       0.0501002 , 0.05210421, 0.05410822, 0.05611222, 0.05811623,\n",
       "       0.06012024, 0.06212425, 0.06412826, 0.06613226, 0.06813627,\n",
       "       0.07014028, 0.07214429, 0.0741483 , 0.0761523 , 0.07815631,\n",
       "       0.08016032, 0.08216433, 0.08416834, 0.08617234, 0.08817635,\n",
       "       0.09018036, 0.09218437, 0.09418838, 0.09619238, 0.09819639,\n",
       "       0.1002004 , 0.10220441, 0.10420842, 0.10621242, 0.10821643,\n",
       "       0.11022044, 0.11222445, 0.11422846, 0.11623246, 0.11823647,\n",
       "       0.12024048, 0.12224449, 0.1242485 , 0.12625251, 0.12825651,\n",
       "       0.13026052, 0.13226453, 0.13426854, 0.13627255, 0.13827655,\n",
       "       0.14028056, 0.14228457, 0.14428858, 0.14629259, 0.14829659,\n",
       "       0.1503006 , 0.15230461, 0.15430862, 0.15631263, 0.15831663,\n",
       "       0.16032064, 0.16232465, 0.16432866, 0.16633267, 0.16833667,\n",
       "       0.17034068, 0.17234469, 0.1743487 , 0.17635271, 0.17835671,\n",
       "       0.18036072, 0.18236473, 0.18436874, 0.18637275, 0.18837675,\n",
       "       0.19038076, 0.19238477, 0.19438878, 0.19639279, 0.19839679,\n",
       "       0.2004008 , 0.20240481, 0.20440882, 0.20641283, 0.20841683,\n",
       "       0.21042084, 0.21242485, 0.21442886, 0.21643287, 0.21843687,\n",
       "       0.22044088, 0.22244489, 0.2244489 , 0.22645291, 0.22845691,\n",
       "       0.23046092, 0.23246493, 0.23446894, 0.23647295, 0.23847695,\n",
       "       0.24048096, 0.24248497, 0.24448898, 0.24649299, 0.24849699,\n",
       "       0.250501  , 0.25250501, 0.25450902, 0.25651303, 0.25851703,\n",
       "       0.26052104, 0.26252505, 0.26452906, 0.26653307, 0.26853707,\n",
       "       0.27054108, 0.27254509, 0.2745491 , 0.27655311, 0.27855711,\n",
       "       0.28056112, 0.28256513, 0.28456914, 0.28657315, 0.28857715,\n",
       "       0.29058116, 0.29258517, 0.29458918, 0.29659319, 0.29859719,\n",
       "       0.3006012 , 0.30260521, 0.30460922, 0.30661323, 0.30861723,\n",
       "       0.31062124, 0.31262525, 0.31462926, 0.31663327, 0.31863727,\n",
       "       0.32064128, 0.32264529, 0.3246493 , 0.32665331, 0.32865731,\n",
       "       0.33066132, 0.33266533, 0.33466934, 0.33667335, 0.33867735,\n",
       "       0.34068136, 0.34268537, 0.34468938, 0.34669339, 0.34869739,\n",
       "       0.3507014 , 0.35270541, 0.35470942, 0.35671343, 0.35871743,\n",
       "       0.36072144, 0.36272545, 0.36472946, 0.36673347, 0.36873747,\n",
       "       0.37074148, 0.37274549, 0.3747495 , 0.37675351, 0.37875752,\n",
       "       0.38076152, 0.38276553, 0.38476954, 0.38677355, 0.38877756,\n",
       "       0.39078156, 0.39278557, 0.39478958, 0.39679359, 0.3987976 ,\n",
       "       0.4008016 , 0.40280561, 0.40480962, 0.40681363, 0.40881764,\n",
       "       0.41082164, 0.41282565, 0.41482966, 0.41683367, 0.41883768,\n",
       "       0.42084168, 0.42284569, 0.4248497 , 0.42685371, 0.42885772,\n",
       "       0.43086172, 0.43286573, 0.43486974, 0.43687375, 0.43887776,\n",
       "       0.44088176, 0.44288577, 0.44488978, 0.44689379, 0.4488978 ,\n",
       "       0.4509018 , 0.45290581, 0.45490982, 0.45691383, 0.45891784,\n",
       "       0.46092184, 0.46292585, 0.46492986, 0.46693387, 0.46893788,\n",
       "       0.47094188, 0.47294589, 0.4749499 , 0.47695391, 0.47895792,\n",
       "       0.48096192, 0.48296593, 0.48496994, 0.48697395, 0.48897796,\n",
       "       0.49098196, 0.49298597, 0.49498998, 0.49699399, 0.498998  ,\n",
       "       0.501002  , 0.50300601, 0.50501002, 0.50701403, 0.50901804,\n",
       "       0.51102204, 0.51302605, 0.51503006, 0.51703407, 0.51903808,\n",
       "       0.52104208, 0.52304609, 0.5250501 , 0.52705411, 0.52905812,\n",
       "       0.53106212, 0.53306613, 0.53507014, 0.53707415, 0.53907816,\n",
       "       0.54108216, 0.54308617, 0.54509018, 0.54709419, 0.5490982 ,\n",
       "       0.5511022 , 0.55310621, 0.55511022, 0.55711423, 0.55911824,\n",
       "       0.56112224, 0.56312625, 0.56513026, 0.56713427, 0.56913828,\n",
       "       0.57114228, 0.57314629, 0.5751503 , 0.57715431, 0.57915832,\n",
       "       0.58116232, 0.58316633, 0.58517034, 0.58717435, 0.58917836,\n",
       "       0.59118236, 0.59318637, 0.59519038, 0.59719439, 0.5991984 ,\n",
       "       0.6012024 , 0.60320641, 0.60521042, 0.60721443, 0.60921844,\n",
       "       0.61122244, 0.61322645, 0.61523046, 0.61723447, 0.61923848,\n",
       "       0.62124248, 0.62324649, 0.6252505 , 0.62725451, 0.62925852,\n",
       "       0.63126253, 0.63326653, 0.63527054, 0.63727455, 0.63927856,\n",
       "       0.64128257, 0.64328657, 0.64529058, 0.64729459, 0.6492986 ,\n",
       "       0.65130261, 0.65330661, 0.65531062, 0.65731463, 0.65931864,\n",
       "       0.66132265, 0.66332665, 0.66533066, 0.66733467, 0.66933868,\n",
       "       0.67134269, 0.67334669, 0.6753507 , 0.67735471, 0.67935872,\n",
       "       0.68136273, 0.68336673, 0.68537074, 0.68737475, 0.68937876,\n",
       "       0.69138277, 0.69338677, 0.69539078, 0.69739479, 0.6993988 ,\n",
       "       0.70140281, 0.70340681, 0.70541082, 0.70741483, 0.70941884,\n",
       "       0.71142285, 0.71342685, 0.71543086, 0.71743487, 0.71943888,\n",
       "       0.72144289, 0.72344689, 0.7254509 , 0.72745491, 0.72945892,\n",
       "       0.73146293, 0.73346693, 0.73547094, 0.73747495, 0.73947896,\n",
       "       0.74148297, 0.74348697, 0.74549098, 0.74749499, 0.749499  ,\n",
       "       0.75150301, 0.75350701, 0.75551102, 0.75751503, 0.75951904,\n",
       "       0.76152305, 0.76352705, 0.76553106, 0.76753507, 0.76953908,\n",
       "       0.77154309, 0.77354709, 0.7755511 , 0.77755511, 0.77955912,\n",
       "       0.78156313, 0.78356713, 0.78557114, 0.78757515, 0.78957916,\n",
       "       0.79158317, 0.79358717, 0.79559118, 0.79759519, 0.7995992 ,\n",
       "       0.80160321, 0.80360721, 0.80561122, 0.80761523, 0.80961924,\n",
       "       0.81162325, 0.81362725, 0.81563126, 0.81763527, 0.81963928,\n",
       "       0.82164329, 0.82364729, 0.8256513 , 0.82765531, 0.82965932,\n",
       "       0.83166333, 0.83366733, 0.83567134, 0.83767535, 0.83967936,\n",
       "       0.84168337, 0.84368737, 0.84569138, 0.84769539, 0.8496994 ,\n",
       "       0.85170341, 0.85370741, 0.85571142, 0.85771543, 0.85971944,\n",
       "       0.86172345, 0.86372745, 0.86573146, 0.86773547, 0.86973948,\n",
       "       0.87174349, 0.87374749, 0.8757515 , 0.87775551, 0.87975952,\n",
       "       0.88176353, 0.88376754, 0.88577154, 0.88777555, 0.88977956,\n",
       "       0.89178357, 0.89378758, 0.89579158, 0.89779559, 0.8997996 ,\n",
       "       0.90180361, 0.90380762, 0.90581162, 0.90781563, 0.90981964,\n",
       "       0.91182365, 0.91382766, 0.91583166, 0.91783567, 0.91983968,\n",
       "       0.92184369, 0.9238477 , 0.9258517 , 0.92785571, 0.92985972,\n",
       "       0.93186373, 0.93386774, 0.93587174, 0.93787575, 0.93987976,\n",
       "       0.94188377, 0.94388778, 0.94589178, 0.94789579, 0.9498998 ,\n",
       "       0.95190381, 0.95390782, 0.95591182, 0.95791583, 0.95991984,\n",
       "       0.96192385, 0.96392786, 0.96593186, 0.96793587, 0.96993988,\n",
       "       0.97194389, 0.9739479 , 0.9759519 , 0.97795591, 0.97995992,\n",
       "       0.98196393, 0.98396794, 0.98597194, 0.98797595, 0.98997996,\n",
       "       0.99198397, 0.99398798, 0.99599198, 0.99799599, 1.        ])"
      ]
     },
     "execution_count": 139,
     "metadata": {},
     "output_type": "execute_result"
    }
   ],
   "source": [
    "np.linspace(0,1,500)"
   ]
  },
  {
   "cell_type": "markdown",
   "id": "564ced23",
   "metadata": {},
   "source": [
    "### Importing text/csv files in NumPy"
   ]
  },
  {
   "cell_type": "code",
   "execution_count": 142,
   "id": "7c6c2127",
   "metadata": {},
   "outputs": [
    {
     "data": {
      "text/plain": [
       "array([[ 5,  1],\n",
       "       [ 5,  3],\n",
       "       [ 9,  5],\n",
       "       [ 5,  7],\n",
       "       [ 8,  8],\n",
       "       [ 5,  9],\n",
       "       [ 6,  0],\n",
       "       [ 5, 11],\n",
       "       [ 4,  5]])"
      ]
     },
     "execution_count": 142,
     "metadata": {},
     "output_type": "execute_result"
    }
   ],
   "source": [
    "data = np.loadtxt('dummy_data.txt', delimiter=',', dtype=int)\n",
    "data"
   ]
  },
  {
   "cell_type": "markdown",
   "id": "dfba0fa4",
   "metadata": {},
   "source": [
    "> The syntax above works as the text file is in the same location as the notbook. If not, you need to specify the path"
   ]
  },
  {
   "cell_type": "code",
   "execution_count": null,
   "id": "28595ced",
   "metadata": {},
   "outputs": [],
   "source": [
    "data = np.loadtxt('/bassel/document/dummy_data.txt', delimiter=',', dtype=int)\n",
    "data"
   ]
  },
  {
   "cell_type": "code",
   "execution_count": 143,
   "id": "a813da1c",
   "metadata": {},
   "outputs": [
    {
     "data": {
      "text/plain": [
       "array([[ 5,  1],\n",
       "       [ 5,  3],\n",
       "       [ 9,  5],\n",
       "       [ 5,  7],\n",
       "       [ 8,  8],\n",
       "       [ 5,  9],\n",
       "       [ 6,  0],\n",
       "       [ 5, 11],\n",
       "       [ 4,  5]])"
      ]
     },
     "execution_count": 143,
     "metadata": {},
     "output_type": "execute_result"
    }
   ],
   "source": [
    "data = np.genfromtxt('dummy_data.txt', delimiter=',', dtype=int)\n",
    "data"
   ]
  },
  {
   "cell_type": "code",
   "execution_count": null,
   "id": "1208b70d",
   "metadata": {},
   "outputs": [],
   "source": []
  }
 ],
 "metadata": {
  "kernelspec": {
   "display_name": "Python 3",
   "language": "python",
   "name": "python3"
  },
  "language_info": {
   "codemirror_mode": {
    "name": "ipython",
    "version": 3
   },
   "file_extension": ".py",
   "mimetype": "text/x-python",
   "name": "python",
   "nbconvert_exporter": "python",
   "pygments_lexer": "ipython3",
   "version": "3.11.3"
  }
 },
 "nbformat": 4,
 "nbformat_minor": 5
}
