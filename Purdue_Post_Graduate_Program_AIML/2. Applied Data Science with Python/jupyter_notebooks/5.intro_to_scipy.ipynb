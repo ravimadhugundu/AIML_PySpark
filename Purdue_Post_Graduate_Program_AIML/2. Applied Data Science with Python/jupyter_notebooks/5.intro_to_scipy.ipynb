{
 "cells": [
  {
   "cell_type": "markdown",
   "id": "0372a8ce",
   "metadata": {},
   "source": [
    "# Intro to SciPy\n",
    "- Scientific Python\n",
    "- Powerful scientific and engineering python library built on top of NumPy.\n",
    "- It provides:\n",
    "    - Optimization: finding the min and max of complex functions (calculous)\n",
    "    - Integration\n",
    "    - Linear Algebra \n",
    "    - Differentiation \n",
    "    - Clustering Algorithms\n",
    "    - Signal Processing \n",
    "    - Statistical Analysis: prob distribution, hypothesis testing, etc...\n",
    "    - Image Processing\n"
   ]
  },
  {
   "cell_type": "markdown",
   "id": "6eaa19fd",
   "metadata": {},
   "source": [
    "`pip install scipy`  "
   ]
  },
  {
   "cell_type": "code",
   "execution_count": null,
   "id": "c3901431",
   "metadata": {},
   "outputs": [],
   "source": []
  }
 ],
 "metadata": {
  "language_info": {
   "name": "python"
  }
 },
 "nbformat": 4,
 "nbformat_minor": 5
}
