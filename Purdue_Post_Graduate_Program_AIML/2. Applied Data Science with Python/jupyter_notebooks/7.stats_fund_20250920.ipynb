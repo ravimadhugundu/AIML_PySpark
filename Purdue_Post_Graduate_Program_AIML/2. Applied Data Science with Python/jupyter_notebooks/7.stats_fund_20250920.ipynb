{
 "cells": [
  {
   "cell_type": "markdown",
   "id": "92aa4080",
   "metadata": {},
   "source": [
    "# Statistics Fundamentals"
   ]
  },
  {
   "cell_type": "markdown",
   "id": "10c52c1b",
   "metadata": {},
   "source": [
    "We'll cover:\n",
    "- Intro (definition, importance of stats, common terms, etc...)\n",
    "- Types of Data\n",
    "- Statistical Measure:\n",
    "    - Univariate Analysis\n",
    "        - Measures of Central Tendency\n",
    "        - Measures of Dispersion\n",
    "        - Measures of Shape\n",
    "    Multivariate Analysis\n",
    "        - Covariance and Correlation"
   ]
  },
  {
   "cell_type": "code",
   "execution_count": 10,
   "id": "bae4550d",
   "metadata": {},
   "outputs": [],
   "source": [
    "import pandas as pd\n",
    "import numpy as np"
   ]
  },
  {
   "cell_type": "markdown",
   "id": "699c3470",
   "metadata": {},
   "source": [
    "## Intro\n",
    "### What is Statistics?\n",
    "- A part of mathematics that involves the collection, analysis, interpretation, presentation, and organization of data.\n",
    "- It's a discipline that deals with providing inferences from conclusions using quantitative and qualitative data\n",
    "- It also helps with hypothesis testing\n"
   ]
  },
  {
   "cell_type": "markdown",
   "id": "89e90df3",
   "metadata": {},
   "source": [
    "### Importance of Statistics\n",
    "- The analysis will eventually help business and governments in the decision-making process\n",
    "- It's one of the first steps in data analysis for DS/ML projects as it helps us extract impactful findings and improve our overall objective "
   ]
  },
  {
   "cell_type": "markdown",
   "id": "039827e8",
   "metadata": {},
   "source": [
    "### Common Terms in Statistics\n",
    "- **Population** and **Sample**\n",
    "    - A **population** is the complete pool from which the sample is drawn for further analysis.\n",
    "    - A **sample** is a subset of the **population**\n",
    "    - We cannot perform analysis on the full population. It's costly and time consuming. e.g. studying the rate of obesity in the US. It's nearly impossible to record data from every US Citizen (330M people)\n",
    "    - Therefore, it's essential to have a good sample at hand. \"the sample should be a good representative of the population\"\n",
    "    - with representative sampling  we can make reliable inferences about the whole population while saving resources and effort. \n",
    "- **Measurement**: it's a number or attribute calculated or measured for each member of the sample e.g. Weight, Blood Pressure, Vehicle Speed, etc....\n",
    "- **Parameter** it's characteristic of the population e.g. population age mean\n",
    "- **Statistic** it's characteristic of the sample\n",
    "- **Distribution** it refers to how the sample data is spread across a range of values"
   ]
  },
  {
   "cell_type": "code",
   "execution_count": 11,
   "id": "806a524f",
   "metadata": {},
   "outputs": [
    {
     "data": {
      "application/vnd.microsoft.datawrangler.viewer.v0+json": {
       "columns": [
        {
         "name": "index",
         "rawType": "int64",
         "type": "integer"
        },
        {
         "name": "name",
         "rawType": "object",
         "type": "string"
        },
        {
         "name": "age",
         "rawType": "int64",
         "type": "integer"
        },
        {
         "name": "score",
         "rawType": "int64",
         "type": "integer"
        },
        {
         "name": "city",
         "rawType": "object",
         "type": "string"
        }
       ],
       "ref": "43300b06-89b4-4ea0-b215-d8ebfddcaaf8",
       "rows": [
        [
         "0",
         "Mark",
         "55",
         "96",
         "New York"
        ],
        [
         "1",
         "Mike",
         "43",
         "84",
         "Nashville"
        ],
        [
         "2",
         "Tammy",
         "28",
         "79",
         "Atlanta"
        ],
        [
         "3",
         "Becky",
         "35",
         "83",
         "Boston"
        ],
        [
         "4",
         "John",
         "38",
         "88",
         "San Diego"
        ],
        [
         "5",
         "Nancy",
         "42",
         "96",
         "Atlanta"
        ]
       ],
       "shape": {
        "columns": 4,
        "rows": 6
       }
      },
      "text/html": [
       "<div>\n",
       "<style scoped>\n",
       "    .dataframe tbody tr th:only-of-type {\n",
       "        vertical-align: middle;\n",
       "    }\n",
       "\n",
       "    .dataframe tbody tr th {\n",
       "        vertical-align: top;\n",
       "    }\n",
       "\n",
       "    .dataframe thead th {\n",
       "        text-align: right;\n",
       "    }\n",
       "</style>\n",
       "<table border=\"1\" class=\"dataframe\">\n",
       "  <thead>\n",
       "    <tr style=\"text-align: right;\">\n",
       "      <th></th>\n",
       "      <th>name</th>\n",
       "      <th>age</th>\n",
       "      <th>score</th>\n",
       "      <th>city</th>\n",
       "    </tr>\n",
       "  </thead>\n",
       "  <tbody>\n",
       "    <tr>\n",
       "      <th>0</th>\n",
       "      <td>Mark</td>\n",
       "      <td>55</td>\n",
       "      <td>96</td>\n",
       "      <td>New York</td>\n",
       "    </tr>\n",
       "    <tr>\n",
       "      <th>1</th>\n",
       "      <td>Mike</td>\n",
       "      <td>43</td>\n",
       "      <td>84</td>\n",
       "      <td>Nashville</td>\n",
       "    </tr>\n",
       "    <tr>\n",
       "      <th>2</th>\n",
       "      <td>Tammy</td>\n",
       "      <td>28</td>\n",
       "      <td>79</td>\n",
       "      <td>Atlanta</td>\n",
       "    </tr>\n",
       "    <tr>\n",
       "      <th>3</th>\n",
       "      <td>Becky</td>\n",
       "      <td>35</td>\n",
       "      <td>83</td>\n",
       "      <td>Boston</td>\n",
       "    </tr>\n",
       "    <tr>\n",
       "      <th>4</th>\n",
       "      <td>John</td>\n",
       "      <td>38</td>\n",
       "      <td>88</td>\n",
       "      <td>San Diego</td>\n",
       "    </tr>\n",
       "    <tr>\n",
       "      <th>5</th>\n",
       "      <td>Nancy</td>\n",
       "      <td>42</td>\n",
       "      <td>96</td>\n",
       "      <td>Atlanta</td>\n",
       "    </tr>\n",
       "  </tbody>\n",
       "</table>\n",
       "</div>"
      ],
      "text/plain": [
       "    name  age  score       city\n",
       "0   Mark   55     96   New York\n",
       "1   Mike   43     84  Nashville\n",
       "2  Tammy   28     79    Atlanta\n",
       "3  Becky   35     83     Boston\n",
       "4   John   38     88  San Diego\n",
       "5  Nancy   42     96    Atlanta"
      ]
     },
     "execution_count": 11,
     "metadata": {},
     "output_type": "execute_result"
    }
   ],
   "source": [
    "data = {'name':['Mark', 'Mike', 'Tammy', 'Becky', 'John', 'Nancy'],\n",
    "        'age':[55,43,28,35, 38,42],\n",
    "        'score':[96,84,79,83,88, 96],\n",
    "        'city':['New York', 'Nashville', 'Atlanta', 'Boston', 'San Diego', 'Atlanta']\n",
    "        }\n",
    "\n",
    "df = pd.DataFrame(data)\n",
    "df"
   ]
  },
  {
   "cell_type": "markdown",
   "id": "36526e61",
   "metadata": {},
   "source": [
    "- df above is a sample from all students of a school (population)\n",
    "- row 0, for example, is a record of a member of the sample"
   ]
  },
  {
   "cell_type": "markdown",
   "id": "a87e6e38",
   "metadata": {},
   "source": [
    "### Types of Statistics\n",
    "- **Descriptive** it involves displaying, analyzing, and describing the data e.g. average BMI, max HP for a car, lowest school grade, etc...\n",
    "- **Inferential** it involves building conclusions (inferences) about the population based on the sample e.g. the increase of blood pressure is causing heart attacks. In other words, hypothesize if the trend of pattern of a sample is true for the population (statistical significance).\n",
    "- **Predictive**: The use of statistical models and algorithms to forecast future outcomes based on current or historical data."
   ]
  },
  {
   "cell_type": "markdown",
   "id": "23536b65",
   "metadata": {},
   "source": [
    "- Descriptive = what we have. summarize data\n",
    "- Inferential = What can we conclude about the population  \n",
    "- Predictive = What will happen next?"
   ]
  },
  {
   "cell_type": "markdown",
   "id": "a597e7e1",
   "metadata": {},
   "source": [
    "## Types of Data\n",
    "- Categorical/Qualitative: it represents characteristics or classes, such as gender, blood type, country, marital status, etc...\n",
    "- Numerical/numeric (Quantitative): It represents the data as measurements e.g. height, weight, sales, etc..."
   ]
  },
  {
   "cell_type": "markdown",
   "id": "6abe9c49",
   "metadata": {},
   "source": [
    "## Statistical Measures\n",
    "### Measures of Central Tendency\n",
    "- Is a summary that describes the central position of the dataset\n",
    "- They're also called the 3M's: Mean, Median, and Mode.\n",
    "- Keep in mind if the distribution is skewed, those measures do not represent the exact center of the data."
   ]
  },
  {
   "cell_type": "code",
   "execution_count": 12,
   "id": "860153e4",
   "metadata": {},
   "outputs": [
    {
     "data": {
      "text/plain": [
       "40.166666666666664"
      ]
     },
     "execution_count": 12,
     "metadata": {},
     "output_type": "execute_result"
    }
   ],
   "source": [
    "df['age'].mean()"
   ]
  },
  {
   "cell_type": "code",
   "execution_count": 13,
   "id": "15e03e7b",
   "metadata": {},
   "outputs": [
    {
     "data": {
      "text/plain": [
       "40.166666666666664"
      ]
     },
     "execution_count": 13,
     "metadata": {},
     "output_type": "execute_result"
    }
   ],
   "source": [
    "#if you have nulls in the data\n",
    "df['age'].mean(skipna=True)"
   ]
  },
  {
   "cell_type": "code",
   "execution_count": 14,
   "id": "10037738",
   "metadata": {},
   "outputs": [
    {
     "data": {
      "text/plain": [
       "40.166666666666664"
      ]
     },
     "execution_count": 14,
     "metadata": {},
     "output_type": "execute_result"
    }
   ],
   "source": [
    "np.mean(df['age'])"
   ]
  },
  {
   "cell_type": "markdown",
   "id": "d1658e0e",
   "metadata": {},
   "source": [
    "Median:\n",
    "- The middle number obtained after arranging the data in ascending/descending order\n",
    "- For odd number of items, it's straightforward\n",
    "- For even number of items, take the 2 numbers in the center and calculate the mean."
   ]
  },
  {
   "cell_type": "code",
   "execution_count": 15,
   "id": "4e27010a",
   "metadata": {},
   "outputs": [
    {
     "data": {
      "text/plain": [
       "40.0"
      ]
     },
     "execution_count": 15,
     "metadata": {},
     "output_type": "execute_result"
    }
   ],
   "source": [
    "df['age'].median()"
   ]
  },
  {
   "cell_type": "markdown",
   "id": "ebe29624",
   "metadata": {},
   "source": [
    "Mode\n",
    "- It's the most frequent item on the list\n",
    "- It's the only measure of central tendency that works also on categorical columns."
   ]
  },
  {
   "cell_type": "code",
   "execution_count": 16,
   "id": "79c4a82b",
   "metadata": {},
   "outputs": [
    {
     "data": {
      "application/vnd.microsoft.datawrangler.viewer.v0+json": {
       "columns": [
        {
         "name": "index",
         "rawType": "int64",
         "type": "integer"
        },
        {
         "name": "city",
         "rawType": "object",
         "type": "string"
        }
       ],
       "ref": "cfae5d33-0c3b-407d-bff6-db1054a68084",
       "rows": [
        [
         "0",
         "Atlanta"
        ]
       ],
       "shape": {
        "columns": 1,
        "rows": 1
       }
      },
      "text/plain": [
       "0    Atlanta\n",
       "Name: city, dtype: object"
      ]
     },
     "execution_count": 16,
     "metadata": {},
     "output_type": "execute_result"
    }
   ],
   "source": [
    "df['city'].mode()"
   ]
  },
  {
   "cell_type": "code",
   "execution_count": 17,
   "id": "495435a0",
   "metadata": {},
   "outputs": [
    {
     "data": {
      "application/vnd.microsoft.datawrangler.viewer.v0+json": {
       "columns": [
        {
         "name": "index",
         "rawType": "int64",
         "type": "integer"
        },
        {
         "name": "score",
         "rawType": "int64",
         "type": "integer"
        }
       ],
       "ref": "6673d601-af20-4599-8eb0-68f91e04578b",
       "rows": [
        [
         "0",
         "96"
        ]
       ],
       "shape": {
        "columns": 1,
        "rows": 1
       }
      },
      "text/plain": [
       "0    96\n",
       "Name: score, dtype: int64"
      ]
     },
     "execution_count": 17,
     "metadata": {},
     "output_type": "execute_result"
    }
   ],
   "source": [
    "df['score'].mode()"
   ]
  },
  {
   "cell_type": "markdown",
   "id": "0360cecb",
   "metadata": {},
   "source": [
    "### Measures of Dispersion\n",
    "- The mean may pose problems in terms of describing the data . It could be unreliable on its own:\n",
    "    - It's sensitive to outliers\n",
    "    - It may not be enough to describe the difference and full characteristics of datasets\n",
    "- Measures of Dispersion can help explain the difference between datasets even if they share the same mean.\n",
    "- They measure the data spread"
   ]
  },
  {
   "cell_type": "code",
   "execution_count": 18,
   "id": "42511756",
   "metadata": {},
   "outputs": [],
   "source": [
    "# Dataset 1\n",
    "data1 = np.array([3,5,6,7,8])\n",
    "\n",
    "# Dataset 2\n",
    "data2 = np.array([2,5,5,8,9])\n",
    "\n",
    "# Dataset 3\n",
    "data3 = np.array([2,4,4,9,10])"
   ]
  },
  {
   "cell_type": "code",
   "execution_count": 19,
   "id": "e6371e97",
   "metadata": {},
   "outputs": [
    {
     "name": "stdout",
     "output_type": "stream",
     "text": [
      "Data 1 mean: 5.8\n",
      "Data 2 mean: 5.8\n",
      "Data 3 mean: 5.8\n"
     ]
    }
   ],
   "source": [
    "print('Data 1 mean:',np.mean(data1))\n",
    "print('Data 2 mean:',np.mean(data2))\n",
    "print('Data 3 mean:',np.mean(data3))"
   ]
  },
  {
   "cell_type": "code",
   "execution_count": 20,
   "id": "2d70bf2c",
   "metadata": {},
   "outputs": [
    {
     "name": "stdout",
     "output_type": "stream",
     "text": [
      "Data 1 SD: 1.7204650534085253\n",
      "Data 2 SD: 2.4819347291981715\n",
      "Data 3 SD: 3.1240998703626617\n"
     ]
    }
   ],
   "source": [
    "print('Data 1 SD:',np.std(data1))\n",
    "print('Data 2 SD:',np.std(data2))\n",
    "print('Data 3 SD:',np.std(data3))"
   ]
  },
  {
   "cell_type": "markdown",
   "id": "64f174b9",
   "metadata": {},
   "source": [
    "Standard Deviation\n",
    "- Explains the dispersion of the data. In the example above, we can see that all 3 datasets are dispersed differently.\n",
    "- It's the most popular measure of dispersion and used in deriving other statistical calculations\n",
    "- It measures the spread around the mean\n",
    "- The squared value of the SD is called the variance"
   ]
  },
  {
   "cell_type": "markdown",
   "id": "8e867b4c",
   "metadata": {},
   "source": [
    "Range\n",
    "- It's distance or difference between the largest and smallest value\n",
    "- It's sensitive to outliers"
   ]
  },
  {
   "cell_type": "code",
   "execution_count": 21,
   "id": "610f9a94",
   "metadata": {},
   "outputs": [
    {
     "data": {
      "text/plain": [
       "27"
      ]
     },
     "execution_count": 21,
     "metadata": {},
     "output_type": "execute_result"
    }
   ],
   "source": [
    "df['age'].max() - df['age'].min()"
   ]
  },
  {
   "cell_type": "markdown",
   "id": "48cc1d72",
   "metadata": {},
   "source": [
    "#### Percentiles and Quartiles\n",
    "- They are a statistical concept used to divide the data into equal parts, helping understand the position of a single data point and distribution of the data.\n",
    "- Percentiles: divide the data into 100 equal parts. Common percentiles:\n",
    "    - 25th percentile (Q1 or P25): 25% of the data falls below this value\n",
    "    - 50th percentile (Q2 or P50): 50% of the data falls below this value. this is also known as the Median.\n",
    "    - 75th percentile (Q3 or P75): 75% of the data falls below this value\n",
    "    - 95th percentile (P95): 95% of the data falls below this value - 5% falls above it\n",
    "- Quartiles: Q1, Q2, Q3, and Q4 (100%)"
   ]
  },
  {
   "cell_type": "code",
   "execution_count": 22,
   "id": "7961dd42",
   "metadata": {},
   "outputs": [
    {
     "data": {
      "application/vnd.microsoft.datawrangler.viewer.v0+json": {
       "columns": [
        {
         "name": "index",
         "rawType": "int64",
         "type": "integer"
        },
        {
         "name": "0",
         "rawType": "int64",
         "type": "integer"
        }
       ],
       "ref": "1f55c349-670b-4e64-b58e-2fb01866b0b7",
       "rows": [
        [
         "0",
         "97"
        ],
        [
         "1",
         "100"
        ],
        [
         "2",
         "104"
        ],
        [
         "3",
         "172"
        ],
        [
         "4",
         "158"
        ]
       ],
       "shape": {
        "columns": 1,
        "rows": 5
       }
      },
      "text/plain": [
       "0     97\n",
       "1    100\n",
       "2    104\n",
       "3    172\n",
       "4    158\n",
       "dtype: int64"
      ]
     },
     "execution_count": 22,
     "metadata": {},
     "output_type": "execute_result"
    }
   ],
   "source": [
    "my_ser = pd.Series(np.random.randint(45,200,600))\n",
    "my_ser.head()"
   ]
  },
  {
   "cell_type": "code",
   "execution_count": 23,
   "id": "5ff757ff",
   "metadata": {},
   "outputs": [
    {
     "data": {
      "text/plain": [
       "199"
      ]
     },
     "execution_count": 23,
     "metadata": {},
     "output_type": "execute_result"
    }
   ],
   "source": [
    "my_ser.max()"
   ]
  },
  {
   "cell_type": "code",
   "execution_count": 24,
   "id": "a7c89990",
   "metadata": {},
   "outputs": [
    {
     "data": {
      "text/plain": [
       "45"
      ]
     },
     "execution_count": 24,
     "metadata": {},
     "output_type": "execute_result"
    }
   ],
   "source": [
    "my_ser.min()"
   ]
  },
  {
   "cell_type": "code",
   "execution_count": 25,
   "id": "c551fde5",
   "metadata": {},
   "outputs": [
    {
     "data": {
      "application/vnd.microsoft.datawrangler.viewer.v0+json": {
       "columns": [
        {
         "name": "index",
         "rawType": "object",
         "type": "string"
        },
        {
         "name": "0",
         "rawType": "float64",
         "type": "float"
        }
       ],
       "ref": "ebd081d5-3bb3-4830-b913-d244173e87a4",
       "rows": [
        [
         "count",
         "600.0"
        ],
        [
         "mean",
         "125.30333333333333"
        ],
        [
         "std",
         "42.52935337763895"
        ],
        [
         "min",
         "45.0"
        ],
        [
         "25%",
         "93.0"
        ],
        [
         "50%",
         "128.0"
        ],
        [
         "75%",
         "159.0"
        ],
        [
         "max",
         "199.0"
        ]
       ],
       "shape": {
        "columns": 1,
        "rows": 8
       }
      },
      "text/plain": [
       "count    600.000000\n",
       "mean     125.303333\n",
       "std       42.529353\n",
       "min       45.000000\n",
       "25%       93.000000\n",
       "50%      128.000000\n",
       "75%      159.000000\n",
       "max      199.000000\n",
       "dtype: float64"
      ]
     },
     "execution_count": 25,
     "metadata": {},
     "output_type": "execute_result"
    }
   ],
   "source": [
    "my_ser.describe()"
   ]
  },
  {
   "cell_type": "markdown",
   "id": "d0b9631f",
   "metadata": {},
   "source": [
    "- 25% of the sample falls below 93 (.25 * 600) = 150\n",
    "- 3/4 (75%) of the data falls under 159"
   ]
  },
  {
   "cell_type": "code",
   "execution_count": 26,
   "id": "8d1f91e9",
   "metadata": {},
   "outputs": [
    {
     "data": {
      "text/plain": [
       "<Axes: >"
      ]
     },
     "execution_count": 26,
     "metadata": {},
     "output_type": "execute_result"
    },
    {
     "data": {
      "image/png": "[encoded data removed]",
      "text/plain": [
       "<Figure size 640x480 with 1 Axes>"
      ]
     },
     "metadata": {},
     "output_type": "display_data"
    }
   ],
   "source": [
    "my_ser.plot.box()"
   ]
  },
  {
   "cell_type": "code",
   "execution_count": 27,
   "id": "adb6c230",
   "metadata": {},
   "outputs": [
    {
     "data": {
      "text/plain": [
       "array([140., 189.])"
      ]
     },
     "execution_count": 27,
     "metadata": {},
     "output_type": "execute_result"
    }
   ],
   "source": [
    "np.percentile(my_ser,[60,95])"
   ]
  },
  {
   "cell_type": "markdown",
   "id": "c884de00",
   "metadata": {},
   "source": [
    "### Measures of Shape"
   ]
  },
  {
   "cell_type": "markdown",
   "id": "6de4641d",
   "metadata": {},
   "source": [
    "#### Skewness"
   ]
  },
  {
   "cell_type": "markdown",
   "id": "42c12473",
   "metadata": {},
   "source": [
    "- Any distribution is considered symmetric if it looks the same to the left and right of the center point - also known as Normal Distribution.\n",
    "- Skewness is a measure of asymmetry or distortion of symmetric distribution \n",
    "- Normal Distribution has 0 skewness\n",
    "- Having outliers causes skewness "
   ]
  },
  {
   "cell_type": "markdown",
   "id": "af3f5e91",
   "metadata": {},
   "source": [
    "![d](https://mathbitsnotebook.com/Algebra2/Statistics/normalturqa.jpg)"
   ]
  },
  {
   "cell_type": "code",
   "execution_count": 28,
   "id": "c548dbba",
   "metadata": {},
   "outputs": [
    {
     "data": {
      "application/vnd.microsoft.datawrangler.viewer.v0+json": {
       "columns": [
        {
         "name": "index",
         "rawType": "int64",
         "type": "integer"
        },
        {
         "name": "gender",
         "rawType": "object",
         "type": "string"
        },
        {
         "name": "class group",
         "rawType": "object",
         "type": "string"
        },
        {
         "name": "parental level of education",
         "rawType": "object",
         "type": "string"
        },
        {
         "name": "lunch",
         "rawType": "object",
         "type": "string"
        },
        {
         "name": "test preparation course",
         "rawType": "object",
         "type": "string"
        },
        {
         "name": "math score",
         "rawType": "int64",
         "type": "integer"
        },
        {
         "name": "reading score",
         "rawType": "int64",
         "type": "integer"
        },
        {
         "name": "writing score",
         "rawType": "int64",
         "type": "integer"
        }
       ],
       "ref": "40d0ef11-85d3-4718-a7ed-77eac43eb3f3",
       "rows": [
        [
         "0",
         "male",
         "group A",
         "high school",
         "standard",
         "completed",
         "67",
         "67",
         "63"
        ],
        [
         "1",
         "female",
         "group D",
         "some high school",
         "free/reduced",
         "none",
         "40",
         "59",
         "55"
        ],
        [
         "2",
         "male",
         "group E",
         "some college",
         "free/reduced",
         "none",
         "59",
         "60",
         "50"
        ],
        [
         "3",
         "male",
         "group B",
         "high school",
         "standard",
         "none",
         "77",
         "78",
         "68"
        ],
        [
         "4",
         "male",
         "group E",
         "associate's degree",
         "standard",
         "completed",
         "78",
         "73",
         "68"
        ]
       ],
       "shape": {
        "columns": 8,
        "rows": 5
       }
      },
      "text/html": [
       "<div>\n",
       "<style scoped>\n",
       "    .dataframe tbody tr th:only-of-type {\n",
       "        vertical-align: middle;\n",
       "    }\n",
       "\n",
       "    .dataframe tbody tr th {\n",
       "        vertical-align: top;\n",
       "    }\n",
       "\n",
       "    .dataframe thead th {\n",
       "        text-align: right;\n",
       "    }\n",
       "</style>\n",
       "<table border=\"1\" class=\"dataframe\">\n",
       "  <thead>\n",
       "    <tr style=\"text-align: right;\">\n",
       "      <th></th>\n",
       "      <th>gender</th>\n",
       "      <th>class group</th>\n",
       "      <th>parental level of education</th>\n",
       "      <th>lunch</th>\n",
       "      <th>test preparation course</th>\n",
       "      <th>math score</th>\n",
       "      <th>reading score</th>\n",
       "      <th>writing score</th>\n",
       "    </tr>\n",
       "  </thead>\n",
       "  <tbody>\n",
       "    <tr>\n",
       "      <th>0</th>\n",
       "      <td>male</td>\n",
       "      <td>group A</td>\n",
       "      <td>high school</td>\n",
       "      <td>standard</td>\n",
       "      <td>completed</td>\n",
       "      <td>67</td>\n",
       "      <td>67</td>\n",
       "      <td>63</td>\n",
       "    </tr>\n",
       "    <tr>\n",
       "      <th>1</th>\n",
       "      <td>female</td>\n",
       "      <td>group D</td>\n",
       "      <td>some high school</td>\n",
       "      <td>free/reduced</td>\n",
       "      <td>none</td>\n",
       "      <td>40</td>\n",
       "      <td>59</td>\n",
       "      <td>55</td>\n",
       "    </tr>\n",
       "    <tr>\n",
       "      <th>2</th>\n",
       "      <td>male</td>\n",
       "      <td>group E</td>\n",
       "      <td>some college</td>\n",
       "      <td>free/reduced</td>\n",
       "      <td>none</td>\n",
       "      <td>59</td>\n",
       "      <td>60</td>\n",
       "      <td>50</td>\n",
       "    </tr>\n",
       "    <tr>\n",
       "      <th>3</th>\n",
       "      <td>male</td>\n",
       "      <td>group B</td>\n",
       "      <td>high school</td>\n",
       "      <td>standard</td>\n",
       "      <td>none</td>\n",
       "      <td>77</td>\n",
       "      <td>78</td>\n",
       "      <td>68</td>\n",
       "    </tr>\n",
       "    <tr>\n",
       "      <th>4</th>\n",
       "      <td>male</td>\n",
       "      <td>group E</td>\n",
       "      <td>associate's degree</td>\n",
       "      <td>standard</td>\n",
       "      <td>completed</td>\n",
       "      <td>78</td>\n",
       "      <td>73</td>\n",
       "      <td>68</td>\n",
       "    </tr>\n",
       "  </tbody>\n",
       "</table>\n",
       "</div>"
      ],
      "text/plain": [
       "   gender class group parental level of education         lunch  \\\n",
       "0    male     group A                 high school      standard   \n",
       "1  female     group D            some high school  free/reduced   \n",
       "2    male     group E                some college  free/reduced   \n",
       "3    male     group B                 high school      standard   \n",
       "4    male     group E          associate's degree      standard   \n",
       "\n",
       "  test preparation course  math score  reading score  writing score  \n",
       "0               completed          67             67             63  \n",
       "1                    none          40             59             55  \n",
       "2                    none          59             60             50  \n",
       "3                    none          77             78             68  \n",
       "4               completed          78             73             68  "
      ]
     },
     "execution_count": 28,
     "metadata": {},
     "output_type": "execute_result"
    }
   ],
   "source": [
    "df = pd.read_csv('/Users/bassel_instructor/Documents/Datasets/school_grades.csv')\n",
    "df.head()"
   ]
  },
  {
   "cell_type": "code",
   "execution_count": 29,
   "id": "2b129377",
   "metadata": {},
   "outputs": [
    {
     "data": {
      "text/plain": [
       "<Axes: >"
      ]
     },
     "execution_count": 29,
     "metadata": {},
     "output_type": "execute_result"
    },
    {
     "data": {
      "image/png": "[encoded data removed]",
      "text/plain": [
       "<Figure size 640x480 with 1 Axes>"
      ]
     },
     "metadata": {},
     "output_type": "display_data"
    }
   ],
   "source": [
    "df['math score'].hist()"
   ]
  },
  {
   "cell_type": "markdown",
   "id": "a10245c7",
   "metadata": {},
   "source": [
    "Shape above shows that math score is not perfectly normally distributed - it's skewed."
   ]
  },
  {
   "cell_type": "code",
   "execution_count": 30,
   "id": "16a57587",
   "metadata": {},
   "outputs": [
    {
     "data": {
      "text/plain": [
       "-0.15114748214330356"
      ]
     },
     "execution_count": 30,
     "metadata": {},
     "output_type": "execute_result"
    }
   ],
   "source": [
    "df['math score'].skew()"
   ]
  },
  {
   "cell_type": "markdown",
   "id": "dd7df850",
   "metadata": {},
   "source": [
    "![meanmedianmode.png](https://images.shiksha.com/mediadata/ugcDocuments/images/wordpressImages/2021_12_art11-1.jpg)"
   ]
  },
  {
   "cell_type": "markdown",
   "id": "1681c240",
   "metadata": {},
   "source": [
    "- Positive Skew (Right): if the skewness value >0 and the distribution tail is stretched more to the **right** side on the x-axis.\n",
    "- Negative Skew (Left): if the skewness value <0 and the distribution tail is stretched more to the **left** side on the x-axis.\n",
    "- The goal is bring the data to close to zero as much as possible"
   ]
  },
  {
   "cell_type": "markdown",
   "id": "b84d062b",
   "metadata": {},
   "source": [
    "### Measures of Relationship\n",
    "- Previous measures fall under the category of **Univariate Analysis** because it deals witha  single variable/column/feature\n",
    "- Covariance and Correlation, on the other hand,  deal with **Multivariate** analysis (relationship between 2 or more variables)"
   ]
  },
  {
   "cell_type": "markdown",
   "id": "12e439e3",
   "metadata": {},
   "source": [
    "Covariance\n",
    "- Helps understand the direction of the relationship:\n",
    "    - if the value is negative -> if x goes up y goes down\n",
    "    - if the value is positive -> if x goes up y goes up as well\n",
    " \n",
    "![cov](https://s3.us-east-1.amazonaws.com/static2.simplilearn.com/lms/testpaper_images/ADSP/Advanced_Statistics/Probimages/Statistics_Fundamentals/Statistics_Notebookupdated/covsample.PNG)"
   ]
  },
  {
   "cell_type": "markdown",
   "id": "7ffe95ca",
   "metadata": {},
   "source": [
    "Correlation\n",
    " \n",
    "![cor](https://s3.us-east-1.amazonaws.com/static2.simplilearn.com/lms/testpaper_images/ADSP/Advanced_Statistics/Probimages/Statistics_Fundamentals/Statistics_Notebookupdated/corelation.PNG)"
   ]
  },
  {
   "cell_type": "markdown",
   "id": "85258618",
   "metadata": {},
   "source": [
    "- correlation is the most common compared to covariance because it gives both the direction and value/intensity of the relationship\n",
    "- Also called Pearson correlation\n",
    "- Correlation coefficient value interpretation: (range -1, 0, 1)\n",
    "    - 0 or close to 0 means no or very low correlation\n",
    "    - close to 1 means the two variables are highly and positively correlated\n",
    "    - close to -1 means the two variables are highly and negative correlated"
   ]
  },
  {
   "cell_type": "code",
   "execution_count": 31,
   "id": "37f1bc98",
   "metadata": {},
   "outputs": [
    {
     "data": {
      "application/vnd.microsoft.datawrangler.viewer.v0+json": {
       "columns": [
        {
         "name": "index",
         "rawType": "object",
         "type": "string"
        },
        {
         "name": "math score",
         "rawType": "float64",
         "type": "float"
        },
        {
         "name": "reading score",
         "rawType": "float64",
         "type": "float"
        },
        {
         "name": "writing score",
         "rawType": "float64",
         "type": "float"
        }
       ],
       "ref": "5f9d7fea-92d0-43c2-af58-321b8e5a7fe3",
       "rows": [
        [
         "math score",
         "1.0",
         "0.8193975445486528",
         "0.8059444390493722"
        ],
        [
         "reading score",
         "0.8193975445486528",
         "1.0",
         "0.954274434456685"
        ],
        [
         "writing score",
         "0.8059444390493722",
         "0.954274434456685",
         "1.0"
        ]
       ],
       "shape": {
        "columns": 3,
        "rows": 3
       }
      },
      "text/html": [
       "<div>\n",
       "<style scoped>\n",
       "    .dataframe tbody tr th:only-of-type {\n",
       "        vertical-align: middle;\n",
       "    }\n",
       "\n",
       "    .dataframe tbody tr th {\n",
       "        vertical-align: top;\n",
       "    }\n",
       "\n",
       "    .dataframe thead th {\n",
       "        text-align: right;\n",
       "    }\n",
       "</style>\n",
       "<table border=\"1\" class=\"dataframe\">\n",
       "  <thead>\n",
       "    <tr style=\"text-align: right;\">\n",
       "      <th></th>\n",
       "      <th>math score</th>\n",
       "      <th>reading score</th>\n",
       "      <th>writing score</th>\n",
       "    </tr>\n",
       "  </thead>\n",
       "  <tbody>\n",
       "    <tr>\n",
       "      <th>math score</th>\n",
       "      <td>1.000000</td>\n",
       "      <td>0.819398</td>\n",
       "      <td>0.805944</td>\n",
       "    </tr>\n",
       "    <tr>\n",
       "      <th>reading score</th>\n",
       "      <td>0.819398</td>\n",
       "      <td>1.000000</td>\n",
       "      <td>0.954274</td>\n",
       "    </tr>\n",
       "    <tr>\n",
       "      <th>writing score</th>\n",
       "      <td>0.805944</td>\n",
       "      <td>0.954274</td>\n",
       "      <td>1.000000</td>\n",
       "    </tr>\n",
       "  </tbody>\n",
       "</table>\n",
       "</div>"
      ],
      "text/plain": [
       "               math score  reading score  writing score\n",
       "math score       1.000000       0.819398       0.805944\n",
       "reading score    0.819398       1.000000       0.954274\n",
       "writing score    0.805944       0.954274       1.000000"
      ]
     },
     "execution_count": 31,
     "metadata": {},
     "output_type": "execute_result"
    }
   ],
   "source": [
    "df.corr(numeric_only=True)"
   ]
  },
  {
   "cell_type": "markdown",
   "id": "57c1b264",
   "metadata": {},
   "source": [
    "- 60% (.6 or -.6) is a threshold to determine good/significant correlation\n",
    "- Therefore, math, writing, and reading are all highly correlated"
   ]
  },
  {
   "cell_type": "code",
   "execution_count": 32,
   "id": "31f45c58",
   "metadata": {},
   "outputs": [],
   "source": [
    "data = {\n",
    "            'income':[10000, 20000, 15000, 25000],\n",
    "            'age': [25, 34, 27, 37],\n",
    "            'stress_score': [95, 60, 90, 57],\n",
    "            'movies_watched': [7,4,4,9] \n",
    "}"
   ]
  },
  {
   "cell_type": "code",
   "execution_count": 33,
   "id": "93faeddf",
   "metadata": {},
   "outputs": [
    {
     "data": {
      "application/vnd.microsoft.datawrangler.viewer.v0+json": {
       "columns": [
        {
         "name": "index",
         "rawType": "object",
         "type": "string"
        },
        {
         "name": "income",
         "rawType": "float64",
         "type": "float"
        },
        {
         "name": "age",
         "rawType": "float64",
         "type": "float"
        },
        {
         "name": "stress_score",
         "rawType": "float64",
         "type": "float"
        },
        {
         "name": "movies_watched",
         "rawType": "float64",
         "type": "float"
        }
       ],
       "ref": "389560dc-b621-4414-9506-e60e82d73a31",
       "rows": [
        [
         "income",
         "1.0",
         "0.9775252199076787",
         "-0.9401528960922743",
         "0.31622776601683794"
        ],
        [
         "age",
         "0.9775252199076787",
         "1.0",
         "-0.9870000092411635",
         "0.33547973885514165"
        ],
        [
         "stress_score",
         "-0.9401528960922743",
         "-0.9870000092411635",
         "1.0",
         "-0.23398803938767804"
        ],
        [
         "movies_watched",
         "0.31622776601683794",
         "0.33547973885514165",
         "-0.23398803938767804",
         "1.0"
        ]
       ],
       "shape": {
        "columns": 4,
        "rows": 4
       }
      },
      "text/html": [
       "<div>\n",
       "<style scoped>\n",
       "    .dataframe tbody tr th:only-of-type {\n",
       "        vertical-align: middle;\n",
       "    }\n",
       "\n",
       "    .dataframe tbody tr th {\n",
       "        vertical-align: top;\n",
       "    }\n",
       "\n",
       "    .dataframe thead th {\n",
       "        text-align: right;\n",
       "    }\n",
       "</style>\n",
       "<table border=\"1\" class=\"dataframe\">\n",
       "  <thead>\n",
       "    <tr style=\"text-align: right;\">\n",
       "      <th></th>\n",
       "      <th>income</th>\n",
       "      <th>age</th>\n",
       "      <th>stress_score</th>\n",
       "      <th>movies_watched</th>\n",
       "    </tr>\n",
       "  </thead>\n",
       "  <tbody>\n",
       "    <tr>\n",
       "      <th>income</th>\n",
       "      <td>1.000000</td>\n",
       "      <td>0.977525</td>\n",
       "      <td>-0.940153</td>\n",
       "      <td>0.316228</td>\n",
       "    </tr>\n",
       "    <tr>\n",
       "      <th>age</th>\n",
       "      <td>0.977525</td>\n",
       "      <td>1.000000</td>\n",
       "      <td>-0.987000</td>\n",
       "      <td>0.335480</td>\n",
       "    </tr>\n",
       "    <tr>\n",
       "      <th>stress_score</th>\n",
       "      <td>-0.940153</td>\n",
       "      <td>-0.987000</td>\n",
       "      <td>1.000000</td>\n",
       "      <td>-0.233988</td>\n",
       "    </tr>\n",
       "    <tr>\n",
       "      <th>movies_watched</th>\n",
       "      <td>0.316228</td>\n",
       "      <td>0.335480</td>\n",
       "      <td>-0.233988</td>\n",
       "      <td>1.000000</td>\n",
       "    </tr>\n",
       "  </tbody>\n",
       "</table>\n",
       "</div>"
      ],
      "text/plain": [
       "                  income       age  stress_score  movies_watched\n",
       "income          1.000000  0.977525     -0.940153        0.316228\n",
       "age             0.977525  1.000000     -0.987000        0.335480\n",
       "stress_score   -0.940153 -0.987000      1.000000       -0.233988\n",
       "movies_watched  0.316228  0.335480     -0.233988        1.000000"
      ]
     },
     "execution_count": 33,
     "metadata": {},
     "output_type": "execute_result"
    }
   ],
   "source": [
    "df = pd.DataFrame(data)\n",
    "\n",
    "df.corr(numeric_only=True)"
   ]
  },
  {
   "cell_type": "markdown",
   "id": "951078c3",
   "metadata": {},
   "source": [
    "- Income and age are highly positively correlated\n",
    "- stress score and age are highly negatively correlated\n",
    "- We have low correlation between movies_watched and age"
   ]
  },
  {
   "cell_type": "code",
   "execution_count": null,
   "id": "584ae8a2",
   "metadata": {},
   "outputs": [],
   "source": []
  }
 ],
 "metadata": {
  "kernelspec": {
   "display_name": "Python 3",
   "language": "python",
   "name": "python3"
  },
  "language_info": {
   "codemirror_mode": {
    "name": "ipython",
    "version": 3
   },
   "file_extension": ".py",
   "mimetype": "text/x-python",
   "name": "python",
   "nbconvert_exporter": "python",
   "pygments_lexer": "ipython3",
   "version": "3.11.3"
  }
 },
 "nbformat": 4,
 "nbformat_minor": 5
}
