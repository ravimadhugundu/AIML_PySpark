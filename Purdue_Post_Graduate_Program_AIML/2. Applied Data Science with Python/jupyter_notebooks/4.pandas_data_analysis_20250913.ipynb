{
 "cells": [
  {
   "cell_type": "markdown",
   "id": "52fb48c8",
   "metadata": {},
   "source": [
    "# Using Pandas for Data Analysis"
   ]
  },
  {
   "cell_type": "markdown",
   "id": "d5c15a90",
   "metadata": {},
   "source": [
    "- Importing files into a dataframe in pandas is very easy and straightforawrd\n",
    "- It can take the following file types:\n",
    "    - CSV/TXT\n",
    "    - Excel\n",
    "    - SAS\n",
    "    - JSON\n",
    "    - XML\n",
    "    - SQL Data pull from a database\n",
    "- To use a file with Jupyter notebooks:\n",
    "    - If the file is saved in the same location, you don't need to specify the path/directory\n",
    "    - Otherwise, you need to specify the directory with the file name"
   ]
  },
  {
   "cell_type": "code",
   "execution_count": 1,
   "id": "717c6652",
   "metadata": {},
   "outputs": [],
   "source": [
    "import pandas as pd\n",
    "import numpy as np"
   ]
  },
  {
   "cell_type": "markdown",
   "id": "74f9a942",
   "metadata": {},
   "source": [
    "`r'C:\\Users\\srika\\OneDrive\\Documents\\AIML Course\\Python Project'` for Windows example"
   ]
  },
  {
   "cell_type": "code",
   "execution_count": 2,
   "id": "f5423e81",
   "metadata": {},
   "outputs": [],
   "source": [
    "df = pd.read_csv('/Users/bassel_instructor/Documents/Datasets/school_grades.csv')"
   ]
  },
  {
   "cell_type": "code",
   "execution_count": 3,
   "id": "8c404704",
   "metadata": {},
   "outputs": [
    {
     "data": {
      "application/vnd.microsoft.datawrangler.viewer.v0+json": {
       "columns": [
        {
         "name": "index",
         "rawType": "int64",
         "type": "integer"
        },
        {
         "name": "gender",
         "rawType": "object",
         "type": "string"
        },
        {
         "name": "class group",
         "rawType": "object",
         "type": "string"
        },
        {
         "name": "parental level of education",
         "rawType": "object",
         "type": "string"
        },
        {
         "name": "lunch",
         "rawType": "object",
         "type": "string"
        },
        {
         "name": "test preparation course",
         "rawType": "object",
         "type": "string"
        },
        {
         "name": "math score",
         "rawType": "int64",
         "type": "integer"
        },
        {
         "name": "reading score",
         "rawType": "int64",
         "type": "integer"
        },
        {
         "name": "writing score",
         "rawType": "int64",
         "type": "integer"
        }
       ],
       "ref": "eb738fd6-7d8a-41cb-9cfe-73536d648aeb",
       "rows": [
        [
         "0",
         "male",
         "group A",
         "high school",
         "standard",
         "completed",
         "67",
         "67",
         "63"
        ],
        [
         "1",
         "female",
         "group D",
         "some high school",
         "free/reduced",
         "none",
         "40",
         "59",
         "55"
        ],
        [
         "2",
         "male",
         "group E",
         "some college",
         "free/reduced",
         "none",
         "59",
         "60",
         "50"
        ],
        [
         "3",
         "male",
         "group B",
         "high school",
         "standard",
         "none",
         "77",
         "78",
         "68"
        ],
        [
         "4",
         "male",
         "group E",
         "associate's degree",
         "standard",
         "completed",
         "78",
         "73",
         "68"
        ],
        [
         "5",
         "female",
         "group D",
         "high school",
         "standard",
         "none",
         "63",
         "77",
         "76"
        ],
        [
         "6",
         "female",
         "group A",
         "bachelor's degree",
         "standard",
         "none",
         "62",
         "59",
         "63"
        ],
        [
         "7",
         "male",
         "group E",
         "some college",
         "standard",
         "completed",
         "93",
         "88",
         "84"
        ],
        [
         "8",
         "male",
         "group D",
         "high school",
         "standard",
         "none",
         "63",
         "56",
         "65"
        ],
        [
         "9",
         "male",
         "group C",
         "some college",
         "free/reduced",
         "none",
         "47",
         "42",
         "45"
        ],
        [
         "10",
         "male",
         "group E",
         "some college",
         "standard",
         "completed",
         "99",
         "83",
         "85"
        ],
        [
         "11",
         "female",
         "group D",
         "high school",
         "standard",
         "completed",
         "80",
         "87",
         "90"
        ],
        [
         "12",
         "male",
         "group D",
         "associate's degree",
         "standard",
         "completed",
         "77",
         "87",
         "85"
        ],
        [
         "13",
         "male",
         "group C",
         "high school",
         "standard",
         "completed",
         "74",
         "74",
         "73"
        ],
        [
         "14",
         "male",
         "group E",
         "some high school",
         "standard",
         "completed",
         "81",
         "87",
         "85"
        ],
        [
         "15",
         "male",
         "group E",
         "associate's degree",
         "free/reduced",
         "none",
         "69",
         "61",
         "57"
        ],
        [
         "16",
         "male",
         "group B",
         "high school",
         "standard",
         "none",
         "58",
         "47",
         "42"
        ],
        [
         "17",
         "female",
         "group C",
         "associate's degree",
         "standard",
         "completed",
         "54",
         "62",
         "65"
        ],
        [
         "18",
         "female",
         "group C",
         "associate's degree",
         "free/reduced",
         "none",
         "23",
         "44",
         "44"
        ],
        [
         "19",
         "male",
         "group C",
         "some college",
         "free/reduced",
         "none",
         "39",
         "32",
         "31"
        ],
        [
         "20",
         "female",
         "group C",
         "associate's degree",
         "standard",
         "none",
         "83",
         "76",
         "88"
        ],
        [
         "21",
         "male",
         "group C",
         "associate's degree",
         "standard",
         "none",
         "58",
         "52",
         "55"
        ],
        [
         "22",
         "male",
         "group B",
         "some college",
         "standard",
         "completed",
         "71",
         "69",
         "73"
        ],
        [
         "23",
         "female",
         "group B",
         "some college",
         "free/reduced",
         "none",
         "44",
         "55",
         "54"
        ],
        [
         "24",
         "male",
         "group E",
         "some high school",
         "free/reduced",
         "none",
         "46",
         "38",
         "32"
        ],
        [
         "25",
         "male",
         "group C",
         "high school",
         "free/reduced",
         "none",
         "51",
         "45",
         "42"
        ],
        [
         "26",
         "female",
         "group C",
         "some high school",
         "standard",
         "none",
         "53",
         "60",
         "56"
        ],
        [
         "27",
         "male",
         "group E",
         "high school",
         "standard",
         "none",
         "71",
         "68",
         "60"
        ],
        [
         "28",
         "female",
         "group B",
         "high school",
         "standard",
         "completed",
         "74",
         "89",
         "89"
        ],
        [
         "29",
         "female",
         "group A",
         "some high school",
         "free/reduced",
         "none",
         "33",
         "54",
         "51"
        ],
        [
         "30",
         "male",
         "group B",
         "some college",
         "standard",
         "none",
         "87",
         "79",
         "77"
        ],
        [
         "31",
         "male",
         "group A",
         "bachelor's degree",
         "free/reduced",
         "none",
         "78",
         "74",
         "73"
        ],
        [
         "32",
         "male",
         "group A",
         "some high school",
         "free/reduced",
         "completed",
         "40",
         "41",
         "39"
        ],
        [
         "33",
         "female",
         "group B",
         "associate's degree",
         "standard",
         "completed",
         "65",
         "65",
         "71"
        ],
        [
         "34",
         "female",
         "group B",
         "bachelor's degree",
         "standard",
         "completed",
         "79",
         "88",
         "89"
        ],
        [
         "35",
         "female",
         "group A",
         "bachelor's degree",
         "standard",
         "none",
         "68",
         "74",
         "74"
        ],
        [
         "36",
         "female",
         "group C",
         "some college",
         "standard",
         "completed",
         "57",
         "77",
         "75"
        ],
        [
         "37",
         "male",
         "group B",
         "high school",
         "free/reduced",
         "none",
         "67",
         "65",
         "54"
        ],
        [
         "38",
         "female",
         "group B",
         "some college",
         "free/reduced",
         "completed",
         "58",
         "68",
         "73"
        ],
        [
         "39",
         "male",
         "group E",
         "associate's degree",
         "standard",
         "none",
         "98",
         "81",
         "77"
        ],
        [
         "40",
         "female",
         "group B",
         "master's degree",
         "free/reduced",
         "none",
         "54",
         "75",
         "72"
        ],
        [
         "41",
         "male",
         "group D",
         "high school",
         "standard",
         "none",
         "77",
         "67",
         "64"
        ],
        [
         "42",
         "male",
         "group E",
         "high school",
         "standard",
         "completed",
         "87",
         "79",
         "82"
        ],
        [
         "43",
         "female",
         "group C",
         "master's degree",
         "standard",
         "none",
         "58",
         "70",
         "70"
        ],
        [
         "44",
         "male",
         "group E",
         "high school",
         "standard",
         "none",
         "100",
         "88",
         "87"
        ],
        [
         "45",
         "male",
         "group C",
         "bachelor's degree",
         "standard",
         "none",
         "60",
         "46",
         "51"
        ],
        [
         "46",
         "male",
         "group C",
         "associate's degree",
         "free/reduced",
         "none",
         "64",
         "63",
         "57"
        ],
        [
         "47",
         "female",
         "group E",
         "some high school",
         "standard",
         "completed",
         "65",
         "76",
         "78"
        ],
        [
         "48",
         "female",
         "group D",
         "high school",
         "standard",
         "none",
         "68",
         "72",
         "73"
        ],
        [
         "49",
         "male",
         "group C",
         "associate's degree",
         "free/reduced",
         "completed",
         "60",
         "63",
         "57"
        ]
       ],
       "shape": {
        "columns": 8,
        "rows": 1000
       }
      },
      "text/html": [
       "<div>\n",
       "<style scoped>\n",
       "    .dataframe tbody tr th:only-of-type {\n",
       "        vertical-align: middle;\n",
       "    }\n",
       "\n",
       "    .dataframe tbody tr th {\n",
       "        vertical-align: top;\n",
       "    }\n",
       "\n",
       "    .dataframe thead th {\n",
       "        text-align: right;\n",
       "    }\n",
       "</style>\n",
       "<table border=\"1\" class=\"dataframe\">\n",
       "  <thead>\n",
       "    <tr style=\"text-align: right;\">\n",
       "      <th></th>\n",
       "      <th>gender</th>\n",
       "      <th>class group</th>\n",
       "      <th>parental level of education</th>\n",
       "      <th>lunch</th>\n",
       "      <th>test preparation course</th>\n",
       "      <th>math score</th>\n",
       "      <th>reading score</th>\n",
       "      <th>writing score</th>\n",
       "    </tr>\n",
       "  </thead>\n",
       "  <tbody>\n",
       "    <tr>\n",
       "      <th>0</th>\n",
       "      <td>male</td>\n",
       "      <td>group A</td>\n",
       "      <td>high school</td>\n",
       "      <td>standard</td>\n",
       "      <td>completed</td>\n",
       "      <td>67</td>\n",
       "      <td>67</td>\n",
       "      <td>63</td>\n",
       "    </tr>\n",
       "    <tr>\n",
       "      <th>1</th>\n",
       "      <td>female</td>\n",
       "      <td>group D</td>\n",
       "      <td>some high school</td>\n",
       "      <td>free/reduced</td>\n",
       "      <td>none</td>\n",
       "      <td>40</td>\n",
       "      <td>59</td>\n",
       "      <td>55</td>\n",
       "    </tr>\n",
       "    <tr>\n",
       "      <th>2</th>\n",
       "      <td>male</td>\n",
       "      <td>group E</td>\n",
       "      <td>some college</td>\n",
       "      <td>free/reduced</td>\n",
       "      <td>none</td>\n",
       "      <td>59</td>\n",
       "      <td>60</td>\n",
       "      <td>50</td>\n",
       "    </tr>\n",
       "    <tr>\n",
       "      <th>3</th>\n",
       "      <td>male</td>\n",
       "      <td>group B</td>\n",
       "      <td>high school</td>\n",
       "      <td>standard</td>\n",
       "      <td>none</td>\n",
       "      <td>77</td>\n",
       "      <td>78</td>\n",
       "      <td>68</td>\n",
       "    </tr>\n",
       "    <tr>\n",
       "      <th>4</th>\n",
       "      <td>male</td>\n",
       "      <td>group E</td>\n",
       "      <td>associate's degree</td>\n",
       "      <td>standard</td>\n",
       "      <td>completed</td>\n",
       "      <td>78</td>\n",
       "      <td>73</td>\n",
       "      <td>68</td>\n",
       "    </tr>\n",
       "    <tr>\n",
       "      <th>...</th>\n",
       "      <td>...</td>\n",
       "      <td>...</td>\n",
       "      <td>...</td>\n",
       "      <td>...</td>\n",
       "      <td>...</td>\n",
       "      <td>...</td>\n",
       "      <td>...</td>\n",
       "      <td>...</td>\n",
       "    </tr>\n",
       "    <tr>\n",
       "      <th>995</th>\n",
       "      <td>male</td>\n",
       "      <td>group C</td>\n",
       "      <td>high school</td>\n",
       "      <td>standard</td>\n",
       "      <td>none</td>\n",
       "      <td>73</td>\n",
       "      <td>70</td>\n",
       "      <td>65</td>\n",
       "    </tr>\n",
       "    <tr>\n",
       "      <th>996</th>\n",
       "      <td>male</td>\n",
       "      <td>group D</td>\n",
       "      <td>associate's degree</td>\n",
       "      <td>free/reduced</td>\n",
       "      <td>completed</td>\n",
       "      <td>85</td>\n",
       "      <td>91</td>\n",
       "      <td>92</td>\n",
       "    </tr>\n",
       "    <tr>\n",
       "      <th>997</th>\n",
       "      <td>female</td>\n",
       "      <td>group C</td>\n",
       "      <td>some high school</td>\n",
       "      <td>free/reduced</td>\n",
       "      <td>none</td>\n",
       "      <td>32</td>\n",
       "      <td>35</td>\n",
       "      <td>41</td>\n",
       "    </tr>\n",
       "    <tr>\n",
       "      <th>998</th>\n",
       "      <td>female</td>\n",
       "      <td>group C</td>\n",
       "      <td>some college</td>\n",
       "      <td>standard</td>\n",
       "      <td>none</td>\n",
       "      <td>73</td>\n",
       "      <td>74</td>\n",
       "      <td>82</td>\n",
       "    </tr>\n",
       "    <tr>\n",
       "      <th>999</th>\n",
       "      <td>male</td>\n",
       "      <td>group A</td>\n",
       "      <td>some college</td>\n",
       "      <td>standard</td>\n",
       "      <td>completed</td>\n",
       "      <td>65</td>\n",
       "      <td>60</td>\n",
       "      <td>62</td>\n",
       "    </tr>\n",
       "  </tbody>\n",
       "</table>\n",
       "<p>1000 rows × 8 columns</p>\n",
       "</div>"
      ],
      "text/plain": [
       "     gender class group parental level of education         lunch  \\\n",
       "0      male     group A                 high school      standard   \n",
       "1    female     group D            some high school  free/reduced   \n",
       "2      male     group E                some college  free/reduced   \n",
       "3      male     group B                 high school      standard   \n",
       "4      male     group E          associate's degree      standard   \n",
       "..      ...         ...                         ...           ...   \n",
       "995    male     group C                 high school      standard   \n",
       "996    male     group D          associate's degree  free/reduced   \n",
       "997  female     group C            some high school  free/reduced   \n",
       "998  female     group C                some college      standard   \n",
       "999    male     group A                some college      standard   \n",
       "\n",
       "    test preparation course  math score  reading score  writing score  \n",
       "0                 completed          67             67             63  \n",
       "1                      none          40             59             55  \n",
       "2                      none          59             60             50  \n",
       "3                      none          77             78             68  \n",
       "4                 completed          78             73             68  \n",
       "..                      ...         ...            ...            ...  \n",
       "995                    none          73             70             65  \n",
       "996               completed          85             91             92  \n",
       "997                    none          32             35             41  \n",
       "998                    none          73             74             82  \n",
       "999               completed          65             60             62  \n",
       "\n",
       "[1000 rows x 8 columns]"
      ]
     },
     "execution_count": 3,
     "metadata": {},
     "output_type": "execute_result"
    }
   ],
   "source": [
    "df"
   ]
  },
  {
   "cell_type": "code",
   "execution_count": 4,
   "id": "f6246dca",
   "metadata": {},
   "outputs": [
    {
     "data": {
      "application/vnd.microsoft.datawrangler.viewer.v0+json": {
       "columns": [
        {
         "name": "index",
         "rawType": "int64",
         "type": "integer"
        },
        {
         "name": "gender",
         "rawType": "object",
         "type": "string"
        },
        {
         "name": "class group",
         "rawType": "object",
         "type": "string"
        },
        {
         "name": "parental level of education",
         "rawType": "object",
         "type": "string"
        },
        {
         "name": "lunch",
         "rawType": "object",
         "type": "string"
        },
        {
         "name": "test preparation course",
         "rawType": "object",
         "type": "string"
        },
        {
         "name": "math score",
         "rawType": "int64",
         "type": "integer"
        },
        {
         "name": "reading score",
         "rawType": "int64",
         "type": "integer"
        },
        {
         "name": "writing score",
         "rawType": "int64",
         "type": "integer"
        }
       ],
       "ref": "f34c40cb-a74f-45b0-9b67-d331bb46da3c",
       "rows": [
        [
         "0",
         "male",
         "group A",
         "high school",
         "standard",
         "completed",
         "67",
         "67",
         "63"
        ],
        [
         "1",
         "female",
         "group D",
         "some high school",
         "free/reduced",
         "none",
         "40",
         "59",
         "55"
        ],
        [
         "2",
         "male",
         "group E",
         "some college",
         "free/reduced",
         "none",
         "59",
         "60",
         "50"
        ],
        [
         "3",
         "male",
         "group B",
         "high school",
         "standard",
         "none",
         "77",
         "78",
         "68"
        ],
        [
         "4",
         "male",
         "group E",
         "associate's degree",
         "standard",
         "completed",
         "78",
         "73",
         "68"
        ],
        [
         "5",
         "female",
         "group D",
         "high school",
         "standard",
         "none",
         "63",
         "77",
         "76"
        ],
        [
         "6",
         "female",
         "group A",
         "bachelor's degree",
         "standard",
         "none",
         "62",
         "59",
         "63"
        ],
        [
         "7",
         "male",
         "group E",
         "some college",
         "standard",
         "completed",
         "93",
         "88",
         "84"
        ]
       ],
       "shape": {
        "columns": 8,
        "rows": 8
       }
      },
      "text/html": [
       "<div>\n",
       "<style scoped>\n",
       "    .dataframe tbody tr th:only-of-type {\n",
       "        vertical-align: middle;\n",
       "    }\n",
       "\n",
       "    .dataframe tbody tr th {\n",
       "        vertical-align: top;\n",
       "    }\n",
       "\n",
       "    .dataframe thead th {\n",
       "        text-align: right;\n",
       "    }\n",
       "</style>\n",
       "<table border=\"1\" class=\"dataframe\">\n",
       "  <thead>\n",
       "    <tr style=\"text-align: right;\">\n",
       "      <th></th>\n",
       "      <th>gender</th>\n",
       "      <th>class group</th>\n",
       "      <th>parental level of education</th>\n",
       "      <th>lunch</th>\n",
       "      <th>test preparation course</th>\n",
       "      <th>math score</th>\n",
       "      <th>reading score</th>\n",
       "      <th>writing score</th>\n",
       "    </tr>\n",
       "  </thead>\n",
       "  <tbody>\n",
       "    <tr>\n",
       "      <th>0</th>\n",
       "      <td>male</td>\n",
       "      <td>group A</td>\n",
       "      <td>high school</td>\n",
       "      <td>standard</td>\n",
       "      <td>completed</td>\n",
       "      <td>67</td>\n",
       "      <td>67</td>\n",
       "      <td>63</td>\n",
       "    </tr>\n",
       "    <tr>\n",
       "      <th>1</th>\n",
       "      <td>female</td>\n",
       "      <td>group D</td>\n",
       "      <td>some high school</td>\n",
       "      <td>free/reduced</td>\n",
       "      <td>none</td>\n",
       "      <td>40</td>\n",
       "      <td>59</td>\n",
       "      <td>55</td>\n",
       "    </tr>\n",
       "    <tr>\n",
       "      <th>2</th>\n",
       "      <td>male</td>\n",
       "      <td>group E</td>\n",
       "      <td>some college</td>\n",
       "      <td>free/reduced</td>\n",
       "      <td>none</td>\n",
       "      <td>59</td>\n",
       "      <td>60</td>\n",
       "      <td>50</td>\n",
       "    </tr>\n",
       "    <tr>\n",
       "      <th>3</th>\n",
       "      <td>male</td>\n",
       "      <td>group B</td>\n",
       "      <td>high school</td>\n",
       "      <td>standard</td>\n",
       "      <td>none</td>\n",
       "      <td>77</td>\n",
       "      <td>78</td>\n",
       "      <td>68</td>\n",
       "    </tr>\n",
       "    <tr>\n",
       "      <th>4</th>\n",
       "      <td>male</td>\n",
       "      <td>group E</td>\n",
       "      <td>associate's degree</td>\n",
       "      <td>standard</td>\n",
       "      <td>completed</td>\n",
       "      <td>78</td>\n",
       "      <td>73</td>\n",
       "      <td>68</td>\n",
       "    </tr>\n",
       "    <tr>\n",
       "      <th>5</th>\n",
       "      <td>female</td>\n",
       "      <td>group D</td>\n",
       "      <td>high school</td>\n",
       "      <td>standard</td>\n",
       "      <td>none</td>\n",
       "      <td>63</td>\n",
       "      <td>77</td>\n",
       "      <td>76</td>\n",
       "    </tr>\n",
       "    <tr>\n",
       "      <th>6</th>\n",
       "      <td>female</td>\n",
       "      <td>group A</td>\n",
       "      <td>bachelor's degree</td>\n",
       "      <td>standard</td>\n",
       "      <td>none</td>\n",
       "      <td>62</td>\n",
       "      <td>59</td>\n",
       "      <td>63</td>\n",
       "    </tr>\n",
       "    <tr>\n",
       "      <th>7</th>\n",
       "      <td>male</td>\n",
       "      <td>group E</td>\n",
       "      <td>some college</td>\n",
       "      <td>standard</td>\n",
       "      <td>completed</td>\n",
       "      <td>93</td>\n",
       "      <td>88</td>\n",
       "      <td>84</td>\n",
       "    </tr>\n",
       "  </tbody>\n",
       "</table>\n",
       "</div>"
      ],
      "text/plain": [
       "   gender class group parental level of education         lunch  \\\n",
       "0    male     group A                 high school      standard   \n",
       "1  female     group D            some high school  free/reduced   \n",
       "2    male     group E                some college  free/reduced   \n",
       "3    male     group B                 high school      standard   \n",
       "4    male     group E          associate's degree      standard   \n",
       "5  female     group D                 high school      standard   \n",
       "6  female     group A           bachelor's degree      standard   \n",
       "7    male     group E                some college      standard   \n",
       "\n",
       "  test preparation course  math score  reading score  writing score  \n",
       "0               completed          67             67             63  \n",
       "1                    none          40             59             55  \n",
       "2                    none          59             60             50  \n",
       "3                    none          77             78             68  \n",
       "4               completed          78             73             68  \n",
       "5                    none          63             77             76  \n",
       "6                    none          62             59             63  \n",
       "7               completed          93             88             84  "
      ]
     },
     "execution_count": 4,
     "metadata": {},
     "output_type": "execute_result"
    }
   ],
   "source": [
    "# get the top 8 rows\n",
    "# no num specified -> 5 rows by default\n",
    "df.head(8)"
   ]
  },
  {
   "cell_type": "code",
   "execution_count": 5,
   "id": "7c94cfb3",
   "metadata": {},
   "outputs": [
    {
     "data": {
      "application/vnd.microsoft.datawrangler.viewer.v0+json": {
       "columns": [
        {
         "name": "index",
         "rawType": "int64",
         "type": "integer"
        },
        {
         "name": "gender",
         "rawType": "object",
         "type": "string"
        },
        {
         "name": "class group",
         "rawType": "object",
         "type": "string"
        },
        {
         "name": "parental level of education",
         "rawType": "object",
         "type": "string"
        },
        {
         "name": "lunch",
         "rawType": "object",
         "type": "string"
        },
        {
         "name": "test preparation course",
         "rawType": "object",
         "type": "string"
        },
        {
         "name": "math score",
         "rawType": "int64",
         "type": "integer"
        },
        {
         "name": "reading score",
         "rawType": "int64",
         "type": "integer"
        },
        {
         "name": "writing score",
         "rawType": "int64",
         "type": "integer"
        }
       ],
       "ref": "03261b13-0035-4831-b503-25122c8461e8",
       "rows": [
        [
         "993",
         "female",
         "group A",
         "associate's degree",
         "standard",
         "none",
         "58",
         "54",
         "58"
        ],
        [
         "994",
         "male",
         "group E",
         "high school",
         "free/reduced",
         "completed",
         "86",
         "82",
         "75"
        ],
        [
         "995",
         "male",
         "group C",
         "high school",
         "standard",
         "none",
         "73",
         "70",
         "65"
        ],
        [
         "996",
         "male",
         "group D",
         "associate's degree",
         "free/reduced",
         "completed",
         "85",
         "91",
         "92"
        ],
        [
         "997",
         "female",
         "group C",
         "some high school",
         "free/reduced",
         "none",
         "32",
         "35",
         "41"
        ],
        [
         "998",
         "female",
         "group C",
         "some college",
         "standard",
         "none",
         "73",
         "74",
         "82"
        ],
        [
         "999",
         "male",
         "group A",
         "some college",
         "standard",
         "completed",
         "65",
         "60",
         "62"
        ]
       ],
       "shape": {
        "columns": 8,
        "rows": 7
       }
      },
      "text/html": [
       "<div>\n",
       "<style scoped>\n",
       "    .dataframe tbody tr th:only-of-type {\n",
       "        vertical-align: middle;\n",
       "    }\n",
       "\n",
       "    .dataframe tbody tr th {\n",
       "        vertical-align: top;\n",
       "    }\n",
       "\n",
       "    .dataframe thead th {\n",
       "        text-align: right;\n",
       "    }\n",
       "</style>\n",
       "<table border=\"1\" class=\"dataframe\">\n",
       "  <thead>\n",
       "    <tr style=\"text-align: right;\">\n",
       "      <th></th>\n",
       "      <th>gender</th>\n",
       "      <th>class group</th>\n",
       "      <th>parental level of education</th>\n",
       "      <th>lunch</th>\n",
       "      <th>test preparation course</th>\n",
       "      <th>math score</th>\n",
       "      <th>reading score</th>\n",
       "      <th>writing score</th>\n",
       "    </tr>\n",
       "  </thead>\n",
       "  <tbody>\n",
       "    <tr>\n",
       "      <th>993</th>\n",
       "      <td>female</td>\n",
       "      <td>group A</td>\n",
       "      <td>associate's degree</td>\n",
       "      <td>standard</td>\n",
       "      <td>none</td>\n",
       "      <td>58</td>\n",
       "      <td>54</td>\n",
       "      <td>58</td>\n",
       "    </tr>\n",
       "    <tr>\n",
       "      <th>994</th>\n",
       "      <td>male</td>\n",
       "      <td>group E</td>\n",
       "      <td>high school</td>\n",
       "      <td>free/reduced</td>\n",
       "      <td>completed</td>\n",
       "      <td>86</td>\n",
       "      <td>82</td>\n",
       "      <td>75</td>\n",
       "    </tr>\n",
       "    <tr>\n",
       "      <th>995</th>\n",
       "      <td>male</td>\n",
       "      <td>group C</td>\n",
       "      <td>high school</td>\n",
       "      <td>standard</td>\n",
       "      <td>none</td>\n",
       "      <td>73</td>\n",
       "      <td>70</td>\n",
       "      <td>65</td>\n",
       "    </tr>\n",
       "    <tr>\n",
       "      <th>996</th>\n",
       "      <td>male</td>\n",
       "      <td>group D</td>\n",
       "      <td>associate's degree</td>\n",
       "      <td>free/reduced</td>\n",
       "      <td>completed</td>\n",
       "      <td>85</td>\n",
       "      <td>91</td>\n",
       "      <td>92</td>\n",
       "    </tr>\n",
       "    <tr>\n",
       "      <th>997</th>\n",
       "      <td>female</td>\n",
       "      <td>group C</td>\n",
       "      <td>some high school</td>\n",
       "      <td>free/reduced</td>\n",
       "      <td>none</td>\n",
       "      <td>32</td>\n",
       "      <td>35</td>\n",
       "      <td>41</td>\n",
       "    </tr>\n",
       "    <tr>\n",
       "      <th>998</th>\n",
       "      <td>female</td>\n",
       "      <td>group C</td>\n",
       "      <td>some college</td>\n",
       "      <td>standard</td>\n",
       "      <td>none</td>\n",
       "      <td>73</td>\n",
       "      <td>74</td>\n",
       "      <td>82</td>\n",
       "    </tr>\n",
       "    <tr>\n",
       "      <th>999</th>\n",
       "      <td>male</td>\n",
       "      <td>group A</td>\n",
       "      <td>some college</td>\n",
       "      <td>standard</td>\n",
       "      <td>completed</td>\n",
       "      <td>65</td>\n",
       "      <td>60</td>\n",
       "      <td>62</td>\n",
       "    </tr>\n",
       "  </tbody>\n",
       "</table>\n",
       "</div>"
      ],
      "text/plain": [
       "     gender class group parental level of education         lunch  \\\n",
       "993  female     group A          associate's degree      standard   \n",
       "994    male     group E                 high school  free/reduced   \n",
       "995    male     group C                 high school      standard   \n",
       "996    male     group D          associate's degree  free/reduced   \n",
       "997  female     group C            some high school  free/reduced   \n",
       "998  female     group C                some college      standard   \n",
       "999    male     group A                some college      standard   \n",
       "\n",
       "    test preparation course  math score  reading score  writing score  \n",
       "993                    none          58             54             58  \n",
       "994               completed          86             82             75  \n",
       "995                    none          73             70             65  \n",
       "996               completed          85             91             92  \n",
       "997                    none          32             35             41  \n",
       "998                    none          73             74             82  \n",
       "999               completed          65             60             62  "
      ]
     },
     "execution_count": 5,
     "metadata": {},
     "output_type": "execute_result"
    }
   ],
   "source": [
    "# get the bottom 7 rows\n",
    "df.tail(7)"
   ]
  },
  {
   "cell_type": "code",
   "execution_count": 41,
   "id": "88e7bdb5",
   "metadata": {},
   "outputs": [
    {
     "data": {
      "application/vnd.microsoft.datawrangler.viewer.v0+json": {
       "columns": [
        {
         "name": "index",
         "rawType": "int64",
         "type": "integer"
        },
        {
         "name": "gender",
         "rawType": "object",
         "type": "string"
        },
        {
         "name": "class_group",
         "rawType": "object",
         "type": "string"
        },
        {
         "name": "parental_level_of_education",
         "rawType": "object",
         "type": "string"
        },
        {
         "name": "lunch",
         "rawType": "object",
         "type": "string"
        },
        {
         "name": "test_preparation_course",
         "rawType": "object",
         "type": "string"
        },
        {
         "name": "math_score",
         "rawType": "int8",
         "type": "integer"
        },
        {
         "name": "reading_score",
         "rawType": "int8",
         "type": "integer"
        },
        {
         "name": "writing_score",
         "rawType": "int8",
         "type": "integer"
        },
        {
         "name": "average_score",
         "rawType": "float64",
         "type": "float"
        }
       ],
       "ref": "1dfe5a90-31ec-4452-88e8-1ea27a6684d1",
       "rows": [
        [
         "225",
         "male",
         "group D",
         "some high school",
         "standard",
         "none",
         "82",
         "69",
         "72",
         "74.33"
        ],
        [
         "761",
         "male",
         "group C",
         "some high school",
         "standard",
         "completed",
         "70",
         "79",
         "73",
         "74.0"
        ],
        [
         "989",
         "male",
         "group D",
         "some college",
         "standard",
         "completed",
         "70",
         "60",
         "65",
         "65.0"
        ],
        [
         "242",
         "male",
         "group D",
         "some high school",
         "standard",
         "none",
         "66",
         "64",
         "58",
         "62.67"
        ],
        [
         "974",
         "female",
         "group B",
         "some high school",
         "standard",
         "none",
         "59",
         "59",
         "58",
         "58.67"
        ],
        [
         "84",
         "female",
         "group B",
         "associate's degree",
         "free/reduced",
         "none",
         "32",
         "41",
         "39",
         "37.33"
        ],
        [
         "478",
         "male",
         "group C",
         "some college",
         "free/reduced",
         "completed",
         "68",
         "73",
         "68",
         "69.67"
        ],
        [
         "473",
         "male",
         "group B",
         "some college",
         "standard",
         "none",
         "52",
         "48",
         "43",
         "47.67"
        ],
        [
         "495",
         "male",
         "group E",
         "some college",
         "standard",
         "none",
         "78",
         "65",
         "60",
         "67.67"
        ],
        [
         "531",
         "female",
         "group D",
         "associate's degree",
         "standard",
         "none",
         "66",
         "73",
         "73",
         "70.67"
        ],
        [
         "431",
         "male",
         "group E",
         "bachelor's degree",
         "standard",
         "none",
         "86",
         "71",
         "71",
         "76.0"
        ],
        [
         "442",
         "male",
         "group E",
         "some high school",
         "free/reduced",
         "completed",
         "75",
         "70",
         "61",
         "68.67"
        ]
       ],
       "shape": {
        "columns": 9,
        "rows": 12
       }
      },
      "text/html": [
       "<div>\n",
       "<style scoped>\n",
       "    .dataframe tbody tr th:only-of-type {\n",
       "        vertical-align: middle;\n",
       "    }\n",
       "\n",
       "    .dataframe tbody tr th {\n",
       "        vertical-align: top;\n",
       "    }\n",
       "\n",
       "    .dataframe thead th {\n",
       "        text-align: right;\n",
       "    }\n",
       "</style>\n",
       "<table border=\"1\" class=\"dataframe\">\n",
       "  <thead>\n",
       "    <tr style=\"text-align: right;\">\n",
       "      <th></th>\n",
       "      <th>gender</th>\n",
       "      <th>class_group</th>\n",
       "      <th>parental_level_of_education</th>\n",
       "      <th>lunch</th>\n",
       "      <th>test_preparation_course</th>\n",
       "      <th>math_score</th>\n",
       "      <th>reading_score</th>\n",
       "      <th>writing_score</th>\n",
       "      <th>average_score</th>\n",
       "    </tr>\n",
       "  </thead>\n",
       "  <tbody>\n",
       "    <tr>\n",
       "      <th>225</th>\n",
       "      <td>male</td>\n",
       "      <td>group D</td>\n",
       "      <td>some high school</td>\n",
       "      <td>standard</td>\n",
       "      <td>none</td>\n",
       "      <td>82</td>\n",
       "      <td>69</td>\n",
       "      <td>72</td>\n",
       "      <td>74.33</td>\n",
       "    </tr>\n",
       "    <tr>\n",
       "      <th>761</th>\n",
       "      <td>male</td>\n",
       "      <td>group C</td>\n",
       "      <td>some high school</td>\n",
       "      <td>standard</td>\n",
       "      <td>completed</td>\n",
       "      <td>70</td>\n",
       "      <td>79</td>\n",
       "      <td>73</td>\n",
       "      <td>74.00</td>\n",
       "    </tr>\n",
       "    <tr>\n",
       "      <th>989</th>\n",
       "      <td>male</td>\n",
       "      <td>group D</td>\n",
       "      <td>some college</td>\n",
       "      <td>standard</td>\n",
       "      <td>completed</td>\n",
       "      <td>70</td>\n",
       "      <td>60</td>\n",
       "      <td>65</td>\n",
       "      <td>65.00</td>\n",
       "    </tr>\n",
       "    <tr>\n",
       "      <th>242</th>\n",
       "      <td>male</td>\n",
       "      <td>group D</td>\n",
       "      <td>some high school</td>\n",
       "      <td>standard</td>\n",
       "      <td>none</td>\n",
       "      <td>66</td>\n",
       "      <td>64</td>\n",
       "      <td>58</td>\n",
       "      <td>62.67</td>\n",
       "    </tr>\n",
       "    <tr>\n",
       "      <th>974</th>\n",
       "      <td>female</td>\n",
       "      <td>group B</td>\n",
       "      <td>some high school</td>\n",
       "      <td>standard</td>\n",
       "      <td>none</td>\n",
       "      <td>59</td>\n",
       "      <td>59</td>\n",
       "      <td>58</td>\n",
       "      <td>58.67</td>\n",
       "    </tr>\n",
       "    <tr>\n",
       "      <th>84</th>\n",
       "      <td>female</td>\n",
       "      <td>group B</td>\n",
       "      <td>associate's degree</td>\n",
       "      <td>free/reduced</td>\n",
       "      <td>none</td>\n",
       "      <td>32</td>\n",
       "      <td>41</td>\n",
       "      <td>39</td>\n",
       "      <td>37.33</td>\n",
       "    </tr>\n",
       "    <tr>\n",
       "      <th>478</th>\n",
       "      <td>male</td>\n",
       "      <td>group C</td>\n",
       "      <td>some college</td>\n",
       "      <td>free/reduced</td>\n",
       "      <td>completed</td>\n",
       "      <td>68</td>\n",
       "      <td>73</td>\n",
       "      <td>68</td>\n",
       "      <td>69.67</td>\n",
       "    </tr>\n",
       "    <tr>\n",
       "      <th>473</th>\n",
       "      <td>male</td>\n",
       "      <td>group B</td>\n",
       "      <td>some college</td>\n",
       "      <td>standard</td>\n",
       "      <td>none</td>\n",
       "      <td>52</td>\n",
       "      <td>48</td>\n",
       "      <td>43</td>\n",
       "      <td>47.67</td>\n",
       "    </tr>\n",
       "    <tr>\n",
       "      <th>495</th>\n",
       "      <td>male</td>\n",
       "      <td>group E</td>\n",
       "      <td>some college</td>\n",
       "      <td>standard</td>\n",
       "      <td>none</td>\n",
       "      <td>78</td>\n",
       "      <td>65</td>\n",
       "      <td>60</td>\n",
       "      <td>67.67</td>\n",
       "    </tr>\n",
       "    <tr>\n",
       "      <th>531</th>\n",
       "      <td>female</td>\n",
       "      <td>group D</td>\n",
       "      <td>associate's degree</td>\n",
       "      <td>standard</td>\n",
       "      <td>none</td>\n",
       "      <td>66</td>\n",
       "      <td>73</td>\n",
       "      <td>73</td>\n",
       "      <td>70.67</td>\n",
       "    </tr>\n",
       "    <tr>\n",
       "      <th>431</th>\n",
       "      <td>male</td>\n",
       "      <td>group E</td>\n",
       "      <td>bachelor's degree</td>\n",
       "      <td>standard</td>\n",
       "      <td>none</td>\n",
       "      <td>86</td>\n",
       "      <td>71</td>\n",
       "      <td>71</td>\n",
       "      <td>76.00</td>\n",
       "    </tr>\n",
       "    <tr>\n",
       "      <th>442</th>\n",
       "      <td>male</td>\n",
       "      <td>group E</td>\n",
       "      <td>some high school</td>\n",
       "      <td>free/reduced</td>\n",
       "      <td>completed</td>\n",
       "      <td>75</td>\n",
       "      <td>70</td>\n",
       "      <td>61</td>\n",
       "      <td>68.67</td>\n",
       "    </tr>\n",
       "  </tbody>\n",
       "</table>\n",
       "</div>"
      ],
      "text/plain": [
       "     gender class_group parental_level_of_education         lunch  \\\n",
       "225    male     group D            some high school      standard   \n",
       "761    male     group C            some high school      standard   \n",
       "989    male     group D                some college      standard   \n",
       "242    male     group D            some high school      standard   \n",
       "974  female     group B            some high school      standard   \n",
       "84   female     group B          associate's degree  free/reduced   \n",
       "478    male     group C                some college  free/reduced   \n",
       "473    male     group B                some college      standard   \n",
       "495    male     group E                some college      standard   \n",
       "531  female     group D          associate's degree      standard   \n",
       "431    male     group E           bachelor's degree      standard   \n",
       "442    male     group E            some high school  free/reduced   \n",
       "\n",
       "    test_preparation_course  math_score  reading_score  writing_score  \\\n",
       "225                    none          82             69             72   \n",
       "761               completed          70             79             73   \n",
       "989               completed          70             60             65   \n",
       "242                    none          66             64             58   \n",
       "974                    none          59             59             58   \n",
       "84                     none          32             41             39   \n",
       "478               completed          68             73             68   \n",
       "473                    none          52             48             43   \n",
       "495                    none          78             65             60   \n",
       "531                    none          66             73             73   \n",
       "431                    none          86             71             71   \n",
       "442               completed          75             70             61   \n",
       "\n",
       "     average_score  \n",
       "225          74.33  \n",
       "761          74.00  \n",
       "989          65.00  \n",
       "242          62.67  \n",
       "974          58.67  \n",
       "84           37.33  \n",
       "478          69.67  \n",
       "473          47.67  \n",
       "495          67.67  \n",
       "531          70.67  \n",
       "431          76.00  \n",
       "442          68.67  "
      ]
     },
     "execution_count": 41,
     "metadata": {},
     "output_type": "execute_result"
    }
   ],
   "source": [
    "# get a random sample of data\n",
    "df.sample(12)"
   ]
  },
  {
   "cell_type": "code",
   "execution_count": 7,
   "id": "efcd7a88",
   "metadata": {},
   "outputs": [
    {
     "data": {
      "text/plain": [
       "(1000, 8)"
      ]
     },
     "execution_count": 7,
     "metadata": {},
     "output_type": "execute_result"
    }
   ],
   "source": [
    "df.shape"
   ]
  },
  {
   "cell_type": "code",
   "execution_count": 8,
   "id": "a682d3f3",
   "metadata": {},
   "outputs": [
    {
     "name": "stdout",
     "output_type": "stream",
     "text": [
      "This dataset has 1000 rows and 8 columns\n"
     ]
    }
   ],
   "source": [
    "print(f'This dataset has {df.shape[0]} rows and {df.shape[1]} columns')"
   ]
  },
  {
   "cell_type": "code",
   "execution_count": 9,
   "id": "406f96ab",
   "metadata": {},
   "outputs": [
    {
     "data": {
      "application/vnd.microsoft.datawrangler.viewer.v0+json": {
       "columns": [
        {
         "name": "index",
         "rawType": "object",
         "type": "string"
        },
        {
         "name": "0",
         "rawType": "int64",
         "type": "integer"
        }
       ],
       "ref": "6094c4bb-2098-40d0-92b5-a4e50d963b25",
       "rows": [
        [
         "gender",
         "0"
        ],
        [
         "class group",
         "0"
        ],
        [
         "parental level of education",
         "0"
        ],
        [
         "lunch",
         "0"
        ],
        [
         "test preparation course",
         "0"
        ],
        [
         "math score",
         "0"
        ],
        [
         "reading score",
         "0"
        ],
        [
         "writing score",
         "0"
        ]
       ],
       "shape": {
        "columns": 1,
        "rows": 8
       }
      },
      "text/plain": [
       "gender                         0\n",
       "class group                    0\n",
       "parental level of education    0\n",
       "lunch                          0\n",
       "test preparation course        0\n",
       "math score                     0\n",
       "reading score                  0\n",
       "writing score                  0\n",
       "dtype: int64"
      ]
     },
     "execution_count": 9,
     "metadata": {},
     "output_type": "execute_result"
    }
   ],
   "source": [
    "df.isna().sum()"
   ]
  },
  {
   "cell_type": "markdown",
   "id": "c8aed175",
   "metadata": {},
   "source": [
    "**Observations**\n",
    "- The data has no null values\n",
    "- We have multiple categorical columns (e.g. gender, class groups, lunch)\n",
    "- There are different level of eductions for the student's parents\n",
    "- We're seeing higher numbers of \"some high school\" and \"some college\". This is a sample. We need to confirm our observation of the true distribution using data analysis below.\n",
    "- Lunch seems to have categories"
   ]
  },
  {
   "cell_type": "code",
   "execution_count": 10,
   "id": "77564333",
   "metadata": {},
   "outputs": [
    {
     "data": {
      "text/plain": [
       "0"
      ]
     },
     "execution_count": 10,
     "metadata": {},
     "output_type": "execute_result"
    }
   ],
   "source": [
    "df.isna().sum().sum()"
   ]
  },
  {
   "cell_type": "markdown",
   "id": "67d446cd",
   "metadata": {},
   "source": [
    "`info()` provides null counts, data types, and data size all in one."
   ]
  },
  {
   "cell_type": "code",
   "execution_count": 11,
   "id": "e0d067b2",
   "metadata": {},
   "outputs": [
    {
     "name": "stdout",
     "output_type": "stream",
     "text": [
      "<class 'pandas.core.frame.DataFrame'>\n",
      "RangeIndex: 1000 entries, 0 to 999\n",
      "Data columns (total 8 columns):\n",
      " #   Column                       Non-Null Count  Dtype \n",
      "---  ------                       --------------  ----- \n",
      " 0   gender                       1000 non-null   object\n",
      " 1   class group                  1000 non-null   object\n",
      " 2   parental level of education  1000 non-null   object\n",
      " 3   lunch                        1000 non-null   object\n",
      " 4   test preparation course      1000 non-null   object\n",
      " 5   math score                   1000 non-null   int64 \n",
      " 6   reading score                1000 non-null   int64 \n",
      " 7   writing score                1000 non-null   int64 \n",
      "dtypes: int64(3), object(5)\n",
      "memory usage: 62.6+ KB\n"
     ]
    }
   ],
   "source": [
    "df.info()"
   ]
  },
  {
   "cell_type": "code",
   "execution_count": 12,
   "id": "9b5f7d89",
   "metadata": {},
   "outputs": [
    {
     "name": "stdout",
     "output_type": "stream",
     "text": [
      "<class 'pandas.core.frame.DataFrame'>\n",
      "RangeIndex: 1000 entries, 0 to 999\n",
      "Data columns (total 8 columns):\n",
      " #   Column                       Non-Null Count  Dtype \n",
      "---  ------                       --------------  ----- \n",
      " 0   gender                       1000 non-null   object\n",
      " 1   class group                  1000 non-null   object\n",
      " 2   parental level of education  1000 non-null   object\n",
      " 3   lunch                        1000 non-null   object\n",
      " 4   test preparation course      1000 non-null   object\n",
      " 5   math score                   1000 non-null   int64 \n",
      " 6   reading score                1000 non-null   int64 \n",
      " 7   writing score                1000 non-null   int64 \n",
      "dtypes: int64(3), object(5)\n",
      "memory usage: 342.5 KB\n"
     ]
    }
   ],
   "source": [
    "df.info(memory_usage='deep') # to ge the true mem consumption"
   ]
  },
  {
   "cell_type": "code",
   "execution_count": 13,
   "id": "bf0d8030",
   "metadata": {},
   "outputs": [],
   "source": [
    "# to improve memory consumption - chang the datatype to lower size\n",
    "df[['math score','reading score','writing score']] = df[['math score','reading score','writing score']].apply(pd.to_numeric, downcast='integer')"
   ]
  },
  {
   "cell_type": "code",
   "execution_count": 14,
   "id": "66f97747",
   "metadata": {},
   "outputs": [
    {
     "name": "stdout",
     "output_type": "stream",
     "text": [
      "<class 'pandas.core.frame.DataFrame'>\n",
      "RangeIndex: 1000 entries, 0 to 999\n",
      "Data columns (total 8 columns):\n",
      " #   Column                       Non-Null Count  Dtype \n",
      "---  ------                       --------------  ----- \n",
      " 0   gender                       1000 non-null   object\n",
      " 1   class group                  1000 non-null   object\n",
      " 2   parental level of education  1000 non-null   object\n",
      " 3   lunch                        1000 non-null   object\n",
      " 4   test preparation course      1000 non-null   object\n",
      " 5   math score                   1000 non-null   int8  \n",
      " 6   reading score                1000 non-null   int8  \n",
      " 7   writing score                1000 non-null   int8  \n",
      "dtypes: int8(3), object(5)\n",
      "memory usage: 322.0 KB\n"
     ]
    }
   ],
   "source": [
    "df.info(memory_usage='deep')"
   ]
  },
  {
   "cell_type": "markdown",
   "id": "447d7503",
   "metadata": {},
   "source": [
    "### Data Selection & Filtering"
   ]
  },
  {
   "cell_type": "code",
   "execution_count": 15,
   "id": "3db707c5",
   "metadata": {},
   "outputs": [
    {
     "data": {
      "application/vnd.microsoft.datawrangler.viewer.v0+json": {
       "columns": [
        {
         "name": "index",
         "rawType": "int64",
         "type": "integer"
        },
        {
         "name": "gender",
         "rawType": "object",
         "type": "string"
        },
        {
         "name": "class group",
         "rawType": "object",
         "type": "string"
        },
        {
         "name": "parental level of education",
         "rawType": "object",
         "type": "string"
        },
        {
         "name": "lunch",
         "rawType": "object",
         "type": "string"
        },
        {
         "name": "test preparation course",
         "rawType": "object",
         "type": "string"
        },
        {
         "name": "math score",
         "rawType": "int8",
         "type": "integer"
        },
        {
         "name": "reading score",
         "rawType": "int8",
         "type": "integer"
        },
        {
         "name": "writing score",
         "rawType": "int8",
         "type": "integer"
        }
       ],
       "ref": "cd61e8cd-cc9d-4071-b9c8-fe606b6f52c2",
       "rows": [
        [
         "200",
         "female",
         "group D",
         "associate's degree",
         "standard",
         "completed",
         "50",
         "63",
         "65"
        ],
        [
         "201",
         "male",
         "group E",
         "associate's degree",
         "standard",
         "none",
         "55",
         "54",
         "47"
        ],
        [
         "202",
         "male",
         "group C",
         "some college",
         "standard",
         "none",
         "77",
         "64",
         "70"
        ],
        [
         "203",
         "female",
         "group B",
         "some high school",
         "standard",
         "completed",
         "49",
         "64",
         "67"
        ],
        [
         "204",
         "female",
         "group D",
         "associate's degree",
         "free/reduced",
         "none",
         "66",
         "83",
         "82"
        ],
        [
         "205",
         "male",
         "group B",
         "some high school",
         "standard",
         "completed",
         "77",
         "74",
         "75"
        ],
        [
         "206",
         "female",
         "group A",
         "master's degree",
         "standard",
         "completed",
         "74",
         "78",
         "84"
        ],
        [
         "207",
         "male",
         "group C",
         "some college",
         "standard",
         "none",
         "85",
         "78",
         "81"
        ],
        [
         "208",
         "female",
         "group A",
         "some college",
         "standard",
         "none",
         "77",
         "86",
         "84"
        ],
        [
         "209",
         "female",
         "group B",
         "associate's degree",
         "standard",
         "none",
         "64",
         "62",
         "66"
        ],
        [
         "210",
         "female",
         "group D",
         "high school",
         "free/reduced",
         "completed",
         "61",
         "69",
         "68"
        ]
       ],
       "shape": {
        "columns": 8,
        "rows": 11
       }
      },
      "text/html": [
       "<div>\n",
       "<style scoped>\n",
       "    .dataframe tbody tr th:only-of-type {\n",
       "        vertical-align: middle;\n",
       "    }\n",
       "\n",
       "    .dataframe tbody tr th {\n",
       "        vertical-align: top;\n",
       "    }\n",
       "\n",
       "    .dataframe thead th {\n",
       "        text-align: right;\n",
       "    }\n",
       "</style>\n",
       "<table border=\"1\" class=\"dataframe\">\n",
       "  <thead>\n",
       "    <tr style=\"text-align: right;\">\n",
       "      <th></th>\n",
       "      <th>gender</th>\n",
       "      <th>class group</th>\n",
       "      <th>parental level of education</th>\n",
       "      <th>lunch</th>\n",
       "      <th>test preparation course</th>\n",
       "      <th>math score</th>\n",
       "      <th>reading score</th>\n",
       "      <th>writing score</th>\n",
       "    </tr>\n",
       "  </thead>\n",
       "  <tbody>\n",
       "    <tr>\n",
       "      <th>200</th>\n",
       "      <td>female</td>\n",
       "      <td>group D</td>\n",
       "      <td>associate's degree</td>\n",
       "      <td>standard</td>\n",
       "      <td>completed</td>\n",
       "      <td>50</td>\n",
       "      <td>63</td>\n",
       "      <td>65</td>\n",
       "    </tr>\n",
       "    <tr>\n",
       "      <th>201</th>\n",
       "      <td>male</td>\n",
       "      <td>group E</td>\n",
       "      <td>associate's degree</td>\n",
       "      <td>standard</td>\n",
       "      <td>none</td>\n",
       "      <td>55</td>\n",
       "      <td>54</td>\n",
       "      <td>47</td>\n",
       "    </tr>\n",
       "    <tr>\n",
       "      <th>202</th>\n",
       "      <td>male</td>\n",
       "      <td>group C</td>\n",
       "      <td>some college</td>\n",
       "      <td>standard</td>\n",
       "      <td>none</td>\n",
       "      <td>77</td>\n",
       "      <td>64</td>\n",
       "      <td>70</td>\n",
       "    </tr>\n",
       "    <tr>\n",
       "      <th>203</th>\n",
       "      <td>female</td>\n",
       "      <td>group B</td>\n",
       "      <td>some high school</td>\n",
       "      <td>standard</td>\n",
       "      <td>completed</td>\n",
       "      <td>49</td>\n",
       "      <td>64</td>\n",
       "      <td>67</td>\n",
       "    </tr>\n",
       "    <tr>\n",
       "      <th>204</th>\n",
       "      <td>female</td>\n",
       "      <td>group D</td>\n",
       "      <td>associate's degree</td>\n",
       "      <td>free/reduced</td>\n",
       "      <td>none</td>\n",
       "      <td>66</td>\n",
       "      <td>83</td>\n",
       "      <td>82</td>\n",
       "    </tr>\n",
       "    <tr>\n",
       "      <th>205</th>\n",
       "      <td>male</td>\n",
       "      <td>group B</td>\n",
       "      <td>some high school</td>\n",
       "      <td>standard</td>\n",
       "      <td>completed</td>\n",
       "      <td>77</td>\n",
       "      <td>74</td>\n",
       "      <td>75</td>\n",
       "    </tr>\n",
       "    <tr>\n",
       "      <th>206</th>\n",
       "      <td>female</td>\n",
       "      <td>group A</td>\n",
       "      <td>master's degree</td>\n",
       "      <td>standard</td>\n",
       "      <td>completed</td>\n",
       "      <td>74</td>\n",
       "      <td>78</td>\n",
       "      <td>84</td>\n",
       "    </tr>\n",
       "    <tr>\n",
       "      <th>207</th>\n",
       "      <td>male</td>\n",
       "      <td>group C</td>\n",
       "      <td>some college</td>\n",
       "      <td>standard</td>\n",
       "      <td>none</td>\n",
       "      <td>85</td>\n",
       "      <td>78</td>\n",
       "      <td>81</td>\n",
       "    </tr>\n",
       "    <tr>\n",
       "      <th>208</th>\n",
       "      <td>female</td>\n",
       "      <td>group A</td>\n",
       "      <td>some college</td>\n",
       "      <td>standard</td>\n",
       "      <td>none</td>\n",
       "      <td>77</td>\n",
       "      <td>86</td>\n",
       "      <td>84</td>\n",
       "    </tr>\n",
       "    <tr>\n",
       "      <th>209</th>\n",
       "      <td>female</td>\n",
       "      <td>group B</td>\n",
       "      <td>associate's degree</td>\n",
       "      <td>standard</td>\n",
       "      <td>none</td>\n",
       "      <td>64</td>\n",
       "      <td>62</td>\n",
       "      <td>66</td>\n",
       "    </tr>\n",
       "    <tr>\n",
       "      <th>210</th>\n",
       "      <td>female</td>\n",
       "      <td>group D</td>\n",
       "      <td>high school</td>\n",
       "      <td>free/reduced</td>\n",
       "      <td>completed</td>\n",
       "      <td>61</td>\n",
       "      <td>69</td>\n",
       "      <td>68</td>\n",
       "    </tr>\n",
       "  </tbody>\n",
       "</table>\n",
       "</div>"
      ],
      "text/plain": [
       "     gender class group parental level of education         lunch  \\\n",
       "200  female     group D          associate's degree      standard   \n",
       "201    male     group E          associate's degree      standard   \n",
       "202    male     group C                some college      standard   \n",
       "203  female     group B            some high school      standard   \n",
       "204  female     group D          associate's degree  free/reduced   \n",
       "205    male     group B            some high school      standard   \n",
       "206  female     group A             master's degree      standard   \n",
       "207    male     group C                some college      standard   \n",
       "208  female     group A                some college      standard   \n",
       "209  female     group B          associate's degree      standard   \n",
       "210  female     group D                 high school  free/reduced   \n",
       "\n",
       "    test preparation course  math score  reading score  writing score  \n",
       "200               completed          50             63             65  \n",
       "201                    none          55             54             47  \n",
       "202                    none          77             64             70  \n",
       "203               completed          49             64             67  \n",
       "204                    none          66             83             82  \n",
       "205               completed          77             74             75  \n",
       "206               completed          74             78             84  \n",
       "207                    none          85             78             81  \n",
       "208                    none          77             86             84  \n",
       "209                    none          64             62             66  \n",
       "210               completed          61             69             68  "
      ]
     },
     "execution_count": 15,
     "metadata": {},
     "output_type": "execute_result"
    }
   ],
   "source": [
    "df.loc[200:210]"
   ]
  },
  {
   "cell_type": "code",
   "execution_count": 16,
   "id": "a6a5a73a",
   "metadata": {},
   "outputs": [
    {
     "data": {
      "application/vnd.microsoft.datawrangler.viewer.v0+json": {
       "columns": [
        {
         "name": "index",
         "rawType": "int64",
         "type": "integer"
        },
        {
         "name": "lunch",
         "rawType": "object",
         "type": "string"
        },
        {
         "name": "math score",
         "rawType": "int8",
         "type": "integer"
        }
       ],
       "ref": "89377fb9-00e7-481b-a374-1a9b0007cfe4",
       "rows": [
        [
         "0",
         "standard",
         "67"
        ],
        [
         "1",
         "free/reduced",
         "40"
        ],
        [
         "2",
         "free/reduced",
         "59"
        ],
        [
         "3",
         "standard",
         "77"
        ],
        [
         "4",
         "standard",
         "78"
        ]
       ],
       "shape": {
        "columns": 2,
        "rows": 5
       }
      },
      "text/html": [
       "<div>\n",
       "<style scoped>\n",
       "    .dataframe tbody tr th:only-of-type {\n",
       "        vertical-align: middle;\n",
       "    }\n",
       "\n",
       "    .dataframe tbody tr th {\n",
       "        vertical-align: top;\n",
       "    }\n",
       "\n",
       "    .dataframe thead th {\n",
       "        text-align: right;\n",
       "    }\n",
       "</style>\n",
       "<table border=\"1\" class=\"dataframe\">\n",
       "  <thead>\n",
       "    <tr style=\"text-align: right;\">\n",
       "      <th></th>\n",
       "      <th>lunch</th>\n",
       "      <th>math score</th>\n",
       "    </tr>\n",
       "  </thead>\n",
       "  <tbody>\n",
       "    <tr>\n",
       "      <th>0</th>\n",
       "      <td>standard</td>\n",
       "      <td>67</td>\n",
       "    </tr>\n",
       "    <tr>\n",
       "      <th>1</th>\n",
       "      <td>free/reduced</td>\n",
       "      <td>40</td>\n",
       "    </tr>\n",
       "    <tr>\n",
       "      <th>2</th>\n",
       "      <td>free/reduced</td>\n",
       "      <td>59</td>\n",
       "    </tr>\n",
       "    <tr>\n",
       "      <th>3</th>\n",
       "      <td>standard</td>\n",
       "      <td>77</td>\n",
       "    </tr>\n",
       "    <tr>\n",
       "      <th>4</th>\n",
       "      <td>standard</td>\n",
       "      <td>78</td>\n",
       "    </tr>\n",
       "  </tbody>\n",
       "</table>\n",
       "</div>"
      ],
      "text/plain": [
       "          lunch  math score\n",
       "0      standard          67\n",
       "1  free/reduced          40\n",
       "2  free/reduced          59\n",
       "3      standard          77\n",
       "4      standard          78"
      ]
     },
     "execution_count": 16,
     "metadata": {},
     "output_type": "execute_result"
    }
   ],
   "source": [
    "# get top 5 rows for lunch and math score\n",
    "df[['lunch', 'math score']].head()"
   ]
  },
  {
   "cell_type": "code",
   "execution_count": 17,
   "id": "ae15bd61",
   "metadata": {},
   "outputs": [
    {
     "data": {
      "application/vnd.microsoft.datawrangler.viewer.v0+json": {
       "columns": [
        {
         "name": "index",
         "rawType": "int64",
         "type": "integer"
        },
        {
         "name": "lunch",
         "rawType": "object",
         "type": "string"
        },
        {
         "name": "test preparation course",
         "rawType": "object",
         "type": "string"
        },
        {
         "name": "math score",
         "rawType": "int8",
         "type": "integer"
        }
       ],
       "ref": "8a5acd8b-3ae6-4f12-b8d4-ad64f16b99c1",
       "rows": [
        [
         "100",
         "free/reduced",
         "completed",
         "54"
        ],
        [
         "101",
         "standard",
         "completed",
         "75"
        ],
        [
         "102",
         "standard",
         "none",
         "79"
        ],
        [
         "103",
         "standard",
         "none",
         "66"
        ],
        [
         "104",
         "standard",
         "none",
         "47"
        ],
        [
         "105",
         "standard",
         "none",
         "70"
        ],
        [
         "106",
         "standard",
         "none",
         "82"
        ],
        [
         "107",
         "standard",
         "none",
         "56"
        ],
        [
         "108",
         "standard",
         "none",
         "92"
        ],
        [
         "109",
         "free/reduced",
         "none",
         "30"
        ],
        [
         "110",
         "standard",
         "completed",
         "79"
        ]
       ],
       "shape": {
        "columns": 3,
        "rows": 11
       }
      },
      "text/html": [
       "<div>\n",
       "<style scoped>\n",
       "    .dataframe tbody tr th:only-of-type {\n",
       "        vertical-align: middle;\n",
       "    }\n",
       "\n",
       "    .dataframe tbody tr th {\n",
       "        vertical-align: top;\n",
       "    }\n",
       "\n",
       "    .dataframe thead th {\n",
       "        text-align: right;\n",
       "    }\n",
       "</style>\n",
       "<table border=\"1\" class=\"dataframe\">\n",
       "  <thead>\n",
       "    <tr style=\"text-align: right;\">\n",
       "      <th></th>\n",
       "      <th>lunch</th>\n",
       "      <th>test preparation course</th>\n",
       "      <th>math score</th>\n",
       "    </tr>\n",
       "  </thead>\n",
       "  <tbody>\n",
       "    <tr>\n",
       "      <th>100</th>\n",
       "      <td>free/reduced</td>\n",
       "      <td>completed</td>\n",
       "      <td>54</td>\n",
       "    </tr>\n",
       "    <tr>\n",
       "      <th>101</th>\n",
       "      <td>standard</td>\n",
       "      <td>completed</td>\n",
       "      <td>75</td>\n",
       "    </tr>\n",
       "    <tr>\n",
       "      <th>102</th>\n",
       "      <td>standard</td>\n",
       "      <td>none</td>\n",
       "      <td>79</td>\n",
       "    </tr>\n",
       "    <tr>\n",
       "      <th>103</th>\n",
       "      <td>standard</td>\n",
       "      <td>none</td>\n",
       "      <td>66</td>\n",
       "    </tr>\n",
       "    <tr>\n",
       "      <th>104</th>\n",
       "      <td>standard</td>\n",
       "      <td>none</td>\n",
       "      <td>47</td>\n",
       "    </tr>\n",
       "    <tr>\n",
       "      <th>105</th>\n",
       "      <td>standard</td>\n",
       "      <td>none</td>\n",
       "      <td>70</td>\n",
       "    </tr>\n",
       "    <tr>\n",
       "      <th>106</th>\n",
       "      <td>standard</td>\n",
       "      <td>none</td>\n",
       "      <td>82</td>\n",
       "    </tr>\n",
       "    <tr>\n",
       "      <th>107</th>\n",
       "      <td>standard</td>\n",
       "      <td>none</td>\n",
       "      <td>56</td>\n",
       "    </tr>\n",
       "    <tr>\n",
       "      <th>108</th>\n",
       "      <td>standard</td>\n",
       "      <td>none</td>\n",
       "      <td>92</td>\n",
       "    </tr>\n",
       "    <tr>\n",
       "      <th>109</th>\n",
       "      <td>free/reduced</td>\n",
       "      <td>none</td>\n",
       "      <td>30</td>\n",
       "    </tr>\n",
       "    <tr>\n",
       "      <th>110</th>\n",
       "      <td>standard</td>\n",
       "      <td>completed</td>\n",
       "      <td>79</td>\n",
       "    </tr>\n",
       "  </tbody>\n",
       "</table>\n",
       "</div>"
      ],
      "text/plain": [
       "            lunch test preparation course  math score\n",
       "100  free/reduced               completed          54\n",
       "101      standard               completed          75\n",
       "102      standard                    none          79\n",
       "103      standard                    none          66\n",
       "104      standard                    none          47\n",
       "105      standard                    none          70\n",
       "106      standard                    none          82\n",
       "107      standard                    none          56\n",
       "108      standard                    none          92\n",
       "109  free/reduced                    none          30\n",
       "110      standard               completed          79"
      ]
     },
     "execution_count": 17,
     "metadata": {},
     "output_type": "execute_result"
    }
   ],
   "source": [
    "df.iloc[100:111, 3:6]"
   ]
  },
  {
   "cell_type": "code",
   "execution_count": 18,
   "id": "6e32568b",
   "metadata": {},
   "outputs": [
    {
     "data": {
      "text/plain": [
       "Index(['gender', 'class group', 'parental level of education', 'lunch',\n",
       "       'test preparation course', 'math score', 'reading score',\n",
       "       'writing score'],\n",
       "      dtype='object')"
      ]
     },
     "execution_count": 18,
     "metadata": {},
     "output_type": "execute_result"
    }
   ],
   "source": [
    "df.columns"
   ]
  },
  {
   "cell_type": "code",
   "execution_count": 19,
   "id": "907c6f48",
   "metadata": {},
   "outputs": [
    {
     "data": {
      "application/vnd.microsoft.datawrangler.viewer.v0+json": {
       "columns": [
        {
         "name": "index",
         "rawType": "int64",
         "type": "integer"
        },
        {
         "name": "gender",
         "rawType": "object",
         "type": "string"
        },
        {
         "name": "class_group",
         "rawType": "object",
         "type": "string"
        },
        {
         "name": "parental_level_of_education",
         "rawType": "object",
         "type": "string"
        },
        {
         "name": "lunch",
         "rawType": "object",
         "type": "string"
        },
        {
         "name": "test_preparation_course",
         "rawType": "object",
         "type": "string"
        },
        {
         "name": "math_score",
         "rawType": "int8",
         "type": "integer"
        },
        {
         "name": "reading_score",
         "rawType": "int8",
         "type": "integer"
        },
        {
         "name": "writing_score",
         "rawType": "int8",
         "type": "integer"
        }
       ],
       "ref": "73a61c01-d231-4c29-93f4-5863a1bf6d17",
       "rows": [
        [
         "0",
         "male",
         "group A",
         "high school",
         "standard",
         "completed",
         "67",
         "67",
         "63"
        ],
        [
         "1",
         "female",
         "group D",
         "some high school",
         "free/reduced",
         "none",
         "40",
         "59",
         "55"
        ],
        [
         "2",
         "male",
         "group E",
         "some college",
         "free/reduced",
         "none",
         "59",
         "60",
         "50"
        ],
        [
         "3",
         "male",
         "group B",
         "high school",
         "standard",
         "none",
         "77",
         "78",
         "68"
        ],
        [
         "4",
         "male",
         "group E",
         "associate's degree",
         "standard",
         "completed",
         "78",
         "73",
         "68"
        ]
       ],
       "shape": {
        "columns": 8,
        "rows": 5
       }
      },
      "text/html": [
       "<div>\n",
       "<style scoped>\n",
       "    .dataframe tbody tr th:only-of-type {\n",
       "        vertical-align: middle;\n",
       "    }\n",
       "\n",
       "    .dataframe tbody tr th {\n",
       "        vertical-align: top;\n",
       "    }\n",
       "\n",
       "    .dataframe thead th {\n",
       "        text-align: right;\n",
       "    }\n",
       "</style>\n",
       "<table border=\"1\" class=\"dataframe\">\n",
       "  <thead>\n",
       "    <tr style=\"text-align: right;\">\n",
       "      <th></th>\n",
       "      <th>gender</th>\n",
       "      <th>class_group</th>\n",
       "      <th>parental_level_of_education</th>\n",
       "      <th>lunch</th>\n",
       "      <th>test_preparation_course</th>\n",
       "      <th>math_score</th>\n",
       "      <th>reading_score</th>\n",
       "      <th>writing_score</th>\n",
       "    </tr>\n",
       "  </thead>\n",
       "  <tbody>\n",
       "    <tr>\n",
       "      <th>0</th>\n",
       "      <td>male</td>\n",
       "      <td>group A</td>\n",
       "      <td>high school</td>\n",
       "      <td>standard</td>\n",
       "      <td>completed</td>\n",
       "      <td>67</td>\n",
       "      <td>67</td>\n",
       "      <td>63</td>\n",
       "    </tr>\n",
       "    <tr>\n",
       "      <th>1</th>\n",
       "      <td>female</td>\n",
       "      <td>group D</td>\n",
       "      <td>some high school</td>\n",
       "      <td>free/reduced</td>\n",
       "      <td>none</td>\n",
       "      <td>40</td>\n",
       "      <td>59</td>\n",
       "      <td>55</td>\n",
       "    </tr>\n",
       "    <tr>\n",
       "      <th>2</th>\n",
       "      <td>male</td>\n",
       "      <td>group E</td>\n",
       "      <td>some college</td>\n",
       "      <td>free/reduced</td>\n",
       "      <td>none</td>\n",
       "      <td>59</td>\n",
       "      <td>60</td>\n",
       "      <td>50</td>\n",
       "    </tr>\n",
       "    <tr>\n",
       "      <th>3</th>\n",
       "      <td>male</td>\n",
       "      <td>group B</td>\n",
       "      <td>high school</td>\n",
       "      <td>standard</td>\n",
       "      <td>none</td>\n",
       "      <td>77</td>\n",
       "      <td>78</td>\n",
       "      <td>68</td>\n",
       "    </tr>\n",
       "    <tr>\n",
       "      <th>4</th>\n",
       "      <td>male</td>\n",
       "      <td>group E</td>\n",
       "      <td>associate's degree</td>\n",
       "      <td>standard</td>\n",
       "      <td>completed</td>\n",
       "      <td>78</td>\n",
       "      <td>73</td>\n",
       "      <td>68</td>\n",
       "    </tr>\n",
       "  </tbody>\n",
       "</table>\n",
       "</div>"
      ],
      "text/plain": [
       "   gender class_group parental_level_of_education         lunch  \\\n",
       "0    male     group A                 high school      standard   \n",
       "1  female     group D            some high school  free/reduced   \n",
       "2    male     group E                some college  free/reduced   \n",
       "3    male     group B                 high school      standard   \n",
       "4    male     group E          associate's degree      standard   \n",
       "\n",
       "  test_preparation_course  math_score  reading_score  writing_score  \n",
       "0               completed          67             67             63  \n",
       "1                    none          40             59             55  \n",
       "2                    none          59             60             50  \n",
       "3                    none          77             78             68  \n",
       "4               completed          78             73             68  "
      ]
     },
     "execution_count": 19,
     "metadata": {},
     "output_type": "execute_result"
    }
   ],
   "source": [
    "df.columns = df.columns.str.replace(' ', '_')\n",
    "df.head()"
   ]
  },
  {
   "cell_type": "code",
   "execution_count": 20,
   "id": "bf6ac859",
   "metadata": {},
   "outputs": [
    {
     "data": {
      "application/vnd.microsoft.datawrangler.viewer.v0+json": {
       "columns": [
        {
         "name": "index",
         "rawType": "object",
         "type": "string"
        },
        {
         "name": "0",
         "rawType": "float64",
         "type": "float"
        }
       ],
       "ref": "938d1670-06a9-4518-a115-188d4e09da0f",
       "rows": [
        [
         "math_score",
         "66.396"
        ],
        [
         "reading_score",
         "69.002"
        ],
        [
         "writing_score",
         "67.738"
        ]
       ],
       "shape": {
        "columns": 1,
        "rows": 3
       }
      },
      "text/plain": [
       "math_score       66.396\n",
       "reading_score    69.002\n",
       "writing_score    67.738\n",
       "dtype: float64"
      ]
     },
     "execution_count": 20,
     "metadata": {},
     "output_type": "execute_result"
    }
   ],
   "source": [
    "# get the average of numeric columns\n",
    "df.mean(numeric_only=True)"
   ]
  },
  {
   "cell_type": "code",
   "execution_count": 21,
   "id": "e35a9f78",
   "metadata": {},
   "outputs": [
    {
     "data": {
      "text/plain": [
       "66.396"
      ]
     },
     "execution_count": 21,
     "metadata": {},
     "output_type": "execute_result"
    }
   ],
   "source": [
    "# for a specific column\n",
    "df['math_score'].mean()"
   ]
  },
  {
   "cell_type": "code",
   "execution_count": 22,
   "id": "aea5eac7",
   "metadata": {},
   "outputs": [
    {
     "data": {
      "application/vnd.microsoft.datawrangler.viewer.v0+json": {
       "columns": [
        {
         "name": "index",
         "rawType": "object",
         "type": "string"
        },
        {
         "name": "0",
         "rawType": "int64",
         "type": "integer"
        }
       ],
       "ref": "9342dbe4-aaab-43c3-83d1-e7e67e5754c6",
       "rows": [
        [
         "math_score",
         "66396"
        ],
        [
         "reading_score",
         "69002"
        ],
        [
         "writing_score",
         "67738"
        ]
       ],
       "shape": {
        "columns": 1,
        "rows": 3
       }
      },
      "text/plain": [
       "math_score       66396\n",
       "reading_score    69002\n",
       "writing_score    67738\n",
       "dtype: int64"
      ]
     },
     "execution_count": 22,
     "metadata": {},
     "output_type": "execute_result"
    }
   ],
   "source": [
    "# total scores\n",
    "df.sum(numeric_only=True)"
   ]
  },
  {
   "cell_type": "code",
   "execution_count": 23,
   "id": "643f46c8",
   "metadata": {},
   "outputs": [
    {
     "data": {
      "application/vnd.microsoft.datawrangler.viewer.v0+json": {
       "columns": [
        {
         "name": "index",
         "rawType": "object",
         "type": "string"
        },
        {
         "name": "0",
         "rawType": "int8",
         "type": "integer"
        }
       ],
       "ref": "b6af32be-7eff-4a98-84d5-968c55355613",
       "rows": [
        [
         "math_score",
         "100"
        ],
        [
         "reading_score",
         "100"
        ],
        [
         "writing_score",
         "100"
        ]
       ],
       "shape": {
        "columns": 1,
        "rows": 3
       }
      },
      "text/plain": [
       "math_score       100\n",
       "reading_score    100\n",
       "writing_score    100\n",
       "dtype: int8"
      ]
     },
     "execution_count": 23,
     "metadata": {},
     "output_type": "execute_result"
    }
   ],
   "source": [
    "df.max(numeric_only=True)"
   ]
  },
  {
   "cell_type": "markdown",
   "id": "33262666",
   "metadata": {},
   "source": [
    "Using the `describe()` function"
   ]
  },
  {
   "cell_type": "code",
   "execution_count": 24,
   "id": "1099b0ac",
   "metadata": {},
   "outputs": [
    {
     "data": {
      "application/vnd.microsoft.datawrangler.viewer.v0+json": {
       "columns": [
        {
         "name": "index",
         "rawType": "object",
         "type": "string"
        },
        {
         "name": "math_score",
         "rawType": "float64",
         "type": "float"
        },
        {
         "name": "reading_score",
         "rawType": "float64",
         "type": "float"
        },
        {
         "name": "writing_score",
         "rawType": "float64",
         "type": "float"
        }
       ],
       "ref": "594b7817-7f13-4bef-9604-75a55c57d22b",
       "rows": [
        [
         "count",
         "1000.0",
         "1000.0",
         "1000.0"
        ],
        [
         "mean",
         "66.396",
         "69.002",
         "67.738"
        ],
        [
         "std",
         "15.402870915268766",
         "14.737271904364905",
         "15.600985441527298"
        ],
        [
         "min",
         "13.0",
         "27.0",
         "23.0"
        ],
        [
         "25%",
         "56.0",
         "60.0",
         "58.0"
        ],
        [
         "50%",
         "66.5",
         "70.0",
         "68.0"
        ],
        [
         "75%",
         "77.0",
         "79.0",
         "79.0"
        ],
        [
         "max",
         "100.0",
         "100.0",
         "100.0"
        ]
       ],
       "shape": {
        "columns": 3,
        "rows": 8
       }
      },
      "text/html": [
       "<div>\n",
       "<style scoped>\n",
       "    .dataframe tbody tr th:only-of-type {\n",
       "        vertical-align: middle;\n",
       "    }\n",
       "\n",
       "    .dataframe tbody tr th {\n",
       "        vertical-align: top;\n",
       "    }\n",
       "\n",
       "    .dataframe thead th {\n",
       "        text-align: right;\n",
       "    }\n",
       "</style>\n",
       "<table border=\"1\" class=\"dataframe\">\n",
       "  <thead>\n",
       "    <tr style=\"text-align: right;\">\n",
       "      <th></th>\n",
       "      <th>math_score</th>\n",
       "      <th>reading_score</th>\n",
       "      <th>writing_score</th>\n",
       "    </tr>\n",
       "  </thead>\n",
       "  <tbody>\n",
       "    <tr>\n",
       "      <th>count</th>\n",
       "      <td>1000.000000</td>\n",
       "      <td>1000.000000</td>\n",
       "      <td>1000.000000</td>\n",
       "    </tr>\n",
       "    <tr>\n",
       "      <th>mean</th>\n",
       "      <td>66.396000</td>\n",
       "      <td>69.002000</td>\n",
       "      <td>67.738000</td>\n",
       "    </tr>\n",
       "    <tr>\n",
       "      <th>std</th>\n",
       "      <td>15.402871</td>\n",
       "      <td>14.737272</td>\n",
       "      <td>15.600985</td>\n",
       "    </tr>\n",
       "    <tr>\n",
       "      <th>min</th>\n",
       "      <td>13.000000</td>\n",
       "      <td>27.000000</td>\n",
       "      <td>23.000000</td>\n",
       "    </tr>\n",
       "    <tr>\n",
       "      <th>25%</th>\n",
       "      <td>56.000000</td>\n",
       "      <td>60.000000</td>\n",
       "      <td>58.000000</td>\n",
       "    </tr>\n",
       "    <tr>\n",
       "      <th>50%</th>\n",
       "      <td>66.500000</td>\n",
       "      <td>70.000000</td>\n",
       "      <td>68.000000</td>\n",
       "    </tr>\n",
       "    <tr>\n",
       "      <th>75%</th>\n",
       "      <td>77.000000</td>\n",
       "      <td>79.000000</td>\n",
       "      <td>79.000000</td>\n",
       "    </tr>\n",
       "    <tr>\n",
       "      <th>max</th>\n",
       "      <td>100.000000</td>\n",
       "      <td>100.000000</td>\n",
       "      <td>100.000000</td>\n",
       "    </tr>\n",
       "  </tbody>\n",
       "</table>\n",
       "</div>"
      ],
      "text/plain": [
       "        math_score  reading_score  writing_score\n",
       "count  1000.000000    1000.000000    1000.000000\n",
       "mean     66.396000      69.002000      67.738000\n",
       "std      15.402871      14.737272      15.600985\n",
       "min      13.000000      27.000000      23.000000\n",
       "25%      56.000000      60.000000      58.000000\n",
       "50%      66.500000      70.000000      68.000000\n",
       "75%      77.000000      79.000000      79.000000\n",
       "max     100.000000     100.000000     100.000000"
      ]
     },
     "execution_count": 24,
     "metadata": {},
     "output_type": "execute_result"
    }
   ],
   "source": [
    "df.describe()"
   ]
  },
  {
   "cell_type": "markdown",
   "id": "bed40dbf",
   "metadata": {},
   "source": [
    "> It's always a good idea to enrich the data with existing information."
   ]
  },
  {
   "cell_type": "code",
   "execution_count": 25,
   "id": "5dc95f4b",
   "metadata": {},
   "outputs": [
    {
     "data": {
      "application/vnd.microsoft.datawrangler.viewer.v0+json": {
       "columns": [
        {
         "name": "index",
         "rawType": "int64",
         "type": "integer"
        },
        {
         "name": "gender",
         "rawType": "object",
         "type": "string"
        },
        {
         "name": "class_group",
         "rawType": "object",
         "type": "string"
        },
        {
         "name": "parental_level_of_education",
         "rawType": "object",
         "type": "string"
        },
        {
         "name": "lunch",
         "rawType": "object",
         "type": "string"
        },
        {
         "name": "test_preparation_course",
         "rawType": "object",
         "type": "string"
        },
        {
         "name": "math_score",
         "rawType": "int8",
         "type": "integer"
        },
        {
         "name": "reading_score",
         "rawType": "int8",
         "type": "integer"
        },
        {
         "name": "writing_score",
         "rawType": "int8",
         "type": "integer"
        },
        {
         "name": "average_score",
         "rawType": "float64",
         "type": "float"
        }
       ],
       "ref": "8abc741f-761c-442c-8142-524a7dc2df30",
       "rows": [
        [
         "0",
         "male",
         "group A",
         "high school",
         "standard",
         "completed",
         "67",
         "67",
         "63",
         "65.67"
        ],
        [
         "1",
         "female",
         "group D",
         "some high school",
         "free/reduced",
         "none",
         "40",
         "59",
         "55",
         "51.33"
        ],
        [
         "2",
         "male",
         "group E",
         "some college",
         "free/reduced",
         "none",
         "59",
         "60",
         "50",
         "56.33"
        ],
        [
         "3",
         "male",
         "group B",
         "high school",
         "standard",
         "none",
         "77",
         "78",
         "68",
         "74.33"
        ],
        [
         "4",
         "male",
         "group E",
         "associate's degree",
         "standard",
         "completed",
         "78",
         "73",
         "68",
         "73.0"
        ]
       ],
       "shape": {
        "columns": 9,
        "rows": 5
       }
      },
      "text/html": [
       "<div>\n",
       "<style scoped>\n",
       "    .dataframe tbody tr th:only-of-type {\n",
       "        vertical-align: middle;\n",
       "    }\n",
       "\n",
       "    .dataframe tbody tr th {\n",
       "        vertical-align: top;\n",
       "    }\n",
       "\n",
       "    .dataframe thead th {\n",
       "        text-align: right;\n",
       "    }\n",
       "</style>\n",
       "<table border=\"1\" class=\"dataframe\">\n",
       "  <thead>\n",
       "    <tr style=\"text-align: right;\">\n",
       "      <th></th>\n",
       "      <th>gender</th>\n",
       "      <th>class_group</th>\n",
       "      <th>parental_level_of_education</th>\n",
       "      <th>lunch</th>\n",
       "      <th>test_preparation_course</th>\n",
       "      <th>math_score</th>\n",
       "      <th>reading_score</th>\n",
       "      <th>writing_score</th>\n",
       "      <th>average_score</th>\n",
       "    </tr>\n",
       "  </thead>\n",
       "  <tbody>\n",
       "    <tr>\n",
       "      <th>0</th>\n",
       "      <td>male</td>\n",
       "      <td>group A</td>\n",
       "      <td>high school</td>\n",
       "      <td>standard</td>\n",
       "      <td>completed</td>\n",
       "      <td>67</td>\n",
       "      <td>67</td>\n",
       "      <td>63</td>\n",
       "      <td>65.67</td>\n",
       "    </tr>\n",
       "    <tr>\n",
       "      <th>1</th>\n",
       "      <td>female</td>\n",
       "      <td>group D</td>\n",
       "      <td>some high school</td>\n",
       "      <td>free/reduced</td>\n",
       "      <td>none</td>\n",
       "      <td>40</td>\n",
       "      <td>59</td>\n",
       "      <td>55</td>\n",
       "      <td>51.33</td>\n",
       "    </tr>\n",
       "    <tr>\n",
       "      <th>2</th>\n",
       "      <td>male</td>\n",
       "      <td>group E</td>\n",
       "      <td>some college</td>\n",
       "      <td>free/reduced</td>\n",
       "      <td>none</td>\n",
       "      <td>59</td>\n",
       "      <td>60</td>\n",
       "      <td>50</td>\n",
       "      <td>56.33</td>\n",
       "    </tr>\n",
       "    <tr>\n",
       "      <th>3</th>\n",
       "      <td>male</td>\n",
       "      <td>group B</td>\n",
       "      <td>high school</td>\n",
       "      <td>standard</td>\n",
       "      <td>none</td>\n",
       "      <td>77</td>\n",
       "      <td>78</td>\n",
       "      <td>68</td>\n",
       "      <td>74.33</td>\n",
       "    </tr>\n",
       "    <tr>\n",
       "      <th>4</th>\n",
       "      <td>male</td>\n",
       "      <td>group E</td>\n",
       "      <td>associate's degree</td>\n",
       "      <td>standard</td>\n",
       "      <td>completed</td>\n",
       "      <td>78</td>\n",
       "      <td>73</td>\n",
       "      <td>68</td>\n",
       "      <td>73.00</td>\n",
       "    </tr>\n",
       "  </tbody>\n",
       "</table>\n",
       "</div>"
      ],
      "text/plain": [
       "   gender class_group parental_level_of_education         lunch  \\\n",
       "0    male     group A                 high school      standard   \n",
       "1  female     group D            some high school  free/reduced   \n",
       "2    male     group E                some college  free/reduced   \n",
       "3    male     group B                 high school      standard   \n",
       "4    male     group E          associate's degree      standard   \n",
       "\n",
       "  test_preparation_course  math_score  reading_score  writing_score  \\\n",
       "0               completed          67             67             63   \n",
       "1                    none          40             59             55   \n",
       "2                    none          59             60             50   \n",
       "3                    none          77             78             68   \n",
       "4               completed          78             73             68   \n",
       "\n",
       "   average_score  \n",
       "0          65.67  \n",
       "1          51.33  \n",
       "2          56.33  \n",
       "3          74.33  \n",
       "4          73.00  "
      ]
     },
     "execution_count": 25,
     "metadata": {},
     "output_type": "execute_result"
    }
   ],
   "source": [
    "df['average_score'] = round(df.mean(numeric_only=True, axis=1),2)\n",
    "df.head()"
   ]
  },
  {
   "cell_type": "code",
   "execution_count": 26,
   "id": "1d2becae",
   "metadata": {},
   "outputs": [],
   "source": [
    "# if you want to preserve mods after closing the session, save the output as csv file\n",
    "# specify the separator and exclude the index\n",
    "df.to_csv('test.csv', sep='|', index=False)"
   ]
  },
  {
   "cell_type": "markdown",
   "id": "b040b898",
   "metadata": {},
   "source": [
    "> if the path is not specified, it will be saved in the same location of the notebook"
   ]
  },
  {
   "cell_type": "markdown",
   "id": "14fbca50",
   "metadata": {},
   "source": [
    "### Data Analysis"
   ]
  },
  {
   "cell_type": "markdown",
   "id": "a3f3efab",
   "metadata": {},
   "source": [
    "Get data of *male* students that overall average scored *over 60*. Sort from largest to lowest. Start by showing top 10."
   ]
  },
  {
   "cell_type": "code",
   "execution_count": null,
   "id": "212c8066",
   "metadata": {},
   "outputs": [
    {
     "data": {
      "application/vnd.microsoft.datawrangler.viewer.v0+json": {
       "columns": [
        {
         "name": "index",
         "rawType": "int64",
         "type": "integer"
        },
        {
         "name": "gender",
         "rawType": "object",
         "type": "string"
        },
        {
         "name": "class_group",
         "rawType": "object",
         "type": "string"
        },
        {
         "name": "parental_level_of_education",
         "rawType": "object",
         "type": "string"
        },
        {
         "name": "lunch",
         "rawType": "object",
         "type": "string"
        },
        {
         "name": "test_preparation_course",
         "rawType": "object",
         "type": "string"
        },
        {
         "name": "math_score",
         "rawType": "int8",
         "type": "integer"
        },
        {
         "name": "reading_score",
         "rawType": "int8",
         "type": "integer"
        },
        {
         "name": "writing_score",
         "rawType": "int8",
         "type": "integer"
        },
        {
         "name": "average_score",
         "rawType": "float64",
         "type": "float"
        }
       ],
       "ref": "fa01cbc0-1dca-4c2b-8ed2-436cd9cd3072",
       "rows": [
        [
         "825",
         "male",
         "group E",
         "associate's degree",
         "standard",
         "completed",
         "100",
         "100",
         "100",
         "100.0"
        ],
        [
         "281",
         "male",
         "group E",
         "associate's degree",
         "standard",
         "completed",
         "100",
         "100",
         "100",
         "100.0"
        ],
        [
         "593",
         "male",
         "group D",
         "bachelor's degree",
         "standard",
         "completed",
         "100",
         "97",
         "100",
         "99.0"
        ],
        [
         "224",
         "male",
         "group D",
         "bachelor's degree",
         "standard",
         "none",
         "99",
         "94",
         "97",
         "96.67"
        ],
        [
         "854",
         "male",
         "group D",
         "bachelor's degree",
         "standard",
         "completed",
         "98",
         "94",
         "95",
         "95.67"
        ],
        [
         "485",
         "male",
         "group B",
         "master's degree",
         "standard",
         "none",
         "93",
         "96",
         "96",
         "95.0"
        ],
        [
         "748",
         "male",
         "group C",
         "bachelor's degree",
         "standard",
         "none",
         "95",
         "99",
         "91",
         "95.0"
        ],
        [
         "842",
         "male",
         "group A",
         "some college",
         "standard",
         "completed",
         "91",
         "97",
         "95",
         "94.33"
        ],
        [
         "694",
         "male",
         "group D",
         "some college",
         "standard",
         "completed",
         "96",
         "95",
         "90",
         "93.67"
        ],
        [
         "235",
         "male",
         "group C",
         "associate's degree",
         "standard",
         "completed",
         "100",
         "91",
         "90",
         "93.67"
        ]
       ],
       "shape": {
        "columns": 9,
        "rows": 10
       }
      },
      "text/html": [
       "<div>\n",
       "<style scoped>\n",
       "    .dataframe tbody tr th:only-of-type {\n",
       "        vertical-align: middle;\n",
       "    }\n",
       "\n",
       "    .dataframe tbody tr th {\n",
       "        vertical-align: top;\n",
       "    }\n",
       "\n",
       "    .dataframe thead th {\n",
       "        text-align: right;\n",
       "    }\n",
       "</style>\n",
       "<table border=\"1\" class=\"dataframe\">\n",
       "  <thead>\n",
       "    <tr style=\"text-align: right;\">\n",
       "      <th></th>\n",
       "      <th>gender</th>\n",
       "      <th>class_group</th>\n",
       "      <th>parental_level_of_education</th>\n",
       "      <th>lunch</th>\n",
       "      <th>test_preparation_course</th>\n",
       "      <th>math_score</th>\n",
       "      <th>reading_score</th>\n",
       "      <th>writing_score</th>\n",
       "      <th>average_score</th>\n",
       "    </tr>\n",
       "  </thead>\n",
       "  <tbody>\n",
       "    <tr>\n",
       "      <th>825</th>\n",
       "      <td>male</td>\n",
       "      <td>group E</td>\n",
       "      <td>associate's degree</td>\n",
       "      <td>standard</td>\n",
       "      <td>completed</td>\n",
       "      <td>100</td>\n",
       "      <td>100</td>\n",
       "      <td>100</td>\n",
       "      <td>100.00</td>\n",
       "    </tr>\n",
       "    <tr>\n",
       "      <th>281</th>\n",
       "      <td>male</td>\n",
       "      <td>group E</td>\n",
       "      <td>associate's degree</td>\n",
       "      <td>standard</td>\n",
       "      <td>completed</td>\n",
       "      <td>100</td>\n",
       "      <td>100</td>\n",
       "      <td>100</td>\n",
       "      <td>100.00</td>\n",
       "    </tr>\n",
       "    <tr>\n",
       "      <th>593</th>\n",
       "      <td>male</td>\n",
       "      <td>group D</td>\n",
       "      <td>bachelor's degree</td>\n",
       "      <td>standard</td>\n",
       "      <td>completed</td>\n",
       "      <td>100</td>\n",
       "      <td>97</td>\n",
       "      <td>100</td>\n",
       "      <td>99.00</td>\n",
       "    </tr>\n",
       "    <tr>\n",
       "      <th>224</th>\n",
       "      <td>male</td>\n",
       "      <td>group D</td>\n",
       "      <td>bachelor's degree</td>\n",
       "      <td>standard</td>\n",
       "      <td>none</td>\n",
       "      <td>99</td>\n",
       "      <td>94</td>\n",
       "      <td>97</td>\n",
       "      <td>96.67</td>\n",
       "    </tr>\n",
       "    <tr>\n",
       "      <th>854</th>\n",
       "      <td>male</td>\n",
       "      <td>group D</td>\n",
       "      <td>bachelor's degree</td>\n",
       "      <td>standard</td>\n",
       "      <td>completed</td>\n",
       "      <td>98</td>\n",
       "      <td>94</td>\n",
       "      <td>95</td>\n",
       "      <td>95.67</td>\n",
       "    </tr>\n",
       "    <tr>\n",
       "      <th>485</th>\n",
       "      <td>male</td>\n",
       "      <td>group B</td>\n",
       "      <td>master's degree</td>\n",
       "      <td>standard</td>\n",
       "      <td>none</td>\n",
       "      <td>93</td>\n",
       "      <td>96</td>\n",
       "      <td>96</td>\n",
       "      <td>95.00</td>\n",
       "    </tr>\n",
       "    <tr>\n",
       "      <th>748</th>\n",
       "      <td>male</td>\n",
       "      <td>group C</td>\n",
       "      <td>bachelor's degree</td>\n",
       "      <td>standard</td>\n",
       "      <td>none</td>\n",
       "      <td>95</td>\n",
       "      <td>99</td>\n",
       "      <td>91</td>\n",
       "      <td>95.00</td>\n",
       "    </tr>\n",
       "    <tr>\n",
       "      <th>842</th>\n",
       "      <td>male</td>\n",
       "      <td>group A</td>\n",
       "      <td>some college</td>\n",
       "      <td>standard</td>\n",
       "      <td>completed</td>\n",
       "      <td>91</td>\n",
       "      <td>97</td>\n",
       "      <td>95</td>\n",
       "      <td>94.33</td>\n",
       "    </tr>\n",
       "    <tr>\n",
       "      <th>694</th>\n",
       "      <td>male</td>\n",
       "      <td>group D</td>\n",
       "      <td>some college</td>\n",
       "      <td>standard</td>\n",
       "      <td>completed</td>\n",
       "      <td>96</td>\n",
       "      <td>95</td>\n",
       "      <td>90</td>\n",
       "      <td>93.67</td>\n",
       "    </tr>\n",
       "    <tr>\n",
       "      <th>235</th>\n",
       "      <td>male</td>\n",
       "      <td>group C</td>\n",
       "      <td>associate's degree</td>\n",
       "      <td>standard</td>\n",
       "      <td>completed</td>\n",
       "      <td>100</td>\n",
       "      <td>91</td>\n",
       "      <td>90</td>\n",
       "      <td>93.67</td>\n",
       "    </tr>\n",
       "  </tbody>\n",
       "</table>\n",
       "</div>"
      ],
      "text/plain": [
       "    gender class_group parental_level_of_education     lunch  \\\n",
       "825   male     group E          associate's degree  standard   \n",
       "281   male     group E          associate's degree  standard   \n",
       "593   male     group D           bachelor's degree  standard   \n",
       "224   male     group D           bachelor's degree  standard   \n",
       "854   male     group D           bachelor's degree  standard   \n",
       "485   male     group B             master's degree  standard   \n",
       "748   male     group C           bachelor's degree  standard   \n",
       "842   male     group A                some college  standard   \n",
       "694   male     group D                some college  standard   \n",
       "235   male     group C          associate's degree  standard   \n",
       "\n",
       "    test_preparation_course  math_score  reading_score  writing_score  \\\n",
       "825               completed         100            100            100   \n",
       "281               completed         100            100            100   \n",
       "593               completed         100             97            100   \n",
       "224                    none          99             94             97   \n",
       "854               completed          98             94             95   \n",
       "485                    none          93             96             96   \n",
       "748                    none          95             99             91   \n",
       "842               completed          91             97             95   \n",
       "694               completed          96             95             90   \n",
       "235               completed         100             91             90   \n",
       "\n",
       "     average_score  \n",
       "825         100.00  \n",
       "281         100.00  \n",
       "593          99.00  \n",
       "224          96.67  \n",
       "854          95.67  \n",
       "485          95.00  \n",
       "748          95.00  \n",
       "842          94.33  \n",
       "694          93.67  \n",
       "235          93.67  "
      ]
     },
     "execution_count": 46,
     "metadata": {},
     "output_type": "execute_result"
    }
   ],
   "source": [
    "condition = (df['average_score']>60)&(df['gender']=='male')\n",
    "df_over_60 = df[condition].sort_values(by='average_score',ascending=False)\n",
    "df_over_60.head(10)"
   ]
  },
  {
   "cell_type": "code",
   "execution_count": null,
   "id": "c884d383",
   "metadata": {},
   "outputs": [
    {
     "data": {
      "application/vnd.microsoft.datawrangler.viewer.v0+json": {
       "columns": [
        {
         "name": "index",
         "rawType": "int64",
         "type": "integer"
        },
        {
         "name": "gender",
         "rawType": "object",
         "type": "string"
        },
        {
         "name": "class_group",
         "rawType": "object",
         "type": "string"
        },
        {
         "name": "parental_level_of_education",
         "rawType": "object",
         "type": "string"
        },
        {
         "name": "lunch",
         "rawType": "object",
         "type": "string"
        },
        {
         "name": "test_preparation_course",
         "rawType": "object",
         "type": "string"
        },
        {
         "name": "math_score",
         "rawType": "int8",
         "type": "integer"
        },
        {
         "name": "reading_score",
         "rawType": "int8",
         "type": "integer"
        },
        {
         "name": "writing_score",
         "rawType": "int8",
         "type": "integer"
        },
        {
         "name": "average_score",
         "rawType": "float64",
         "type": "float"
        }
       ],
       "ref": "5fbfec9b-186b-46f8-977d-1390c265c9ea",
       "rows": [
        [
         "825",
         "male",
         "group E",
         "associate's degree",
         "standard",
         "completed",
         "100",
         "100",
         "100",
         "100.0"
        ],
        [
         "281",
         "male",
         "group E",
         "associate's degree",
         "standard",
         "completed",
         "100",
         "100",
         "100",
         "100.0"
        ],
        [
         "593",
         "male",
         "group D",
         "bachelor's degree",
         "standard",
         "completed",
         "100",
         "97",
         "100",
         "99.0"
        ],
        [
         "224",
         "male",
         "group D",
         "bachelor's degree",
         "standard",
         "none",
         "99",
         "94",
         "97",
         "96.67"
        ],
        [
         "854",
         "male",
         "group D",
         "bachelor's degree",
         "standard",
         "completed",
         "98",
         "94",
         "95",
         "95.67"
        ],
        [
         "485",
         "male",
         "group B",
         "master's degree",
         "standard",
         "none",
         "93",
         "96",
         "96",
         "95.0"
        ],
        [
         "748",
         "male",
         "group C",
         "bachelor's degree",
         "standard",
         "none",
         "95",
         "99",
         "91",
         "95.0"
        ],
        [
         "842",
         "male",
         "group A",
         "some college",
         "standard",
         "completed",
         "91",
         "97",
         "95",
         "94.33"
        ],
        [
         "694",
         "male",
         "group D",
         "some college",
         "standard",
         "completed",
         "96",
         "95",
         "90",
         "93.67"
        ],
        [
         "235",
         "male",
         "group C",
         "associate's degree",
         "standard",
         "completed",
         "100",
         "91",
         "90",
         "93.67"
        ],
        [
         "860",
         "male",
         "group C",
         "bachelor's degree",
         "standard",
         "none",
         "98",
         "92",
         "90",
         "93.33"
        ],
        [
         "87",
         "male",
         "group D",
         "some college",
         "standard",
         "none",
         "97",
         "93",
         "88",
         "92.67"
        ],
        [
         "690",
         "male",
         "group B",
         "bachelor's degree",
         "standard",
         "completed",
         "94",
         "92",
         "92",
         "92.67"
        ],
        [
         "732",
         "male",
         "group E",
         "associate's degree",
         "standard",
         "none",
         "100",
         "91",
         "86",
         "92.33"
        ],
        [
         "44",
         "male",
         "group E",
         "high school",
         "standard",
         "none",
         "100",
         "88",
         "87",
         "91.67"
        ],
        [
         "93",
         "male",
         "group D",
         "bachelor's degree",
         "standard",
         "completed",
         "94",
         "87",
         "93",
         "91.33"
        ],
        [
         "444",
         "male",
         "group D",
         "bachelor's degree",
         "standard",
         "completed",
         "93",
         "86",
         "95",
         "91.33"
        ],
        [
         "814",
         "male",
         "group D",
         "some college",
         "standard",
         "none",
         "91",
         "95",
         "88",
         "91.33"
        ],
        [
         "64",
         "male",
         "group D",
         "master's degree",
         "standard",
         "completed",
         "83",
         "93",
         "97",
         "91.0"
        ],
        [
         "584",
         "male",
         "group C",
         "bachelor's degree",
         "standard",
         "none",
         "100",
         "84",
         "88",
         "90.67"
        ],
        [
         "839",
         "male",
         "group E",
         "some college",
         "standard",
         "completed",
         "100",
         "84",
         "88",
         "90.67"
        ],
        [
         "128",
         "male",
         "group E",
         "some college",
         "standard",
         "completed",
         "100",
         "84",
         "87",
         "90.33"
        ],
        [
         "498",
         "male",
         "group B",
         "bachelor's degree",
         "standard",
         "completed",
         "86",
         "92",
         "93",
         "90.33"
        ],
        [
         "406",
         "male",
         "group D",
         "some college",
         "standard",
         "none",
         "94",
         "92",
         "85",
         "90.33"
        ],
        [
         "211",
         "male",
         "group D",
         "associate's degree",
         "standard",
         "none",
         "97",
         "88",
         "85",
         "90.0"
        ],
        [
         "575",
         "male",
         "group A",
         "bachelor's degree",
         "standard",
         "completed",
         "88",
         "87",
         "94",
         "89.67"
        ],
        [
         "964",
         "male",
         "group E",
         "bachelor's degree",
         "standard",
         "none",
         "100",
         "83",
         "86",
         "89.67"
        ],
        [
         "438",
         "male",
         "group D",
         "associate's degree",
         "standard",
         "none",
         "91",
         "88",
         "90",
         "89.67"
        ],
        [
         "848",
         "male",
         "group E",
         "high school",
         "standard",
         "none",
         "94",
         "89",
         "86",
         "89.67"
        ],
        [
         "996",
         "male",
         "group D",
         "associate's degree",
         "free/reduced",
         "completed",
         "85",
         "91",
         "92",
         "89.33"
        ],
        [
         "881",
         "male",
         "group B",
         "master's degree",
         "standard",
         "none",
         "99",
         "81",
         "87",
         "89.0"
        ],
        [
         "10",
         "male",
         "group E",
         "some college",
         "standard",
         "completed",
         "99",
         "83",
         "85",
         "89.0"
        ],
        [
         "950",
         "male",
         "group C",
         "some high school",
         "standard",
         "completed",
         "89",
         "87",
         "90",
         "88.67"
        ],
        [
         "484",
         "male",
         "group D",
         "some college",
         "free/reduced",
         "completed",
         "86",
         "91",
         "89",
         "88.67"
        ],
        [
         "736",
         "male",
         "group C",
         "associate's degree",
         "standard",
         "completed",
         "90",
         "89",
         "87",
         "88.67"
        ],
        [
         "828",
         "male",
         "group E",
         "some high school",
         "standard",
         "completed",
         "97",
         "80",
         "88",
         "88.33"
        ],
        [
         "7",
         "male",
         "group E",
         "some college",
         "standard",
         "completed",
         "93",
         "88",
         "84",
         "88.33"
        ],
        [
         "456",
         "male",
         "group B",
         "some college",
         "standard",
         "completed",
         "89",
         "87",
         "89",
         "88.33"
        ],
        [
         "638",
         "male",
         "group E",
         "high school",
         "standard",
         "none",
         "100",
         "82",
         "80",
         "87.33"
        ],
        [
         "179",
         "male",
         "group D",
         "high school",
         "standard",
         "completed",
         "89",
         "87",
         "86",
         "87.33"
        ],
        [
         "220",
         "male",
         "group D",
         "some college",
         "standard",
         "none",
         "89",
         "90",
         "83",
         "87.33"
        ],
        [
         "794",
         "male",
         "group E",
         "bachelor's degree",
         "standard",
         "completed",
         "90",
         "88",
         "84",
         "87.33"
        ],
        [
         "648",
         "male",
         "group D",
         "associate's degree",
         "standard",
         "completed",
         "85",
         "85",
         "91",
         "87.0"
        ],
        [
         "333",
         "male",
         "group D",
         "some high school",
         "standard",
         "none",
         "96",
         "83",
         "82",
         "87.0"
        ],
        [
         "264",
         "male",
         "group D",
         "some high school",
         "standard",
         "completed",
         "90",
         "82",
         "88",
         "86.67"
        ],
        [
         "229",
         "male",
         "group C",
         "associate's degree",
         "free/reduced",
         "completed",
         "94",
         "83",
         "82",
         "86.33"
        ],
        [
         "57",
         "male",
         "group D",
         "associate's degree",
         "standard",
         "completed",
         "88",
         "87",
         "83",
         "86.0"
        ],
        [
         "730",
         "male",
         "group E",
         "some college",
         "free/reduced",
         "none",
         "90",
         "87",
         "81",
         "86.0"
        ],
        [
         "640",
         "male",
         "group E",
         "bachelor's degree",
         "standard",
         "none",
         "87",
         "87",
         "84",
         "86.0"
        ],
        [
         "959",
         "male",
         "group D",
         "master's degree",
         "standard",
         "completed",
         "91",
         "84",
         "83",
         "86.0"
        ]
       ],
       "shape": {
        "columns": 9,
        "rows": 353
       }
      },
      "text/html": [
       "<div>\n",
       "<style scoped>\n",
       "    .dataframe tbody tr th:only-of-type {\n",
       "        vertical-align: middle;\n",
       "    }\n",
       "\n",
       "    .dataframe tbody tr th {\n",
       "        vertical-align: top;\n",
       "    }\n",
       "\n",
       "    .dataframe thead th {\n",
       "        text-align: right;\n",
       "    }\n",
       "</style>\n",
       "<table border=\"1\" class=\"dataframe\">\n",
       "  <thead>\n",
       "    <tr style=\"text-align: right;\">\n",
       "      <th></th>\n",
       "      <th>gender</th>\n",
       "      <th>class_group</th>\n",
       "      <th>parental_level_of_education</th>\n",
       "      <th>lunch</th>\n",
       "      <th>test_preparation_course</th>\n",
       "      <th>math_score</th>\n",
       "      <th>reading_score</th>\n",
       "      <th>writing_score</th>\n",
       "      <th>average_score</th>\n",
       "    </tr>\n",
       "  </thead>\n",
       "  <tbody>\n",
       "    <tr>\n",
       "      <th>825</th>\n",
       "      <td>male</td>\n",
       "      <td>group E</td>\n",
       "      <td>associate's degree</td>\n",
       "      <td>standard</td>\n",
       "      <td>completed</td>\n",
       "      <td>100</td>\n",
       "      <td>100</td>\n",
       "      <td>100</td>\n",
       "      <td>100.00</td>\n",
       "    </tr>\n",
       "    <tr>\n",
       "      <th>281</th>\n",
       "      <td>male</td>\n",
       "      <td>group E</td>\n",
       "      <td>associate's degree</td>\n",
       "      <td>standard</td>\n",
       "      <td>completed</td>\n",
       "      <td>100</td>\n",
       "      <td>100</td>\n",
       "      <td>100</td>\n",
       "      <td>100.00</td>\n",
       "    </tr>\n",
       "    <tr>\n",
       "      <th>593</th>\n",
       "      <td>male</td>\n",
       "      <td>group D</td>\n",
       "      <td>bachelor's degree</td>\n",
       "      <td>standard</td>\n",
       "      <td>completed</td>\n",
       "      <td>100</td>\n",
       "      <td>97</td>\n",
       "      <td>100</td>\n",
       "      <td>99.00</td>\n",
       "    </tr>\n",
       "    <tr>\n",
       "      <th>224</th>\n",
       "      <td>male</td>\n",
       "      <td>group D</td>\n",
       "      <td>bachelor's degree</td>\n",
       "      <td>standard</td>\n",
       "      <td>none</td>\n",
       "      <td>99</td>\n",
       "      <td>94</td>\n",
       "      <td>97</td>\n",
       "      <td>96.67</td>\n",
       "    </tr>\n",
       "    <tr>\n",
       "      <th>854</th>\n",
       "      <td>male</td>\n",
       "      <td>group D</td>\n",
       "      <td>bachelor's degree</td>\n",
       "      <td>standard</td>\n",
       "      <td>completed</td>\n",
       "      <td>98</td>\n",
       "      <td>94</td>\n",
       "      <td>95</td>\n",
       "      <td>95.67</td>\n",
       "    </tr>\n",
       "    <tr>\n",
       "      <th>...</th>\n",
       "      <td>...</td>\n",
       "      <td>...</td>\n",
       "      <td>...</td>\n",
       "      <td>...</td>\n",
       "      <td>...</td>\n",
       "      <td>...</td>\n",
       "      <td>...</td>\n",
       "      <td>...</td>\n",
       "      <td>...</td>\n",
       "    </tr>\n",
       "    <tr>\n",
       "      <th>631</th>\n",
       "      <td>male</td>\n",
       "      <td>group B</td>\n",
       "      <td>some high school</td>\n",
       "      <td>standard</td>\n",
       "      <td>none</td>\n",
       "      <td>58</td>\n",
       "      <td>67</td>\n",
       "      <td>58</td>\n",
       "      <td>61.00</td>\n",
       "    </tr>\n",
       "    <tr>\n",
       "      <th>869</th>\n",
       "      <td>male</td>\n",
       "      <td>group D</td>\n",
       "      <td>high school</td>\n",
       "      <td>standard</td>\n",
       "      <td>none</td>\n",
       "      <td>69</td>\n",
       "      <td>60</td>\n",
       "      <td>54</td>\n",
       "      <td>61.00</td>\n",
       "    </tr>\n",
       "    <tr>\n",
       "      <th>508</th>\n",
       "      <td>male</td>\n",
       "      <td>group C</td>\n",
       "      <td>some college</td>\n",
       "      <td>standard</td>\n",
       "      <td>none</td>\n",
       "      <td>69</td>\n",
       "      <td>56</td>\n",
       "      <td>57</td>\n",
       "      <td>60.67</td>\n",
       "    </tr>\n",
       "    <tr>\n",
       "      <th>543</th>\n",
       "      <td>male</td>\n",
       "      <td>group C</td>\n",
       "      <td>associate's degree</td>\n",
       "      <td>standard</td>\n",
       "      <td>completed</td>\n",
       "      <td>63</td>\n",
       "      <td>59</td>\n",
       "      <td>60</td>\n",
       "      <td>60.67</td>\n",
       "    </tr>\n",
       "    <tr>\n",
       "      <th>393</th>\n",
       "      <td>male</td>\n",
       "      <td>group D</td>\n",
       "      <td>some college</td>\n",
       "      <td>free/reduced</td>\n",
       "      <td>none</td>\n",
       "      <td>67</td>\n",
       "      <td>58</td>\n",
       "      <td>56</td>\n",
       "      <td>60.33</td>\n",
       "    </tr>\n",
       "  </tbody>\n",
       "</table>\n",
       "<p>353 rows × 9 columns</p>\n",
       "</div>"
      ],
      "text/plain": [
       "    gender class_group parental_level_of_education         lunch  \\\n",
       "825   male     group E          associate's degree      standard   \n",
       "281   male     group E          associate's degree      standard   \n",
       "593   male     group D           bachelor's degree      standard   \n",
       "224   male     group D           bachelor's degree      standard   \n",
       "854   male     group D           bachelor's degree      standard   \n",
       "..     ...         ...                         ...           ...   \n",
       "631   male     group B            some high school      standard   \n",
       "869   male     group D                 high school      standard   \n",
       "508   male     group C                some college      standard   \n",
       "543   male     group C          associate's degree      standard   \n",
       "393   male     group D                some college  free/reduced   \n",
       "\n",
       "    test_preparation_course  math_score  reading_score  writing_score  \\\n",
       "825               completed         100            100            100   \n",
       "281               completed         100            100            100   \n",
       "593               completed         100             97            100   \n",
       "224                    none          99             94             97   \n",
       "854               completed          98             94             95   \n",
       "..                      ...         ...            ...            ...   \n",
       "631                    none          58             67             58   \n",
       "869                    none          69             60             54   \n",
       "508                    none          69             56             57   \n",
       "543               completed          63             59             60   \n",
       "393                    none          67             58             56   \n",
       "\n",
       "     average_score  \n",
       "825         100.00  \n",
       "281         100.00  \n",
       "593          99.00  \n",
       "224          96.67  \n",
       "854          95.67  \n",
       "..             ...  \n",
       "631          61.00  \n",
       "869          61.00  \n",
       "508          60.67  \n",
       "543          60.67  \n",
       "393          60.33  \n",
       "\n",
       "[353 rows x 9 columns]"
      ]
     },
     "execution_count": 47,
     "metadata": {},
     "output_type": "execute_result"
    }
   ],
   "source": [
    "# without creating a new dataset and executing it in one shot\n",
    "df[(df['average_score']>60)&(df['gender']=='male')].sort_values(by='average_score',ascending=False)"
   ]
  },
  {
   "cell_type": "markdown",
   "id": "52fe4718",
   "metadata": {},
   "source": [
    "Select only the numerical columns and save them as a list."
   ]
  },
  {
   "cell_type": "code",
   "execution_count": 49,
   "id": "3caf676b",
   "metadata": {},
   "outputs": [
    {
     "data": {
      "application/vnd.microsoft.datawrangler.viewer.v0+json": {
       "columns": [
        {
         "name": "index",
         "rawType": "object",
         "type": "string"
        },
        {
         "name": "0",
         "rawType": "object",
         "type": "unknown"
        }
       ],
       "ref": "9e13af86-05c6-4cd9-9574-165de8798b15",
       "rows": [
        [
         "gender",
         "object"
        ],
        [
         "class_group",
         "object"
        ],
        [
         "parental_level_of_education",
         "object"
        ],
        [
         "lunch",
         "object"
        ],
        [
         "test_preparation_course",
         "object"
        ],
        [
         "math_score",
         "int8"
        ],
        [
         "reading_score",
         "int8"
        ],
        [
         "writing_score",
         "int8"
        ],
        [
         "average_score",
         "float64"
        ]
       ],
       "shape": {
        "columns": 1,
        "rows": 9
       }
      },
      "text/plain": [
       "gender                          object\n",
       "class_group                     object\n",
       "parental_level_of_education     object\n",
       "lunch                           object\n",
       "test_preparation_course         object\n",
       "math_score                        int8\n",
       "reading_score                     int8\n",
       "writing_score                     int8\n",
       "average_score                  float64\n",
       "dtype: object"
      ]
     },
     "execution_count": 49,
     "metadata": {},
     "output_type": "execute_result"
    }
   ],
   "source": [
    "df.dtypes"
   ]
  },
  {
   "cell_type": "code",
   "execution_count": null,
   "id": "f971e412",
   "metadata": {},
   "outputs": [
    {
     "data": {
      "application/vnd.microsoft.datawrangler.viewer.v0+json": {
       "columns": [
        {
         "name": "index",
         "rawType": "int64",
         "type": "integer"
        },
        {
         "name": "math_score",
         "rawType": "int8",
         "type": "integer"
        },
        {
         "name": "reading_score",
         "rawType": "int8",
         "type": "integer"
        },
        {
         "name": "writing_score",
         "rawType": "int8",
         "type": "integer"
        },
        {
         "name": "average_score",
         "rawType": "float64",
         "type": "float"
        }
       ],
       "ref": "31d1d560-a0c8-4e78-91c6-6777fc70e3cf",
       "rows": [
        [
         "0",
         "67",
         "67",
         "63",
         "65.67"
        ],
        [
         "1",
         "40",
         "59",
         "55",
         "51.33"
        ],
        [
         "2",
         "59",
         "60",
         "50",
         "56.33"
        ],
        [
         "3",
         "77",
         "78",
         "68",
         "74.33"
        ],
        [
         "4",
         "78",
         "73",
         "68",
         "73.0"
        ],
        [
         "5",
         "63",
         "77",
         "76",
         "72.0"
        ],
        [
         "6",
         "62",
         "59",
         "63",
         "61.33"
        ],
        [
         "7",
         "93",
         "88",
         "84",
         "88.33"
        ],
        [
         "8",
         "63",
         "56",
         "65",
         "61.33"
        ],
        [
         "9",
         "47",
         "42",
         "45",
         "44.67"
        ],
        [
         "10",
         "99",
         "83",
         "85",
         "89.0"
        ],
        [
         "11",
         "80",
         "87",
         "90",
         "85.67"
        ],
        [
         "12",
         "77",
         "87",
         "85",
         "83.0"
        ],
        [
         "13",
         "74",
         "74",
         "73",
         "73.67"
        ],
        [
         "14",
         "81",
         "87",
         "85",
         "84.33"
        ],
        [
         "15",
         "69",
         "61",
         "57",
         "62.33"
        ],
        [
         "16",
         "58",
         "47",
         "42",
         "49.0"
        ],
        [
         "17",
         "54",
         "62",
         "65",
         "60.33"
        ],
        [
         "18",
         "23",
         "44",
         "44",
         "37.0"
        ],
        [
         "19",
         "39",
         "32",
         "31",
         "34.0"
        ],
        [
         "20",
         "83",
         "76",
         "88",
         "82.33"
        ],
        [
         "21",
         "58",
         "52",
         "55",
         "55.0"
        ],
        [
         "22",
         "71",
         "69",
         "73",
         "71.0"
        ],
        [
         "23",
         "44",
         "55",
         "54",
         "51.0"
        ],
        [
         "24",
         "46",
         "38",
         "32",
         "38.67"
        ],
        [
         "25",
         "51",
         "45",
         "42",
         "46.0"
        ],
        [
         "26",
         "53",
         "60",
         "56",
         "56.33"
        ],
        [
         "27",
         "71",
         "68",
         "60",
         "66.33"
        ],
        [
         "28",
         "74",
         "89",
         "89",
         "84.0"
        ],
        [
         "29",
         "33",
         "54",
         "51",
         "46.0"
        ],
        [
         "30",
         "87",
         "79",
         "77",
         "81.0"
        ],
        [
         "31",
         "78",
         "74",
         "73",
         "75.0"
        ],
        [
         "32",
         "40",
         "41",
         "39",
         "40.0"
        ],
        [
         "33",
         "65",
         "65",
         "71",
         "67.0"
        ],
        [
         "34",
         "79",
         "88",
         "89",
         "85.33"
        ],
        [
         "35",
         "68",
         "74",
         "74",
         "72.0"
        ],
        [
         "36",
         "57",
         "77",
         "75",
         "69.67"
        ],
        [
         "37",
         "67",
         "65",
         "54",
         "62.0"
        ],
        [
         "38",
         "58",
         "68",
         "73",
         "66.33"
        ],
        [
         "39",
         "98",
         "81",
         "77",
         "85.33"
        ],
        [
         "40",
         "54",
         "75",
         "72",
         "67.0"
        ],
        [
         "41",
         "77",
         "67",
         "64",
         "69.33"
        ],
        [
         "42",
         "87",
         "79",
         "82",
         "82.67"
        ],
        [
         "43",
         "58",
         "70",
         "70",
         "66.0"
        ],
        [
         "44",
         "100",
         "88",
         "87",
         "91.67"
        ],
        [
         "45",
         "60",
         "46",
         "51",
         "52.33"
        ],
        [
         "46",
         "64",
         "63",
         "57",
         "61.33"
        ],
        [
         "47",
         "65",
         "76",
         "78",
         "73.0"
        ],
        [
         "48",
         "68",
         "72",
         "73",
         "71.0"
        ],
        [
         "49",
         "60",
         "63",
         "57",
         "60.0"
        ]
       ],
       "shape": {
        "columns": 4,
        "rows": 1000
       }
      },
      "text/html": [
       "<div>\n",
       "<style scoped>\n",
       "    .dataframe tbody tr th:only-of-type {\n",
       "        vertical-align: middle;\n",
       "    }\n",
       "\n",
       "    .dataframe tbody tr th {\n",
       "        vertical-align: top;\n",
       "    }\n",
       "\n",
       "    .dataframe thead th {\n",
       "        text-align: right;\n",
       "    }\n",
       "</style>\n",
       "<table border=\"1\" class=\"dataframe\">\n",
       "  <thead>\n",
       "    <tr style=\"text-align: right;\">\n",
       "      <th></th>\n",
       "      <th>math_score</th>\n",
       "      <th>reading_score</th>\n",
       "      <th>writing_score</th>\n",
       "      <th>average_score</th>\n",
       "    </tr>\n",
       "  </thead>\n",
       "  <tbody>\n",
       "    <tr>\n",
       "      <th>0</th>\n",
       "      <td>67</td>\n",
       "      <td>67</td>\n",
       "      <td>63</td>\n",
       "      <td>65.67</td>\n",
       "    </tr>\n",
       "    <tr>\n",
       "      <th>1</th>\n",
       "      <td>40</td>\n",
       "      <td>59</td>\n",
       "      <td>55</td>\n",
       "      <td>51.33</td>\n",
       "    </tr>\n",
       "    <tr>\n",
       "      <th>2</th>\n",
       "      <td>59</td>\n",
       "      <td>60</td>\n",
       "      <td>50</td>\n",
       "      <td>56.33</td>\n",
       "    </tr>\n",
       "    <tr>\n",
       "      <th>3</th>\n",
       "      <td>77</td>\n",
       "      <td>78</td>\n",
       "      <td>68</td>\n",
       "      <td>74.33</td>\n",
       "    </tr>\n",
       "    <tr>\n",
       "      <th>4</th>\n",
       "      <td>78</td>\n",
       "      <td>73</td>\n",
       "      <td>68</td>\n",
       "      <td>73.00</td>\n",
       "    </tr>\n",
       "    <tr>\n",
       "      <th>...</th>\n",
       "      <td>...</td>\n",
       "      <td>...</td>\n",
       "      <td>...</td>\n",
       "      <td>...</td>\n",
       "    </tr>\n",
       "    <tr>\n",
       "      <th>995</th>\n",
       "      <td>73</td>\n",
       "      <td>70</td>\n",
       "      <td>65</td>\n",
       "      <td>69.33</td>\n",
       "    </tr>\n",
       "    <tr>\n",
       "      <th>996</th>\n",
       "      <td>85</td>\n",
       "      <td>91</td>\n",
       "      <td>92</td>\n",
       "      <td>89.33</td>\n",
       "    </tr>\n",
       "    <tr>\n",
       "      <th>997</th>\n",
       "      <td>32</td>\n",
       "      <td>35</td>\n",
       "      <td>41</td>\n",
       "      <td>36.00</td>\n",
       "    </tr>\n",
       "    <tr>\n",
       "      <th>998</th>\n",
       "      <td>73</td>\n",
       "      <td>74</td>\n",
       "      <td>82</td>\n",
       "      <td>76.33</td>\n",
       "    </tr>\n",
       "    <tr>\n",
       "      <th>999</th>\n",
       "      <td>65</td>\n",
       "      <td>60</td>\n",
       "      <td>62</td>\n",
       "      <td>62.33</td>\n",
       "    </tr>\n",
       "  </tbody>\n",
       "</table>\n",
       "<p>1000 rows × 4 columns</p>\n",
       "</div>"
      ],
      "text/plain": [
       "     math_score  reading_score  writing_score  average_score\n",
       "0            67             67             63          65.67\n",
       "1            40             59             55          51.33\n",
       "2            59             60             50          56.33\n",
       "3            77             78             68          74.33\n",
       "4            78             73             68          73.00\n",
       "..          ...            ...            ...            ...\n",
       "995          73             70             65          69.33\n",
       "996          85             91             92          89.33\n",
       "997          32             35             41          36.00\n",
       "998          73             74             82          76.33\n",
       "999          65             60             62          62.33\n",
       "\n",
       "[1000 rows x 4 columns]"
      ]
     },
     "execution_count": 50,
     "metadata": {},
     "output_type": "execute_result"
    }
   ],
   "source": [
    "int_cols = df.select_dtypes(exclude='object') #include='numeric'\n",
    "int_cols"
   ]
  },
  {
   "cell_type": "markdown",
   "id": "7c62b3ea",
   "metadata": {},
   "source": [
    "#### Aggregation in Pandas"
   ]
  },
  {
   "cell_type": "markdown",
   "id": "e3be6346",
   "metadata": {},
   "source": [
    "Find the average math score by gender."
   ]
  },
  {
   "cell_type": "code",
   "execution_count": 60,
   "id": "f85f0e8e",
   "metadata": {},
   "outputs": [
    {
     "data": {
      "application/vnd.microsoft.datawrangler.viewer.v0+json": {
       "columns": [
        {
         "name": "gender",
         "rawType": "object",
         "type": "string"
        },
        {
         "name": "math_score",
         "rawType": "float64",
         "type": "float"
        }
       ],
       "ref": "a72c4b86-dc61-4d28-845f-683d543632f2",
       "rows": [
        [
         "female",
         "63.196687370600415"
        ],
        [
         "male",
         "69.38491295938104"
        ]
       ],
       "shape": {
        "columns": 1,
        "rows": 2
       }
      },
      "text/html": [
       "<div>\n",
       "<style scoped>\n",
       "    .dataframe tbody tr th:only-of-type {\n",
       "        vertical-align: middle;\n",
       "    }\n",
       "\n",
       "    .dataframe tbody tr th {\n",
       "        vertical-align: top;\n",
       "    }\n",
       "\n",
       "    .dataframe thead th {\n",
       "        text-align: right;\n",
       "    }\n",
       "</style>\n",
       "<table border=\"1\" class=\"dataframe\">\n",
       "  <thead>\n",
       "    <tr style=\"text-align: right;\">\n",
       "      <th></th>\n",
       "      <th>math_score</th>\n",
       "    </tr>\n",
       "    <tr>\n",
       "      <th>gender</th>\n",
       "      <th></th>\n",
       "    </tr>\n",
       "  </thead>\n",
       "  <tbody>\n",
       "    <tr>\n",
       "      <th>female</th>\n",
       "      <td>63.196687</td>\n",
       "    </tr>\n",
       "    <tr>\n",
       "      <th>male</th>\n",
       "      <td>69.384913</td>\n",
       "    </tr>\n",
       "  </tbody>\n",
       "</table>\n",
       "</div>"
      ],
      "text/plain": [
       "        math_score\n",
       "gender            \n",
       "female   63.196687\n",
       "male     69.384913"
      ]
     },
     "execution_count": 60,
     "metadata": {},
     "output_type": "execute_result"
    }
   ],
   "source": [
    "df.groupby(['gender'])[['math_score']].mean()"
   ]
  },
  {
   "cell_type": "code",
   "execution_count": 52,
   "id": "772eb22f",
   "metadata": {},
   "outputs": [
    {
     "data": {
      "application/vnd.microsoft.datawrangler.viewer.v0+json": {
       "columns": [
        {
         "name": "gender",
         "rawType": "object",
         "type": "string"
        },
        {
         "name": "math_score",
         "rawType": "float64",
         "type": "float"
        }
       ],
       "ref": "bfc7bd28-e5b0-4d0e-9f87-a95f07370ec3",
       "rows": [
        [
         "female",
         "63.196687370600415"
        ],
        [
         "male",
         "69.38491295938104"
        ]
       ],
       "shape": {
        "columns": 1,
        "rows": 2
       }
      },
      "text/html": [
       "<div>\n",
       "<style scoped>\n",
       "    .dataframe tbody tr th:only-of-type {\n",
       "        vertical-align: middle;\n",
       "    }\n",
       "\n",
       "    .dataframe tbody tr th {\n",
       "        vertical-align: top;\n",
       "    }\n",
       "\n",
       "    .dataframe thead th {\n",
       "        text-align: right;\n",
       "    }\n",
       "</style>\n",
       "<table border=\"1\" class=\"dataframe\">\n",
       "  <thead>\n",
       "    <tr style=\"text-align: right;\">\n",
       "      <th></th>\n",
       "      <th>math_score</th>\n",
       "    </tr>\n",
       "    <tr>\n",
       "      <th>gender</th>\n",
       "      <th></th>\n",
       "    </tr>\n",
       "  </thead>\n",
       "  <tbody>\n",
       "    <tr>\n",
       "      <th>female</th>\n",
       "      <td>63.196687</td>\n",
       "    </tr>\n",
       "    <tr>\n",
       "      <th>male</th>\n",
       "      <td>69.384913</td>\n",
       "    </tr>\n",
       "  </tbody>\n",
       "</table>\n",
       "</div>"
      ],
      "text/plain": [
       "        math_score\n",
       "gender            \n",
       "female   63.196687\n",
       "male     69.384913"
      ]
     },
     "execution_count": 52,
     "metadata": {},
     "output_type": "execute_result"
    }
   ],
   "source": [
    "df[['gender','math_score']].groupby('gender').mean()"
   ]
  },
  {
   "cell_type": "code",
   "execution_count": 62,
   "id": "85c8df4f",
   "metadata": {},
   "outputs": [
    {
     "data": {
      "application/vnd.microsoft.datawrangler.viewer.v0+json": {
       "columns": [
        {
         "name": "gender",
         "rawType": "object",
         "type": "string"
        },
        {
         "name": "math_score",
         "rawType": "float64",
         "type": "float"
        }
       ],
       "ref": "c693cb9a-f31a-4163-8f88-dd8f0d8274c1",
       "rows": [
        [
         "female",
         "63.196687370600415"
        ],
        [
         "male",
         "69.38491295938104"
        ]
       ],
       "shape": {
        "columns": 1,
        "rows": 2
       }
      },
      "text/html": [
       "<div>\n",
       "<style scoped>\n",
       "    .dataframe tbody tr th:only-of-type {\n",
       "        vertical-align: middle;\n",
       "    }\n",
       "\n",
       "    .dataframe tbody tr th {\n",
       "        vertical-align: top;\n",
       "    }\n",
       "\n",
       "    .dataframe thead th {\n",
       "        text-align: right;\n",
       "    }\n",
       "</style>\n",
       "<table border=\"1\" class=\"dataframe\">\n",
       "  <thead>\n",
       "    <tr style=\"text-align: right;\">\n",
       "      <th></th>\n",
       "      <th>math_score</th>\n",
       "    </tr>\n",
       "    <tr>\n",
       "      <th>gender</th>\n",
       "      <th></th>\n",
       "    </tr>\n",
       "  </thead>\n",
       "  <tbody>\n",
       "    <tr>\n",
       "      <th>female</th>\n",
       "      <td>63.196687</td>\n",
       "    </tr>\n",
       "    <tr>\n",
       "      <th>male</th>\n",
       "      <td>69.384913</td>\n",
       "    </tr>\n",
       "  </tbody>\n",
       "</table>\n",
       "</div>"
      ],
      "text/plain": [
       "        math_score\n",
       "gender            \n",
       "female   63.196687\n",
       "male     69.384913"
      ]
     },
     "execution_count": 62,
     "metadata": {},
     "output_type": "execute_result"
    }
   ],
   "source": [
    "#alternatively \n",
    "df[['gender','math_score']].groupby('gender').mean()"
   ]
  },
  {
   "cell_type": "code",
   "execution_count": null,
   "id": "435a7ec4",
   "metadata": {},
   "outputs": [
    {
     "data": {
      "text/plain": [
       "<Axes: xlabel='gender'>"
      ]
     },
     "execution_count": 61,
     "metadata": {},
     "output_type": "execute_result"
    },
    {
     "data": {
      "image/png": "[encoded data removed]",
      "text/plain": [
       "<Figure size 640x480 with 1 Axes>"
      ]
     },
     "metadata": {},
     "output_type": "display_data"
    }
   ],
   "source": [
    "# pandas has its own builtin viz library\n",
    "df[['gender','math_score']].groupby('gender').mean().plot(kind='bar')"
   ]
  },
  {
   "cell_type": "code",
   "execution_count": 58,
   "id": "e7c80853",
   "metadata": {},
   "outputs": [
    {
     "data": {
      "application/vnd.microsoft.datawrangler.viewer.v0+json": {
       "columns": [
        {
         "name": "gender",
         "rawType": "object",
         "type": "string"
        },
        {
         "name": "math_score",
         "rawType": "float64",
         "type": "float"
        },
        {
         "name": "reading_score",
         "rawType": "float64",
         "type": "float"
        }
       ],
       "ref": "ea4a045f-16eb-4129-8791-c624dcee0fd5",
       "rows": [
        [
         "female",
         "63.196687370600415",
         "71.88819875776397"
        ],
        [
         "male",
         "69.38491295938104",
         "66.30560928433269"
        ]
       ],
       "shape": {
        "columns": 2,
        "rows": 2
       }
      },
      "text/html": [
       "<div>\n",
       "<style scoped>\n",
       "    .dataframe tbody tr th:only-of-type {\n",
       "        vertical-align: middle;\n",
       "    }\n",
       "\n",
       "    .dataframe tbody tr th {\n",
       "        vertical-align: top;\n",
       "    }\n",
       "\n",
       "    .dataframe thead th {\n",
       "        text-align: right;\n",
       "    }\n",
       "</style>\n",
       "<table border=\"1\" class=\"dataframe\">\n",
       "  <thead>\n",
       "    <tr style=\"text-align: right;\">\n",
       "      <th></th>\n",
       "      <th>math_score</th>\n",
       "      <th>reading_score</th>\n",
       "    </tr>\n",
       "    <tr>\n",
       "      <th>gender</th>\n",
       "      <th></th>\n",
       "      <th></th>\n",
       "    </tr>\n",
       "  </thead>\n",
       "  <tbody>\n",
       "    <tr>\n",
       "      <th>female</th>\n",
       "      <td>63.196687</td>\n",
       "      <td>71.888199</td>\n",
       "    </tr>\n",
       "    <tr>\n",
       "      <th>male</th>\n",
       "      <td>69.384913</td>\n",
       "      <td>66.305609</td>\n",
       "    </tr>\n",
       "  </tbody>\n",
       "</table>\n",
       "</div>"
      ],
      "text/plain": [
       "        math_score  reading_score\n",
       "gender                           \n",
       "female   63.196687      71.888199\n",
       "male     69.384913      66.305609"
      ]
     },
     "execution_count": 58,
     "metadata": {},
     "output_type": "execute_result"
    }
   ],
   "source": [
    "df.groupby(['gender'])[['math_score', 'reading_score']].mean()"
   ]
  },
  {
   "cell_type": "markdown",
   "id": "3eaabf70",
   "metadata": {},
   "source": [
    "Get the ratio of students that scored over 60 in math by gender"
   ]
  },
  {
   "cell_type": "code",
   "execution_count": 71,
   "id": "75c6b872",
   "metadata": {},
   "outputs": [
    {
     "data": {
      "application/vnd.microsoft.datawrangler.viewer.v0+json": {
       "columns": [
        {
         "name": "gender",
         "rawType": "object",
         "type": "string"
        },
        {
         "name": "math_score",
         "rawType": "float64",
         "type": "float"
        }
       ],
       "ref": "111762ac-2281-4fae-bf79-4dc89e87e38e",
       "rows": [
        [
         "female",
         "0.283"
        ],
        [
         "male",
         "0.382"
        ]
       ],
       "shape": {
        "columns": 1,
        "rows": 2
       }
      },
      "text/html": [
       "<div>\n",
       "<style scoped>\n",
       "    .dataframe tbody tr th:only-of-type {\n",
       "        vertical-align: middle;\n",
       "    }\n",
       "\n",
       "    .dataframe tbody tr th {\n",
       "        vertical-align: top;\n",
       "    }\n",
       "\n",
       "    .dataframe thead th {\n",
       "        text-align: right;\n",
       "    }\n",
       "</style>\n",
       "<table border=\"1\" class=\"dataframe\">\n",
       "  <thead>\n",
       "    <tr style=\"text-align: right;\">\n",
       "      <th></th>\n",
       "      <th>math_score</th>\n",
       "    </tr>\n",
       "    <tr>\n",
       "      <th>gender</th>\n",
       "      <th></th>\n",
       "    </tr>\n",
       "  </thead>\n",
       "  <tbody>\n",
       "    <tr>\n",
       "      <th>female</th>\n",
       "      <td>0.283</td>\n",
       "    </tr>\n",
       "    <tr>\n",
       "      <th>male</th>\n",
       "      <td>0.382</td>\n",
       "    </tr>\n",
       "  </tbody>\n",
       "</table>\n",
       "</div>"
      ],
      "text/plain": [
       "        math_score\n",
       "gender            \n",
       "female       0.283\n",
       "male         0.382"
      ]
     },
     "execution_count": 71,
     "metadata": {},
     "output_type": "execute_result"
    }
   ],
   "source": [
    "df[df['math_score']>=60].groupby(['gender'])[['math_score']].count()/len(df)"
   ]
  },
  {
   "cell_type": "markdown",
   "id": "8d257f7d",
   "metadata": {},
   "source": [
    "Get the lowest writing score by class group"
   ]
  },
  {
   "cell_type": "code",
   "execution_count": 72,
   "id": "79e55089",
   "metadata": {},
   "outputs": [
    {
     "data": {
      "application/vnd.microsoft.datawrangler.viewer.v0+json": {
       "columns": [
        {
         "name": "class_group",
         "rawType": "object",
         "type": "string"
        },
        {
         "name": "writing_score",
         "rawType": "int8",
         "type": "integer"
        }
       ],
       "ref": "cb7a5df9-b2e4-4872-8326-999955014995",
       "rows": [
        [
         "group A",
         "32"
        ],
        [
         "group B",
         "23"
        ],
        [
         "group C",
         "23"
        ],
        [
         "group D",
         "37"
        ],
        [
         "group E",
         "32"
        ]
       ],
       "shape": {
        "columns": 1,
        "rows": 5
       }
      },
      "text/html": [
       "<div>\n",
       "<style scoped>\n",
       "    .dataframe tbody tr th:only-of-type {\n",
       "        vertical-align: middle;\n",
       "    }\n",
       "\n",
       "    .dataframe tbody tr th {\n",
       "        vertical-align: top;\n",
       "    }\n",
       "\n",
       "    .dataframe thead th {\n",
       "        text-align: right;\n",
       "    }\n",
       "</style>\n",
       "<table border=\"1\" class=\"dataframe\">\n",
       "  <thead>\n",
       "    <tr style=\"text-align: right;\">\n",
       "      <th></th>\n",
       "      <th>writing_score</th>\n",
       "    </tr>\n",
       "    <tr>\n",
       "      <th>class_group</th>\n",
       "      <th></th>\n",
       "    </tr>\n",
       "  </thead>\n",
       "  <tbody>\n",
       "    <tr>\n",
       "      <th>group A</th>\n",
       "      <td>32</td>\n",
       "    </tr>\n",
       "    <tr>\n",
       "      <th>group B</th>\n",
       "      <td>23</td>\n",
       "    </tr>\n",
       "    <tr>\n",
       "      <th>group C</th>\n",
       "      <td>23</td>\n",
       "    </tr>\n",
       "    <tr>\n",
       "      <th>group D</th>\n",
       "      <td>37</td>\n",
       "    </tr>\n",
       "    <tr>\n",
       "      <th>group E</th>\n",
       "      <td>32</td>\n",
       "    </tr>\n",
       "  </tbody>\n",
       "</table>\n",
       "</div>"
      ],
      "text/plain": [
       "             writing_score\n",
       "class_group               \n",
       "group A                 32\n",
       "group B                 23\n",
       "group C                 23\n",
       "group D                 37\n",
       "group E                 32"
      ]
     },
     "execution_count": 72,
     "metadata": {},
     "output_type": "execute_result"
    }
   ],
   "source": [
    "df.groupby(['class_group'])[['writing_score']].min()"
   ]
  },
  {
   "cell_type": "markdown",
   "id": "a12db365",
   "metadata": {},
   "source": [
    "Change the code above to use multiple measures (e.g. min, max, and mean) - using `agg()`"
   ]
  },
  {
   "cell_type": "code",
   "execution_count": 73,
   "id": "7c3fe835",
   "metadata": {},
   "outputs": [
    {
     "data": {
      "application/vnd.microsoft.datawrangler.viewer.v0+json": {
       "columns": [
        {
         "name": "class_group",
         "rawType": "object",
         "type": "string"
        },
        {
         "name": "('writing_score', 'min')",
         "rawType": "int8",
         "type": "integer"
        },
        {
         "name": "('writing_score', 'max')",
         "rawType": "int8",
         "type": "integer"
        },
        {
         "name": "('writing_score', 'mean')",
         "rawType": "float64",
         "type": "float"
        }
       ],
       "ref": "94d8658e-b28f-498a-9031-c99b5e4f61c7",
       "rows": [
        [
         "group A",
         "32",
         "100",
         "66.9746835443038"
        ],
        [
         "group B",
         "23",
         "100",
         "65.73658536585366"
        ],
        [
         "group C",
         "23",
         "100",
         "64.52321981424149"
        ],
        [
         "group D",
         "37",
         "100",
         "72.25954198473282"
        ],
        [
         "group E",
         "32",
         "100",
         "70.21374045801527"
        ]
       ],
       "shape": {
        "columns": 3,
        "rows": 5
       }
      },
      "text/html": [
       "<div>\n",
       "<style scoped>\n",
       "    .dataframe tbody tr th:only-of-type {\n",
       "        vertical-align: middle;\n",
       "    }\n",
       "\n",
       "    .dataframe tbody tr th {\n",
       "        vertical-align: top;\n",
       "    }\n",
       "\n",
       "    .dataframe thead tr th {\n",
       "        text-align: left;\n",
       "    }\n",
       "\n",
       "    .dataframe thead tr:last-of-type th {\n",
       "        text-align: right;\n",
       "    }\n",
       "</style>\n",
       "<table border=\"1\" class=\"dataframe\">\n",
       "  <thead>\n",
       "    <tr>\n",
       "      <th></th>\n",
       "      <th colspan=\"3\" halign=\"left\">writing_score</th>\n",
       "    </tr>\n",
       "    <tr>\n",
       "      <th></th>\n",
       "      <th>min</th>\n",
       "      <th>max</th>\n",
       "      <th>mean</th>\n",
       "    </tr>\n",
       "    <tr>\n",
       "      <th>class_group</th>\n",
       "      <th></th>\n",
       "      <th></th>\n",
       "      <th></th>\n",
       "    </tr>\n",
       "  </thead>\n",
       "  <tbody>\n",
       "    <tr>\n",
       "      <th>group A</th>\n",
       "      <td>32</td>\n",
       "      <td>100</td>\n",
       "      <td>66.974684</td>\n",
       "    </tr>\n",
       "    <tr>\n",
       "      <th>group B</th>\n",
       "      <td>23</td>\n",
       "      <td>100</td>\n",
       "      <td>65.736585</td>\n",
       "    </tr>\n",
       "    <tr>\n",
       "      <th>group C</th>\n",
       "      <td>23</td>\n",
       "      <td>100</td>\n",
       "      <td>64.523220</td>\n",
       "    </tr>\n",
       "    <tr>\n",
       "      <th>group D</th>\n",
       "      <td>37</td>\n",
       "      <td>100</td>\n",
       "      <td>72.259542</td>\n",
       "    </tr>\n",
       "    <tr>\n",
       "      <th>group E</th>\n",
       "      <td>32</td>\n",
       "      <td>100</td>\n",
       "      <td>70.213740</td>\n",
       "    </tr>\n",
       "  </tbody>\n",
       "</table>\n",
       "</div>"
      ],
      "text/plain": [
       "            writing_score                \n",
       "                      min  max       mean\n",
       "class_group                              \n",
       "group A                32  100  66.974684\n",
       "group B                23  100  65.736585\n",
       "group C                23  100  64.523220\n",
       "group D                37  100  72.259542\n",
       "group E                32  100  70.213740"
      ]
     },
     "execution_count": 73,
     "metadata": {},
     "output_type": "execute_result"
    }
   ],
   "source": [
    "df.groupby(['class_group'])[['writing_score']].agg(['min','max','mean'])"
   ]
  },
  {
   "cell_type": "markdown",
   "id": "1e021b8b",
   "metadata": {},
   "source": [
    "**Observation** \n",
    "- Group D has the highest mean and group C has the lowest\n",
    "- All groups have some students that scored 100\n",
    "- Overall average is more than 64 in writing. and all groups are above 23.\n",
    "- Even though B & C have the same min & max, the averages are different."
   ]
  },
  {
   "cell_type": "code",
   "execution_count": 75,
   "id": "07c7cb51",
   "metadata": {},
   "outputs": [
    {
     "data": {
      "application/vnd.microsoft.datawrangler.viewer.v0+json": {
       "columns": [
        {
         "name": "class_group",
         "rawType": "object",
         "type": "string"
        },
        {
         "name": "('writing_score', 'count')",
         "rawType": "float64",
         "type": "float"
        },
        {
         "name": "('writing_score', 'mean')",
         "rawType": "float64",
         "type": "float"
        },
        {
         "name": "('writing_score', 'std')",
         "rawType": "float64",
         "type": "float"
        },
        {
         "name": "('writing_score', 'min')",
         "rawType": "float64",
         "type": "float"
        },
        {
         "name": "('writing_score', '25%')",
         "rawType": "float64",
         "type": "float"
        },
        {
         "name": "('writing_score', '50%')",
         "rawType": "float64",
         "type": "float"
        },
        {
         "name": "('writing_score', '75%')",
         "rawType": "float64",
         "type": "float"
        },
        {
         "name": "('writing_score', 'max')",
         "rawType": "float64",
         "type": "float"
        }
       ],
       "ref": "ce93e231-ac49-4ce2-9af9-f71901fe09f8",
       "rows": [
        [
         "group A",
         "79.0",
         "66.9746835443038",
         "16.374600941345577",
         "32.0",
         "56.5",
         "67.0",
         "78.0",
         "100.0"
        ],
        [
         "group B",
         "205.0",
         "65.73658536585366",
         "14.866361490606657",
         "23.0",
         "57.0",
         "66.0",
         "76.0",
         "100.0"
        ],
        [
         "group C",
         "323.0",
         "64.52321981424149",
         "15.643403532244818",
         "23.0",
         "53.0",
         "65.0",
         "75.0",
         "100.0"
        ],
        [
         "group D",
         "262.0",
         "72.25954198473282",
         "14.665406312753626",
         "37.0",
         "62.25",
         "72.0",
         "83.75",
         "100.0"
        ],
        [
         "group E",
         "131.0",
         "70.21374045801527",
         "15.652479593975267",
         "32.0",
         "59.5",
         "71.0",
         "82.0",
         "100.0"
        ]
       ],
       "shape": {
        "columns": 8,
        "rows": 5
       }
      },
      "text/html": [
       "<div>\n",
       "<style scoped>\n",
       "    .dataframe tbody tr th:only-of-type {\n",
       "        vertical-align: middle;\n",
       "    }\n",
       "\n",
       "    .dataframe tbody tr th {\n",
       "        vertical-align: top;\n",
       "    }\n",
       "\n",
       "    .dataframe thead tr th {\n",
       "        text-align: left;\n",
       "    }\n",
       "\n",
       "    .dataframe thead tr:last-of-type th {\n",
       "        text-align: right;\n",
       "    }\n",
       "</style>\n",
       "<table border=\"1\" class=\"dataframe\">\n",
       "  <thead>\n",
       "    <tr>\n",
       "      <th></th>\n",
       "      <th colspan=\"8\" halign=\"left\">writing_score</th>\n",
       "    </tr>\n",
       "    <tr>\n",
       "      <th></th>\n",
       "      <th>count</th>\n",
       "      <th>mean</th>\n",
       "      <th>std</th>\n",
       "      <th>min</th>\n",
       "      <th>25%</th>\n",
       "      <th>50%</th>\n",
       "      <th>75%</th>\n",
       "      <th>max</th>\n",
       "    </tr>\n",
       "    <tr>\n",
       "      <th>class_group</th>\n",
       "      <th></th>\n",
       "      <th></th>\n",
       "      <th></th>\n",
       "      <th></th>\n",
       "      <th></th>\n",
       "      <th></th>\n",
       "      <th></th>\n",
       "      <th></th>\n",
       "    </tr>\n",
       "  </thead>\n",
       "  <tbody>\n",
       "    <tr>\n",
       "      <th>group A</th>\n",
       "      <td>79.0</td>\n",
       "      <td>66.974684</td>\n",
       "      <td>16.374601</td>\n",
       "      <td>32.0</td>\n",
       "      <td>56.50</td>\n",
       "      <td>67.0</td>\n",
       "      <td>78.00</td>\n",
       "      <td>100.0</td>\n",
       "    </tr>\n",
       "    <tr>\n",
       "      <th>group B</th>\n",
       "      <td>205.0</td>\n",
       "      <td>65.736585</td>\n",
       "      <td>14.866361</td>\n",
       "      <td>23.0</td>\n",
       "      <td>57.00</td>\n",
       "      <td>66.0</td>\n",
       "      <td>76.00</td>\n",
       "      <td>100.0</td>\n",
       "    </tr>\n",
       "    <tr>\n",
       "      <th>group C</th>\n",
       "      <td>323.0</td>\n",
       "      <td>64.523220</td>\n",
       "      <td>15.643404</td>\n",
       "      <td>23.0</td>\n",
       "      <td>53.00</td>\n",
       "      <td>65.0</td>\n",
       "      <td>75.00</td>\n",
       "      <td>100.0</td>\n",
       "    </tr>\n",
       "    <tr>\n",
       "      <th>group D</th>\n",
       "      <td>262.0</td>\n",
       "      <td>72.259542</td>\n",
       "      <td>14.665406</td>\n",
       "      <td>37.0</td>\n",
       "      <td>62.25</td>\n",
       "      <td>72.0</td>\n",
       "      <td>83.75</td>\n",
       "      <td>100.0</td>\n",
       "    </tr>\n",
       "    <tr>\n",
       "      <th>group E</th>\n",
       "      <td>131.0</td>\n",
       "      <td>70.213740</td>\n",
       "      <td>15.652480</td>\n",
       "      <td>32.0</td>\n",
       "      <td>59.50</td>\n",
       "      <td>71.0</td>\n",
       "      <td>82.00</td>\n",
       "      <td>100.0</td>\n",
       "    </tr>\n",
       "  </tbody>\n",
       "</table>\n",
       "</div>"
      ],
      "text/plain": [
       "            writing_score                                                  \\\n",
       "                    count       mean        std   min    25%   50%    75%   \n",
       "class_group                                                                 \n",
       "group A              79.0  66.974684  16.374601  32.0  56.50  67.0  78.00   \n",
       "group B             205.0  65.736585  14.866361  23.0  57.00  66.0  76.00   \n",
       "group C             323.0  64.523220  15.643404  23.0  53.00  65.0  75.00   \n",
       "group D             262.0  72.259542  14.665406  37.0  62.25  72.0  83.75   \n",
       "group E             131.0  70.213740  15.652480  32.0  59.50  71.0  82.00   \n",
       "\n",
       "                    \n",
       "               max  \n",
       "class_group         \n",
       "group A      100.0  \n",
       "group B      100.0  \n",
       "group C      100.0  \n",
       "group D      100.0  \n",
       "group E      100.0  "
      ]
     },
     "execution_count": 75,
     "metadata": {},
     "output_type": "execute_result"
    }
   ],
   "source": [
    "df.groupby(['class_group'])[['writing_score']].describe()"
   ]
  },
  {
   "cell_type": "markdown",
   "id": "dd339422",
   "metadata": {},
   "source": [
    "Use a custom function for aggregation. "
   ]
  },
  {
   "cell_type": "code",
   "execution_count": 76,
   "id": "4ed56584",
   "metadata": {},
   "outputs": [],
   "source": [
    "def custom_range(x):\n",
    "    return x.max() - x.min()"
   ]
  },
  {
   "cell_type": "code",
   "execution_count": 78,
   "id": "715af171",
   "metadata": {},
   "outputs": [
    {
     "data": {
      "application/vnd.microsoft.datawrangler.viewer.v0+json": {
       "columns": [
        {
         "name": "class_group",
         "rawType": "object",
         "type": "string"
        },
        {
         "name": "('writing_score', 'min')",
         "rawType": "int8",
         "type": "integer"
        },
        {
         "name": "('writing_score', 'max')",
         "rawType": "int8",
         "type": "integer"
        },
        {
         "name": "('writing_score', 'custom_range')",
         "rawType": "int8",
         "type": "integer"
        },
        {
         "name": "('writing_score', 'count')",
         "rawType": "int64",
         "type": "integer"
        }
       ],
       "ref": "7c89d829-8e94-47d6-b4d5-9a108c303f66",
       "rows": [
        [
         "group A",
         "32",
         "100",
         "68",
         "79"
        ],
        [
         "group B",
         "23",
         "100",
         "77",
         "205"
        ],
        [
         "group C",
         "23",
         "100",
         "77",
         "323"
        ],
        [
         "group D",
         "37",
         "100",
         "63",
         "262"
        ],
        [
         "group E",
         "32",
         "100",
         "68",
         "131"
        ]
       ],
       "shape": {
        "columns": 4,
        "rows": 5
       }
      },
      "text/html": [
       "<div>\n",
       "<style scoped>\n",
       "    .dataframe tbody tr th:only-of-type {\n",
       "        vertical-align: middle;\n",
       "    }\n",
       "\n",
       "    .dataframe tbody tr th {\n",
       "        vertical-align: top;\n",
       "    }\n",
       "\n",
       "    .dataframe thead tr th {\n",
       "        text-align: left;\n",
       "    }\n",
       "\n",
       "    .dataframe thead tr:last-of-type th {\n",
       "        text-align: right;\n",
       "    }\n",
       "</style>\n",
       "<table border=\"1\" class=\"dataframe\">\n",
       "  <thead>\n",
       "    <tr>\n",
       "      <th></th>\n",
       "      <th colspan=\"4\" halign=\"left\">writing_score</th>\n",
       "    </tr>\n",
       "    <tr>\n",
       "      <th></th>\n",
       "      <th>min</th>\n",
       "      <th>max</th>\n",
       "      <th>custom_range</th>\n",
       "      <th>count</th>\n",
       "    </tr>\n",
       "    <tr>\n",
       "      <th>class_group</th>\n",
       "      <th></th>\n",
       "      <th></th>\n",
       "      <th></th>\n",
       "      <th></th>\n",
       "    </tr>\n",
       "  </thead>\n",
       "  <tbody>\n",
       "    <tr>\n",
       "      <th>group A</th>\n",
       "      <td>32</td>\n",
       "      <td>100</td>\n",
       "      <td>68</td>\n",
       "      <td>79</td>\n",
       "    </tr>\n",
       "    <tr>\n",
       "      <th>group B</th>\n",
       "      <td>23</td>\n",
       "      <td>100</td>\n",
       "      <td>77</td>\n",
       "      <td>205</td>\n",
       "    </tr>\n",
       "    <tr>\n",
       "      <th>group C</th>\n",
       "      <td>23</td>\n",
       "      <td>100</td>\n",
       "      <td>77</td>\n",
       "      <td>323</td>\n",
       "    </tr>\n",
       "    <tr>\n",
       "      <th>group D</th>\n",
       "      <td>37</td>\n",
       "      <td>100</td>\n",
       "      <td>63</td>\n",
       "      <td>262</td>\n",
       "    </tr>\n",
       "    <tr>\n",
       "      <th>group E</th>\n",
       "      <td>32</td>\n",
       "      <td>100</td>\n",
       "      <td>68</td>\n",
       "      <td>131</td>\n",
       "    </tr>\n",
       "  </tbody>\n",
       "</table>\n",
       "</div>"
      ],
      "text/plain": [
       "            writing_score                        \n",
       "                      min  max custom_range count\n",
       "class_group                                      \n",
       "group A                32  100           68    79\n",
       "group B                23  100           77   205\n",
       "group C                23  100           77   323\n",
       "group D                37  100           63   262\n",
       "group E                32  100           68   131"
      ]
     },
     "execution_count": 78,
     "metadata": {},
     "output_type": "execute_result"
    }
   ],
   "source": [
    "df.groupby(['class_group'])[['writing_score']].agg(['min','max',custom_range, 'count'])"
   ]
  },
  {
   "cell_type": "code",
   "execution_count": 79,
   "id": "3592c4e0",
   "metadata": {},
   "outputs": [
    {
     "data": {
      "application/vnd.microsoft.datawrangler.viewer.v0+json": {
       "columns": [
        {
         "name": "class_group",
         "rawType": "object",
         "type": "string"
        },
        {
         "name": "('math_score', 'mean')",
         "rawType": "float64",
         "type": "float"
        },
        {
         "name": "('math_score', 'custom_range')",
         "rawType": "int8",
         "type": "integer"
        },
        {
         "name": "('writing_score', 'min')",
         "rawType": "int8",
         "type": "integer"
        },
        {
         "name": "('writing_score', 'max')",
         "rawType": "int8",
         "type": "integer"
        }
       ],
       "ref": "ebcdaada-d487-43b4-ae76-6b086dd6d1a1",
       "rows": [
        [
         "group A",
         "65.21518987341773",
         "61",
         "32",
         "100"
        ],
        [
         "group B",
         "63.170731707317074",
         "74",
         "23",
         "100"
        ],
        [
         "group C",
         "63.130030959752325",
         "87",
         "23",
         "100"
        ],
        [
         "group D",
         "69.26717557251908",
         "87",
         "37",
         "100"
        ],
        [
         "group E",
         "74.46564885496183",
         "67",
         "32",
         "100"
        ]
       ],
       "shape": {
        "columns": 4,
        "rows": 5
       }
      },
      "text/html": [
       "<div>\n",
       "<style scoped>\n",
       "    .dataframe tbody tr th:only-of-type {\n",
       "        vertical-align: middle;\n",
       "    }\n",
       "\n",
       "    .dataframe tbody tr th {\n",
       "        vertical-align: top;\n",
       "    }\n",
       "\n",
       "    .dataframe thead tr th {\n",
       "        text-align: left;\n",
       "    }\n",
       "\n",
       "    .dataframe thead tr:last-of-type th {\n",
       "        text-align: right;\n",
       "    }\n",
       "</style>\n",
       "<table border=\"1\" class=\"dataframe\">\n",
       "  <thead>\n",
       "    <tr>\n",
       "      <th></th>\n",
       "      <th colspan=\"2\" halign=\"left\">math_score</th>\n",
       "      <th colspan=\"2\" halign=\"left\">writing_score</th>\n",
       "    </tr>\n",
       "    <tr>\n",
       "      <th></th>\n",
       "      <th>mean</th>\n",
       "      <th>custom_range</th>\n",
       "      <th>min</th>\n",
       "      <th>max</th>\n",
       "    </tr>\n",
       "    <tr>\n",
       "      <th>class_group</th>\n",
       "      <th></th>\n",
       "      <th></th>\n",
       "      <th></th>\n",
       "      <th></th>\n",
       "    </tr>\n",
       "  </thead>\n",
       "  <tbody>\n",
       "    <tr>\n",
       "      <th>group A</th>\n",
       "      <td>65.215190</td>\n",
       "      <td>61</td>\n",
       "      <td>32</td>\n",
       "      <td>100</td>\n",
       "    </tr>\n",
       "    <tr>\n",
       "      <th>group B</th>\n",
       "      <td>63.170732</td>\n",
       "      <td>74</td>\n",
       "      <td>23</td>\n",
       "      <td>100</td>\n",
       "    </tr>\n",
       "    <tr>\n",
       "      <th>group C</th>\n",
       "      <td>63.130031</td>\n",
       "      <td>87</td>\n",
       "      <td>23</td>\n",
       "      <td>100</td>\n",
       "    </tr>\n",
       "    <tr>\n",
       "      <th>group D</th>\n",
       "      <td>69.267176</td>\n",
       "      <td>87</td>\n",
       "      <td>37</td>\n",
       "      <td>100</td>\n",
       "    </tr>\n",
       "    <tr>\n",
       "      <th>group E</th>\n",
       "      <td>74.465649</td>\n",
       "      <td>67</td>\n",
       "      <td>32</td>\n",
       "      <td>100</td>\n",
       "    </tr>\n",
       "  </tbody>\n",
       "</table>\n",
       "</div>"
      ],
      "text/plain": [
       "            math_score              writing_score     \n",
       "                  mean custom_range           min  max\n",
       "class_group                                           \n",
       "group A      65.215190           61            32  100\n",
       "group B      63.170732           74            23  100\n",
       "group C      63.130031           87            23  100\n",
       "group D      69.267176           87            37  100\n",
       "group E      74.465649           67            32  100"
      ]
     },
     "execution_count": 79,
     "metadata": {},
     "output_type": "execute_result"
    }
   ],
   "source": [
    "df.groupby(['class_group']).agg({'math_score':['mean',custom_range],\n",
    "                                 'writing_score':['min','max']})"
   ]
  },
  {
   "cell_type": "code",
   "execution_count": 81,
   "id": "e6822612",
   "metadata": {},
   "outputs": [
    {
     "data": {
      "application/vnd.microsoft.datawrangler.viewer.v0+json": {
       "columns": [
        {
         "name": "('class_group', 'gender')",
         "rawType": "object",
         "type": "unknown"
        },
        {
         "name": "('math_score', 'mean')",
         "rawType": "float64",
         "type": "float"
        },
        {
         "name": "('math_score', 'custom_range')",
         "rawType": "int8",
         "type": "integer"
        },
        {
         "name": "('writing_score', 'min')",
         "rawType": "int8",
         "type": "integer"
        },
        {
         "name": "('writing_score', 'max')",
         "rawType": "int8",
         "type": "integer"
        }
       ],
       "ref": "0a1c9886-3b94-4d98-9812-da13c0095f0c",
       "rows": [
        [
         "('group A', 'female')",
         "65.21621621621621",
         "61",
         "44",
         "100"
        ],
        [
         "('group A', 'male')",
         "65.21428571428571",
         "51",
         "32",
         "95"
        ],
        [
         "('group B', 'female')",
         "59.63157894736842",
         "71",
         "28",
         "100"
        ],
        [
         "('group B', 'male')",
         "67.6043956043956",
         "63",
         "23",
         "96"
        ],
        [
         "('group C', 'female')",
         "60.753246753246756",
         "81",
         "23",
         "100"
        ],
        [
         "('group C', 'male')",
         "65.29585798816568",
         "71",
         "26",
         "91"
        ],
        [
         "('group D', 'female')",
         "65.72222222222223",
         "87",
         "37",
         "100"
        ],
        [
         "('group D', 'male')",
         "72.55147058823529",
         "65",
         "39",
         "100"
        ],
        [
         "('group E', 'female')",
         "70.6923076923077",
         "67",
         "35",
         "100"
        ],
        [
         "('group E', 'male')",
         "76.9493670886076",
         "54",
         "32",
         "100"
        ]
       ],
       "shape": {
        "columns": 4,
        "rows": 10
       }
      },
      "text/html": [
       "<div>\n",
       "<style scoped>\n",
       "    .dataframe tbody tr th:only-of-type {\n",
       "        vertical-align: middle;\n",
       "    }\n",
       "\n",
       "    .dataframe tbody tr th {\n",
       "        vertical-align: top;\n",
       "    }\n",
       "\n",
       "    .dataframe thead tr th {\n",
       "        text-align: left;\n",
       "    }\n",
       "\n",
       "    .dataframe thead tr:last-of-type th {\n",
       "        text-align: right;\n",
       "    }\n",
       "</style>\n",
       "<table border=\"1\" class=\"dataframe\">\n",
       "  <thead>\n",
       "    <tr>\n",
       "      <th></th>\n",
       "      <th></th>\n",
       "      <th colspan=\"2\" halign=\"left\">math_score</th>\n",
       "      <th colspan=\"2\" halign=\"left\">writing_score</th>\n",
       "    </tr>\n",
       "    <tr>\n",
       "      <th></th>\n",
       "      <th></th>\n",
       "      <th>mean</th>\n",
       "      <th>custom_range</th>\n",
       "      <th>min</th>\n",
       "      <th>max</th>\n",
       "    </tr>\n",
       "    <tr>\n",
       "      <th>class_group</th>\n",
       "      <th>gender</th>\n",
       "      <th></th>\n",
       "      <th></th>\n",
       "      <th></th>\n",
       "      <th></th>\n",
       "    </tr>\n",
       "  </thead>\n",
       "  <tbody>\n",
       "    <tr>\n",
       "      <th rowspan=\"2\" valign=\"top\">group A</th>\n",
       "      <th>female</th>\n",
       "      <td>65.216216</td>\n",
       "      <td>61</td>\n",
       "      <td>44</td>\n",
       "      <td>100</td>\n",
       "    </tr>\n",
       "    <tr>\n",
       "      <th>male</th>\n",
       "      <td>65.214286</td>\n",
       "      <td>51</td>\n",
       "      <td>32</td>\n",
       "      <td>95</td>\n",
       "    </tr>\n",
       "    <tr>\n",
       "      <th rowspan=\"2\" valign=\"top\">group B</th>\n",
       "      <th>female</th>\n",
       "      <td>59.631579</td>\n",
       "      <td>71</td>\n",
       "      <td>28</td>\n",
       "      <td>100</td>\n",
       "    </tr>\n",
       "    <tr>\n",
       "      <th>male</th>\n",
       "      <td>67.604396</td>\n",
       "      <td>63</td>\n",
       "      <td>23</td>\n",
       "      <td>96</td>\n",
       "    </tr>\n",
       "    <tr>\n",
       "      <th rowspan=\"2\" valign=\"top\">group C</th>\n",
       "      <th>female</th>\n",
       "      <td>60.753247</td>\n",
       "      <td>81</td>\n",
       "      <td>23</td>\n",
       "      <td>100</td>\n",
       "    </tr>\n",
       "    <tr>\n",
       "      <th>male</th>\n",
       "      <td>65.295858</td>\n",
       "      <td>71</td>\n",
       "      <td>26</td>\n",
       "      <td>91</td>\n",
       "    </tr>\n",
       "    <tr>\n",
       "      <th rowspan=\"2\" valign=\"top\">group D</th>\n",
       "      <th>female</th>\n",
       "      <td>65.722222</td>\n",
       "      <td>87</td>\n",
       "      <td>37</td>\n",
       "      <td>100</td>\n",
       "    </tr>\n",
       "    <tr>\n",
       "      <th>male</th>\n",
       "      <td>72.551471</td>\n",
       "      <td>65</td>\n",
       "      <td>39</td>\n",
       "      <td>100</td>\n",
       "    </tr>\n",
       "    <tr>\n",
       "      <th rowspan=\"2\" valign=\"top\">group E</th>\n",
       "      <th>female</th>\n",
       "      <td>70.692308</td>\n",
       "      <td>67</td>\n",
       "      <td>35</td>\n",
       "      <td>100</td>\n",
       "    </tr>\n",
       "    <tr>\n",
       "      <th>male</th>\n",
       "      <td>76.949367</td>\n",
       "      <td>54</td>\n",
       "      <td>32</td>\n",
       "      <td>100</td>\n",
       "    </tr>\n",
       "  </tbody>\n",
       "</table>\n",
       "</div>"
      ],
      "text/plain": [
       "                   math_score              writing_score     \n",
       "                         mean custom_range           min  max\n",
       "class_group gender                                           \n",
       "group A     female  65.216216           61            44  100\n",
       "            male    65.214286           51            32   95\n",
       "group B     female  59.631579           71            28  100\n",
       "            male    67.604396           63            23   96\n",
       "group C     female  60.753247           81            23  100\n",
       "            male    65.295858           71            26   91\n",
       "group D     female  65.722222           87            37  100\n",
       "            male    72.551471           65            39  100\n",
       "group E     female  70.692308           67            35  100\n",
       "            male    76.949367           54            32  100"
      ]
     },
     "execution_count": 81,
     "metadata": {},
     "output_type": "execute_result"
    }
   ],
   "source": [
    "df.groupby(['class_group','gender']).agg({'math_score':['mean',custom_range],'writing_score':['min','max']})"
   ]
  },
  {
   "cell_type": "code",
   "execution_count": 90,
   "id": "86b18925",
   "metadata": {},
   "outputs": [
    {
     "data": {
      "application/vnd.microsoft.datawrangler.viewer.v0+json": {
       "columns": [
        {
         "name": "parental_level_of_education",
         "rawType": "object",
         "type": "string"
        },
        {
         "name": "('writing_score', 'max')",
         "rawType": "int8",
         "type": "integer"
        },
        {
         "name": "('writing_score', 'mean')",
         "rawType": "float64",
         "type": "float"
        }
       ],
       "ref": "3931b404-51e3-436d-9843-d4fdfca49fb4",
       "rows": [
        [
         "associate's degree",
         "100",
         "70.11330049261083"
        ],
        [
         "bachelor's degree",
         "100",
         "74.41071428571429"
        ],
        [
         "high school",
         "97",
         "64.84653465346534"
        ],
        [
         "master's degree",
         "100",
         "75.88571428571429"
        ],
        [
         "some college",
         "100",
         "66.73423423423424"
        ],
        [
         "some high school",
         "97",
         "62.539267015706805"
        ]
       ],
       "shape": {
        "columns": 2,
        "rows": 6
       }
      },
      "text/html": [
       "<div>\n",
       "<style scoped>\n",
       "    .dataframe tbody tr th:only-of-type {\n",
       "        vertical-align: middle;\n",
       "    }\n",
       "\n",
       "    .dataframe tbody tr th {\n",
       "        vertical-align: top;\n",
       "    }\n",
       "\n",
       "    .dataframe thead tr th {\n",
       "        text-align: left;\n",
       "    }\n",
       "\n",
       "    .dataframe thead tr:last-of-type th {\n",
       "        text-align: right;\n",
       "    }\n",
       "</style>\n",
       "<table border=\"1\" class=\"dataframe\">\n",
       "  <thead>\n",
       "    <tr>\n",
       "      <th></th>\n",
       "      <th colspan=\"2\" halign=\"left\">writing_score</th>\n",
       "    </tr>\n",
       "    <tr>\n",
       "      <th></th>\n",
       "      <th>max</th>\n",
       "      <th>mean</th>\n",
       "    </tr>\n",
       "    <tr>\n",
       "      <th>parental_level_of_education</th>\n",
       "      <th></th>\n",
       "      <th></th>\n",
       "    </tr>\n",
       "  </thead>\n",
       "  <tbody>\n",
       "    <tr>\n",
       "      <th>associate's degree</th>\n",
       "      <td>100</td>\n",
       "      <td>70.113300</td>\n",
       "    </tr>\n",
       "    <tr>\n",
       "      <th>bachelor's degree</th>\n",
       "      <td>100</td>\n",
       "      <td>74.410714</td>\n",
       "    </tr>\n",
       "    <tr>\n",
       "      <th>high school</th>\n",
       "      <td>97</td>\n",
       "      <td>64.846535</td>\n",
       "    </tr>\n",
       "    <tr>\n",
       "      <th>master's degree</th>\n",
       "      <td>100</td>\n",
       "      <td>75.885714</td>\n",
       "    </tr>\n",
       "    <tr>\n",
       "      <th>some college</th>\n",
       "      <td>100</td>\n",
       "      <td>66.734234</td>\n",
       "    </tr>\n",
       "    <tr>\n",
       "      <th>some high school</th>\n",
       "      <td>97</td>\n",
       "      <td>62.539267</td>\n",
       "    </tr>\n",
       "  </tbody>\n",
       "</table>\n",
       "</div>"
      ],
      "text/plain": [
       "                            writing_score           \n",
       "                                      max       mean\n",
       "parental_level_of_education                         \n",
       "associate's degree                    100  70.113300\n",
       "bachelor's degree                     100  74.410714\n",
       "high school                            97  64.846535\n",
       "master's degree                       100  75.885714\n",
       "some college                          100  66.734234\n",
       "some high school                       97  62.539267"
      ]
     },
     "execution_count": 90,
     "metadata": {},
     "output_type": "execute_result"
    }
   ],
   "source": [
    "df.groupby(['parental_level_of_education'])[['writing_score']].agg(['max','mean'])"
   ]
  },
  {
   "cell_type": "markdown",
   "id": "cd7c68f6",
   "metadata": {},
   "source": [
    "Using `pivot_table`"
   ]
  },
  {
   "cell_type": "code",
   "execution_count": 84,
   "id": "9331efe2",
   "metadata": {},
   "outputs": [
    {
     "data": {
      "application/vnd.microsoft.datawrangler.viewer.v0+json": {
       "columns": [
        {
         "name": "('class_group', 'lunch')",
         "rawType": "object",
         "type": "unknown"
        },
        {
         "name": "('mean', 'female')",
         "rawType": "float64",
         "type": "float"
        },
        {
         "name": "('mean', 'male')",
         "rawType": "float64",
         "type": "float"
        },
        {
         "name": "('custom_range', 'female')",
         "rawType": "int8",
         "type": "integer"
        },
        {
         "name": "('custom_range', 'male')",
         "rawType": "int8",
         "type": "integer"
        },
        {
         "name": "('max', 'female')",
         "rawType": "int8",
         "type": "integer"
        },
        {
         "name": "('max', 'male')",
         "rawType": "int8",
         "type": "integer"
        }
       ],
       "ref": "d063adea-76a3-4a6e-9ecf-f50998edb26d",
       "rows": [
        [
         "('group A', 'free/reduced')",
         "67.3",
         "53.375",
         "40",
         "49",
         "90",
         "82"
        ],
        [
         "('group A', 'standard')",
         "77.07407407407408",
         "69.53846153846153",
         "49",
         "59",
         "100",
         "97"
        ],
        [
         "('group B', 'free/reduced')",
         "64.175",
         "60.56666666666667",
         "59",
         "54",
         "88",
         "82"
        ],
        [
         "('group B', 'standard')",
         "70.78378378378379",
         "67.77049180327869",
         "50",
         "62",
         "98",
         "96"
        ],
        [
         "('group C', 'free/reduced')",
         "62.88461538461539",
         "58.6031746031746",
         "61",
         "58",
         "90",
         "85"
        ],
        [
         "('group C', 'standard')",
         "73.53921568627452",
         "65.83962264150944",
         "57",
         "61",
         "100",
         "99"
        ],
        [
         "('group D', 'free/reduced')",
         "69.71794871794872",
         "62.61538461538461",
         "59",
         "55",
         "95",
         "91"
        ],
        [
         "('group D', 'standard')",
         "77.59770114942529",
         "71.90721649484536",
         "56",
         "60",
         "100",
         "97"
        ],
        [
         "('group E', 'free/reduced')",
         "71.05263157894737",
         "65.15",
         "68",
         "49",
         "100",
         "87"
        ],
        [
         "('group E', 'standard')",
         "77.93939393939394",
         "76.23076923076923",
         "50",
         "57",
         "100",
         "100"
        ]
       ],
       "shape": {
        "columns": 6,
        "rows": 10
       }
      },
      "text/html": [
       "<div>\n",
       "<style scoped>\n",
       "    .dataframe tbody tr th:only-of-type {\n",
       "        vertical-align: middle;\n",
       "    }\n",
       "\n",
       "    .dataframe tbody tr th {\n",
       "        vertical-align: top;\n",
       "    }\n",
       "\n",
       "    .dataframe thead tr th {\n",
       "        text-align: left;\n",
       "    }\n",
       "\n",
       "    .dataframe thead tr:last-of-type th {\n",
       "        text-align: right;\n",
       "    }\n",
       "</style>\n",
       "<table border=\"1\" class=\"dataframe\">\n",
       "  <thead>\n",
       "    <tr>\n",
       "      <th></th>\n",
       "      <th></th>\n",
       "      <th colspan=\"2\" halign=\"left\">mean</th>\n",
       "      <th colspan=\"2\" halign=\"left\">custom_range</th>\n",
       "      <th colspan=\"2\" halign=\"left\">max</th>\n",
       "    </tr>\n",
       "    <tr>\n",
       "      <th></th>\n",
       "      <th>gender</th>\n",
       "      <th>female</th>\n",
       "      <th>male</th>\n",
       "      <th>female</th>\n",
       "      <th>male</th>\n",
       "      <th>female</th>\n",
       "      <th>male</th>\n",
       "    </tr>\n",
       "    <tr>\n",
       "      <th>class_group</th>\n",
       "      <th>lunch</th>\n",
       "      <th></th>\n",
       "      <th></th>\n",
       "      <th></th>\n",
       "      <th></th>\n",
       "      <th></th>\n",
       "      <th></th>\n",
       "    </tr>\n",
       "  </thead>\n",
       "  <tbody>\n",
       "    <tr>\n",
       "      <th rowspan=\"2\" valign=\"top\">group A</th>\n",
       "      <th>free/reduced</th>\n",
       "      <td>67.300000</td>\n",
       "      <td>53.375000</td>\n",
       "      <td>40</td>\n",
       "      <td>49</td>\n",
       "      <td>90</td>\n",
       "      <td>82</td>\n",
       "    </tr>\n",
       "    <tr>\n",
       "      <th>standard</th>\n",
       "      <td>77.074074</td>\n",
       "      <td>69.538462</td>\n",
       "      <td>49</td>\n",
       "      <td>59</td>\n",
       "      <td>100</td>\n",
       "      <td>97</td>\n",
       "    </tr>\n",
       "    <tr>\n",
       "      <th rowspan=\"2\" valign=\"top\">group B</th>\n",
       "      <th>free/reduced</th>\n",
       "      <td>64.175000</td>\n",
       "      <td>60.566667</td>\n",
       "      <td>59</td>\n",
       "      <td>54</td>\n",
       "      <td>88</td>\n",
       "      <td>82</td>\n",
       "    </tr>\n",
       "    <tr>\n",
       "      <th>standard</th>\n",
       "      <td>70.783784</td>\n",
       "      <td>67.770492</td>\n",
       "      <td>50</td>\n",
       "      <td>62</td>\n",
       "      <td>98</td>\n",
       "      <td>96</td>\n",
       "    </tr>\n",
       "    <tr>\n",
       "      <th rowspan=\"2\" valign=\"top\">group C</th>\n",
       "      <th>free/reduced</th>\n",
       "      <td>62.884615</td>\n",
       "      <td>58.603175</td>\n",
       "      <td>61</td>\n",
       "      <td>58</td>\n",
       "      <td>90</td>\n",
       "      <td>85</td>\n",
       "    </tr>\n",
       "    <tr>\n",
       "      <th>standard</th>\n",
       "      <td>73.539216</td>\n",
       "      <td>65.839623</td>\n",
       "      <td>57</td>\n",
       "      <td>61</td>\n",
       "      <td>100</td>\n",
       "      <td>99</td>\n",
       "    </tr>\n",
       "    <tr>\n",
       "      <th rowspan=\"2\" valign=\"top\">group D</th>\n",
       "      <th>free/reduced</th>\n",
       "      <td>69.717949</td>\n",
       "      <td>62.615385</td>\n",
       "      <td>59</td>\n",
       "      <td>55</td>\n",
       "      <td>95</td>\n",
       "      <td>91</td>\n",
       "    </tr>\n",
       "    <tr>\n",
       "      <th>standard</th>\n",
       "      <td>77.597701</td>\n",
       "      <td>71.907216</td>\n",
       "      <td>56</td>\n",
       "      <td>60</td>\n",
       "      <td>100</td>\n",
       "      <td>97</td>\n",
       "    </tr>\n",
       "    <tr>\n",
       "      <th rowspan=\"2\" valign=\"top\">group E</th>\n",
       "      <th>free/reduced</th>\n",
       "      <td>71.052632</td>\n",
       "      <td>65.150000</td>\n",
       "      <td>68</td>\n",
       "      <td>49</td>\n",
       "      <td>100</td>\n",
       "      <td>87</td>\n",
       "    </tr>\n",
       "    <tr>\n",
       "      <th>standard</th>\n",
       "      <td>77.939394</td>\n",
       "      <td>76.230769</td>\n",
       "      <td>50</td>\n",
       "      <td>57</td>\n",
       "      <td>100</td>\n",
       "      <td>100</td>\n",
       "    </tr>\n",
       "  </tbody>\n",
       "</table>\n",
       "</div>"
      ],
      "text/plain": [
       "                               mean            custom_range         max     \n",
       "gender                       female       male       female male female male\n",
       "class_group lunch                                                           \n",
       "group A     free/reduced  67.300000  53.375000           40   49     90   82\n",
       "            standard      77.074074  69.538462           49   59    100   97\n",
       "group B     free/reduced  64.175000  60.566667           59   54     88   82\n",
       "            standard      70.783784  67.770492           50   62     98   96\n",
       "group C     free/reduced  62.884615  58.603175           61   58     90   85\n",
       "            standard      73.539216  65.839623           57   61    100   99\n",
       "group D     free/reduced  69.717949  62.615385           59   55     95   91\n",
       "            standard      77.597701  71.907216           56   60    100   97\n",
       "group E     free/reduced  71.052632  65.150000           68   49    100   87\n",
       "            standard      77.939394  76.230769           50   57    100  100"
      ]
     },
     "execution_count": 84,
     "metadata": {},
     "output_type": "execute_result"
    }
   ],
   "source": [
    "df.pivot_table(index=['class_group','lunch'], columns='gender', values='reading_score', aggfunc=['mean', custom_range,'max'])"
   ]
  },
  {
   "cell_type": "markdown",
   "id": "3b077c40",
   "metadata": {},
   "source": [
    "Using `crosstab()`"
   ]
  },
  {
   "cell_type": "code",
   "execution_count": null,
   "id": "a67d61ff",
   "metadata": {},
   "outputs": [
    {
     "data": {
      "application/vnd.microsoft.datawrangler.viewer.v0+json": {
       "columns": [
        {
         "name": "gender",
         "rawType": "object",
         "type": "string"
        },
        {
         "name": "associate's degree",
         "rawType": "int64",
         "type": "integer"
        },
        {
         "name": "bachelor's degree",
         "rawType": "int64",
         "type": "integer"
        },
        {
         "name": "high school",
         "rawType": "int64",
         "type": "integer"
        },
        {
         "name": "master's degree",
         "rawType": "int64",
         "type": "integer"
        },
        {
         "name": "some college",
         "rawType": "int64",
         "type": "integer"
        },
        {
         "name": "some high school",
         "rawType": "int64",
         "type": "integer"
        }
       ],
       "ref": "2cf3da98-154b-48f2-883a-7aebb8d7f114",
       "rows": [
        [
         "female",
         "81",
         "58",
         "94",
         "42",
         "100",
         "108"
        ],
        [
         "male",
         "122",
         "54",
         "108",
         "28",
         "122",
         "83"
        ]
       ],
       "shape": {
        "columns": 6,
        "rows": 2
       }
      },
      "text/html": [
       "<div>\n",
       "<style scoped>\n",
       "    .dataframe tbody tr th:only-of-type {\n",
       "        vertical-align: middle;\n",
       "    }\n",
       "\n",
       "    .dataframe tbody tr th {\n",
       "        vertical-align: top;\n",
       "    }\n",
       "\n",
       "    .dataframe thead th {\n",
       "        text-align: right;\n",
       "    }\n",
       "</style>\n",
       "<table border=\"1\" class=\"dataframe\">\n",
       "  <thead>\n",
       "    <tr style=\"text-align: right;\">\n",
       "      <th>parental_level_of_education</th>\n",
       "      <th>associate's degree</th>\n",
       "      <th>bachelor's degree</th>\n",
       "      <th>high school</th>\n",
       "      <th>master's degree</th>\n",
       "      <th>some college</th>\n",
       "      <th>some high school</th>\n",
       "    </tr>\n",
       "    <tr>\n",
       "      <th>gender</th>\n",
       "      <th></th>\n",
       "      <th></th>\n",
       "      <th></th>\n",
       "      <th></th>\n",
       "      <th></th>\n",
       "      <th></th>\n",
       "    </tr>\n",
       "  </thead>\n",
       "  <tbody>\n",
       "    <tr>\n",
       "      <th>female</th>\n",
       "      <td>81</td>\n",
       "      <td>58</td>\n",
       "      <td>94</td>\n",
       "      <td>42</td>\n",
       "      <td>100</td>\n",
       "      <td>108</td>\n",
       "    </tr>\n",
       "    <tr>\n",
       "      <th>male</th>\n",
       "      <td>122</td>\n",
       "      <td>54</td>\n",
       "      <td>108</td>\n",
       "      <td>28</td>\n",
       "      <td>122</td>\n",
       "      <td>83</td>\n",
       "    </tr>\n",
       "  </tbody>\n",
       "</table>\n",
       "</div>"
      ],
      "text/plain": [
       "parental_level_of_education  associate's degree  bachelor's degree  \\\n",
       "gender                                                               \n",
       "female                                       81                 58   \n",
       "male                                        122                 54   \n",
       "\n",
       "parental_level_of_education  high school  master's degree  some college  \\\n",
       "gender                                                                    \n",
       "female                                94               42           100   \n",
       "male                                 108               28           122   \n",
       "\n",
       "parental_level_of_education  some high school  \n",
       "gender                                         \n",
       "female                                    108  \n",
       "male                                       83  "
      ]
     },
     "execution_count": 85,
     "metadata": {},
     "output_type": "execute_result"
    }
   ],
   "source": [
    "pd.crosstab(df['gender'],df['parental_level_of_education'])"
   ]
  },
  {
   "cell_type": "markdown",
   "id": "5f614efd",
   "metadata": {},
   "source": [
    "**Observation**\n",
    "- There are 108 male students with parental lev of edu = high school\n",
    "- There are 54 male students with parental lev of edu = bachelor's degree\t\n",
    "- We have a close distribution between male and female for students with  parental lev of edu = bachelor's degree\n",
    "- There are more female students with parents with master's degrees than males"
   ]
  },
  {
   "cell_type": "code",
   "execution_count": 86,
   "id": "cb0079c4",
   "metadata": {},
   "outputs": [
    {
     "data": {
      "application/vnd.microsoft.datawrangler.viewer.v0+json": {
       "columns": [
        {
         "name": "gender",
         "rawType": "object",
         "type": "string"
        },
        {
         "name": "associate's degree",
         "rawType": "float64",
         "type": "float"
        },
        {
         "name": "bachelor's degree",
         "rawType": "float64",
         "type": "float"
        },
        {
         "name": "high school",
         "rawType": "float64",
         "type": "float"
        },
        {
         "name": "master's degree",
         "rawType": "float64",
         "type": "float"
        },
        {
         "name": "some college",
         "rawType": "float64",
         "type": "float"
        },
        {
         "name": "some high school",
         "rawType": "float64",
         "type": "float"
        }
       ],
       "ref": "4577523e-bd98-440a-9f11-195795bd64ad",
       "rows": [
        [
         "female",
         "0.081",
         "0.058",
         "0.094",
         "0.042",
         "0.1",
         "0.108"
        ],
        [
         "male",
         "0.122",
         "0.054",
         "0.108",
         "0.028",
         "0.122",
         "0.083"
        ]
       ],
       "shape": {
        "columns": 6,
        "rows": 2
       }
      },
      "text/html": [
       "<div>\n",
       "<style scoped>\n",
       "    .dataframe tbody tr th:only-of-type {\n",
       "        vertical-align: middle;\n",
       "    }\n",
       "\n",
       "    .dataframe tbody tr th {\n",
       "        vertical-align: top;\n",
       "    }\n",
       "\n",
       "    .dataframe thead th {\n",
       "        text-align: right;\n",
       "    }\n",
       "</style>\n",
       "<table border=\"1\" class=\"dataframe\">\n",
       "  <thead>\n",
       "    <tr style=\"text-align: right;\">\n",
       "      <th>parental_level_of_education</th>\n",
       "      <th>associate's degree</th>\n",
       "      <th>bachelor's degree</th>\n",
       "      <th>high school</th>\n",
       "      <th>master's degree</th>\n",
       "      <th>some college</th>\n",
       "      <th>some high school</th>\n",
       "    </tr>\n",
       "    <tr>\n",
       "      <th>gender</th>\n",
       "      <th></th>\n",
       "      <th></th>\n",
       "      <th></th>\n",
       "      <th></th>\n",
       "      <th></th>\n",
       "      <th></th>\n",
       "    </tr>\n",
       "  </thead>\n",
       "  <tbody>\n",
       "    <tr>\n",
       "      <th>female</th>\n",
       "      <td>0.081</td>\n",
       "      <td>0.058</td>\n",
       "      <td>0.094</td>\n",
       "      <td>0.042</td>\n",
       "      <td>0.100</td>\n",
       "      <td>0.108</td>\n",
       "    </tr>\n",
       "    <tr>\n",
       "      <th>male</th>\n",
       "      <td>0.122</td>\n",
       "      <td>0.054</td>\n",
       "      <td>0.108</td>\n",
       "      <td>0.028</td>\n",
       "      <td>0.122</td>\n",
       "      <td>0.083</td>\n",
       "    </tr>\n",
       "  </tbody>\n",
       "</table>\n",
       "</div>"
      ],
      "text/plain": [
       "parental_level_of_education  associate's degree  bachelor's degree  \\\n",
       "gender                                                               \n",
       "female                                    0.081              0.058   \n",
       "male                                      0.122              0.054   \n",
       "\n",
       "parental_level_of_education  high school  master's degree  some college  \\\n",
       "gender                                                                    \n",
       "female                             0.094            0.042         0.100   \n",
       "male                               0.108            0.028         0.122   \n",
       "\n",
       "parental_level_of_education  some high school  \n",
       "gender                                         \n",
       "female                                  0.108  \n",
       "male                                    0.083  "
      ]
     },
     "execution_count": 86,
     "metadata": {},
     "output_type": "execute_result"
    }
   ],
   "source": [
    "pd.crosstab(df['gender'],df['parental_level_of_education'], normalize=True)"
   ]
  },
  {
   "cell_type": "code",
   "execution_count": 91,
   "id": "d09bcbca",
   "metadata": {},
   "outputs": [
    {
     "data": {
      "application/vnd.microsoft.datawrangler.viewer.v0+json": {
       "columns": [
        {
         "name": "gender",
         "rawType": "object",
         "type": "string"
        },
        {
         "name": "associate's degree",
         "rawType": "float64",
         "type": "float"
        },
        {
         "name": "bachelor's degree",
         "rawType": "float64",
         "type": "float"
        },
        {
         "name": "high school",
         "rawType": "float64",
         "type": "float"
        },
        {
         "name": "master's degree",
         "rawType": "float64",
         "type": "float"
        },
        {
         "name": "some college",
         "rawType": "float64",
         "type": "float"
        },
        {
         "name": "some high school",
         "rawType": "float64",
         "type": "float"
        }
       ],
       "ref": "bfc6de09-89ab-42fc-a8d1-18080b9d9772",
       "rows": [
        [
         "female",
         "0.17",
         "0.12",
         "0.19",
         "0.09",
         "0.21",
         "0.22"
        ],
        [
         "male",
         "0.24",
         "0.1",
         "0.21",
         "0.05",
         "0.24",
         "0.16"
        ]
       ],
       "shape": {
        "columns": 6,
        "rows": 2
       }
      },
      "text/html": [
       "<div>\n",
       "<style scoped>\n",
       "    .dataframe tbody tr th:only-of-type {\n",
       "        vertical-align: middle;\n",
       "    }\n",
       "\n",
       "    .dataframe tbody tr th {\n",
       "        vertical-align: top;\n",
       "    }\n",
       "\n",
       "    .dataframe thead th {\n",
       "        text-align: right;\n",
       "    }\n",
       "</style>\n",
       "<table border=\"1\" class=\"dataframe\">\n",
       "  <thead>\n",
       "    <tr style=\"text-align: right;\">\n",
       "      <th>parental_level_of_education</th>\n",
       "      <th>associate's degree</th>\n",
       "      <th>bachelor's degree</th>\n",
       "      <th>high school</th>\n",
       "      <th>master's degree</th>\n",
       "      <th>some college</th>\n",
       "      <th>some high school</th>\n",
       "    </tr>\n",
       "    <tr>\n",
       "      <th>gender</th>\n",
       "      <th></th>\n",
       "      <th></th>\n",
       "      <th></th>\n",
       "      <th></th>\n",
       "      <th></th>\n",
       "      <th></th>\n",
       "    </tr>\n",
       "  </thead>\n",
       "  <tbody>\n",
       "    <tr>\n",
       "      <th>female</th>\n",
       "      <td>0.17</td>\n",
       "      <td>0.12</td>\n",
       "      <td>0.19</td>\n",
       "      <td>0.09</td>\n",
       "      <td>0.21</td>\n",
       "      <td>0.22</td>\n",
       "    </tr>\n",
       "    <tr>\n",
       "      <th>male</th>\n",
       "      <td>0.24</td>\n",
       "      <td>0.10</td>\n",
       "      <td>0.21</td>\n",
       "      <td>0.05</td>\n",
       "      <td>0.24</td>\n",
       "      <td>0.16</td>\n",
       "    </tr>\n",
       "  </tbody>\n",
       "</table>\n",
       "</div>"
      ],
      "text/plain": [
       "parental_level_of_education  associate's degree  bachelor's degree  \\\n",
       "gender                                                               \n",
       "female                                     0.17               0.12   \n",
       "male                                       0.24               0.10   \n",
       "\n",
       "parental_level_of_education  high school  master's degree  some college  \\\n",
       "gender                                                                    \n",
       "female                              0.19             0.09          0.21   \n",
       "male                                0.21             0.05          0.24   \n",
       "\n",
       "parental_level_of_education  some high school  \n",
       "gender                                         \n",
       "female                                   0.22  \n",
       "male                                     0.16  "
      ]
     },
     "execution_count": 91,
     "metadata": {},
     "output_type": "execute_result"
    }
   ],
   "source": [
    "pd.crosstab(df['gender'],df['parental_level_of_education'], normalize='index').round(2)"
   ]
  },
  {
   "cell_type": "markdown",
   "id": "73e33191",
   "metadata": {},
   "source": [
    "`unique()` function"
   ]
  },
  {
   "cell_type": "code",
   "execution_count": 92,
   "id": "bc1f2106",
   "metadata": {},
   "outputs": [
    {
     "data": {
      "text/plain": [
       "array(['high school', 'some high school', 'some college',\n",
       "       \"associate's degree\", \"bachelor's degree\", \"master's degree\"],\n",
       "      dtype=object)"
      ]
     },
     "execution_count": 92,
     "metadata": {},
     "output_type": "execute_result"
    }
   ],
   "source": [
    "df['parental_level_of_education'].unique()"
   ]
  },
  {
   "cell_type": "markdown",
   "id": "9e86c69e",
   "metadata": {},
   "source": [
    "`value_counts()`"
   ]
  },
  {
   "cell_type": "code",
   "execution_count": 93,
   "id": "bdf8d6fb",
   "metadata": {},
   "outputs": [
    {
     "data": {
      "application/vnd.microsoft.datawrangler.viewer.v0+json": {
       "columns": [
        {
         "name": "parental_level_of_education",
         "rawType": "object",
         "type": "string"
        },
        {
         "name": "count",
         "rawType": "int64",
         "type": "integer"
        }
       ],
       "ref": "d5cda072-06da-4161-a9a5-29648bac5f29",
       "rows": [
        [
         "some college",
         "222"
        ],
        [
         "associate's degree",
         "203"
        ],
        [
         "high school",
         "202"
        ],
        [
         "some high school",
         "191"
        ],
        [
         "bachelor's degree",
         "112"
        ],
        [
         "master's degree",
         "70"
        ]
       ],
       "shape": {
        "columns": 1,
        "rows": 6
       }
      },
      "text/plain": [
       "parental_level_of_education\n",
       "some college          222\n",
       "associate's degree    203\n",
       "high school           202\n",
       "some high school      191\n",
       "bachelor's degree     112\n",
       "master's degree        70\n",
       "Name: count, dtype: int64"
      ]
     },
     "execution_count": 93,
     "metadata": {},
     "output_type": "execute_result"
    }
   ],
   "source": [
    "#distribution of parental_level_of_education\n",
    "df['parental_level_of_education'].value_counts()"
   ]
  },
  {
   "cell_type": "code",
   "execution_count": 95,
   "id": "89e245ca",
   "metadata": {},
   "outputs": [
    {
     "data": {
      "text/plain": [
       "<Axes: ylabel='proportion'>"
      ]
     },
     "execution_count": 95,
     "metadata": {},
     "output_type": "execute_result"
    },
    {
     "data": {
      "image/png": "[encoded data removed]",
      "text/plain": [
       "<Figure size 640x480 with 1 Axes>"
      ]
     },
     "metadata": {},
     "output_type": "display_data"
    }
   ],
   "source": [
    "df['parental_level_of_education'].value_counts(normalize=True).plot(kind='pie')"
   ]
  },
  {
   "cell_type": "code",
   "execution_count": null,
   "id": "e1c82577",
   "metadata": {},
   "outputs": [
    {
     "data": {
      "application/vnd.microsoft.datawrangler.viewer.v0+json": {
       "columns": [
        {
         "name": "index",
         "rawType": "interval[float64, right]",
         "type": "unknown"
        },
        {
         "name": "count",
         "rawType": "int64",
         "type": "integer"
        }
       ],
       "ref": "ee49f895-79dd-4e06-87f4-81baf6d8a264",
       "rows": [
        [
         "(56.5, 65.2]",
         "209"
        ],
        [
         "(73.9, 82.6]",
         "183"
        ],
        [
         "(65.2, 73.9]",
         "182"
        ],
        [
         "(47.8, 56.5]",
         "155"
        ],
        [
         "(82.6, 91.3]",
         "114"
        ],
        [
         "(39.1, 47.8]",
         "70"
        ],
        [
         "(91.3, 100.0]",
         "47"
        ],
        [
         "(30.4, 39.1]",
         "29"
        ],
        [
         "(21.7, 30.4]",
         "9"
        ],
        [
         "(12.912, 21.7]",
         "2"
        ]
       ],
       "shape": {
        "columns": 1,
        "rows": 10
       }
      },
      "text/plain": [
       "(56.5, 65.2]      209\n",
       "(73.9, 82.6]      183\n",
       "(65.2, 73.9]      182\n",
       "(47.8, 56.5]      155\n",
       "(82.6, 91.3]      114\n",
       "(39.1, 47.8]       70\n",
       "(91.3, 100.0]      47\n",
       "(30.4, 39.1]       29\n",
       "(21.7, 30.4]        9\n",
       "(12.912, 21.7]      2\n",
       "Name: count, dtype: int64"
      ]
     },
     "execution_count": 97,
     "metadata": {},
     "output_type": "execute_result"
    }
   ],
   "source": [
    "# numerical values distribution with buckets (bins)\n",
    "#example below breaks the data into 10-equal distance ranges\n",
    "df['math_score'].value_counts(bins=10)"
   ]
  },
  {
   "cell_type": "code",
   "execution_count": 98,
   "id": "c696aa77",
   "metadata": {},
   "outputs": [
    {
     "data": {
      "application/vnd.microsoft.datawrangler.viewer.v0+json": {
       "columns": [
        {
         "name": "index",
         "rawType": "interval[float64, right]",
         "type": "unknown"
        },
        {
         "name": "count",
         "rawType": "int64",
         "type": "integer"
        }
       ],
       "ref": "096e6fae-7865-4575-ba14-135c4ab8b180",
       "rows": [
        [
         "(12.912, 21.7]",
         "2"
        ],
        [
         "(21.7, 30.4]",
         "9"
        ],
        [
         "(30.4, 39.1]",
         "29"
        ],
        [
         "(39.1, 47.8]",
         "70"
        ],
        [
         "(47.8, 56.5]",
         "155"
        ],
        [
         "(56.5, 65.2]",
         "209"
        ],
        [
         "(65.2, 73.9]",
         "182"
        ],
        [
         "(73.9, 82.6]",
         "183"
        ],
        [
         "(82.6, 91.3]",
         "114"
        ],
        [
         "(91.3, 100.0]",
         "47"
        ]
       ],
       "shape": {
        "columns": 1,
        "rows": 10
       }
      },
      "text/plain": [
       "(12.912, 21.7]      2\n",
       "(21.7, 30.4]        9\n",
       "(30.4, 39.1]       29\n",
       "(39.1, 47.8]       70\n",
       "(47.8, 56.5]      155\n",
       "(56.5, 65.2]      209\n",
       "(65.2, 73.9]      182\n",
       "(73.9, 82.6]      183\n",
       "(82.6, 91.3]      114\n",
       "(91.3, 100.0]      47\n",
       "Name: count, dtype: int64"
      ]
     },
     "execution_count": 98,
     "metadata": {},
     "output_type": "execute_result"
    }
   ],
   "source": [
    "df['math_score'].value_counts(bins=10, sort=False)"
   ]
  },
  {
   "cell_type": "code",
   "execution_count": 107,
   "id": "d5c2c489",
   "metadata": {},
   "outputs": [
    {
     "data": {
      "text/plain": [
       "<Axes: >"
      ]
     },
     "execution_count": 107,
     "metadata": {},
     "output_type": "execute_result"
    },
    {
     "data": {
      "image/png": "[encoded data removed]",
      "text/plain": [
       "<Figure size 640x480 with 1 Axes>"
      ]
     },
     "metadata": {},
     "output_type": "display_data"
    }
   ],
   "source": [
    "df['math_score'].hist(bins=8)"
   ]
  },
  {
   "cell_type": "markdown",
   "id": "cf5a57e3",
   "metadata": {},
   "source": [
    "**Observation**\n",
    "- low frequency/occurrence of students that scored between 20 and 40\n",
    "- highest occurrence is between 60 and 80"
   ]
  },
  {
   "cell_type": "markdown",
   "id": "f3b0f079",
   "metadata": {},
   "source": [
    "Using `cut()` function"
   ]
  },
  {
   "cell_type": "code",
   "execution_count": 99,
   "id": "fb15ffa6",
   "metadata": {},
   "outputs": [
    {
     "data": {
      "application/vnd.microsoft.datawrangler.viewer.v0+json": {
       "columns": [
        {
         "name": "index",
         "rawType": "int64",
         "type": "integer"
        },
        {
         "name": "gender",
         "rawType": "object",
         "type": "string"
        },
        {
         "name": "class_group",
         "rawType": "object",
         "type": "string"
        },
        {
         "name": "parental_level_of_education",
         "rawType": "object",
         "type": "string"
        },
        {
         "name": "lunch",
         "rawType": "object",
         "type": "string"
        },
        {
         "name": "test_preparation_course",
         "rawType": "object",
         "type": "string"
        },
        {
         "name": "math_score",
         "rawType": "int8",
         "type": "integer"
        },
        {
         "name": "reading_score",
         "rawType": "int8",
         "type": "integer"
        },
        {
         "name": "writing_score",
         "rawType": "int8",
         "type": "integer"
        },
        {
         "name": "average_score",
         "rawType": "float64",
         "type": "float"
        },
        {
         "name": "average_score_bins",
         "rawType": "category",
         "type": "unknown"
        }
       ],
       "ref": "2621a43c-c07e-46ab-bc85-d6d80bcdf847",
       "rows": [
        [
         "0",
         "male",
         "group A",
         "high school",
         "standard",
         "completed",
         "67",
         "67",
         "63",
         "65.67",
         "(65, 80]"
        ],
        [
         "1",
         "female",
         "group D",
         "some high school",
         "free/reduced",
         "none",
         "40",
         "59",
         "55",
         "51.33",
         "(50, 65]"
        ],
        [
         "2",
         "male",
         "group E",
         "some college",
         "free/reduced",
         "none",
         "59",
         "60",
         "50",
         "56.33",
         "(50, 65]"
        ],
        [
         "3",
         "male",
         "group B",
         "high school",
         "standard",
         "none",
         "77",
         "78",
         "68",
         "74.33",
         "(65, 80]"
        ],
        [
         "4",
         "male",
         "group E",
         "associate's degree",
         "standard",
         "completed",
         "78",
         "73",
         "68",
         "73.0",
         "(65, 80]"
        ]
       ],
       "shape": {
        "columns": 10,
        "rows": 5
       }
      },
      "text/html": [
       "<div>\n",
       "<style scoped>\n",
       "    .dataframe tbody tr th:only-of-type {\n",
       "        vertical-align: middle;\n",
       "    }\n",
       "\n",
       "    .dataframe tbody tr th {\n",
       "        vertical-align: top;\n",
       "    }\n",
       "\n",
       "    .dataframe thead th {\n",
       "        text-align: right;\n",
       "    }\n",
       "</style>\n",
       "<table border=\"1\" class=\"dataframe\">\n",
       "  <thead>\n",
       "    <tr style=\"text-align: right;\">\n",
       "      <th></th>\n",
       "      <th>gender</th>\n",
       "      <th>class_group</th>\n",
       "      <th>parental_level_of_education</th>\n",
       "      <th>lunch</th>\n",
       "      <th>test_preparation_course</th>\n",
       "      <th>math_score</th>\n",
       "      <th>reading_score</th>\n",
       "      <th>writing_score</th>\n",
       "      <th>average_score</th>\n",
       "      <th>average_score_bins</th>\n",
       "    </tr>\n",
       "  </thead>\n",
       "  <tbody>\n",
       "    <tr>\n",
       "      <th>0</th>\n",
       "      <td>male</td>\n",
       "      <td>group A</td>\n",
       "      <td>high school</td>\n",
       "      <td>standard</td>\n",
       "      <td>completed</td>\n",
       "      <td>67</td>\n",
       "      <td>67</td>\n",
       "      <td>63</td>\n",
       "      <td>65.67</td>\n",
       "      <td>(65, 80]</td>\n",
       "    </tr>\n",
       "    <tr>\n",
       "      <th>1</th>\n",
       "      <td>female</td>\n",
       "      <td>group D</td>\n",
       "      <td>some high school</td>\n",
       "      <td>free/reduced</td>\n",
       "      <td>none</td>\n",
       "      <td>40</td>\n",
       "      <td>59</td>\n",
       "      <td>55</td>\n",
       "      <td>51.33</td>\n",
       "      <td>(50, 65]</td>\n",
       "    </tr>\n",
       "    <tr>\n",
       "      <th>2</th>\n",
       "      <td>male</td>\n",
       "      <td>group E</td>\n",
       "      <td>some college</td>\n",
       "      <td>free/reduced</td>\n",
       "      <td>none</td>\n",
       "      <td>59</td>\n",
       "      <td>60</td>\n",
       "      <td>50</td>\n",
       "      <td>56.33</td>\n",
       "      <td>(50, 65]</td>\n",
       "    </tr>\n",
       "    <tr>\n",
       "      <th>3</th>\n",
       "      <td>male</td>\n",
       "      <td>group B</td>\n",
       "      <td>high school</td>\n",
       "      <td>standard</td>\n",
       "      <td>none</td>\n",
       "      <td>77</td>\n",
       "      <td>78</td>\n",
       "      <td>68</td>\n",
       "      <td>74.33</td>\n",
       "      <td>(65, 80]</td>\n",
       "    </tr>\n",
       "    <tr>\n",
       "      <th>4</th>\n",
       "      <td>male</td>\n",
       "      <td>group E</td>\n",
       "      <td>associate's degree</td>\n",
       "      <td>standard</td>\n",
       "      <td>completed</td>\n",
       "      <td>78</td>\n",
       "      <td>73</td>\n",
       "      <td>68</td>\n",
       "      <td>73.00</td>\n",
       "      <td>(65, 80]</td>\n",
       "    </tr>\n",
       "  </tbody>\n",
       "</table>\n",
       "</div>"
      ],
      "text/plain": [
       "   gender class_group parental_level_of_education         lunch  \\\n",
       "0    male     group A                 high school      standard   \n",
       "1  female     group D            some high school  free/reduced   \n",
       "2    male     group E                some college  free/reduced   \n",
       "3    male     group B                 high school      standard   \n",
       "4    male     group E          associate's degree      standard   \n",
       "\n",
       "  test_preparation_course  math_score  reading_score  writing_score  \\\n",
       "0               completed          67             67             63   \n",
       "1                    none          40             59             55   \n",
       "2                    none          59             60             50   \n",
       "3                    none          77             78             68   \n",
       "4               completed          78             73             68   \n",
       "\n",
       "   average_score average_score_bins  \n",
       "0          65.67           (65, 80]  \n",
       "1          51.33           (50, 65]  \n",
       "2          56.33           (50, 65]  \n",
       "3          74.33           (65, 80]  \n",
       "4          73.00           (65, 80]  "
      ]
     },
     "execution_count": 99,
     "metadata": {},
     "output_type": "execute_result"
    }
   ],
   "source": [
    "my_bins = [0,50,65,80,90,100]\n",
    "\n",
    "df['average_score_bins'] = pd.cut(df['average_score'], bins=my_bins)\n",
    "df.head()"
   ]
  },
  {
   "cell_type": "code",
   "execution_count": 100,
   "id": "1ed6737f",
   "metadata": {},
   "outputs": [
    {
     "data": {
      "application/vnd.microsoft.datawrangler.viewer.v0+json": {
       "columns": [
        {
         "name": "average_score_bins",
         "rawType": "category",
         "type": "unknown"
        },
        {
         "name": "count",
         "rawType": "int64",
         "type": "integer"
        }
       ],
       "ref": "dce9bf44-7130-4d69-a821-217af96e3c6a",
       "rows": [
        [
         "(65, 80]",
         "365"
        ],
        [
         "(50, 65]",
         "304"
        ],
        [
         "(80, 90]",
         "149"
        ],
        [
         "(0, 50]",
         "127"
        ],
        [
         "(90, 100]",
         "55"
        ]
       ],
       "shape": {
        "columns": 1,
        "rows": 5
       }
      },
      "text/plain": [
       "average_score_bins\n",
       "(65, 80]     365\n",
       "(50, 65]     304\n",
       "(80, 90]     149\n",
       "(0, 50]      127\n",
       "(90, 100]     55\n",
       "Name: count, dtype: int64"
      ]
     },
     "execution_count": 100,
     "metadata": {},
     "output_type": "execute_result"
    }
   ],
   "source": [
    "df['average_score_bins'].value_counts()"
   ]
  },
  {
   "cell_type": "code",
   "execution_count": 101,
   "id": "48265a79",
   "metadata": {},
   "outputs": [
    {
     "data": {
      "application/vnd.microsoft.datawrangler.viewer.v0+json": {
       "columns": [
        {
         "name": "index",
         "rawType": "int64",
         "type": "integer"
        },
        {
         "name": "gender",
         "rawType": "object",
         "type": "string"
        },
        {
         "name": "class_group",
         "rawType": "object",
         "type": "string"
        },
        {
         "name": "parental_level_of_education",
         "rawType": "object",
         "type": "string"
        },
        {
         "name": "lunch",
         "rawType": "object",
         "type": "string"
        },
        {
         "name": "test_preparation_course",
         "rawType": "object",
         "type": "string"
        },
        {
         "name": "math_score",
         "rawType": "int8",
         "type": "integer"
        },
        {
         "name": "reading_score",
         "rawType": "int8",
         "type": "integer"
        },
        {
         "name": "writing_score",
         "rawType": "int8",
         "type": "integer"
        },
        {
         "name": "average_score",
         "rawType": "float64",
         "type": "float"
        },
        {
         "name": "average_score_bins",
         "rawType": "category",
         "type": "unknown"
        },
        {
         "name": "average_score_grade",
         "rawType": "category",
         "type": "unknown"
        }
       ],
       "ref": "b53d4e91-6462-45a2-a2ef-93537c01a881",
       "rows": [
        [
         "0",
         "male",
         "group A",
         "high school",
         "standard",
         "completed",
         "67",
         "67",
         "63",
         "65.67",
         "(65, 80]",
         "barely passed"
        ],
        [
         "1",
         "female",
         "group D",
         "some high school",
         "free/reduced",
         "none",
         "40",
         "59",
         "55",
         "51.33",
         "(50, 65]",
         "fail"
        ],
        [
         "2",
         "male",
         "group E",
         "some college",
         "free/reduced",
         "none",
         "59",
         "60",
         "50",
         "56.33",
         "(50, 65]",
         "fail"
        ],
        [
         "3",
         "male",
         "group B",
         "high school",
         "standard",
         "none",
         "77",
         "78",
         "68",
         "74.33",
         "(65, 80]",
         "passed"
        ],
        [
         "4",
         "male",
         "group E",
         "associate's degree",
         "standard",
         "completed",
         "78",
         "73",
         "68",
         "73.0",
         "(65, 80]",
         "passed"
        ]
       ],
       "shape": {
        "columns": 11,
        "rows": 5
       }
      },
      "text/html": [
       "<div>\n",
       "<style scoped>\n",
       "    .dataframe tbody tr th:only-of-type {\n",
       "        vertical-align: middle;\n",
       "    }\n",
       "\n",
       "    .dataframe tbody tr th {\n",
       "        vertical-align: top;\n",
       "    }\n",
       "\n",
       "    .dataframe thead th {\n",
       "        text-align: right;\n",
       "    }\n",
       "</style>\n",
       "<table border=\"1\" class=\"dataframe\">\n",
       "  <thead>\n",
       "    <tr style=\"text-align: right;\">\n",
       "      <th></th>\n",
       "      <th>gender</th>\n",
       "      <th>class_group</th>\n",
       "      <th>parental_level_of_education</th>\n",
       "      <th>lunch</th>\n",
       "      <th>test_preparation_course</th>\n",
       "      <th>math_score</th>\n",
       "      <th>reading_score</th>\n",
       "      <th>writing_score</th>\n",
       "      <th>average_score</th>\n",
       "      <th>average_score_bins</th>\n",
       "      <th>average_score_grade</th>\n",
       "    </tr>\n",
       "  </thead>\n",
       "  <tbody>\n",
       "    <tr>\n",
       "      <th>0</th>\n",
       "      <td>male</td>\n",
       "      <td>group A</td>\n",
       "      <td>high school</td>\n",
       "      <td>standard</td>\n",
       "      <td>completed</td>\n",
       "      <td>67</td>\n",
       "      <td>67</td>\n",
       "      <td>63</td>\n",
       "      <td>65.67</td>\n",
       "      <td>(65, 80]</td>\n",
       "      <td>barely passed</td>\n",
       "    </tr>\n",
       "    <tr>\n",
       "      <th>1</th>\n",
       "      <td>female</td>\n",
       "      <td>group D</td>\n",
       "      <td>some high school</td>\n",
       "      <td>free/reduced</td>\n",
       "      <td>none</td>\n",
       "      <td>40</td>\n",
       "      <td>59</td>\n",
       "      <td>55</td>\n",
       "      <td>51.33</td>\n",
       "      <td>(50, 65]</td>\n",
       "      <td>fail</td>\n",
       "    </tr>\n",
       "    <tr>\n",
       "      <th>2</th>\n",
       "      <td>male</td>\n",
       "      <td>group E</td>\n",
       "      <td>some college</td>\n",
       "      <td>free/reduced</td>\n",
       "      <td>none</td>\n",
       "      <td>59</td>\n",
       "      <td>60</td>\n",
       "      <td>50</td>\n",
       "      <td>56.33</td>\n",
       "      <td>(50, 65]</td>\n",
       "      <td>fail</td>\n",
       "    </tr>\n",
       "    <tr>\n",
       "      <th>3</th>\n",
       "      <td>male</td>\n",
       "      <td>group B</td>\n",
       "      <td>high school</td>\n",
       "      <td>standard</td>\n",
       "      <td>none</td>\n",
       "      <td>77</td>\n",
       "      <td>78</td>\n",
       "      <td>68</td>\n",
       "      <td>74.33</td>\n",
       "      <td>(65, 80]</td>\n",
       "      <td>passed</td>\n",
       "    </tr>\n",
       "    <tr>\n",
       "      <th>4</th>\n",
       "      <td>male</td>\n",
       "      <td>group E</td>\n",
       "      <td>associate's degree</td>\n",
       "      <td>standard</td>\n",
       "      <td>completed</td>\n",
       "      <td>78</td>\n",
       "      <td>73</td>\n",
       "      <td>68</td>\n",
       "      <td>73.00</td>\n",
       "      <td>(65, 80]</td>\n",
       "      <td>passed</td>\n",
       "    </tr>\n",
       "  </tbody>\n",
       "</table>\n",
       "</div>"
      ],
      "text/plain": [
       "   gender class_group parental_level_of_education         lunch  \\\n",
       "0    male     group A                 high school      standard   \n",
       "1  female     group D            some high school  free/reduced   \n",
       "2    male     group E                some college  free/reduced   \n",
       "3    male     group B                 high school      standard   \n",
       "4    male     group E          associate's degree      standard   \n",
       "\n",
       "  test_preparation_course  math_score  reading_score  writing_score  \\\n",
       "0               completed          67             67             63   \n",
       "1                    none          40             59             55   \n",
       "2                    none          59             60             50   \n",
       "3                    none          77             78             68   \n",
       "4               completed          78             73             68   \n",
       "\n",
       "   average_score average_score_bins average_score_grade  \n",
       "0          65.67           (65, 80]       barely passed  \n",
       "1          51.33           (50, 65]                fail  \n",
       "2          56.33           (50, 65]                fail  \n",
       "3          74.33           (65, 80]              passed  \n",
       "4          73.00           (65, 80]              passed  "
      ]
     },
     "execution_count": 101,
     "metadata": {},
     "output_type": "execute_result"
    }
   ],
   "source": [
    "my_bins2 = [0,60,70,100]\n",
    "my_labels = ['fail','barely passed','passed']\n",
    "df['average_score_grade'] = pd.cut(df['average_score'], bins=my_bins2, labels=my_labels)\n",
    "df.head()"
   ]
  },
  {
   "cell_type": "code",
   "execution_count": 103,
   "id": "38c1e611",
   "metadata": {},
   "outputs": [
    {
     "data": {
      "text/plain": [
       "<Axes: ylabel='average_score_grade'>"
      ]
     },
     "execution_count": 103,
     "metadata": {},
     "output_type": "execute_result"
    },
    {
     "data": {
      "image/png": "[encoded data removed]",
      "text/plain": [
       "<Figure size 640x480 with 1 Axes>"
      ]
     },
     "metadata": {},
     "output_type": "display_data"
    }
   ],
   "source": [
    "df['average_score_grade'].value_counts().plot(kind='barh')"
   ]
  },
  {
   "cell_type": "code",
   "execution_count": 108,
   "id": "3fc53230",
   "metadata": {},
   "outputs": [
    {
     "data": {
      "text/plain": [
       "<Axes: xlabel='reading_score', ylabel='writing_score'>"
      ]
     },
     "execution_count": 108,
     "metadata": {},
     "output_type": "execute_result"
    },
    {
     "data": {
      "image/png": "[encoded data removed]",
      "text/plain": [
       "<Figure size 640x480 with 1 Axes>"
      ]
     },
     "metadata": {},
     "output_type": "display_data"
    }
   ],
   "source": [
    "df.plot(kind='scatter', x='reading_score',y='writing_score')"
   ]
  },
  {
   "cell_type": "markdown",
   "id": "20e4a74f",
   "metadata": {},
   "source": [
    "**Observations**\n",
    "- scatter plots help us understand relationship between 2 numerical columns\n",
    "- we look for a diagonal band to observe association or relationship\n",
    "- There's a relationship/correlation. Therefore, if reading score goes up, the writing score goes up as well.\n",
    " "
   ]
  },
  {
   "cell_type": "code",
   "execution_count": 109,
   "id": "48b9f67c",
   "metadata": {},
   "outputs": [
    {
     "data": {
      "application/vnd.microsoft.datawrangler.viewer.v0+json": {
       "columns": [
        {
         "name": "index",
         "rawType": "object",
         "type": "string"
        },
        {
         "name": "writing_score",
         "rawType": "float64",
         "type": "float"
        },
        {
         "name": "reading_score",
         "rawType": "float64",
         "type": "float"
        }
       ],
       "ref": "afa75c90-bf4d-4956-9057-bf7cae9d2a7f",
       "rows": [
        [
         "writing_score",
         "1.0",
         "0.9542744344566849"
        ],
        [
         "reading_score",
         "0.9542744344566849",
         "1.0"
        ]
       ],
       "shape": {
        "columns": 2,
        "rows": 2
       }
      },
      "text/html": [
       "<div>\n",
       "<style scoped>\n",
       "    .dataframe tbody tr th:only-of-type {\n",
       "        vertical-align: middle;\n",
       "    }\n",
       "\n",
       "    .dataframe tbody tr th {\n",
       "        vertical-align: top;\n",
       "    }\n",
       "\n",
       "    .dataframe thead th {\n",
       "        text-align: right;\n",
       "    }\n",
       "</style>\n",
       "<table border=\"1\" class=\"dataframe\">\n",
       "  <thead>\n",
       "    <tr style=\"text-align: right;\">\n",
       "      <th></th>\n",
       "      <th>writing_score</th>\n",
       "      <th>reading_score</th>\n",
       "    </tr>\n",
       "  </thead>\n",
       "  <tbody>\n",
       "    <tr>\n",
       "      <th>writing_score</th>\n",
       "      <td>1.000000</td>\n",
       "      <td>0.954274</td>\n",
       "    </tr>\n",
       "    <tr>\n",
       "      <th>reading_score</th>\n",
       "      <td>0.954274</td>\n",
       "      <td>1.000000</td>\n",
       "    </tr>\n",
       "  </tbody>\n",
       "</table>\n",
       "</div>"
      ],
      "text/plain": [
       "               writing_score  reading_score\n",
       "writing_score       1.000000       0.954274\n",
       "reading_score       0.954274       1.000000"
      ]
     },
     "execution_count": 109,
     "metadata": {},
     "output_type": "execute_result"
    }
   ],
   "source": [
    "df[['writing_score','reading_score']].corr()"
   ]
  },
  {
   "cell_type": "code",
   "execution_count": null,
   "id": "af42f7fa",
   "metadata": {},
   "outputs": [],
   "source": []
  }
 ],
 "metadata": {
  "kernelspec": {
   "display_name": "Python 3",
   "language": "python",
   "name": "python3"
  },
  "language_info": {
   "codemirror_mode": {
    "name": "ipython",
    "version": 3
   },
   "file_extension": ".py",
   "mimetype": "text/x-python",
   "name": "python",
   "nbconvert_exporter": "python",
   "pygments_lexer": "ipython3",
   "version": "3.11.3"
  }
 },
 "nbformat": 4,
 "nbformat_minor": 5
}
