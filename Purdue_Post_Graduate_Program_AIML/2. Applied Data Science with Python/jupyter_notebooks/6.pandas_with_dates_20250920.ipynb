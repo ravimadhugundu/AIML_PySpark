{
 "cells": [
  {
   "cell_type": "markdown",
   "id": "1ff211aa",
   "metadata": {},
   "source": [
    "# Working with Dates in Pandas"
   ]
  },
  {
   "cell_type": "markdown",
   "id": "dd7d576e",
   "metadata": {},
   "source": [
    "- Pandas can easily parse dates either during import or after import\n",
    "- Pandas provides 2 primary date types for working with dates and times:\n",
    "    - `datetime64[ns]` represents a specific moment in time with nanosecond precision\n",
    "    - `timedelta64[ns]` represents a duration, such as time period between 2 dates "
   ]
  },
  {
   "cell_type": "code",
   "execution_count": 1,
   "id": "d8feeebd",
   "metadata": {},
   "outputs": [],
   "source": [
    "import pandas as pd\n",
    "import numpy as np"
   ]
  },
  {
   "cell_type": "markdown",
   "id": "641f7210",
   "metadata": {},
   "source": [
    "## Basic Concepts"
   ]
  },
  {
   "cell_type": "code",
   "execution_count": 2,
   "id": "6578c971",
   "metadata": {},
   "outputs": [
    {
     "data": {
      "text/plain": [
       "DatetimeIndex(['2023-01-01', '2023-01-02', '2023-01-03', '2023-01-04',\n",
       "               '2023-01-05', '2023-01-06', '2023-01-07', '2023-01-08',\n",
       "               '2023-01-09', '2023-01-10',\n",
       "               ...\n",
       "               '2024-12-22', '2024-12-23', '2024-12-24', '2024-12-25',\n",
       "               '2024-12-26', '2024-12-27', '2024-12-28', '2024-12-29',\n",
       "               '2024-12-30', '2024-12-31'],\n",
       "              dtype='datetime64[ns]', length=731, freq='D')"
      ]
     },
     "execution_count": 2,
     "metadata": {},
     "output_type": "execute_result"
    }
   ],
   "source": [
    "#create a date range\n",
    "my_date_range = pd.date_range(start='2023-01-01', end='2024-12-31')\n",
    "my_date_range"
   ]
  },
  {
   "cell_type": "code",
   "execution_count": 3,
   "id": "b7c495a6",
   "metadata": {},
   "outputs": [
    {
     "data": {
      "text/plain": [
       "DatetimeIndex(['2023-01-01', '2023-01-08', '2023-01-15', '2023-01-22',\n",
       "               '2023-01-29', '2023-02-05', '2023-02-12', '2023-02-19',\n",
       "               '2023-02-26', '2023-03-05',\n",
       "               ...\n",
       "               '2024-10-27', '2024-11-03', '2024-11-10', '2024-11-17',\n",
       "               '2024-11-24', '2024-12-01', '2024-12-08', '2024-12-15',\n",
       "               '2024-12-22', '2024-12-29'],\n",
       "              dtype='datetime64[ns]', length=105, freq='W-SUN')"
      ]
     },
     "execution_count": 3,
     "metadata": {},
     "output_type": "execute_result"
    }
   ],
   "source": [
    "my_date_range = pd.date_range(start='2023-01-01', end='2024-12-31', freq='W')\n",
    "my_date_range"
   ]
  },
  {
   "cell_type": "markdown",
   "id": "eeaf12c8",
   "metadata": {},
   "source": [
    "Parsing date "
   ]
  },
  {
   "cell_type": "code",
   "execution_count": 4,
   "id": "9ec10fe8",
   "metadata": {},
   "outputs": [
    {
     "data": {
      "text/plain": [
       "DatetimeIndex(['2023-01-01', '2023-01-08', '2023-01-15', '2023-01-22',\n",
       "               '2023-01-29', '2023-02-05', '2023-02-12', '2023-02-19',\n",
       "               '2023-02-26', '2023-03-05'],\n",
       "              dtype='datetime64[ns]', freq=None)"
      ]
     },
     "execution_count": 4,
     "metadata": {},
     "output_type": "execute_result"
    }
   ],
   "source": [
    "dates_list = ['2023-01-01', '2023-01-08', '2023-01-15', '2023-01-22',\n",
    "               '2023-01-29', '2023-02-05', '2023-02-12', '2023-02-19',\n",
    "               '2023-02-26', '2023-03-05']\n",
    "\n",
    "date_series = pd.to_datetime(dates_list)\n",
    "date_series"
   ]
  },
  {
   "cell_type": "markdown",
   "id": "74cbbca2",
   "metadata": {},
   "source": [
    "In case the input format is different, you can specify how it originally looks to help pandas process the information. \n",
    "e.g. for original date format '2023/01/01' then use '%Y/%m/%d'"
   ]
  },
  {
   "cell_type": "code",
   "execution_count": 5,
   "id": "d24545d4",
   "metadata": {},
   "outputs": [
    {
     "data": {
      "text/plain": [
       "DatetimeIndex(['2023-01-01', '2023-01-02', '2023-01-03'], dtype='datetime64[ns]', freq=None)"
      ]
     },
     "execution_count": 5,
     "metadata": {},
     "output_type": "execute_result"
    }
   ],
   "source": [
    "dates_list = ['01/01/2023', '01/02/2023', '01/03/2023'] #US-based format\n",
    "\n",
    "date_series = pd.to_datetime(dates_list, format='%m/%d/%Y')\n",
    "date_series"
   ]
  },
  {
   "cell_type": "markdown",
   "id": "ee4b1bad",
   "metadata": {},
   "source": [
    "To view the date in a different format"
   ]
  },
  {
   "cell_type": "code",
   "execution_count": null,
   "id": "8868ec67",
   "metadata": {},
   "outputs": [
    {
     "data": {
      "text/plain": [
       "Index(['Jan 01', 'Jan 02', 'Jan 03'], dtype='object')"
      ]
     },
     "execution_count": 7,
     "metadata": {},
     "output_type": "execute_result"
    }
   ],
   "source": [
    "date_series.strftime('%b %d')"
   ]
  },
  {
   "cell_type": "code",
   "execution_count": 8,
   "id": "00bf28e1",
   "metadata": {},
   "outputs": [
    {
     "data": {
      "text/plain": [
       "Index(['01-Jan-23', '02-Jan-23', '03-Jan-23'], dtype='object')"
      ]
     },
     "execution_count": 8,
     "metadata": {},
     "output_type": "execute_result"
    }
   ],
   "source": [
    "date_series.strftime('%d-%b-%y')"
   ]
  },
  {
   "cell_type": "markdown",
   "id": "b7fa2522",
   "metadata": {},
   "source": [
    "## Date Arithmetics"
   ]
  },
  {
   "cell_type": "code",
   "execution_count": 11,
   "id": "505434a3",
   "metadata": {},
   "outputs": [
    {
     "data": {
      "text/plain": [
       "DatetimeIndex(['2023-01-01', '2023-01-08', '2023-01-15', '2023-01-22',\n",
       "               '2023-01-29', '2023-02-05', '2023-02-12', '2023-02-19',\n",
       "               '2023-02-26', '2023-03-05'],\n",
       "              dtype='datetime64[ns]', freq=None)"
      ]
     },
     "execution_count": 11,
     "metadata": {},
     "output_type": "execute_result"
    }
   ],
   "source": [
    "dates_list = ['2023-01-01', '2023-01-08', '2023-01-15', '2023-01-22',\n",
    "               '2023-01-29', '2023-02-05', '2023-02-12', '2023-02-19',\n",
    "               '2023-02-26', '2023-03-05']\n",
    "\n",
    "dates_series = pd.to_datetime(dates_list)\n",
    "dates_series"
   ]
  },
  {
   "cell_type": "code",
   "execution_count": 12,
   "id": "32477df8",
   "metadata": {},
   "outputs": [
    {
     "data": {
      "text/plain": [
       "DatetimeIndex(['2023-01-04', '2023-01-11', '2023-01-18', '2023-01-25',\n",
       "               '2023-02-01', '2023-02-08', '2023-02-15', '2023-02-22',\n",
       "               '2023-03-01', '2023-03-08'],\n",
       "              dtype='datetime64[ns]', freq=None)"
      ]
     },
     "execution_count": 12,
     "metadata": {},
     "output_type": "execute_result"
    }
   ],
   "source": [
    "# add 3 days to the date\n",
    "dates_series = dates_series + pd.Timedelta(days=3)\n",
    "dates_series"
   ]
  },
  {
   "cell_type": "markdown",
   "id": "828c1cbb",
   "metadata": {},
   "source": [
    "You can add/subtract days, months, minutes, etc..."
   ]
  },
  {
   "cell_type": "code",
   "execution_count": 14,
   "id": "d868b7a5",
   "metadata": {},
   "outputs": [
    {
     "data": {
      "text/plain": [
       "Timedelta('145 days 00:00:00')"
      ]
     },
     "execution_count": 14,
     "metadata": {},
     "output_type": "execute_result"
    }
   ],
   "source": [
    "date1 = pd.to_datetime('2024-03-08')\n",
    "date2 = pd.to_datetime('2023-10-15')\n",
    "\n",
    "date1 - date2"
   ]
  },
  {
   "cell_type": "markdown",
   "id": "e15c9412",
   "metadata": {},
   "source": [
    "## Date Functions"
   ]
  },
  {
   "cell_type": "code",
   "execution_count": 15,
   "id": "c8aa7b20",
   "metadata": {},
   "outputs": [
    {
     "name": "stdout",
     "output_type": "stream",
     "text": [
      "2024 \n",
      " 3 \n",
      " 8\n"
     ]
    }
   ],
   "source": [
    "#extracting elements from the date\n",
    "my_year = date1.year  \n",
    "my_month = date1.month\n",
    "my_day = date1.day\n",
    "print(my_year,'\\n',my_month,'\\n',my_day)"
   ]
  },
  {
   "cell_type": "code",
   "execution_count": 16,
   "id": "7fe0ab9f",
   "metadata": {},
   "outputs": [
    {
     "data": {
      "text/plain": [
       "4"
      ]
     },
     "execution_count": 16,
     "metadata": {},
     "output_type": "execute_result"
    }
   ],
   "source": [
    "dow = date1.day_of_week\n",
    "dow"
   ]
  },
  {
   "cell_type": "markdown",
   "id": "7f5e8b9a",
   "metadata": {},
   "source": [
    "Using `strftime()` - use this reference https://strftime.org"
   ]
  },
  {
   "cell_type": "code",
   "execution_count": 17,
   "id": "8e0e3e6a",
   "metadata": {},
   "outputs": [
    {
     "data": {
      "text/plain": [
       "'Friday'"
      ]
     },
     "execution_count": 17,
     "metadata": {},
     "output_type": "execute_result"
    }
   ],
   "source": [
    "date1.strftime('%A')"
   ]
  },
  {
   "cell_type": "markdown",
   "id": "828ec3cc",
   "metadata": {},
   "source": [
    "## Exercise"
   ]
  },
  {
   "cell_type": "code",
   "execution_count": 18,
   "id": "f79bd130",
   "metadata": {},
   "outputs": [
    {
     "data": {
      "application/vnd.microsoft.datawrangler.viewer.v0+json": {
       "columns": [
        {
         "name": "index",
         "rawType": "int64",
         "type": "integer"
        },
        {
         "name": "Date",
         "rawType": "object",
         "type": "string"
        },
        {
         "name": "Drug1",
         "rawType": "float64",
         "type": "float"
        },
        {
         "name": "Drug2",
         "rawType": "float64",
         "type": "float"
        },
        {
         "name": "Drug3",
         "rawType": "float64",
         "type": "float"
        },
        {
         "name": "Drug4",
         "rawType": "float64",
         "type": "float"
        },
        {
         "name": "Drug5",
         "rawType": "float64",
         "type": "float"
        },
        {
         "name": "Drug6",
         "rawType": "float64",
         "type": "float"
        },
        {
         "name": "Drug7",
         "rawType": "float64",
         "type": "float"
        },
        {
         "name": "Drug8",
         "rawType": "float64",
         "type": "float"
        },
        {
         "name": "Drug1_Sales",
         "rawType": "float64",
         "type": "float"
        },
        {
         "name": "Drug2_Sales",
         "rawType": "float64",
         "type": "float"
        },
        {
         "name": "Drug3_Sales",
         "rawType": "float64",
         "type": "float"
        },
        {
         "name": "Drug4_Sales",
         "rawType": "float64",
         "type": "float"
        },
        {
         "name": "Drug5_Sales",
         "rawType": "float64",
         "type": "float"
        },
        {
         "name": "Drug6_Sales",
         "rawType": "float64",
         "type": "float"
        },
        {
         "name": "Drug7_Sales",
         "rawType": "float64",
         "type": "float"
        },
        {
         "name": "Drug8_Sales",
         "rawType": "float64",
         "type": "float"
        }
       ],
       "ref": "47c7575f-ddf3-4855-80af-4e65be3e2aa2",
       "rows": [
        [
         "0",
         "2019-09-01",
         "2.0",
         "4.36",
         "5.0",
         "17.0",
         "8.2",
         "1.0",
         "5.0",
         "4.0",
         "2000.0",
         "3488.0000000000005",
         "7500.0",
         "10200.0",
         "4510.0",
         "10000.0",
         "2250.0",
         "3600.0"
        ],
        [
         "1",
         "2019-09-02",
         "5.33",
         "2.087",
         "2.5",
         "18.0",
         "7.0",
         "0.0",
         "1.0",
         "9.0",
         "5330.0",
         "1669.6",
         "3750.0",
         "10800.0",
         "3850.0",
         "0.0",
         "450.0",
         "8100.0"
        ],
        [
         "2",
         "2019-09-03",
         "9.36",
         "2.35",
         "3.1",
         "12.125",
         "8.0",
         "3.0",
         "1.0",
         "2.0",
         "9360.0",
         "1880.0",
         "4650.0",
         "7275.0",
         "4400.0",
         "30000.0",
         "450.0",
         "1800.0"
        ],
        [
         "3",
         "2019-09-04",
         "2.0",
         "0.373",
         "2.15",
         "29.23",
         "7.0",
         "0.0",
         "3.0",
         "3.0",
         "2000.0",
         "298.4",
         "3225.0",
         "17538.0",
         "3850.0",
         "0.0",
         "1350.0",
         "2700.0"
        ],
        [
         "4",
         "2019-09-05",
         "7.0",
         "9.53",
         "2.0",
         "14.0",
         "1.0",
         "0.0",
         "1.0",
         "8.0",
         "7000.0",
         "7623.999999999999",
         "3000.0",
         "8400.0",
         "550.0",
         "0.0",
         "450.0",
         "7200.0"
        ]
       ],
       "shape": {
        "columns": 17,
        "rows": 5
       }
      },
      "text/html": [
       "<div>\n",
       "<style scoped>\n",
       "    .dataframe tbody tr th:only-of-type {\n",
       "        vertical-align: middle;\n",
       "    }\n",
       "\n",
       "    .dataframe tbody tr th {\n",
       "        vertical-align: top;\n",
       "    }\n",
       "\n",
       "    .dataframe thead th {\n",
       "        text-align: right;\n",
       "    }\n",
       "</style>\n",
       "<table border=\"1\" class=\"dataframe\">\n",
       "  <thead>\n",
       "    <tr style=\"text-align: right;\">\n",
       "      <th></th>\n",
       "      <th>Date</th>\n",
       "      <th>Drug1</th>\n",
       "      <th>Drug2</th>\n",
       "      <th>Drug3</th>\n",
       "      <th>Drug4</th>\n",
       "      <th>Drug5</th>\n",
       "      <th>Drug6</th>\n",
       "      <th>Drug7</th>\n",
       "      <th>Drug8</th>\n",
       "      <th>Drug1_Sales</th>\n",
       "      <th>Drug2_Sales</th>\n",
       "      <th>Drug3_Sales</th>\n",
       "      <th>Drug4_Sales</th>\n",
       "      <th>Drug5_Sales</th>\n",
       "      <th>Drug6_Sales</th>\n",
       "      <th>Drug7_Sales</th>\n",
       "      <th>Drug8_Sales</th>\n",
       "    </tr>\n",
       "  </thead>\n",
       "  <tbody>\n",
       "    <tr>\n",
       "      <th>0</th>\n",
       "      <td>2019-09-01</td>\n",
       "      <td>2.00</td>\n",
       "      <td>4.360</td>\n",
       "      <td>5.00</td>\n",
       "      <td>17.000</td>\n",
       "      <td>8.2</td>\n",
       "      <td>1.0</td>\n",
       "      <td>5.0</td>\n",
       "      <td>4.0</td>\n",
       "      <td>2000.0</td>\n",
       "      <td>3488.0</td>\n",
       "      <td>7500.0</td>\n",
       "      <td>10200.0</td>\n",
       "      <td>4510.0</td>\n",
       "      <td>10000.0</td>\n",
       "      <td>2250.0</td>\n",
       "      <td>3600.0</td>\n",
       "    </tr>\n",
       "    <tr>\n",
       "      <th>1</th>\n",
       "      <td>2019-09-02</td>\n",
       "      <td>5.33</td>\n",
       "      <td>2.087</td>\n",
       "      <td>2.50</td>\n",
       "      <td>18.000</td>\n",
       "      <td>7.0</td>\n",
       "      <td>0.0</td>\n",
       "      <td>1.0</td>\n",
       "      <td>9.0</td>\n",
       "      <td>5330.0</td>\n",
       "      <td>1669.6</td>\n",
       "      <td>3750.0</td>\n",
       "      <td>10800.0</td>\n",
       "      <td>3850.0</td>\n",
       "      <td>0.0</td>\n",
       "      <td>450.0</td>\n",
       "      <td>8100.0</td>\n",
       "    </tr>\n",
       "    <tr>\n",
       "      <th>2</th>\n",
       "      <td>2019-09-03</td>\n",
       "      <td>9.36</td>\n",
       "      <td>2.350</td>\n",
       "      <td>3.10</td>\n",
       "      <td>12.125</td>\n",
       "      <td>8.0</td>\n",
       "      <td>3.0</td>\n",
       "      <td>1.0</td>\n",
       "      <td>2.0</td>\n",
       "      <td>9360.0</td>\n",
       "      <td>1880.0</td>\n",
       "      <td>4650.0</td>\n",
       "      <td>7275.0</td>\n",
       "      <td>4400.0</td>\n",
       "      <td>30000.0</td>\n",
       "      <td>450.0</td>\n",
       "      <td>1800.0</td>\n",
       "    </tr>\n",
       "    <tr>\n",
       "      <th>3</th>\n",
       "      <td>2019-09-04</td>\n",
       "      <td>2.00</td>\n",
       "      <td>0.373</td>\n",
       "      <td>2.15</td>\n",
       "      <td>29.230</td>\n",
       "      <td>7.0</td>\n",
       "      <td>0.0</td>\n",
       "      <td>3.0</td>\n",
       "      <td>3.0</td>\n",
       "      <td>2000.0</td>\n",
       "      <td>298.4</td>\n",
       "      <td>3225.0</td>\n",
       "      <td>17538.0</td>\n",
       "      <td>3850.0</td>\n",
       "      <td>0.0</td>\n",
       "      <td>1350.0</td>\n",
       "      <td>2700.0</td>\n",
       "    </tr>\n",
       "    <tr>\n",
       "      <th>4</th>\n",
       "      <td>2019-09-05</td>\n",
       "      <td>7.00</td>\n",
       "      <td>9.530</td>\n",
       "      <td>2.00</td>\n",
       "      <td>14.000</td>\n",
       "      <td>1.0</td>\n",
       "      <td>0.0</td>\n",
       "      <td>1.0</td>\n",
       "      <td>8.0</td>\n",
       "      <td>7000.0</td>\n",
       "      <td>7624.0</td>\n",
       "      <td>3000.0</td>\n",
       "      <td>8400.0</td>\n",
       "      <td>550.0</td>\n",
       "      <td>0.0</td>\n",
       "      <td>450.0</td>\n",
       "      <td>7200.0</td>\n",
       "    </tr>\n",
       "  </tbody>\n",
       "</table>\n",
       "</div>"
      ],
      "text/plain": [
       "         Date  Drug1  Drug2  Drug3   Drug4  Drug5  Drug6  Drug7  Drug8  \\\n",
       "0  2019-09-01   2.00  4.360   5.00  17.000    8.2    1.0    5.0    4.0   \n",
       "1  2019-09-02   5.33  2.087   2.50  18.000    7.0    0.0    1.0    9.0   \n",
       "2  2019-09-03   9.36  2.350   3.10  12.125    8.0    3.0    1.0    2.0   \n",
       "3  2019-09-04   2.00  0.373   2.15  29.230    7.0    0.0    3.0    3.0   \n",
       "4  2019-09-05   7.00  9.530   2.00  14.000    1.0    0.0    1.0    8.0   \n",
       "\n",
       "   Drug1_Sales  Drug2_Sales  Drug3_Sales  Drug4_Sales  Drug5_Sales  \\\n",
       "0       2000.0       3488.0       7500.0      10200.0       4510.0   \n",
       "1       5330.0       1669.6       3750.0      10800.0       3850.0   \n",
       "2       9360.0       1880.0       4650.0       7275.0       4400.0   \n",
       "3       2000.0        298.4       3225.0      17538.0       3850.0   \n",
       "4       7000.0       7624.0       3000.0       8400.0        550.0   \n",
       "\n",
       "   Drug6_Sales  Drug7_Sales  Drug8_Sales  \n",
       "0      10000.0       2250.0       3600.0  \n",
       "1          0.0        450.0       8100.0  \n",
       "2      30000.0        450.0       1800.0  \n",
       "3          0.0       1350.0       2700.0  \n",
       "4          0.0        450.0       7200.0  "
      ]
     },
     "execution_count": 18,
     "metadata": {},
     "output_type": "execute_result"
    }
   ],
   "source": [
    "path = '/Users/bassel_instructor/Documents/Datasets/'\n",
    "\n",
    "df = pd.read_csv(path+'Drug_Sales.csv')\n",
    "df.head()"
   ]
  },
  {
   "cell_type": "code",
   "execution_count": 19,
   "id": "5907079d",
   "metadata": {},
   "outputs": [
    {
     "data": {
      "application/vnd.microsoft.datawrangler.viewer.v0+json": {
       "columns": [
        {
         "name": "index",
         "rawType": "object",
         "type": "string"
        },
        {
         "name": "0",
         "rawType": "object",
         "type": "unknown"
        }
       ],
       "ref": "fa125d97-370e-4b4b-82b0-2598bc4dc021",
       "rows": [
        [
         "Date",
         "object"
        ],
        [
         "Drug1",
         "float64"
        ],
        [
         "Drug2",
         "float64"
        ],
        [
         "Drug3",
         "float64"
        ],
        [
         "Drug4",
         "float64"
        ],
        [
         "Drug5",
         "float64"
        ],
        [
         "Drug6",
         "float64"
        ],
        [
         "Drug7",
         "float64"
        ],
        [
         "Drug8",
         "float64"
        ],
        [
         "Drug1_Sales",
         "float64"
        ],
        [
         "Drug2_Sales",
         "float64"
        ],
        [
         "Drug3_Sales",
         "float64"
        ],
        [
         "Drug4_Sales",
         "float64"
        ],
        [
         "Drug5_Sales",
         "float64"
        ],
        [
         "Drug6_Sales",
         "float64"
        ],
        [
         "Drug7_Sales",
         "float64"
        ],
        [
         "Drug8_Sales",
         "float64"
        ]
       ],
       "shape": {
        "columns": 1,
        "rows": 17
       }
      },
      "text/plain": [
       "Date            object\n",
       "Drug1          float64\n",
       "Drug2          float64\n",
       "Drug3          float64\n",
       "Drug4          float64\n",
       "Drug5          float64\n",
       "Drug6          float64\n",
       "Drug7          float64\n",
       "Drug8          float64\n",
       "Drug1_Sales    float64\n",
       "Drug2_Sales    float64\n",
       "Drug3_Sales    float64\n",
       "Drug4_Sales    float64\n",
       "Drug5_Sales    float64\n",
       "Drug6_Sales    float64\n",
       "Drug7_Sales    float64\n",
       "Drug8_Sales    float64\n",
       "dtype: object"
      ]
     },
     "execution_count": 19,
     "metadata": {},
     "output_type": "execute_result"
    }
   ],
   "source": [
    "df.dtypes"
   ]
  },
  {
   "cell_type": "markdown",
   "id": "afe2f3b0",
   "metadata": {},
   "source": [
    "We have 2 methods to parse dates in pandas:\n",
    "- Method1 (easier): importing the data using `parse_dates`\n",
    "- Method2: after importing, use `to_datetime()`"
   ]
  },
  {
   "cell_type": "code",
   "execution_count": 23,
   "id": "7c286349",
   "metadata": {},
   "outputs": [
    {
     "data": {
      "application/vnd.microsoft.datawrangler.viewer.v0+json": {
       "columns": [
        {
         "name": "index",
         "rawType": "object",
         "type": "string"
        },
        {
         "name": "0",
         "rawType": "object",
         "type": "unknown"
        }
       ],
       "ref": "11622e75-54b3-4937-b206-1b5bd63e3d05",
       "rows": [
        [
         "Date",
         "datetime64[ns]"
        ],
        [
         "Drug1",
         "float64"
        ],
        [
         "Drug2",
         "float64"
        ],
        [
         "Drug3",
         "float64"
        ],
        [
         "Drug4",
         "float64"
        ],
        [
         "Drug5",
         "float64"
        ],
        [
         "Drug6",
         "float64"
        ],
        [
         "Drug7",
         "float64"
        ],
        [
         "Drug8",
         "float64"
        ],
        [
         "Drug1_Sales",
         "float64"
        ],
        [
         "Drug2_Sales",
         "float64"
        ],
        [
         "Drug3_Sales",
         "float64"
        ],
        [
         "Drug4_Sales",
         "float64"
        ],
        [
         "Drug5_Sales",
         "float64"
        ],
        [
         "Drug6_Sales",
         "float64"
        ],
        [
         "Drug7_Sales",
         "float64"
        ],
        [
         "Drug8_Sales",
         "float64"
        ]
       ],
       "shape": {
        "columns": 1,
        "rows": 17
       }
      },
      "text/plain": [
       "Date           datetime64[ns]\n",
       "Drug1                 float64\n",
       "Drug2                 float64\n",
       "Drug3                 float64\n",
       "Drug4                 float64\n",
       "Drug5                 float64\n",
       "Drug6                 float64\n",
       "Drug7                 float64\n",
       "Drug8                 float64\n",
       "Drug1_Sales           float64\n",
       "Drug2_Sales           float64\n",
       "Drug3_Sales           float64\n",
       "Drug4_Sales           float64\n",
       "Drug5_Sales           float64\n",
       "Drug6_Sales           float64\n",
       "Drug7_Sales           float64\n",
       "Drug8_Sales           float64\n",
       "dtype: object"
      ]
     },
     "execution_count": 23,
     "metadata": {},
     "output_type": "execute_result"
    }
   ],
   "source": [
    "df = pd.read_csv(path+'Drug_Sales.csv', parse_dates=['Date'])\n",
    "df.dtypes"
   ]
  },
  {
   "cell_type": "markdown",
   "id": "88ff7dcc",
   "metadata": {},
   "source": [
    "## Feature Extraction\n",
    "- After converting the date column to datetime, we're able to run date functions\n",
    "- It's best practice to extract year, month, day (if needed) also place them next to the dates"
   ]
  },
  {
   "cell_type": "code",
   "execution_count": 24,
   "id": "53c61746",
   "metadata": {},
   "outputs": [
    {
     "data": {
      "application/vnd.microsoft.datawrangler.viewer.v0+json": {
       "columns": [
        {
         "name": "index",
         "rawType": "int64",
         "type": "integer"
        },
        {
         "name": "Date",
         "rawType": "datetime64[ns]",
         "type": "datetime"
        },
        {
         "name": "Year",
         "rawType": "int32",
         "type": "integer"
        },
        {
         "name": "Month",
         "rawType": "int32",
         "type": "integer"
        },
        {
         "name": "Day",
         "rawType": "int32",
         "type": "integer"
        },
        {
         "name": "Drug1",
         "rawType": "float64",
         "type": "float"
        },
        {
         "name": "Drug2",
         "rawType": "float64",
         "type": "float"
        },
        {
         "name": "Drug3",
         "rawType": "float64",
         "type": "float"
        },
        {
         "name": "Drug4",
         "rawType": "float64",
         "type": "float"
        },
        {
         "name": "Drug5",
         "rawType": "float64",
         "type": "float"
        },
        {
         "name": "Drug6",
         "rawType": "float64",
         "type": "float"
        },
        {
         "name": "Drug7",
         "rawType": "float64",
         "type": "float"
        },
        {
         "name": "Drug8",
         "rawType": "float64",
         "type": "float"
        },
        {
         "name": "Drug1_Sales",
         "rawType": "float64",
         "type": "float"
        },
        {
         "name": "Drug2_Sales",
         "rawType": "float64",
         "type": "float"
        },
        {
         "name": "Drug3_Sales",
         "rawType": "float64",
         "type": "float"
        },
        {
         "name": "Drug4_Sales",
         "rawType": "float64",
         "type": "float"
        },
        {
         "name": "Drug5_Sales",
         "rawType": "float64",
         "type": "float"
        },
        {
         "name": "Drug6_Sales",
         "rawType": "float64",
         "type": "float"
        },
        {
         "name": "Drug7_Sales",
         "rawType": "float64",
         "type": "float"
        },
        {
         "name": "Drug8_Sales",
         "rawType": "float64",
         "type": "float"
        }
       ],
       "ref": "d79176a1-14f7-4ecd-ba19-1ee08c0e04a0",
       "rows": [
        [
         "0",
         "2019-09-01 00:00:00",
         "2019",
         "9",
         "1",
         "2.0",
         "4.36",
         "5.0",
         "17.0",
         "8.2",
         "1.0",
         "5.0",
         "4.0",
         "2000.0",
         "3488.0000000000005",
         "7500.0",
         "10200.0",
         "4510.0",
         "10000.0",
         "2250.0",
         "3600.0"
        ],
        [
         "1",
         "2019-09-02 00:00:00",
         "2019",
         "9",
         "2",
         "5.33",
         "2.087",
         "2.5",
         "18.0",
         "7.0",
         "0.0",
         "1.0",
         "9.0",
         "5330.0",
         "1669.6",
         "3750.0",
         "10800.0",
         "3850.0",
         "0.0",
         "450.0",
         "8100.0"
        ],
        [
         "2",
         "2019-09-03 00:00:00",
         "2019",
         "9",
         "3",
         "9.36",
         "2.35",
         "3.1",
         "12.125",
         "8.0",
         "3.0",
         "1.0",
         "2.0",
         "9360.0",
         "1880.0",
         "4650.0",
         "7275.0",
         "4400.0",
         "30000.0",
         "450.0",
         "1800.0"
        ],
        [
         "3",
         "2019-09-04 00:00:00",
         "2019",
         "9",
         "4",
         "2.0",
         "0.373",
         "2.15",
         "29.23",
         "7.0",
         "0.0",
         "3.0",
         "3.0",
         "2000.0",
         "298.4",
         "3225.0",
         "17538.0",
         "3850.0",
         "0.0",
         "1350.0",
         "2700.0"
        ],
        [
         "4",
         "2019-09-05 00:00:00",
         "2019",
         "9",
         "5",
         "7.0",
         "9.53",
         "2.0",
         "14.0",
         "1.0",
         "0.0",
         "1.0",
         "8.0",
         "7000.0",
         "7623.999999999999",
         "3000.0",
         "8400.0",
         "550.0",
         "0.0",
         "450.0",
         "7200.0"
        ]
       ],
       "shape": {
        "columns": 20,
        "rows": 5
       }
      },
      "text/html": [
       "<div>\n",
       "<style scoped>\n",
       "    .dataframe tbody tr th:only-of-type {\n",
       "        vertical-align: middle;\n",
       "    }\n",
       "\n",
       "    .dataframe tbody tr th {\n",
       "        vertical-align: top;\n",
       "    }\n",
       "\n",
       "    .dataframe thead th {\n",
       "        text-align: right;\n",
       "    }\n",
       "</style>\n",
       "<table border=\"1\" class=\"dataframe\">\n",
       "  <thead>\n",
       "    <tr style=\"text-align: right;\">\n",
       "      <th></th>\n",
       "      <th>Date</th>\n",
       "      <th>Year</th>\n",
       "      <th>Month</th>\n",
       "      <th>Day</th>\n",
       "      <th>Drug1</th>\n",
       "      <th>Drug2</th>\n",
       "      <th>Drug3</th>\n",
       "      <th>Drug4</th>\n",
       "      <th>Drug5</th>\n",
       "      <th>Drug6</th>\n",
       "      <th>Drug7</th>\n",
       "      <th>Drug8</th>\n",
       "      <th>Drug1_Sales</th>\n",
       "      <th>Drug2_Sales</th>\n",
       "      <th>Drug3_Sales</th>\n",
       "      <th>Drug4_Sales</th>\n",
       "      <th>Drug5_Sales</th>\n",
       "      <th>Drug6_Sales</th>\n",
       "      <th>Drug7_Sales</th>\n",
       "      <th>Drug8_Sales</th>\n",
       "    </tr>\n",
       "  </thead>\n",
       "  <tbody>\n",
       "    <tr>\n",
       "      <th>0</th>\n",
       "      <td>2019-09-01</td>\n",
       "      <td>2019</td>\n",
       "      <td>9</td>\n",
       "      <td>1</td>\n",
       "      <td>2.00</td>\n",
       "      <td>4.360</td>\n",
       "      <td>5.00</td>\n",
       "      <td>17.000</td>\n",
       "      <td>8.2</td>\n",
       "      <td>1.0</td>\n",
       "      <td>5.0</td>\n",
       "      <td>4.0</td>\n",
       "      <td>2000.0</td>\n",
       "      <td>3488.0</td>\n",
       "      <td>7500.0</td>\n",
       "      <td>10200.0</td>\n",
       "      <td>4510.0</td>\n",
       "      <td>10000.0</td>\n",
       "      <td>2250.0</td>\n",
       "      <td>3600.0</td>\n",
       "    </tr>\n",
       "    <tr>\n",
       "      <th>1</th>\n",
       "      <td>2019-09-02</td>\n",
       "      <td>2019</td>\n",
       "      <td>9</td>\n",
       "      <td>2</td>\n",
       "      <td>5.33</td>\n",
       "      <td>2.087</td>\n",
       "      <td>2.50</td>\n",
       "      <td>18.000</td>\n",
       "      <td>7.0</td>\n",
       "      <td>0.0</td>\n",
       "      <td>1.0</td>\n",
       "      <td>9.0</td>\n",
       "      <td>5330.0</td>\n",
       "      <td>1669.6</td>\n",
       "      <td>3750.0</td>\n",
       "      <td>10800.0</td>\n",
       "      <td>3850.0</td>\n",
       "      <td>0.0</td>\n",
       "      <td>450.0</td>\n",
       "      <td>8100.0</td>\n",
       "    </tr>\n",
       "    <tr>\n",
       "      <th>2</th>\n",
       "      <td>2019-09-03</td>\n",
       "      <td>2019</td>\n",
       "      <td>9</td>\n",
       "      <td>3</td>\n",
       "      <td>9.36</td>\n",
       "      <td>2.350</td>\n",
       "      <td>3.10</td>\n",
       "      <td>12.125</td>\n",
       "      <td>8.0</td>\n",
       "      <td>3.0</td>\n",
       "      <td>1.0</td>\n",
       "      <td>2.0</td>\n",
       "      <td>9360.0</td>\n",
       "      <td>1880.0</td>\n",
       "      <td>4650.0</td>\n",
       "      <td>7275.0</td>\n",
       "      <td>4400.0</td>\n",
       "      <td>30000.0</td>\n",
       "      <td>450.0</td>\n",
       "      <td>1800.0</td>\n",
       "    </tr>\n",
       "    <tr>\n",
       "      <th>3</th>\n",
       "      <td>2019-09-04</td>\n",
       "      <td>2019</td>\n",
       "      <td>9</td>\n",
       "      <td>4</td>\n",
       "      <td>2.00</td>\n",
       "      <td>0.373</td>\n",
       "      <td>2.15</td>\n",
       "      <td>29.230</td>\n",
       "      <td>7.0</td>\n",
       "      <td>0.0</td>\n",
       "      <td>3.0</td>\n",
       "      <td>3.0</td>\n",
       "      <td>2000.0</td>\n",
       "      <td>298.4</td>\n",
       "      <td>3225.0</td>\n",
       "      <td>17538.0</td>\n",
       "      <td>3850.0</td>\n",
       "      <td>0.0</td>\n",
       "      <td>1350.0</td>\n",
       "      <td>2700.0</td>\n",
       "    </tr>\n",
       "    <tr>\n",
       "      <th>4</th>\n",
       "      <td>2019-09-05</td>\n",
       "      <td>2019</td>\n",
       "      <td>9</td>\n",
       "      <td>5</td>\n",
       "      <td>7.00</td>\n",
       "      <td>9.530</td>\n",
       "      <td>2.00</td>\n",
       "      <td>14.000</td>\n",
       "      <td>1.0</td>\n",
       "      <td>0.0</td>\n",
       "      <td>1.0</td>\n",
       "      <td>8.0</td>\n",
       "      <td>7000.0</td>\n",
       "      <td>7624.0</td>\n",
       "      <td>3000.0</td>\n",
       "      <td>8400.0</td>\n",
       "      <td>550.0</td>\n",
       "      <td>0.0</td>\n",
       "      <td>450.0</td>\n",
       "      <td>7200.0</td>\n",
       "    </tr>\n",
       "  </tbody>\n",
       "</table>\n",
       "</div>"
      ],
      "text/plain": [
       "        Date  Year  Month  Day  Drug1  Drug2  Drug3   Drug4  Drug5  Drug6  \\\n",
       "0 2019-09-01  2019      9    1   2.00  4.360   5.00  17.000    8.2    1.0   \n",
       "1 2019-09-02  2019      9    2   5.33  2.087   2.50  18.000    7.0    0.0   \n",
       "2 2019-09-03  2019      9    3   9.36  2.350   3.10  12.125    8.0    3.0   \n",
       "3 2019-09-04  2019      9    4   2.00  0.373   2.15  29.230    7.0    0.0   \n",
       "4 2019-09-05  2019      9    5   7.00  9.530   2.00  14.000    1.0    0.0   \n",
       "\n",
       "   Drug7  Drug8  Drug1_Sales  Drug2_Sales  Drug3_Sales  Drug4_Sales  \\\n",
       "0    5.0    4.0       2000.0       3488.0       7500.0      10200.0   \n",
       "1    1.0    9.0       5330.0       1669.6       3750.0      10800.0   \n",
       "2    1.0    2.0       9360.0       1880.0       4650.0       7275.0   \n",
       "3    3.0    3.0       2000.0        298.4       3225.0      17538.0   \n",
       "4    1.0    8.0       7000.0       7624.0       3000.0       8400.0   \n",
       "\n",
       "   Drug5_Sales  Drug6_Sales  Drug7_Sales  Drug8_Sales  \n",
       "0       4510.0      10000.0       2250.0       3600.0  \n",
       "1       3850.0          0.0        450.0       8100.0  \n",
       "2       4400.0      30000.0        450.0       1800.0  \n",
       "3       3850.0          0.0       1350.0       2700.0  \n",
       "4        550.0          0.0        450.0       7200.0  "
      ]
     },
     "execution_count": 24,
     "metadata": {},
     "output_type": "execute_result"
    }
   ],
   "source": [
    "#df['Month'] = df['Date'].dt.month\n",
    "df.insert(1, 'Year', df['Date'].dt.year)\n",
    "df.insert(2, 'Month', df['Date'].dt.month)\n",
    "df.insert(3, 'Day', df['Date'].dt.day)\n",
    "df.head()"
   ]
  },
  {
   "cell_type": "code",
   "execution_count": null,
   "id": "14816acb",
   "metadata": {},
   "outputs": [
    {
     "data": {
      "text/plain": [
       "0"
      ]
     },
     "execution_count": 27,
     "metadata": {},
     "output_type": "execute_result"
    }
   ],
   "source": [
    "df.columns.get_loc('Date')"
   ]
  },
  {
   "cell_type": "code",
   "execution_count": 28,
   "id": "12128dae",
   "metadata": {},
   "outputs": [
    {
     "data": {
      "application/vnd.microsoft.datawrangler.viewer.v0+json": {
       "columns": [
        {
         "name": "index",
         "rawType": "int64",
         "type": "integer"
        },
        {
         "name": "Date",
         "rawType": "datetime64[ns]",
         "type": "datetime"
        },
        {
         "name": "Year",
         "rawType": "int32",
         "type": "integer"
        },
        {
         "name": "Month",
         "rawType": "int32",
         "type": "integer"
        },
        {
         "name": "Day",
         "rawType": "int32",
         "type": "integer"
        },
        {
         "name": "DayName",
         "rawType": "object",
         "type": "string"
        },
        {
         "name": "Drug1",
         "rawType": "float64",
         "type": "float"
        },
        {
         "name": "Drug2",
         "rawType": "float64",
         "type": "float"
        },
        {
         "name": "Drug3",
         "rawType": "float64",
         "type": "float"
        },
        {
         "name": "Drug4",
         "rawType": "float64",
         "type": "float"
        },
        {
         "name": "Drug5",
         "rawType": "float64",
         "type": "float"
        },
        {
         "name": "Drug6",
         "rawType": "float64",
         "type": "float"
        },
        {
         "name": "Drug7",
         "rawType": "float64",
         "type": "float"
        },
        {
         "name": "Drug8",
         "rawType": "float64",
         "type": "float"
        },
        {
         "name": "Drug1_Sales",
         "rawType": "float64",
         "type": "float"
        },
        {
         "name": "Drug2_Sales",
         "rawType": "float64",
         "type": "float"
        },
        {
         "name": "Drug3_Sales",
         "rawType": "float64",
         "type": "float"
        },
        {
         "name": "Drug4_Sales",
         "rawType": "float64",
         "type": "float"
        },
        {
         "name": "Drug5_Sales",
         "rawType": "float64",
         "type": "float"
        },
        {
         "name": "Drug6_Sales",
         "rawType": "float64",
         "type": "float"
        },
        {
         "name": "Drug7_Sales",
         "rawType": "float64",
         "type": "float"
        },
        {
         "name": "Drug8_Sales",
         "rawType": "float64",
         "type": "float"
        }
       ],
       "ref": "32518315-c9bb-4a1f-8af0-37278f630edf",
       "rows": [
        [
         "0",
         "2019-09-01 00:00:00",
         "2019",
         "9",
         "1",
         "Sun",
         "2.0",
         "4.36",
         "5.0",
         "17.0",
         "8.2",
         "1.0",
         "5.0",
         "4.0",
         "2000.0",
         "3488.0000000000005",
         "7500.0",
         "10200.0",
         "4510.0",
         "10000.0",
         "2250.0",
         "3600.0"
        ],
        [
         "1",
         "2019-09-02 00:00:00",
         "2019",
         "9",
         "2",
         "Mon",
         "5.33",
         "2.087",
         "2.5",
         "18.0",
         "7.0",
         "0.0",
         "1.0",
         "9.0",
         "5330.0",
         "1669.6",
         "3750.0",
         "10800.0",
         "3850.0",
         "0.0",
         "450.0",
         "8100.0"
        ],
        [
         "2",
         "2019-09-03 00:00:00",
         "2019",
         "9",
         "3",
         "Tue",
         "9.36",
         "2.35",
         "3.1",
         "12.125",
         "8.0",
         "3.0",
         "1.0",
         "2.0",
         "9360.0",
         "1880.0",
         "4650.0",
         "7275.0",
         "4400.0",
         "30000.0",
         "450.0",
         "1800.0"
        ],
        [
         "3",
         "2019-09-04 00:00:00",
         "2019",
         "9",
         "4",
         "Wed",
         "2.0",
         "0.373",
         "2.15",
         "29.23",
         "7.0",
         "0.0",
         "3.0",
         "3.0",
         "2000.0",
         "298.4",
         "3225.0",
         "17538.0",
         "3850.0",
         "0.0",
         "1350.0",
         "2700.0"
        ],
        [
         "4",
         "2019-09-05 00:00:00",
         "2019",
         "9",
         "5",
         "Thu",
         "7.0",
         "9.53",
         "2.0",
         "14.0",
         "1.0",
         "0.0",
         "1.0",
         "8.0",
         "7000.0",
         "7623.999999999999",
         "3000.0",
         "8400.0",
         "550.0",
         "0.0",
         "450.0",
         "7200.0"
        ]
       ],
       "shape": {
        "columns": 21,
        "rows": 5
       }
      },
      "text/html": [
       "<div>\n",
       "<style scoped>\n",
       "    .dataframe tbody tr th:only-of-type {\n",
       "        vertical-align: middle;\n",
       "    }\n",
       "\n",
       "    .dataframe tbody tr th {\n",
       "        vertical-align: top;\n",
       "    }\n",
       "\n",
       "    .dataframe thead th {\n",
       "        text-align: right;\n",
       "    }\n",
       "</style>\n",
       "<table border=\"1\" class=\"dataframe\">\n",
       "  <thead>\n",
       "    <tr style=\"text-align: right;\">\n",
       "      <th></th>\n",
       "      <th>Date</th>\n",
       "      <th>Year</th>\n",
       "      <th>Month</th>\n",
       "      <th>Day</th>\n",
       "      <th>DayName</th>\n",
       "      <th>Drug1</th>\n",
       "      <th>Drug2</th>\n",
       "      <th>Drug3</th>\n",
       "      <th>Drug4</th>\n",
       "      <th>Drug5</th>\n",
       "      <th>...</th>\n",
       "      <th>Drug7</th>\n",
       "      <th>Drug8</th>\n",
       "      <th>Drug1_Sales</th>\n",
       "      <th>Drug2_Sales</th>\n",
       "      <th>Drug3_Sales</th>\n",
       "      <th>Drug4_Sales</th>\n",
       "      <th>Drug5_Sales</th>\n",
       "      <th>Drug6_Sales</th>\n",
       "      <th>Drug7_Sales</th>\n",
       "      <th>Drug8_Sales</th>\n",
       "    </tr>\n",
       "  </thead>\n",
       "  <tbody>\n",
       "    <tr>\n",
       "      <th>0</th>\n",
       "      <td>2019-09-01</td>\n",
       "      <td>2019</td>\n",
       "      <td>9</td>\n",
       "      <td>1</td>\n",
       "      <td>Sun</td>\n",
       "      <td>2.00</td>\n",
       "      <td>4.360</td>\n",
       "      <td>5.00</td>\n",
       "      <td>17.000</td>\n",
       "      <td>8.2</td>\n",
       "      <td>...</td>\n",
       "      <td>5.0</td>\n",
       "      <td>4.0</td>\n",
       "      <td>2000.0</td>\n",
       "      <td>3488.0</td>\n",
       "      <td>7500.0</td>\n",
       "      <td>10200.0</td>\n",
       "      <td>4510.0</td>\n",
       "      <td>10000.0</td>\n",
       "      <td>2250.0</td>\n",
       "      <td>3600.0</td>\n",
       "    </tr>\n",
       "    <tr>\n",
       "      <th>1</th>\n",
       "      <td>2019-09-02</td>\n",
       "      <td>2019</td>\n",
       "      <td>9</td>\n",
       "      <td>2</td>\n",
       "      <td>Mon</td>\n",
       "      <td>5.33</td>\n",
       "      <td>2.087</td>\n",
       "      <td>2.50</td>\n",
       "      <td>18.000</td>\n",
       "      <td>7.0</td>\n",
       "      <td>...</td>\n",
       "      <td>1.0</td>\n",
       "      <td>9.0</td>\n",
       "      <td>5330.0</td>\n",
       "      <td>1669.6</td>\n",
       "      <td>3750.0</td>\n",
       "      <td>10800.0</td>\n",
       "      <td>3850.0</td>\n",
       "      <td>0.0</td>\n",
       "      <td>450.0</td>\n",
       "      <td>8100.0</td>\n",
       "    </tr>\n",
       "    <tr>\n",
       "      <th>2</th>\n",
       "      <td>2019-09-03</td>\n",
       "      <td>2019</td>\n",
       "      <td>9</td>\n",
       "      <td>3</td>\n",
       "      <td>Tue</td>\n",
       "      <td>9.36</td>\n",
       "      <td>2.350</td>\n",
       "      <td>3.10</td>\n",
       "      <td>12.125</td>\n",
       "      <td>8.0</td>\n",
       "      <td>...</td>\n",
       "      <td>1.0</td>\n",
       "      <td>2.0</td>\n",
       "      <td>9360.0</td>\n",
       "      <td>1880.0</td>\n",
       "      <td>4650.0</td>\n",
       "      <td>7275.0</td>\n",
       "      <td>4400.0</td>\n",
       "      <td>30000.0</td>\n",
       "      <td>450.0</td>\n",
       "      <td>1800.0</td>\n",
       "    </tr>\n",
       "    <tr>\n",
       "      <th>3</th>\n",
       "      <td>2019-09-04</td>\n",
       "      <td>2019</td>\n",
       "      <td>9</td>\n",
       "      <td>4</td>\n",
       "      <td>Wed</td>\n",
       "      <td>2.00</td>\n",
       "      <td>0.373</td>\n",
       "      <td>2.15</td>\n",
       "      <td>29.230</td>\n",
       "      <td>7.0</td>\n",
       "      <td>...</td>\n",
       "      <td>3.0</td>\n",
       "      <td>3.0</td>\n",
       "      <td>2000.0</td>\n",
       "      <td>298.4</td>\n",
       "      <td>3225.0</td>\n",
       "      <td>17538.0</td>\n",
       "      <td>3850.0</td>\n",
       "      <td>0.0</td>\n",
       "      <td>1350.0</td>\n",
       "      <td>2700.0</td>\n",
       "    </tr>\n",
       "    <tr>\n",
       "      <th>4</th>\n",
       "      <td>2019-09-05</td>\n",
       "      <td>2019</td>\n",
       "      <td>9</td>\n",
       "      <td>5</td>\n",
       "      <td>Thu</td>\n",
       "      <td>7.00</td>\n",
       "      <td>9.530</td>\n",
       "      <td>2.00</td>\n",
       "      <td>14.000</td>\n",
       "      <td>1.0</td>\n",
       "      <td>...</td>\n",
       "      <td>1.0</td>\n",
       "      <td>8.0</td>\n",
       "      <td>7000.0</td>\n",
       "      <td>7624.0</td>\n",
       "      <td>3000.0</td>\n",
       "      <td>8400.0</td>\n",
       "      <td>550.0</td>\n",
       "      <td>0.0</td>\n",
       "      <td>450.0</td>\n",
       "      <td>7200.0</td>\n",
       "    </tr>\n",
       "  </tbody>\n",
       "</table>\n",
       "<p>5 rows × 21 columns</p>\n",
       "</div>"
      ],
      "text/plain": [
       "        Date  Year  Month  Day DayName  Drug1  Drug2  Drug3   Drug4  Drug5  \\\n",
       "0 2019-09-01  2019      9    1     Sun   2.00  4.360   5.00  17.000    8.2   \n",
       "1 2019-09-02  2019      9    2     Mon   5.33  2.087   2.50  18.000    7.0   \n",
       "2 2019-09-03  2019      9    3     Tue   9.36  2.350   3.10  12.125    8.0   \n",
       "3 2019-09-04  2019      9    4     Wed   2.00  0.373   2.15  29.230    7.0   \n",
       "4 2019-09-05  2019      9    5     Thu   7.00  9.530   2.00  14.000    1.0   \n",
       "\n",
       "   ...  Drug7  Drug8  Drug1_Sales  Drug2_Sales  Drug3_Sales  Drug4_Sales  \\\n",
       "0  ...    5.0    4.0       2000.0       3488.0       7500.0      10200.0   \n",
       "1  ...    1.0    9.0       5330.0       1669.6       3750.0      10800.0   \n",
       "2  ...    1.0    2.0       9360.0       1880.0       4650.0       7275.0   \n",
       "3  ...    3.0    3.0       2000.0        298.4       3225.0      17538.0   \n",
       "4  ...    1.0    8.0       7000.0       7624.0       3000.0       8400.0   \n",
       "\n",
       "   Drug5_Sales  Drug6_Sales  Drug7_Sales  Drug8_Sales  \n",
       "0       4510.0      10000.0       2250.0       3600.0  \n",
       "1       3850.0          0.0        450.0       8100.0  \n",
       "2       4400.0      30000.0        450.0       1800.0  \n",
       "3       3850.0          0.0       1350.0       2700.0  \n",
       "4        550.0          0.0        450.0       7200.0  \n",
       "\n",
       "[5 rows x 21 columns]"
      ]
     },
     "execution_count": 28,
     "metadata": {},
     "output_type": "execute_result"
    }
   ],
   "source": [
    "df.insert(4, 'DayName', df['Date'].dt.strftime('%a'))\n",
    "df.head()"
   ]
  },
  {
   "cell_type": "markdown",
   "id": "1c7e7f52",
   "metadata": {},
   "source": [
    "### Date Filtering"
   ]
  },
  {
   "cell_type": "code",
   "execution_count": 29,
   "id": "843c2388",
   "metadata": {},
   "outputs": [
    {
     "data": {
      "application/vnd.microsoft.datawrangler.viewer.v0+json": {
       "columns": [
        {
         "name": "index",
         "rawType": "int64",
         "type": "integer"
        },
        {
         "name": "Date",
         "rawType": "datetime64[ns]",
         "type": "datetime"
        },
        {
         "name": "Year",
         "rawType": "int32",
         "type": "integer"
        },
        {
         "name": "Month",
         "rawType": "int32",
         "type": "integer"
        },
        {
         "name": "Day",
         "rawType": "int32",
         "type": "integer"
        },
        {
         "name": "DayName",
         "rawType": "object",
         "type": "string"
        },
        {
         "name": "Drug1",
         "rawType": "float64",
         "type": "float"
        },
        {
         "name": "Drug2",
         "rawType": "float64",
         "type": "float"
        },
        {
         "name": "Drug3",
         "rawType": "float64",
         "type": "float"
        },
        {
         "name": "Drug4",
         "rawType": "float64",
         "type": "float"
        },
        {
         "name": "Drug5",
         "rawType": "float64",
         "type": "float"
        },
        {
         "name": "Drug6",
         "rawType": "float64",
         "type": "float"
        },
        {
         "name": "Drug7",
         "rawType": "float64",
         "type": "float"
        },
        {
         "name": "Drug8",
         "rawType": "float64",
         "type": "float"
        },
        {
         "name": "Drug1_Sales",
         "rawType": "float64",
         "type": "float"
        },
        {
         "name": "Drug2_Sales",
         "rawType": "float64",
         "type": "float"
        },
        {
         "name": "Drug3_Sales",
         "rawType": "float64",
         "type": "float"
        },
        {
         "name": "Drug4_Sales",
         "rawType": "float64",
         "type": "float"
        },
        {
         "name": "Drug5_Sales",
         "rawType": "float64",
         "type": "float"
        },
        {
         "name": "Drug6_Sales",
         "rawType": "float64",
         "type": "float"
        },
        {
         "name": "Drug7_Sales",
         "rawType": "float64",
         "type": "float"
        },
        {
         "name": "Drug8_Sales",
         "rawType": "float64",
         "type": "float"
        }
       ],
       "ref": "fedb3f90-6064-4787-b9b4-bb71032a2560",
       "rows": [
        [
         "1",
         "2019-09-02 00:00:00",
         "2019",
         "9",
         "2",
         "Mon",
         "5.33",
         "2.087",
         "2.5",
         "18.0",
         "7.0",
         "0.0",
         "1.0",
         "9.0",
         "5330.0",
         "1669.6",
         "3750.0",
         "10800.0",
         "3850.0",
         "0.0",
         "450.0",
         "8100.0"
        ],
        [
         "2",
         "2019-09-03 00:00:00",
         "2019",
         "9",
         "3",
         "Tue",
         "9.36",
         "2.35",
         "3.1",
         "12.125",
         "8.0",
         "3.0",
         "1.0",
         "2.0",
         "9360.0",
         "1880.0",
         "4650.0",
         "7275.0",
         "4400.0",
         "30000.0",
         "450.0",
         "1800.0"
        ],
        [
         "3",
         "2019-09-04 00:00:00",
         "2019",
         "9",
         "4",
         "Wed",
         "2.0",
         "0.373",
         "2.15",
         "29.23",
         "7.0",
         "0.0",
         "3.0",
         "3.0",
         "2000.0",
         "298.4",
         "3225.0",
         "17538.0",
         "3850.0",
         "0.0",
         "1350.0",
         "2700.0"
        ],
        [
         "4",
         "2019-09-05 00:00:00",
         "2019",
         "9",
         "5",
         "Thu",
         "7.0",
         "9.53",
         "2.0",
         "14.0",
         "1.0",
         "0.0",
         "1.0",
         "8.0",
         "7000.0",
         "7623.999999999999",
         "3000.0",
         "8400.0",
         "550.0",
         "0.0",
         "450.0",
         "7200.0"
        ],
        [
         "5",
         "2019-09-06 00:00:00",
         "2019",
         "9",
         "6",
         "Fri",
         "1.68",
         "2.67",
         "1.0",
         "28.4",
         "7.0",
         "0.0",
         "0.0",
         "1.5",
         "1680.0",
         "2136.0",
         "1500.0",
         "17040.0",
         "3850.0",
         "0.0",
         "0.0",
         "1350.0"
        ],
        [
         "6",
         "2019-09-07 00:00:00",
         "2019",
         "9",
         "7",
         "Sat",
         "8.33",
         "3.67",
         "2.0",
         "27.0",
         "14.0",
         "3.0",
         "6.0",
         "2.0",
         "8330.0",
         "2936.0",
         "3000.0",
         "16200.0",
         "7700.0",
         "30000.0",
         "2700.0",
         "1800.0"
        ],
        [
         "7",
         "2019-09-08 00:00:00",
         "2019",
         "9",
         "8",
         "Sun",
         "7.01",
         "6.087",
         "3.0",
         "26.0",
         "7.0",
         "0.0",
         "3.0",
         "3.0",
         "7010.0",
         "4869.599999999999",
         "4500.0",
         "15600.0",
         "3850.0",
         "0.0",
         "1350.0",
         "2700.0"
        ],
        [
         "8",
         "2019-09-09 00:00:00",
         "2019",
         "9",
         "9",
         "Mon",
         "1.18",
         "2.124",
         "3.0",
         "26.0",
         "4.0",
         "3.0",
         "5.0",
         "2.0",
         "1180.0",
         "1699.2",
         "4500.0",
         "15600.0",
         "2200.0",
         "30000.0",
         "2250.0",
         "1800.0"
        ],
        [
         "9",
         "2019-09-10 00:00:00",
         "2019",
         "9",
         "10",
         "Tue",
         "8.66",
         "6.68",
         "4.2",
         "22.0",
         "17.0",
         "0.0",
         "1.0",
         "1.0",
         "8660.0",
         "5344.0",
         "6300.0",
         "13200.0",
         "9350.0",
         "0.0",
         "450.0",
         "900.0"
        ],
        [
         "10",
         "2019-09-11 00:00:00",
         "2019",
         "9",
         "11",
         "Wed",
         "2.67",
         "5.076",
         "3.0",
         "42.0",
         "5.0",
         "0.0",
         "5.0",
         "2.5",
         "2670.0",
         "4060.8",
         "4500.0",
         "25200.0",
         "2750.0",
         "0.0",
         "2250.0",
         "2250.0"
        ],
        [
         "11",
         "2019-09-12 00:00:00",
         "2019",
         "9",
         "12",
         "Thu",
         "2.33",
         "1.34",
         "2.0",
         "21.975",
         "11.2",
         "0.0",
         "10.0",
         "4.0",
         "2330.0",
         "1072.0",
         "3000.0",
         "13185.0",
         "6160.0",
         "0.0",
         "4500.0",
         "3600.0"
        ],
        [
         "12",
         "2019-09-13 00:00:00",
         "2019",
         "9",
         "13",
         "Fri",
         "6.34",
         "3.35",
         "2.0",
         "17.0",
         "12.0",
         "2.0",
         "5.0",
         "5.0",
         "6340.0",
         "2680.0",
         "3000.0",
         "10200.0",
         "6600.0",
         "20000.0",
         "2250.0",
         "4500.0"
        ]
       ],
       "shape": {
        "columns": 21,
        "rows": 12
       }
      },
      "text/html": [
       "<div>\n",
       "<style scoped>\n",
       "    .dataframe tbody tr th:only-of-type {\n",
       "        vertical-align: middle;\n",
       "    }\n",
       "\n",
       "    .dataframe tbody tr th {\n",
       "        vertical-align: top;\n",
       "    }\n",
       "\n",
       "    .dataframe thead th {\n",
       "        text-align: right;\n",
       "    }\n",
       "</style>\n",
       "<table border=\"1\" class=\"dataframe\">\n",
       "  <thead>\n",
       "    <tr style=\"text-align: right;\">\n",
       "      <th></th>\n",
       "      <th>Date</th>\n",
       "      <th>Year</th>\n",
       "      <th>Month</th>\n",
       "      <th>Day</th>\n",
       "      <th>DayName</th>\n",
       "      <th>Drug1</th>\n",
       "      <th>Drug2</th>\n",
       "      <th>Drug3</th>\n",
       "      <th>Drug4</th>\n",
       "      <th>Drug5</th>\n",
       "      <th>...</th>\n",
       "      <th>Drug7</th>\n",
       "      <th>Drug8</th>\n",
       "      <th>Drug1_Sales</th>\n",
       "      <th>Drug2_Sales</th>\n",
       "      <th>Drug3_Sales</th>\n",
       "      <th>Drug4_Sales</th>\n",
       "      <th>Drug5_Sales</th>\n",
       "      <th>Drug6_Sales</th>\n",
       "      <th>Drug7_Sales</th>\n",
       "      <th>Drug8_Sales</th>\n",
       "    </tr>\n",
       "  </thead>\n",
       "  <tbody>\n",
       "    <tr>\n",
       "      <th>1</th>\n",
       "      <td>2019-09-02</td>\n",
       "      <td>2019</td>\n",
       "      <td>9</td>\n",
       "      <td>2</td>\n",
       "      <td>Mon</td>\n",
       "      <td>5.33</td>\n",
       "      <td>2.087</td>\n",
       "      <td>2.50</td>\n",
       "      <td>18.000</td>\n",
       "      <td>7.0</td>\n",
       "      <td>...</td>\n",
       "      <td>1.0</td>\n",
       "      <td>9.0</td>\n",
       "      <td>5330.0</td>\n",
       "      <td>1669.6</td>\n",
       "      <td>3750.0</td>\n",
       "      <td>10800.0</td>\n",
       "      <td>3850.0</td>\n",
       "      <td>0.0</td>\n",
       "      <td>450.0</td>\n",
       "      <td>8100.0</td>\n",
       "    </tr>\n",
       "    <tr>\n",
       "      <th>2</th>\n",
       "      <td>2019-09-03</td>\n",
       "      <td>2019</td>\n",
       "      <td>9</td>\n",
       "      <td>3</td>\n",
       "      <td>Tue</td>\n",
       "      <td>9.36</td>\n",
       "      <td>2.350</td>\n",
       "      <td>3.10</td>\n",
       "      <td>12.125</td>\n",
       "      <td>8.0</td>\n",
       "      <td>...</td>\n",
       "      <td>1.0</td>\n",
       "      <td>2.0</td>\n",
       "      <td>9360.0</td>\n",
       "      <td>1880.0</td>\n",
       "      <td>4650.0</td>\n",
       "      <td>7275.0</td>\n",
       "      <td>4400.0</td>\n",
       "      <td>30000.0</td>\n",
       "      <td>450.0</td>\n",
       "      <td>1800.0</td>\n",
       "    </tr>\n",
       "    <tr>\n",
       "      <th>3</th>\n",
       "      <td>2019-09-04</td>\n",
       "      <td>2019</td>\n",
       "      <td>9</td>\n",
       "      <td>4</td>\n",
       "      <td>Wed</td>\n",
       "      <td>2.00</td>\n",
       "      <td>0.373</td>\n",
       "      <td>2.15</td>\n",
       "      <td>29.230</td>\n",
       "      <td>7.0</td>\n",
       "      <td>...</td>\n",
       "      <td>3.0</td>\n",
       "      <td>3.0</td>\n",
       "      <td>2000.0</td>\n",
       "      <td>298.4</td>\n",
       "      <td>3225.0</td>\n",
       "      <td>17538.0</td>\n",
       "      <td>3850.0</td>\n",
       "      <td>0.0</td>\n",
       "      <td>1350.0</td>\n",
       "      <td>2700.0</td>\n",
       "    </tr>\n",
       "    <tr>\n",
       "      <th>4</th>\n",
       "      <td>2019-09-05</td>\n",
       "      <td>2019</td>\n",
       "      <td>9</td>\n",
       "      <td>5</td>\n",
       "      <td>Thu</td>\n",
       "      <td>7.00</td>\n",
       "      <td>9.530</td>\n",
       "      <td>2.00</td>\n",
       "      <td>14.000</td>\n",
       "      <td>1.0</td>\n",
       "      <td>...</td>\n",
       "      <td>1.0</td>\n",
       "      <td>8.0</td>\n",
       "      <td>7000.0</td>\n",
       "      <td>7624.0</td>\n",
       "      <td>3000.0</td>\n",
       "      <td>8400.0</td>\n",
       "      <td>550.0</td>\n",
       "      <td>0.0</td>\n",
       "      <td>450.0</td>\n",
       "      <td>7200.0</td>\n",
       "    </tr>\n",
       "    <tr>\n",
       "      <th>5</th>\n",
       "      <td>2019-09-06</td>\n",
       "      <td>2019</td>\n",
       "      <td>9</td>\n",
       "      <td>6</td>\n",
       "      <td>Fri</td>\n",
       "      <td>1.68</td>\n",
       "      <td>2.670</td>\n",
       "      <td>1.00</td>\n",
       "      <td>28.400</td>\n",
       "      <td>7.0</td>\n",
       "      <td>...</td>\n",
       "      <td>0.0</td>\n",
       "      <td>1.5</td>\n",
       "      <td>1680.0</td>\n",
       "      <td>2136.0</td>\n",
       "      <td>1500.0</td>\n",
       "      <td>17040.0</td>\n",
       "      <td>3850.0</td>\n",
       "      <td>0.0</td>\n",
       "      <td>0.0</td>\n",
       "      <td>1350.0</td>\n",
       "    </tr>\n",
       "    <tr>\n",
       "      <th>6</th>\n",
       "      <td>2019-09-07</td>\n",
       "      <td>2019</td>\n",
       "      <td>9</td>\n",
       "      <td>7</td>\n",
       "      <td>Sat</td>\n",
       "      <td>8.33</td>\n",
       "      <td>3.670</td>\n",
       "      <td>2.00</td>\n",
       "      <td>27.000</td>\n",
       "      <td>14.0</td>\n",
       "      <td>...</td>\n",
       "      <td>6.0</td>\n",
       "      <td>2.0</td>\n",
       "      <td>8330.0</td>\n",
       "      <td>2936.0</td>\n",
       "      <td>3000.0</td>\n",
       "      <td>16200.0</td>\n",
       "      <td>7700.0</td>\n",
       "      <td>30000.0</td>\n",
       "      <td>2700.0</td>\n",
       "      <td>1800.0</td>\n",
       "    </tr>\n",
       "    <tr>\n",
       "      <th>7</th>\n",
       "      <td>2019-09-08</td>\n",
       "      <td>2019</td>\n",
       "      <td>9</td>\n",
       "      <td>8</td>\n",
       "      <td>Sun</td>\n",
       "      <td>7.01</td>\n",
       "      <td>6.087</td>\n",
       "      <td>3.00</td>\n",
       "      <td>26.000</td>\n",
       "      <td>7.0</td>\n",
       "      <td>...</td>\n",
       "      <td>3.0</td>\n",
       "      <td>3.0</td>\n",
       "      <td>7010.0</td>\n",
       "      <td>4869.6</td>\n",
       "      <td>4500.0</td>\n",
       "      <td>15600.0</td>\n",
       "      <td>3850.0</td>\n",
       "      <td>0.0</td>\n",
       "      <td>1350.0</td>\n",
       "      <td>2700.0</td>\n",
       "    </tr>\n",
       "    <tr>\n",
       "      <th>8</th>\n",
       "      <td>2019-09-09</td>\n",
       "      <td>2019</td>\n",
       "      <td>9</td>\n",
       "      <td>9</td>\n",
       "      <td>Mon</td>\n",
       "      <td>1.18</td>\n",
       "      <td>2.124</td>\n",
       "      <td>3.00</td>\n",
       "      <td>26.000</td>\n",
       "      <td>4.0</td>\n",
       "      <td>...</td>\n",
       "      <td>5.0</td>\n",
       "      <td>2.0</td>\n",
       "      <td>1180.0</td>\n",
       "      <td>1699.2</td>\n",
       "      <td>4500.0</td>\n",
       "      <td>15600.0</td>\n",
       "      <td>2200.0</td>\n",
       "      <td>30000.0</td>\n",
       "      <td>2250.0</td>\n",
       "      <td>1800.0</td>\n",
       "    </tr>\n",
       "    <tr>\n",
       "      <th>9</th>\n",
       "      <td>2019-09-10</td>\n",
       "      <td>2019</td>\n",
       "      <td>9</td>\n",
       "      <td>10</td>\n",
       "      <td>Tue</td>\n",
       "      <td>8.66</td>\n",
       "      <td>6.680</td>\n",
       "      <td>4.20</td>\n",
       "      <td>22.000</td>\n",
       "      <td>17.0</td>\n",
       "      <td>...</td>\n",
       "      <td>1.0</td>\n",
       "      <td>1.0</td>\n",
       "      <td>8660.0</td>\n",
       "      <td>5344.0</td>\n",
       "      <td>6300.0</td>\n",
       "      <td>13200.0</td>\n",
       "      <td>9350.0</td>\n",
       "      <td>0.0</td>\n",
       "      <td>450.0</td>\n",
       "      <td>900.0</td>\n",
       "    </tr>\n",
       "    <tr>\n",
       "      <th>10</th>\n",
       "      <td>2019-09-11</td>\n",
       "      <td>2019</td>\n",
       "      <td>9</td>\n",
       "      <td>11</td>\n",
       "      <td>Wed</td>\n",
       "      <td>2.67</td>\n",
       "      <td>5.076</td>\n",
       "      <td>3.00</td>\n",
       "      <td>42.000</td>\n",
       "      <td>5.0</td>\n",
       "      <td>...</td>\n",
       "      <td>5.0</td>\n",
       "      <td>2.5</td>\n",
       "      <td>2670.0</td>\n",
       "      <td>4060.8</td>\n",
       "      <td>4500.0</td>\n",
       "      <td>25200.0</td>\n",
       "      <td>2750.0</td>\n",
       "      <td>0.0</td>\n",
       "      <td>2250.0</td>\n",
       "      <td>2250.0</td>\n",
       "    </tr>\n",
       "    <tr>\n",
       "      <th>11</th>\n",
       "      <td>2019-09-12</td>\n",
       "      <td>2019</td>\n",
       "      <td>9</td>\n",
       "      <td>12</td>\n",
       "      <td>Thu</td>\n",
       "      <td>2.33</td>\n",
       "      <td>1.340</td>\n",
       "      <td>2.00</td>\n",
       "      <td>21.975</td>\n",
       "      <td>11.2</td>\n",
       "      <td>...</td>\n",
       "      <td>10.0</td>\n",
       "      <td>4.0</td>\n",
       "      <td>2330.0</td>\n",
       "      <td>1072.0</td>\n",
       "      <td>3000.0</td>\n",
       "      <td>13185.0</td>\n",
       "      <td>6160.0</td>\n",
       "      <td>0.0</td>\n",
       "      <td>4500.0</td>\n",
       "      <td>3600.0</td>\n",
       "    </tr>\n",
       "    <tr>\n",
       "      <th>12</th>\n",
       "      <td>2019-09-13</td>\n",
       "      <td>2019</td>\n",
       "      <td>9</td>\n",
       "      <td>13</td>\n",
       "      <td>Fri</td>\n",
       "      <td>6.34</td>\n",
       "      <td>3.350</td>\n",
       "      <td>2.00</td>\n",
       "      <td>17.000</td>\n",
       "      <td>12.0</td>\n",
       "      <td>...</td>\n",
       "      <td>5.0</td>\n",
       "      <td>5.0</td>\n",
       "      <td>6340.0</td>\n",
       "      <td>2680.0</td>\n",
       "      <td>3000.0</td>\n",
       "      <td>10200.0</td>\n",
       "      <td>6600.0</td>\n",
       "      <td>20000.0</td>\n",
       "      <td>2250.0</td>\n",
       "      <td>4500.0</td>\n",
       "    </tr>\n",
       "  </tbody>\n",
       "</table>\n",
       "<p>12 rows × 21 columns</p>\n",
       "</div>"
      ],
      "text/plain": [
       "         Date  Year  Month  Day DayName  Drug1  Drug2  Drug3   Drug4  Drug5  \\\n",
       "1  2019-09-02  2019      9    2     Mon   5.33  2.087   2.50  18.000    7.0   \n",
       "2  2019-09-03  2019      9    3     Tue   9.36  2.350   3.10  12.125    8.0   \n",
       "3  2019-09-04  2019      9    4     Wed   2.00  0.373   2.15  29.230    7.0   \n",
       "4  2019-09-05  2019      9    5     Thu   7.00  9.530   2.00  14.000    1.0   \n",
       "5  2019-09-06  2019      9    6     Fri   1.68  2.670   1.00  28.400    7.0   \n",
       "6  2019-09-07  2019      9    7     Sat   8.33  3.670   2.00  27.000   14.0   \n",
       "7  2019-09-08  2019      9    8     Sun   7.01  6.087   3.00  26.000    7.0   \n",
       "8  2019-09-09  2019      9    9     Mon   1.18  2.124   3.00  26.000    4.0   \n",
       "9  2019-09-10  2019      9   10     Tue   8.66  6.680   4.20  22.000   17.0   \n",
       "10 2019-09-11  2019      9   11     Wed   2.67  5.076   3.00  42.000    5.0   \n",
       "11 2019-09-12  2019      9   12     Thu   2.33  1.340   2.00  21.975   11.2   \n",
       "12 2019-09-13  2019      9   13     Fri   6.34  3.350   2.00  17.000   12.0   \n",
       "\n",
       "    ...  Drug7  Drug8  Drug1_Sales  Drug2_Sales  Drug3_Sales  Drug4_Sales  \\\n",
       "1   ...    1.0    9.0       5330.0       1669.6       3750.0      10800.0   \n",
       "2   ...    1.0    2.0       9360.0       1880.0       4650.0       7275.0   \n",
       "3   ...    3.0    3.0       2000.0        298.4       3225.0      17538.0   \n",
       "4   ...    1.0    8.0       7000.0       7624.0       3000.0       8400.0   \n",
       "5   ...    0.0    1.5       1680.0       2136.0       1500.0      17040.0   \n",
       "6   ...    6.0    2.0       8330.0       2936.0       3000.0      16200.0   \n",
       "7   ...    3.0    3.0       7010.0       4869.6       4500.0      15600.0   \n",
       "8   ...    5.0    2.0       1180.0       1699.2       4500.0      15600.0   \n",
       "9   ...    1.0    1.0       8660.0       5344.0       6300.0      13200.0   \n",
       "10  ...    5.0    2.5       2670.0       4060.8       4500.0      25200.0   \n",
       "11  ...   10.0    4.0       2330.0       1072.0       3000.0      13185.0   \n",
       "12  ...    5.0    5.0       6340.0       2680.0       3000.0      10200.0   \n",
       "\n",
       "    Drug5_Sales  Drug6_Sales  Drug7_Sales  Drug8_Sales  \n",
       "1        3850.0          0.0        450.0       8100.0  \n",
       "2        4400.0      30000.0        450.0       1800.0  \n",
       "3        3850.0          0.0       1350.0       2700.0  \n",
       "4         550.0          0.0        450.0       7200.0  \n",
       "5        3850.0          0.0          0.0       1350.0  \n",
       "6        7700.0      30000.0       2700.0       1800.0  \n",
       "7        3850.0          0.0       1350.0       2700.0  \n",
       "8        2200.0      30000.0       2250.0       1800.0  \n",
       "9        9350.0          0.0        450.0        900.0  \n",
       "10       2750.0          0.0       2250.0       2250.0  \n",
       "11       6160.0          0.0       4500.0       3600.0  \n",
       "12       6600.0      20000.0       2250.0       4500.0  \n",
       "\n",
       "[12 rows x 21 columns]"
      ]
     },
     "execution_count": 29,
     "metadata": {},
     "output_type": "execute_result"
    }
   ],
   "source": [
    "my_filter = (df['Date']>'2019-09-01')&(df['Date']<'2019-09-14')\n",
    "\n",
    "df_filtered = df[my_filter]\n",
    "df_filtered"
   ]
  },
  {
   "cell_type": "markdown",
   "id": "eeca7a81",
   "metadata": {},
   "source": [
    "## Data Aggregation\n",
    "- If you already have date parts extracted, you can use functions like `groupby()` or `pivot_table()`\n",
    "- Otherwise, you can use `resample()` to bundle dates by month, week, etc..."
   ]
  },
  {
   "cell_type": "markdown",
   "id": "22e485c8",
   "metadata": {},
   "source": [
    "Example: Get total sales for drug1 by day"
   ]
  },
  {
   "cell_type": "code",
   "execution_count": 30,
   "id": "5d3aafc9",
   "metadata": {},
   "outputs": [
    {
     "data": {
      "application/vnd.microsoft.datawrangler.viewer.v0+json": {
       "columns": [
        {
         "name": "DayName",
         "rawType": "object",
         "type": "string"
        },
        {
         "name": "Drug1",
         "rawType": "float64",
         "type": "float"
        }
       ],
       "ref": "87d7f4b2-cf87-4d46-8e6e-22eca3da22e0",
       "rows": [
        [
         "Fri",
         "18.02"
        ],
        [
         "Mon",
         "23.18"
        ],
        [
         "Sat",
         "35.0"
        ],
        [
         "Sun",
         "21.189999999999998"
        ],
        [
         "Thu",
         "22.16"
        ],
        [
         "Tue",
         "24.52"
        ],
        [
         "Wed",
         "17.0"
        ]
       ],
       "shape": {
        "columns": 1,
        "rows": 7
       }
      },
      "text/html": [
       "<div>\n",
       "<style scoped>\n",
       "    .dataframe tbody tr th:only-of-type {\n",
       "        vertical-align: middle;\n",
       "    }\n",
       "\n",
       "    .dataframe tbody tr th {\n",
       "        vertical-align: top;\n",
       "    }\n",
       "\n",
       "    .dataframe thead th {\n",
       "        text-align: right;\n",
       "    }\n",
       "</style>\n",
       "<table border=\"1\" class=\"dataframe\">\n",
       "  <thead>\n",
       "    <tr style=\"text-align: right;\">\n",
       "      <th></th>\n",
       "      <th>Drug1</th>\n",
       "    </tr>\n",
       "    <tr>\n",
       "      <th>DayName</th>\n",
       "      <th></th>\n",
       "    </tr>\n",
       "  </thead>\n",
       "  <tbody>\n",
       "    <tr>\n",
       "      <th>Fri</th>\n",
       "      <td>18.02</td>\n",
       "    </tr>\n",
       "    <tr>\n",
       "      <th>Mon</th>\n",
       "      <td>23.18</td>\n",
       "    </tr>\n",
       "    <tr>\n",
       "      <th>Sat</th>\n",
       "      <td>35.00</td>\n",
       "    </tr>\n",
       "    <tr>\n",
       "      <th>Sun</th>\n",
       "      <td>21.19</td>\n",
       "    </tr>\n",
       "    <tr>\n",
       "      <th>Thu</th>\n",
       "      <td>22.16</td>\n",
       "    </tr>\n",
       "    <tr>\n",
       "      <th>Tue</th>\n",
       "      <td>24.52</td>\n",
       "    </tr>\n",
       "    <tr>\n",
       "      <th>Wed</th>\n",
       "      <td>17.00</td>\n",
       "    </tr>\n",
       "  </tbody>\n",
       "</table>\n",
       "</div>"
      ],
      "text/plain": [
       "         Drug1\n",
       "DayName       \n",
       "Fri      18.02\n",
       "Mon      23.18\n",
       "Sat      35.00\n",
       "Sun      21.19\n",
       "Thu      22.16\n",
       "Tue      24.52\n",
       "Wed      17.00"
      ]
     },
     "execution_count": 30,
     "metadata": {},
     "output_type": "execute_result"
    }
   ],
   "source": [
    "df.groupby('DayName')[['Drug1']].sum()"
   ]
  },
  {
   "cell_type": "code",
   "execution_count": 36,
   "id": "82f8198b",
   "metadata": {},
   "outputs": [
    {
     "data": {
      "text/plain": [
       "<Axes: ylabel='DayName'>"
      ]
     },
     "execution_count": 36,
     "metadata": {},
     "output_type": "execute_result"
    },
    {
     "data": {
      "image/png": "[encoded data removed]",
      "text/plain": [
       "<Figure size 640x480 with 1 Axes>"
      ]
     },
     "metadata": {},
     "output_type": "display_data"
    }
   ],
   "source": [
    "df.groupby('DayName')[['Drug1']].sum().sort_values(by='Drug1', ascending=True).plot(kind='barh')"
   ]
  },
  {
   "cell_type": "markdown",
   "id": "526bbbca",
   "metadata": {},
   "source": [
    "To use `resample()` we need to convert the date into an index"
   ]
  },
  {
   "cell_type": "code",
   "execution_count": 37,
   "id": "304afa6e",
   "metadata": {},
   "outputs": [
    {
     "data": {
      "application/vnd.microsoft.datawrangler.viewer.v0+json": {
       "columns": [
        {
         "name": "Date",
         "rawType": "datetime64[ns]",
         "type": "datetime"
        },
        {
         "name": "Year",
         "rawType": "int32",
         "type": "integer"
        },
        {
         "name": "Month",
         "rawType": "int32",
         "type": "integer"
        },
        {
         "name": "Day",
         "rawType": "int32",
         "type": "integer"
        },
        {
         "name": "DayName",
         "rawType": "object",
         "type": "string"
        },
        {
         "name": "Drug1",
         "rawType": "float64",
         "type": "float"
        },
        {
         "name": "Drug2",
         "rawType": "float64",
         "type": "float"
        },
        {
         "name": "Drug3",
         "rawType": "float64",
         "type": "float"
        },
        {
         "name": "Drug4",
         "rawType": "float64",
         "type": "float"
        },
        {
         "name": "Drug5",
         "rawType": "float64",
         "type": "float"
        },
        {
         "name": "Drug6",
         "rawType": "float64",
         "type": "float"
        },
        {
         "name": "Drug7",
         "rawType": "float64",
         "type": "float"
        },
        {
         "name": "Drug8",
         "rawType": "float64",
         "type": "float"
        },
        {
         "name": "Drug1_Sales",
         "rawType": "float64",
         "type": "float"
        },
        {
         "name": "Drug2_Sales",
         "rawType": "float64",
         "type": "float"
        },
        {
         "name": "Drug3_Sales",
         "rawType": "float64",
         "type": "float"
        },
        {
         "name": "Drug4_Sales",
         "rawType": "float64",
         "type": "float"
        },
        {
         "name": "Drug5_Sales",
         "rawType": "float64",
         "type": "float"
        },
        {
         "name": "Drug6_Sales",
         "rawType": "float64",
         "type": "float"
        },
        {
         "name": "Drug7_Sales",
         "rawType": "float64",
         "type": "float"
        },
        {
         "name": "Drug8_Sales",
         "rawType": "float64",
         "type": "float"
        }
       ],
       "ref": "df1c5da0-b9b9-446e-ae63-c68d4dde6b6e",
       "rows": [
        [
         "2019-09-01 00:00:00",
         "2019",
         "9",
         "1",
         "Sun",
         "2.0",
         "4.36",
         "5.0",
         "17.0",
         "8.2",
         "1.0",
         "5.0",
         "4.0",
         "2000.0",
         "3488.0000000000005",
         "7500.0",
         "10200.0",
         "4510.0",
         "10000.0",
         "2250.0",
         "3600.0"
        ],
        [
         "2019-09-02 00:00:00",
         "2019",
         "9",
         "2",
         "Mon",
         "5.33",
         "2.087",
         "2.5",
         "18.0",
         "7.0",
         "0.0",
         "1.0",
         "9.0",
         "5330.0",
         "1669.6",
         "3750.0",
         "10800.0",
         "3850.0",
         "0.0",
         "450.0",
         "8100.0"
        ],
        [
         "2019-09-03 00:00:00",
         "2019",
         "9",
         "3",
         "Tue",
         "9.36",
         "2.35",
         "3.1",
         "12.125",
         "8.0",
         "3.0",
         "1.0",
         "2.0",
         "9360.0",
         "1880.0",
         "4650.0",
         "7275.0",
         "4400.0",
         "30000.0",
         "450.0",
         "1800.0"
        ],
        [
         "2019-09-04 00:00:00",
         "2019",
         "9",
         "4",
         "Wed",
         "2.0",
         "0.373",
         "2.15",
         "29.23",
         "7.0",
         "0.0",
         "3.0",
         "3.0",
         "2000.0",
         "298.4",
         "3225.0",
         "17538.0",
         "3850.0",
         "0.0",
         "1350.0",
         "2700.0"
        ],
        [
         "2019-09-05 00:00:00",
         "2019",
         "9",
         "5",
         "Thu",
         "7.0",
         "9.53",
         "2.0",
         "14.0",
         "1.0",
         "0.0",
         "1.0",
         "8.0",
         "7000.0",
         "7623.999999999999",
         "3000.0",
         "8400.0",
         "550.0",
         "0.0",
         "450.0",
         "7200.0"
        ]
       ],
       "shape": {
        "columns": 20,
        "rows": 5
       }
      },
      "text/html": [
       "<div>\n",
       "<style scoped>\n",
       "    .dataframe tbody tr th:only-of-type {\n",
       "        vertical-align: middle;\n",
       "    }\n",
       "\n",
       "    .dataframe tbody tr th {\n",
       "        vertical-align: top;\n",
       "    }\n",
       "\n",
       "    .dataframe thead th {\n",
       "        text-align: right;\n",
       "    }\n",
       "</style>\n",
       "<table border=\"1\" class=\"dataframe\">\n",
       "  <thead>\n",
       "    <tr style=\"text-align: right;\">\n",
       "      <th></th>\n",
       "      <th>Year</th>\n",
       "      <th>Month</th>\n",
       "      <th>Day</th>\n",
       "      <th>DayName</th>\n",
       "      <th>Drug1</th>\n",
       "      <th>Drug2</th>\n",
       "      <th>Drug3</th>\n",
       "      <th>Drug4</th>\n",
       "      <th>Drug5</th>\n",
       "      <th>Drug6</th>\n",
       "      <th>Drug7</th>\n",
       "      <th>Drug8</th>\n",
       "      <th>Drug1_Sales</th>\n",
       "      <th>Drug2_Sales</th>\n",
       "      <th>Drug3_Sales</th>\n",
       "      <th>Drug4_Sales</th>\n",
       "      <th>Drug5_Sales</th>\n",
       "      <th>Drug6_Sales</th>\n",
       "      <th>Drug7_Sales</th>\n",
       "      <th>Drug8_Sales</th>\n",
       "    </tr>\n",
       "    <tr>\n",
       "      <th>Date</th>\n",
       "      <th></th>\n",
       "      <th></th>\n",
       "      <th></th>\n",
       "      <th></th>\n",
       "      <th></th>\n",
       "      <th></th>\n",
       "      <th></th>\n",
       "      <th></th>\n",
       "      <th></th>\n",
       "      <th></th>\n",
       "      <th></th>\n",
       "      <th></th>\n",
       "      <th></th>\n",
       "      <th></th>\n",
       "      <th></th>\n",
       "      <th></th>\n",
       "      <th></th>\n",
       "      <th></th>\n",
       "      <th></th>\n",
       "      <th></th>\n",
       "    </tr>\n",
       "  </thead>\n",
       "  <tbody>\n",
       "    <tr>\n",
       "      <th>2019-09-01</th>\n",
       "      <td>2019</td>\n",
       "      <td>9</td>\n",
       "      <td>1</td>\n",
       "      <td>Sun</td>\n",
       "      <td>2.00</td>\n",
       "      <td>4.360</td>\n",
       "      <td>5.00</td>\n",
       "      <td>17.000</td>\n",
       "      <td>8.2</td>\n",
       "      <td>1.0</td>\n",
       "      <td>5.0</td>\n",
       "      <td>4.0</td>\n",
       "      <td>2000.0</td>\n",
       "      <td>3488.0</td>\n",
       "      <td>7500.0</td>\n",
       "      <td>10200.0</td>\n",
       "      <td>4510.0</td>\n",
       "      <td>10000.0</td>\n",
       "      <td>2250.0</td>\n",
       "      <td>3600.0</td>\n",
       "    </tr>\n",
       "    <tr>\n",
       "      <th>2019-09-02</th>\n",
       "      <td>2019</td>\n",
       "      <td>9</td>\n",
       "      <td>2</td>\n",
       "      <td>Mon</td>\n",
       "      <td>5.33</td>\n",
       "      <td>2.087</td>\n",
       "      <td>2.50</td>\n",
       "      <td>18.000</td>\n",
       "      <td>7.0</td>\n",
       "      <td>0.0</td>\n",
       "      <td>1.0</td>\n",
       "      <td>9.0</td>\n",
       "      <td>5330.0</td>\n",
       "      <td>1669.6</td>\n",
       "      <td>3750.0</td>\n",
       "      <td>10800.0</td>\n",
       "      <td>3850.0</td>\n",
       "      <td>0.0</td>\n",
       "      <td>450.0</td>\n",
       "      <td>8100.0</td>\n",
       "    </tr>\n",
       "    <tr>\n",
       "      <th>2019-09-03</th>\n",
       "      <td>2019</td>\n",
       "      <td>9</td>\n",
       "      <td>3</td>\n",
       "      <td>Tue</td>\n",
       "      <td>9.36</td>\n",
       "      <td>2.350</td>\n",
       "      <td>3.10</td>\n",
       "      <td>12.125</td>\n",
       "      <td>8.0</td>\n",
       "      <td>3.0</td>\n",
       "      <td>1.0</td>\n",
       "      <td>2.0</td>\n",
       "      <td>9360.0</td>\n",
       "      <td>1880.0</td>\n",
       "      <td>4650.0</td>\n",
       "      <td>7275.0</td>\n",
       "      <td>4400.0</td>\n",
       "      <td>30000.0</td>\n",
       "      <td>450.0</td>\n",
       "      <td>1800.0</td>\n",
       "    </tr>\n",
       "    <tr>\n",
       "      <th>2019-09-04</th>\n",
       "      <td>2019</td>\n",
       "      <td>9</td>\n",
       "      <td>4</td>\n",
       "      <td>Wed</td>\n",
       "      <td>2.00</td>\n",
       "      <td>0.373</td>\n",
       "      <td>2.15</td>\n",
       "      <td>29.230</td>\n",
       "      <td>7.0</td>\n",
       "      <td>0.0</td>\n",
       "      <td>3.0</td>\n",
       "      <td>3.0</td>\n",
       "      <td>2000.0</td>\n",
       "      <td>298.4</td>\n",
       "      <td>3225.0</td>\n",
       "      <td>17538.0</td>\n",
       "      <td>3850.0</td>\n",
       "      <td>0.0</td>\n",
       "      <td>1350.0</td>\n",
       "      <td>2700.0</td>\n",
       "    </tr>\n",
       "    <tr>\n",
       "      <th>2019-09-05</th>\n",
       "      <td>2019</td>\n",
       "      <td>9</td>\n",
       "      <td>5</td>\n",
       "      <td>Thu</td>\n",
       "      <td>7.00</td>\n",
       "      <td>9.530</td>\n",
       "      <td>2.00</td>\n",
       "      <td>14.000</td>\n",
       "      <td>1.0</td>\n",
       "      <td>0.0</td>\n",
       "      <td>1.0</td>\n",
       "      <td>8.0</td>\n",
       "      <td>7000.0</td>\n",
       "      <td>7624.0</td>\n",
       "      <td>3000.0</td>\n",
       "      <td>8400.0</td>\n",
       "      <td>550.0</td>\n",
       "      <td>0.0</td>\n",
       "      <td>450.0</td>\n",
       "      <td>7200.0</td>\n",
       "    </tr>\n",
       "  </tbody>\n",
       "</table>\n",
       "</div>"
      ],
      "text/plain": [
       "            Year  Month  Day DayName  Drug1  Drug2  Drug3   Drug4  Drug5  \\\n",
       "Date                                                                       \n",
       "2019-09-01  2019      9    1     Sun   2.00  4.360   5.00  17.000    8.2   \n",
       "2019-09-02  2019      9    2     Mon   5.33  2.087   2.50  18.000    7.0   \n",
       "2019-09-03  2019      9    3     Tue   9.36  2.350   3.10  12.125    8.0   \n",
       "2019-09-04  2019      9    4     Wed   2.00  0.373   2.15  29.230    7.0   \n",
       "2019-09-05  2019      9    5     Thu   7.00  9.530   2.00  14.000    1.0   \n",
       "\n",
       "            Drug6  Drug7  Drug8  Drug1_Sales  Drug2_Sales  Drug3_Sales  \\\n",
       "Date                                                                     \n",
       "2019-09-01    1.0    5.0    4.0       2000.0       3488.0       7500.0   \n",
       "2019-09-02    0.0    1.0    9.0       5330.0       1669.6       3750.0   \n",
       "2019-09-03    3.0    1.0    2.0       9360.0       1880.0       4650.0   \n",
       "2019-09-04    0.0    3.0    3.0       2000.0        298.4       3225.0   \n",
       "2019-09-05    0.0    1.0    8.0       7000.0       7624.0       3000.0   \n",
       "\n",
       "            Drug4_Sales  Drug5_Sales  Drug6_Sales  Drug7_Sales  Drug8_Sales  \n",
       "Date                                                                         \n",
       "2019-09-01      10200.0       4510.0      10000.0       2250.0       3600.0  \n",
       "2019-09-02      10800.0       3850.0          0.0        450.0       8100.0  \n",
       "2019-09-03       7275.0       4400.0      30000.0        450.0       1800.0  \n",
       "2019-09-04      17538.0       3850.0          0.0       1350.0       2700.0  \n",
       "2019-09-05       8400.0        550.0          0.0        450.0       7200.0  "
      ]
     },
     "execution_count": 37,
     "metadata": {},
     "output_type": "execute_result"
    }
   ],
   "source": [
    "df.set_index('Date', drop=True, inplace=True) #drop true removes the original Date column\n",
    "df.head()"
   ]
  },
  {
   "cell_type": "code",
   "execution_count": 38,
   "id": "38dfaec7",
   "metadata": {},
   "outputs": [
    {
     "data": {
      "application/vnd.microsoft.datawrangler.viewer.v0+json": {
       "columns": [
        {
         "name": "Date",
         "rawType": "datetime64[ns]",
         "type": "datetime"
        },
        {
         "name": "Drug1",
         "rawType": "float64",
         "type": "float"
        },
        {
         "name": "Drug2",
         "rawType": "float64",
         "type": "float"
        },
        {
         "name": "Drug3",
         "rawType": "float64",
         "type": "float"
        },
        {
         "name": "Drug4",
         "rawType": "float64",
         "type": "float"
        },
        {
         "name": "Drug5",
         "rawType": "float64",
         "type": "float"
        },
        {
         "name": "Drug6",
         "rawType": "float64",
         "type": "float"
        },
        {
         "name": "Drug7",
         "rawType": "float64",
         "type": "float"
        },
        {
         "name": "Drug8",
         "rawType": "float64",
         "type": "float"
        },
        {
         "name": "Drug1_Sales",
         "rawType": "float64",
         "type": "float"
        },
        {
         "name": "Drug2_Sales",
         "rawType": "float64",
         "type": "float"
        },
        {
         "name": "Drug3_Sales",
         "rawType": "float64",
         "type": "float"
        },
        {
         "name": "Drug4_Sales",
         "rawType": "float64",
         "type": "float"
        },
        {
         "name": "Drug5_Sales",
         "rawType": "float64",
         "type": "float"
        },
        {
         "name": "Drug6_Sales",
         "rawType": "float64",
         "type": "float"
        },
        {
         "name": "Drug7_Sales",
         "rawType": "float64",
         "type": "float"
        },
        {
         "name": "Drug8_Sales",
         "rawType": "float64",
         "type": "float"
        }
       ],
       "ref": "768ed295-0b51-4567-9ade-467f136001de",
       "rows": [
        [
         "2019-09-01 00:00:00",
         "2.0",
         "4.36",
         "5.0",
         "17.0",
         "8.2",
         "1.0",
         "5.0",
         "4.0",
         "2000.0",
         "3488.0000000000005",
         "7500.0",
         "10200.0",
         "4510.0",
         "10000.0",
         "2250.0",
         "3600.0"
        ],
        [
         "2019-09-08 00:00:00",
         "40.71",
         "26.767",
         "15.75",
         "154.755",
         "51.0",
         "6.0",
         "15.0",
         "28.5",
         "40710.0",
         "21413.6",
         "23625.0",
         "92853.0",
         "28050.0",
         "60000.0",
         "6750.0",
         "25650.0"
        ],
        [
         "2019-09-15 00:00:00",
         "35.51",
         "30.977",
         "19.65",
         "178.375",
         "67.2",
         "5.0",
         "30.0",
         "30.5",
         "35510.0",
         "24781.6",
         "29475.0",
         "107025.0",
         "36960.0",
         "50000.0",
         "13500.0",
         "27450.0"
        ],
        [
         "2019-09-22 00:00:00",
         "46.84",
         "25.396",
         "24.4",
         "248.25",
         "31.2",
         "3.0",
         "26.0",
         "21.0",
         "46840.0",
         "20316.8",
         "36600.0",
         "148950.0",
         "17160.0",
         "30000.0",
         "11700.0",
         "18900.0"
        ],
        [
         "2019-09-29 00:00:00",
         "34.01",
         "22.498",
         "26.6",
         "336.7",
         "61.2",
         "1.0",
         "40.416666667",
         "23.1",
         "34010.0",
         "17998.4",
         "39900.0",
         "202020.0",
         "33660.0",
         "10000.0",
         "18187.50000015",
         "20790.0"
        ]
       ],
       "shape": {
        "columns": 16,
        "rows": 5
       }
      },
      "text/html": [
       "<div>\n",
       "<style scoped>\n",
       "    .dataframe tbody tr th:only-of-type {\n",
       "        vertical-align: middle;\n",
       "    }\n",
       "\n",
       "    .dataframe tbody tr th {\n",
       "        vertical-align: top;\n",
       "    }\n",
       "\n",
       "    .dataframe thead th {\n",
       "        text-align: right;\n",
       "    }\n",
       "</style>\n",
       "<table border=\"1\" class=\"dataframe\">\n",
       "  <thead>\n",
       "    <tr style=\"text-align: right;\">\n",
       "      <th></th>\n",
       "      <th>Drug1</th>\n",
       "      <th>Drug2</th>\n",
       "      <th>Drug3</th>\n",
       "      <th>Drug4</th>\n",
       "      <th>Drug5</th>\n",
       "      <th>Drug6</th>\n",
       "      <th>Drug7</th>\n",
       "      <th>Drug8</th>\n",
       "      <th>Drug1_Sales</th>\n",
       "      <th>Drug2_Sales</th>\n",
       "      <th>Drug3_Sales</th>\n",
       "      <th>Drug4_Sales</th>\n",
       "      <th>Drug5_Sales</th>\n",
       "      <th>Drug6_Sales</th>\n",
       "      <th>Drug7_Sales</th>\n",
       "      <th>Drug8_Sales</th>\n",
       "    </tr>\n",
       "    <tr>\n",
       "      <th>Date</th>\n",
       "      <th></th>\n",
       "      <th></th>\n",
       "      <th></th>\n",
       "      <th></th>\n",
       "      <th></th>\n",
       "      <th></th>\n",
       "      <th></th>\n",
       "      <th></th>\n",
       "      <th></th>\n",
       "      <th></th>\n",
       "      <th></th>\n",
       "      <th></th>\n",
       "      <th></th>\n",
       "      <th></th>\n",
       "      <th></th>\n",
       "      <th></th>\n",
       "    </tr>\n",
       "  </thead>\n",
       "  <tbody>\n",
       "    <tr>\n",
       "      <th>2019-09-01</th>\n",
       "      <td>2.00</td>\n",
       "      <td>4.360</td>\n",
       "      <td>5.00</td>\n",
       "      <td>17.000</td>\n",
       "      <td>8.2</td>\n",
       "      <td>1.0</td>\n",
       "      <td>5.000000</td>\n",
       "      <td>4.0</td>\n",
       "      <td>2000.0</td>\n",
       "      <td>3488.0</td>\n",
       "      <td>7500.0</td>\n",
       "      <td>10200.0</td>\n",
       "      <td>4510.0</td>\n",
       "      <td>10000.0</td>\n",
       "      <td>2250.0</td>\n",
       "      <td>3600.0</td>\n",
       "    </tr>\n",
       "    <tr>\n",
       "      <th>2019-09-08</th>\n",
       "      <td>40.71</td>\n",
       "      <td>26.767</td>\n",
       "      <td>15.75</td>\n",
       "      <td>154.755</td>\n",
       "      <td>51.0</td>\n",
       "      <td>6.0</td>\n",
       "      <td>15.000000</td>\n",
       "      <td>28.5</td>\n",
       "      <td>40710.0</td>\n",
       "      <td>21413.6</td>\n",
       "      <td>23625.0</td>\n",
       "      <td>92853.0</td>\n",
       "      <td>28050.0</td>\n",
       "      <td>60000.0</td>\n",
       "      <td>6750.0</td>\n",
       "      <td>25650.0</td>\n",
       "    </tr>\n",
       "    <tr>\n",
       "      <th>2019-09-15</th>\n",
       "      <td>35.51</td>\n",
       "      <td>30.977</td>\n",
       "      <td>19.65</td>\n",
       "      <td>178.375</td>\n",
       "      <td>67.2</td>\n",
       "      <td>5.0</td>\n",
       "      <td>30.000000</td>\n",
       "      <td>30.5</td>\n",
       "      <td>35510.0</td>\n",
       "      <td>24781.6</td>\n",
       "      <td>29475.0</td>\n",
       "      <td>107025.0</td>\n",
       "      <td>36960.0</td>\n",
       "      <td>50000.0</td>\n",
       "      <td>13500.0</td>\n",
       "      <td>27450.0</td>\n",
       "    </tr>\n",
       "    <tr>\n",
       "      <th>2019-09-22</th>\n",
       "      <td>46.84</td>\n",
       "      <td>25.396</td>\n",
       "      <td>24.40</td>\n",
       "      <td>248.250</td>\n",
       "      <td>31.2</td>\n",
       "      <td>3.0</td>\n",
       "      <td>26.000000</td>\n",
       "      <td>21.0</td>\n",
       "      <td>46840.0</td>\n",
       "      <td>20316.8</td>\n",
       "      <td>36600.0</td>\n",
       "      <td>148950.0</td>\n",
       "      <td>17160.0</td>\n",
       "      <td>30000.0</td>\n",
       "      <td>11700.0</td>\n",
       "      <td>18900.0</td>\n",
       "    </tr>\n",
       "    <tr>\n",
       "      <th>2019-09-29</th>\n",
       "      <td>34.01</td>\n",
       "      <td>22.498</td>\n",
       "      <td>26.60</td>\n",
       "      <td>336.700</td>\n",
       "      <td>61.2</td>\n",
       "      <td>1.0</td>\n",
       "      <td>40.416667</td>\n",
       "      <td>23.1</td>\n",
       "      <td>34010.0</td>\n",
       "      <td>17998.4</td>\n",
       "      <td>39900.0</td>\n",
       "      <td>202020.0</td>\n",
       "      <td>33660.0</td>\n",
       "      <td>10000.0</td>\n",
       "      <td>18187.5</td>\n",
       "      <td>20790.0</td>\n",
       "    </tr>\n",
       "  </tbody>\n",
       "</table>\n",
       "</div>"
      ],
      "text/plain": [
       "            Drug1   Drug2  Drug3    Drug4  Drug5  Drug6      Drug7  Drug8  \\\n",
       "Date                                                                        \n",
       "2019-09-01   2.00   4.360   5.00   17.000    8.2    1.0   5.000000    4.0   \n",
       "2019-09-08  40.71  26.767  15.75  154.755   51.0    6.0  15.000000   28.5   \n",
       "2019-09-15  35.51  30.977  19.65  178.375   67.2    5.0  30.000000   30.5   \n",
       "2019-09-22  46.84  25.396  24.40  248.250   31.2    3.0  26.000000   21.0   \n",
       "2019-09-29  34.01  22.498  26.60  336.700   61.2    1.0  40.416667   23.1   \n",
       "\n",
       "            Drug1_Sales  Drug2_Sales  Drug3_Sales  Drug4_Sales  Drug5_Sales  \\\n",
       "Date                                                                          \n",
       "2019-09-01       2000.0       3488.0       7500.0      10200.0       4510.0   \n",
       "2019-09-08      40710.0      21413.6      23625.0      92853.0      28050.0   \n",
       "2019-09-15      35510.0      24781.6      29475.0     107025.0      36960.0   \n",
       "2019-09-22      46840.0      20316.8      36600.0     148950.0      17160.0   \n",
       "2019-09-29      34010.0      17998.4      39900.0     202020.0      33660.0   \n",
       "\n",
       "            Drug6_Sales  Drug7_Sales  Drug8_Sales  \n",
       "Date                                               \n",
       "2019-09-01      10000.0       2250.0       3600.0  \n",
       "2019-09-08      60000.0       6750.0      25650.0  \n",
       "2019-09-15      50000.0      13500.0      27450.0  \n",
       "2019-09-22      30000.0      11700.0      18900.0  \n",
       "2019-09-29      10000.0      18187.5      20790.0  "
      ]
     },
     "execution_count": 38,
     "metadata": {},
     "output_type": "execute_result"
    }
   ],
   "source": [
    "weekly_sum = df.drop(columns=['Year','Day','Month','DayName']).resample('W').sum()\n",
    "weekly_sum.head()"
   ]
  },
  {
   "cell_type": "code",
   "execution_count": 40,
   "id": "dfb439cf",
   "metadata": {},
   "outputs": [
    {
     "data": {
      "text/plain": [
       "<Axes: xlabel='Date'>"
      ]
     },
     "execution_count": 40,
     "metadata": {},
     "output_type": "execute_result"
    },
    {
     "data": {
      "image/png": "[encoded data removed]",
      "text/plain": [
       "<Figure size 640x480 with 1 Axes>"
      ]
     },
     "metadata": {},
     "output_type": "display_data"
    }
   ],
   "source": [
    "weekly_sum[['Drug1','Drug2']].plot(kind='bar', rot=45)"
   ]
  },
  {
   "cell_type": "markdown",
   "id": "2fda474f",
   "metadata": {},
   "source": [
    "- Drug 1 sales are higher, except for the first week of Sep\n",
    "- Drug 1 and Drug 2 sales start increasing during the middle of the month"
   ]
  },
  {
   "cell_type": "code",
   "execution_count": 41,
   "id": "71858945",
   "metadata": {},
   "outputs": [
    {
     "data": {
      "application/vnd.microsoft.datawrangler.viewer.v0+json": {
       "columns": [
        {
         "name": "Date",
         "rawType": "datetime64[ns]",
         "type": "datetime"
        },
        {
         "name": "Year",
         "rawType": "int32",
         "type": "integer"
        },
        {
         "name": "Month",
         "rawType": "int32",
         "type": "integer"
        },
        {
         "name": "Day",
         "rawType": "int32",
         "type": "integer"
        },
        {
         "name": "DayName",
         "rawType": "object",
         "type": "string"
        },
        {
         "name": "Drug1",
         "rawType": "float64",
         "type": "float"
        },
        {
         "name": "Drug2",
         "rawType": "float64",
         "type": "float"
        },
        {
         "name": "Drug3",
         "rawType": "float64",
         "type": "float"
        },
        {
         "name": "Drug4",
         "rawType": "float64",
         "type": "float"
        },
        {
         "name": "Drug5",
         "rawType": "float64",
         "type": "float"
        },
        {
         "name": "Drug6",
         "rawType": "float64",
         "type": "float"
        },
        {
         "name": "Drug7",
         "rawType": "float64",
         "type": "float"
        },
        {
         "name": "Drug8",
         "rawType": "float64",
         "type": "float"
        },
        {
         "name": "Drug1_Sales",
         "rawType": "float64",
         "type": "float"
        },
        {
         "name": "Drug2_Sales",
         "rawType": "float64",
         "type": "float"
        },
        {
         "name": "Drug3_Sales",
         "rawType": "float64",
         "type": "float"
        },
        {
         "name": "Drug4_Sales",
         "rawType": "float64",
         "type": "float"
        },
        {
         "name": "Drug5_Sales",
         "rawType": "float64",
         "type": "float"
        },
        {
         "name": "Drug6_Sales",
         "rawType": "float64",
         "type": "float"
        },
        {
         "name": "Drug7_Sales",
         "rawType": "float64",
         "type": "float"
        },
        {
         "name": "Drug8_Sales",
         "rawType": "float64",
         "type": "float"
        },
        {
         "name": "FirstWeekofMonth",
         "rawType": "bool",
         "type": "boolean"
        }
       ],
       "ref": "554d3bb7-2f93-4067-a1dc-63713685b4e6",
       "rows": [
        [
         "2019-09-01 00:00:00",
         "2019",
         "9",
         "1",
         "Sun",
         "2.0",
         "4.36",
         "5.0",
         "17.0",
         "8.2",
         "1.0",
         "5.0",
         "4.0",
         "2000.0",
         "3488.0000000000005",
         "7500.0",
         "10200.0",
         "4510.0",
         "10000.0",
         "2250.0",
         "3600.0",
         "True"
        ],
        [
         "2019-09-02 00:00:00",
         "2019",
         "9",
         "2",
         "Mon",
         "5.33",
         "2.087",
         "2.5",
         "18.0",
         "7.0",
         "0.0",
         "1.0",
         "9.0",
         "5330.0",
         "1669.6",
         "3750.0",
         "10800.0",
         "3850.0",
         "0.0",
         "450.0",
         "8100.0",
         "True"
        ],
        [
         "2019-09-03 00:00:00",
         "2019",
         "9",
         "3",
         "Tue",
         "9.36",
         "2.35",
         "3.1",
         "12.125",
         "8.0",
         "3.0",
         "1.0",
         "2.0",
         "9360.0",
         "1880.0",
         "4650.0",
         "7275.0",
         "4400.0",
         "30000.0",
         "450.0",
         "1800.0",
         "True"
        ],
        [
         "2019-09-04 00:00:00",
         "2019",
         "9",
         "4",
         "Wed",
         "2.0",
         "0.373",
         "2.15",
         "29.23",
         "7.0",
         "0.0",
         "3.0",
         "3.0",
         "2000.0",
         "298.4",
         "3225.0",
         "17538.0",
         "3850.0",
         "0.0",
         "1350.0",
         "2700.0",
         "True"
        ],
        [
         "2019-09-05 00:00:00",
         "2019",
         "9",
         "5",
         "Thu",
         "7.0",
         "9.53",
         "2.0",
         "14.0",
         "1.0",
         "0.0",
         "1.0",
         "8.0",
         "7000.0",
         "7623.999999999999",
         "3000.0",
         "8400.0",
         "550.0",
         "0.0",
         "450.0",
         "7200.0",
         "True"
        ]
       ],
       "shape": {
        "columns": 21,
        "rows": 5
       }
      },
      "text/html": [
       "<div>\n",
       "<style scoped>\n",
       "    .dataframe tbody tr th:only-of-type {\n",
       "        vertical-align: middle;\n",
       "    }\n",
       "\n",
       "    .dataframe tbody tr th {\n",
       "        vertical-align: top;\n",
       "    }\n",
       "\n",
       "    .dataframe thead th {\n",
       "        text-align: right;\n",
       "    }\n",
       "</style>\n",
       "<table border=\"1\" class=\"dataframe\">\n",
       "  <thead>\n",
       "    <tr style=\"text-align: right;\">\n",
       "      <th></th>\n",
       "      <th>Year</th>\n",
       "      <th>Month</th>\n",
       "      <th>Day</th>\n",
       "      <th>DayName</th>\n",
       "      <th>Drug1</th>\n",
       "      <th>Drug2</th>\n",
       "      <th>Drug3</th>\n",
       "      <th>Drug4</th>\n",
       "      <th>Drug5</th>\n",
       "      <th>Drug6</th>\n",
       "      <th>...</th>\n",
       "      <th>Drug8</th>\n",
       "      <th>Drug1_Sales</th>\n",
       "      <th>Drug2_Sales</th>\n",
       "      <th>Drug3_Sales</th>\n",
       "      <th>Drug4_Sales</th>\n",
       "      <th>Drug5_Sales</th>\n",
       "      <th>Drug6_Sales</th>\n",
       "      <th>Drug7_Sales</th>\n",
       "      <th>Drug8_Sales</th>\n",
       "      <th>FirstWeekofMonth</th>\n",
       "    </tr>\n",
       "    <tr>\n",
       "      <th>Date</th>\n",
       "      <th></th>\n",
       "      <th></th>\n",
       "      <th></th>\n",
       "      <th></th>\n",
       "      <th></th>\n",
       "      <th></th>\n",
       "      <th></th>\n",
       "      <th></th>\n",
       "      <th></th>\n",
       "      <th></th>\n",
       "      <th></th>\n",
       "      <th></th>\n",
       "      <th></th>\n",
       "      <th></th>\n",
       "      <th></th>\n",
       "      <th></th>\n",
       "      <th></th>\n",
       "      <th></th>\n",
       "      <th></th>\n",
       "      <th></th>\n",
       "      <th></th>\n",
       "    </tr>\n",
       "  </thead>\n",
       "  <tbody>\n",
       "    <tr>\n",
       "      <th>2019-09-01</th>\n",
       "      <td>2019</td>\n",
       "      <td>9</td>\n",
       "      <td>1</td>\n",
       "      <td>Sun</td>\n",
       "      <td>2.00</td>\n",
       "      <td>4.360</td>\n",
       "      <td>5.00</td>\n",
       "      <td>17.000</td>\n",
       "      <td>8.2</td>\n",
       "      <td>1.0</td>\n",
       "      <td>...</td>\n",
       "      <td>4.0</td>\n",
       "      <td>2000.0</td>\n",
       "      <td>3488.0</td>\n",
       "      <td>7500.0</td>\n",
       "      <td>10200.0</td>\n",
       "      <td>4510.0</td>\n",
       "      <td>10000.0</td>\n",
       "      <td>2250.0</td>\n",
       "      <td>3600.0</td>\n",
       "      <td>True</td>\n",
       "    </tr>\n",
       "    <tr>\n",
       "      <th>2019-09-02</th>\n",
       "      <td>2019</td>\n",
       "      <td>9</td>\n",
       "      <td>2</td>\n",
       "      <td>Mon</td>\n",
       "      <td>5.33</td>\n",
       "      <td>2.087</td>\n",
       "      <td>2.50</td>\n",
       "      <td>18.000</td>\n",
       "      <td>7.0</td>\n",
       "      <td>0.0</td>\n",
       "      <td>...</td>\n",
       "      <td>9.0</td>\n",
       "      <td>5330.0</td>\n",
       "      <td>1669.6</td>\n",
       "      <td>3750.0</td>\n",
       "      <td>10800.0</td>\n",
       "      <td>3850.0</td>\n",
       "      <td>0.0</td>\n",
       "      <td>450.0</td>\n",
       "      <td>8100.0</td>\n",
       "      <td>True</td>\n",
       "    </tr>\n",
       "    <tr>\n",
       "      <th>2019-09-03</th>\n",
       "      <td>2019</td>\n",
       "      <td>9</td>\n",
       "      <td>3</td>\n",
       "      <td>Tue</td>\n",
       "      <td>9.36</td>\n",
       "      <td>2.350</td>\n",
       "      <td>3.10</td>\n",
       "      <td>12.125</td>\n",
       "      <td>8.0</td>\n",
       "      <td>3.0</td>\n",
       "      <td>...</td>\n",
       "      <td>2.0</td>\n",
       "      <td>9360.0</td>\n",
       "      <td>1880.0</td>\n",
       "      <td>4650.0</td>\n",
       "      <td>7275.0</td>\n",
       "      <td>4400.0</td>\n",
       "      <td>30000.0</td>\n",
       "      <td>450.0</td>\n",
       "      <td>1800.0</td>\n",
       "      <td>True</td>\n",
       "    </tr>\n",
       "    <tr>\n",
       "      <th>2019-09-04</th>\n",
       "      <td>2019</td>\n",
       "      <td>9</td>\n",
       "      <td>4</td>\n",
       "      <td>Wed</td>\n",
       "      <td>2.00</td>\n",
       "      <td>0.373</td>\n",
       "      <td>2.15</td>\n",
       "      <td>29.230</td>\n",
       "      <td>7.0</td>\n",
       "      <td>0.0</td>\n",
       "      <td>...</td>\n",
       "      <td>3.0</td>\n",
       "      <td>2000.0</td>\n",
       "      <td>298.4</td>\n",
       "      <td>3225.0</td>\n",
       "      <td>17538.0</td>\n",
       "      <td>3850.0</td>\n",
       "      <td>0.0</td>\n",
       "      <td>1350.0</td>\n",
       "      <td>2700.0</td>\n",
       "      <td>True</td>\n",
       "    </tr>\n",
       "    <tr>\n",
       "      <th>2019-09-05</th>\n",
       "      <td>2019</td>\n",
       "      <td>9</td>\n",
       "      <td>5</td>\n",
       "      <td>Thu</td>\n",
       "      <td>7.00</td>\n",
       "      <td>9.530</td>\n",
       "      <td>2.00</td>\n",
       "      <td>14.000</td>\n",
       "      <td>1.0</td>\n",
       "      <td>0.0</td>\n",
       "      <td>...</td>\n",
       "      <td>8.0</td>\n",
       "      <td>7000.0</td>\n",
       "      <td>7624.0</td>\n",
       "      <td>3000.0</td>\n",
       "      <td>8400.0</td>\n",
       "      <td>550.0</td>\n",
       "      <td>0.0</td>\n",
       "      <td>450.0</td>\n",
       "      <td>7200.0</td>\n",
       "      <td>True</td>\n",
       "    </tr>\n",
       "  </tbody>\n",
       "</table>\n",
       "<p>5 rows × 21 columns</p>\n",
       "</div>"
      ],
      "text/plain": [
       "            Year  Month  Day DayName  Drug1  Drug2  Drug3   Drug4  Drug5  \\\n",
       "Date                                                                       \n",
       "2019-09-01  2019      9    1     Sun   2.00  4.360   5.00  17.000    8.2   \n",
       "2019-09-02  2019      9    2     Mon   5.33  2.087   2.50  18.000    7.0   \n",
       "2019-09-03  2019      9    3     Tue   9.36  2.350   3.10  12.125    8.0   \n",
       "2019-09-04  2019      9    4     Wed   2.00  0.373   2.15  29.230    7.0   \n",
       "2019-09-05  2019      9    5     Thu   7.00  9.530   2.00  14.000    1.0   \n",
       "\n",
       "            Drug6  ...  Drug8  Drug1_Sales  Drug2_Sales  Drug3_Sales  \\\n",
       "Date               ...                                                 \n",
       "2019-09-01    1.0  ...    4.0       2000.0       3488.0       7500.0   \n",
       "2019-09-02    0.0  ...    9.0       5330.0       1669.6       3750.0   \n",
       "2019-09-03    3.0  ...    2.0       9360.0       1880.0       4650.0   \n",
       "2019-09-04    0.0  ...    3.0       2000.0        298.4       3225.0   \n",
       "2019-09-05    0.0  ...    8.0       7000.0       7624.0       3000.0   \n",
       "\n",
       "            Drug4_Sales  Drug5_Sales  Drug6_Sales  Drug7_Sales  Drug8_Sales  \\\n",
       "Date                                                                          \n",
       "2019-09-01      10200.0       4510.0      10000.0       2250.0       3600.0   \n",
       "2019-09-02      10800.0       3850.0          0.0        450.0       8100.0   \n",
       "2019-09-03       7275.0       4400.0      30000.0        450.0       1800.0   \n",
       "2019-09-04      17538.0       3850.0          0.0       1350.0       2700.0   \n",
       "2019-09-05       8400.0        550.0          0.0        450.0       7200.0   \n",
       "\n",
       "            FirstWeekofMonth  \n",
       "Date                          \n",
       "2019-09-01              True  \n",
       "2019-09-02              True  \n",
       "2019-09-03              True  \n",
       "2019-09-04              True  \n",
       "2019-09-05              True  \n",
       "\n",
       "[5 rows x 21 columns]"
      ]
     },
     "execution_count": 41,
     "metadata": {},
     "output_type": "execute_result"
    }
   ],
   "source": [
    "df['FirstWeekofMonth'] = df['Day'] <= 7\n",
    "df.head()"
   ]
  },
  {
   "cell_type": "code",
   "execution_count": null,
   "id": "03fa5dfe",
   "metadata": {},
   "outputs": [],
   "source": []
  }
 ],
 "metadata": {
  "kernelspec": {
   "display_name": "Python 3",
   "language": "python",
   "name": "python3"
  },
  "language_info": {
   "codemirror_mode": {
    "name": "ipython",
    "version": 3
   },
   "file_extension": ".py",
   "mimetype": "text/x-python",
   "name": "python",
   "nbconvert_exporter": "python",
   "pygments_lexer": "ipython3",
   "version": "3.11.3"
  }
 },
 "nbformat": 4,
 "nbformat_minor": 5
}
