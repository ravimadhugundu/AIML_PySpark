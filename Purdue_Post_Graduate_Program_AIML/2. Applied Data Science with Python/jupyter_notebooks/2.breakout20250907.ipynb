{
 "cells": [
  {
   "cell_type": "markdown",
   "id": "ef1a48a6",
   "metadata": {},
   "source": [
    "Section 1\n",
    "Data Analysis\n",
    "1. Generate a matrix that shows daily temperature highs for two cities (City A & City B) over a week.\n",
    "You need to generate a 2D NumPy array named temperatures with shape (7, 2). (temperatures between -10 and 30.\n",
    "2. Print the average temperature of each city\n"
   ]
  },
  {
   "cell_type": "code",
   "execution_count": 13,
   "id": "3edb67cf",
   "metadata": {},
   "outputs": [
    {
     "data": {
      "text/plain": [
       "array([[ 3.54, -6.39],\n",
       "       [15.82, 28.22],\n",
       "       [-3.2 , 26.61],\n",
       "       [ 8.28, 14.69],\n",
       "       [-6.91, 28.92],\n",
       "       [-4.2 , -8.37],\n",
       "       [25.5 , 12.77]])"
      ]
     },
     "execution_count": 13,
     "metadata": {},
     "output_type": "execute_result"
    }
   ],
   "source": [
    "temp = np.random.uniform(low=-10.0,high=30.0,size=(7,2))\n",
    "temp=temp.round(2)\n",
    "temp"
   ]
  },
  {
   "cell_type": "code",
   "execution_count": 41,
   "id": "28b27117",
   "metadata": {},
   "outputs": [
    {
     "name": "stdout",
     "output_type": "stream",
     "text": [
      "\n",
      "Average temperature for City A: 5.55\n",
      "Average temperature for City B: 13.78\n"
     ]
    }
   ],
   "source": [
    "#print(np.mean(temp, axis=0))\n",
    "#print(f'The average temp in City A is {temp.mean(:,:1)} and the average temp in City B is {np.mean(temp, axis=0)}.')\n",
    "\n",
    "\n",
    "\n",
    "#print(\"Temperature highs for the week (City A, City B):\\n\", temperatures)\n",
    "# Step 3: Calculate average temperature for each city\n",
    "average_temperatures = np.mean(temp, axis=0)\n",
    "\n",
    "# Step 4: Print the average temperatures\n",
    "print(\"\\nAverage temperature for City A:\", round(average_temperatures[0],2))\n",
    "print(\"Average temperature for City B:\", round(average_temperatures[1],2))"
   ]
  },
  {
   "cell_type": "markdown",
   "id": "1f7e2d4f",
   "metadata": {},
   "source": [
    "Section 2\n",
    "Data Analysis\n",
    "1. Plot Load num_data.csv file into an array\n",
    "2. Get the shape\n",
    "3. Reshape the matrix to a compatible (row,col) 2D matrix.\n",
    "4. Define a new array that has values from the first array where number <10"
   ]
  },
  {
   "cell_type": "code",
   "execution_count": 55,
   "id": "563eef23",
   "metadata": {},
   "outputs": [
    {
     "data": {
      "text/plain": [
       "array([  9., 167.,  30.,  71., 102.,  87., 229., 227.,  91.,  78.,  84.,\n",
       "       177.,  91.,  26., 226.,   7.,  92., 215., 185.,  86., 119., 191.,\n",
       "        21., 182.,  53.,  70., 185., 129., 232.,  28., 106., 136.,  62.,\n",
       "       168., 139., 154., 149., 125., 188.,  29., 180.,   7., 166., 228.,\n",
       "        72.,  25., 114., 135.,  54., 208.,  33., 228., 125.,  82.,  69.,\n",
       "        53., 218.,  90.,  52., 153., 101., 157., 160.,   9., 187.,  20.,\n",
       "        93.,  42.,  65., 225.,  56.,  55.])"
      ]
     },
     "execution_count": 55,
     "metadata": {},
     "output_type": "execute_result"
    }
   ],
   "source": [
    "numdataarr=np.loadtxt('num_data.csv',delimiter=\",\")\n",
    "numdataarr"
   ]
  },
  {
   "cell_type": "code",
   "execution_count": 61,
   "id": "3decfba9",
   "metadata": {},
   "outputs": [
    {
     "name": "stdout",
     "output_type": "stream",
     "text": [
      "(9, 8)\n"
     ]
    },
    {
     "data": {
      "text/plain": [
       "array([[  9., 167.,  30.,  71., 102.,  87., 229., 227.],\n",
       "       [ 91.,  78.,  84., 177.,  91.,  26., 226.,   7.],\n",
       "       [ 92., 215., 185.,  86., 119., 191.,  21., 182.],\n",
       "       [ 53.,  70., 185., 129., 232.,  28., 106., 136.],\n",
       "       [ 62., 168., 139., 154., 149., 125., 188.,  29.],\n",
       "       [180.,   7., 166., 228.,  72.,  25., 114., 135.],\n",
       "       [ 54., 208.,  33., 228., 125.,  82.,  69.,  53.],\n",
       "       [218.,  90.,  52., 153., 101., 157., 160.,   9.],\n",
       "       [187.,  20.,  93.,  42.,  65., 225.,  56.,  55.]])"
      ]
     },
     "execution_count": 61,
     "metadata": {},
     "output_type": "execute_result"
    }
   ],
   "source": [
    "reshaped=np.reshape(numdataarr,(9,8))\n",
    "print(reshaped.shape)\n",
    "reshaped"
   ]
  },
  {
   "cell_type": "markdown",
   "id": "0eaf1c02",
   "metadata": {},
   "source": [
    "Section 3\n",
    "Data Analysis\n",
    "1. Define the following array:\n",
    "sales_data = np.array([\n",
    "[50, 60, 55, 52, 60, 62, 65, 70, 75, 80, 85, 90], # Year 1\n",
    "[95, 100, 110, 105, 115, 120, 125, 130, 140, 150, 160, 170] # Year 2\n",
    "])\n",
    "2. Calculate total sales of each year\n",
    "3. Compute the difference in sales between Year 2 and Year 1 for each month."
   ]
  },
  {
   "cell_type": "code",
   "execution_count": 66,
   "id": "b7727931",
   "metadata": {},
   "outputs": [
    {
     "data": {
      "text/plain": [
       "array([[ 50,  60,  55,  52,  60,  62,  65,  70,  75,  80,  85,  90],\n",
       "       [ 95, 100, 110, 105, 115, 120, 125, 130, 140, 150, 160, 170]])"
      ]
     },
     "execution_count": 66,
     "metadata": {},
     "output_type": "execute_result"
    }
   ],
   "source": [
    "sales = np.array([[50, 60, 55, 52, 60, 62, 65, 70, 75, 80, 85, 90], # Year 1\n",
    "                  [95, 100, 110, 105, 115, 120, 125, 130, 140, 150, 160, 170]]) # year 2\n",
    "sales"
   ]
  },
  {
   "cell_type": "code",
   "execution_count": 73,
   "id": "e0d74705",
   "metadata": {},
   "outputs": [
    {
     "name": "stdout",
     "output_type": "stream",
     "text": [
      "Year A sales equal 804 and Year B sales equal 1520\n"
     ]
    }
   ],
   "source": [
    "salestotal=np.sum(sales,axis=1)\n",
    "salestotal\n",
    "print(f'Year A sales equal {salestotal[0]} and Year B sales equal {salestotal[1]}')"
   ]
  },
  {
   "cell_type": "code",
   "execution_count": 76,
   "id": "35c33a1f",
   "metadata": {},
   "outputs": [
    {
     "name": "stdout",
     "output_type": "stream",
     "text": [
      "[45 40 55 53 55 58 60 60 65 70 75 80]\n"
     ]
    }
   ],
   "source": [
    "print(sales[1]-sales[0])"
   ]
  }
 ],
 "metadata": {
  "kernelspec": {
   "display_name": "Python 3",
   "language": "python",
   "name": "python3"
  },
  "language_info": {
   "codemirror_mode": {
    "name": "ipython",
    "version": 3
   },
   "file_extension": ".py",
   "mimetype": "text/x-python",
   "name": "python",
   "nbconvert_exporter": "python",
   "pygments_lexer": "ipython3",
   "version": "3.13.6"
  }
 },
 "nbformat": 4,
 "nbformat_minor": 5
}
