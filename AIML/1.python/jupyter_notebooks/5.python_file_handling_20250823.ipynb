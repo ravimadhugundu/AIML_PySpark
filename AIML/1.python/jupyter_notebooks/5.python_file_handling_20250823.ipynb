{
 "cells": [
  {
   "cell_type": "markdown",
   "id": "ef6c7d2a",
   "metadata": {},
   "source": [
    "# File Handling in Python"
   ]
  },
  {
   "cell_type": "markdown",
   "id": "45d68ec6",
   "metadata": {},
   "source": [
    "## Reading a File"
   ]
  },
  {
   "cell_type": "code",
   "execution_count": null,
   "id": "6ab3fe69",
   "metadata": {},
   "outputs": [
    {
     "name": "stdout",
     "output_type": "stream",
     "text": [
      "Hello, World!\n",
      "This is a simple text file created as an example.\n",
      "Enjoy reading and have a great day!\n"
     ]
    }
   ],
   "source": [
    "my_file = open('example.txt', 'r') #as long as the file saved in the same directory as the notebook, no need to specify the path\n",
    "file_content = my_file.read()\n",
    "\n",
    "print(file_content)\n",
    "my_file.close()"
   ]
  },
  {
   "cell_type": "markdown",
   "id": "7af1143b",
   "metadata": {},
   "source": [
    "## Writing to a File"
   ]
  },
  {
   "cell_type": "code",
   "execution_count": 17,
   "id": "09e10845",
   "metadata": {},
   "outputs": [
    {
     "name": "stdout",
     "output_type": "stream",
     "text": [
      "This will overwrite the existing content of my file.\n"
     ]
    }
   ],
   "source": [
    "my_file = open('example.txt', 'w+') # w is for write\n",
    "#if file doesn't exist it'll create it\n",
    "my_file.write('This will overwrite the existing content of my file.')\n",
    "my_file.seek(0)\n",
    "file_content = my_file.read()\n",
    "print(file_content)\n"
   ]
  },
  {
   "cell_type": "markdown",
   "id": "527d0c38",
   "metadata": {},
   "source": [
    "## Append to a File"
   ]
  },
  {
   "cell_type": "code",
   "execution_count": 9,
   "id": "ba7053fc",
   "metadata": {},
   "outputs": [
    {
     "name": "stdout",
     "output_type": "stream",
     "text": [
      "This will overwrite the existing content of my file.\n",
      "This is added information.\n"
     ]
    }
   ],
   "source": [
    "my_file = open('example.txt', 'a') # a is for append\n",
    "my_file.write('\\nThis is added information.') #\\n will ensure the text is added as a new line\n",
    "\n",
    "my_file = open('example.txt', 'r')\n",
    "file_content = my_file.read()\n",
    "print(file_content)\n"
   ]
  },
  {
   "cell_type": "markdown",
   "id": "6d5fe076",
   "metadata": {},
   "source": [
    "- `open()` doesn't care about the file extension as long as it's readable text.\n",
    "- For Excel, you need to use specialized libraries like `openpyxl` and `pandas`"
   ]
  },
  {
   "cell_type": "markdown",
   "id": "79c12cae",
   "metadata": {},
   "source": [
    "## Reading `csv` files"
   ]
  },
  {
   "cell_type": "code",
   "execution_count": 10,
   "id": "6754a133",
   "metadata": {},
   "outputs": [],
   "source": [
    "import csv"
   ]
  },
  {
   "cell_type": "code",
   "execution_count": 14,
   "id": "ee7d71de",
   "metadata": {},
   "outputs": [
    {
     "name": "stdout",
     "output_type": "stream",
     "text": [
      "['Name', ' Age', ' City']\n",
      "['Mary', ' 20', ' New York']\n",
      "['Alice', ' 30', ' New York']\n",
      "['Bob', ' 25', ' Los Angeles']\n"
     ]
    }
   ],
   "source": [
    "with open('data.csv','r') as file:\n",
    "    reader = csv.reader(file)\n",
    "    for row in reader:\n",
    "        print(row)"
   ]
  },
  {
   "cell_type": "code",
   "execution_count": 15,
   "id": "0dfe9406",
   "metadata": {},
   "outputs": [],
   "source": [
    "with open('data.csv','r') as file:\n",
    "    reader = csv.DictReader(file)\n",
    "    #build the data dictionary\n",
    "    data_dict = [row for row in reader]\n"
   ]
  },
  {
   "cell_type": "code",
   "execution_count": 16,
   "id": "9a6ccb1d",
   "metadata": {},
   "outputs": [
    {
     "data": {
      "text/plain": [
       "[{'Name': 'Mary', ' Age': ' 20', ' City': ' New York'},\n",
       " {'Name': 'Alice', ' Age': ' 30', ' City': ' New York'},\n",
       " {'Name': 'Bob', ' Age': ' 25', ' City': ' Los Angeles'}]"
      ]
     },
     "execution_count": 16,
     "metadata": {},
     "output_type": "execute_result"
    }
   ],
   "source": [
    "data_dict"
   ]
  },
  {
   "cell_type": "markdown",
   "id": "6c07a4a0",
   "metadata": {},
   "source": [
    "Open multiple files in a directory"
   ]
  },
  {
   "cell_type": "code",
   "execution_count": null,
   "id": "4422c2ba",
   "metadata": {},
   "outputs": [],
   "source": [
    "import os\n",
    "\n",
    "folder_path = 'my_documents'\n",
    "\n",
    "for filename in os.listdir(folder_path):\n",
    "    file_path = os.path.join(folder_path, filename)\n",
    "\n",
    "    #then same open file process"
   ]
  }
 ],
 "metadata": {
  "kernelspec": {
   "display_name": "Python 3",
   "language": "python",
   "name": "python3"
  },
  "language_info": {
   "codemirror_mode": {
    "name": "ipython",
    "version": 3
   },
   "file_extension": ".py",
   "mimetype": "text/x-python",
   "name": "python",
   "nbconvert_exporter": "python",
   "pygments_lexer": "ipython3",
   "version": "3.11.3"
  }
 },
 "nbformat": 4,
 "nbformat_minor": 5
}
