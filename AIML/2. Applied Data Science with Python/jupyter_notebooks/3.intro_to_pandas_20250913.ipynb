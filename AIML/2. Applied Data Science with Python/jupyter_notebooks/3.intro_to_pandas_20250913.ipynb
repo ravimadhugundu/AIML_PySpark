{
 "cells": [
  {
   "cell_type": "markdown",
   "id": "de8d010a",
   "metadata": {},
   "source": [
    "# Intro to Pandas\n",
    "### About\n",
    "- Pandas: Panel Datasets is a fast, powerful, flexible, and easy to use open source data analysis and perp tool.\n",
    "- It's built on top of NumPy\n",
    "- Widely used in DS and ML applications for handling **structured** data.\n",
    "- It has 2 main data components: \n",
    "    - Series: 1-dim data object\n",
    "    - Dataframe: 2-dim data object"
   ]
  },
  {
   "cell_type": "markdown",
   "id": "baf8d324",
   "metadata": {},
   "source": [
    "### Features\n",
    "![f](https://labcontent.simplicdn.net/data-content/content-assets/Data_and_AI/ADSP_Images/Lesson_04_Working_with_Pandas/1_Introduction_to_Pandas/Features_of_Pandas.png)"
   ]
  },
  {
   "cell_type": "markdown",
   "id": "4d515fe0",
   "metadata": {},
   "source": [
    "pip install pandas"
   ]
  },
  {
   "cell_type": "code",
   "execution_count": 1,
   "id": "4432751d",
   "metadata": {},
   "outputs": [],
   "source": [
    "import pandas as pd"
   ]
  },
  {
   "cell_type": "code",
   "execution_count": 2,
   "id": "27a13ba8",
   "metadata": {},
   "outputs": [
    {
     "data": {
      "text/plain": [
       "'2.3.1'"
      ]
     },
     "execution_count": 2,
     "metadata": {},
     "output_type": "execute_result"
    }
   ],
   "source": [
    "pd.__version__"
   ]
  },
  {
   "cell_type": "markdown",
   "id": "b4d64857",
   "metadata": {},
   "source": [
    "## Pandas Series"
   ]
  },
  {
   "cell_type": "code",
   "execution_count": 3,
   "id": "ddf32566",
   "metadata": {},
   "outputs": [
    {
     "data": {
      "text/plain": [
       "list"
      ]
     },
     "execution_count": 3,
     "metadata": {},
     "output_type": "execute_result"
    }
   ],
   "source": [
    "my_list = [1,2,3,4,5,7,12,8,9,10,11]\n",
    "\n",
    "type(my_list)"
   ]
  },
  {
   "cell_type": "code",
   "execution_count": 4,
   "id": "0b9d1c36",
   "metadata": {},
   "outputs": [
    {
     "data": {
      "text/plain": [
       "[1, 2, 3, 4, 5, 7, 12, 8, 9, 10, 11]"
      ]
     },
     "execution_count": 4,
     "metadata": {},
     "output_type": "execute_result"
    }
   ],
   "source": [
    "my_list"
   ]
  },
  {
   "cell_type": "code",
   "execution_count": 5,
   "id": "e59e4551",
   "metadata": {},
   "outputs": [
    {
     "data": {
      "application/vnd.microsoft.datawrangler.viewer.v0+json": {
       "columns": [
        {
         "name": "index",
         "rawType": "int64",
         "type": "integer"
        },
        {
         "name": "0",
         "rawType": "int64",
         "type": "integer"
        }
       ],
       "ref": "a88005af-1a17-4c36-afa1-e9cb2caaa2be",
       "rows": [
        [
         "0",
         "1"
        ],
        [
         "1",
         "2"
        ],
        [
         "2",
         "3"
        ],
        [
         "3",
         "4"
        ],
        [
         "4",
         "5"
        ],
        [
         "5",
         "7"
        ],
        [
         "6",
         "12"
        ],
        [
         "7",
         "8"
        ],
        [
         "8",
         "9"
        ],
        [
         "9",
         "10"
        ],
        [
         "10",
         "11"
        ]
       ],
       "shape": {
        "columns": 1,
        "rows": 11
       }
      },
      "text/plain": [
       "0      1\n",
       "1      2\n",
       "2      3\n",
       "3      4\n",
       "4      5\n",
       "5      7\n",
       "6     12\n",
       "7      8\n",
       "8      9\n",
       "9     10\n",
       "10    11\n",
       "dtype: int64"
      ]
     },
     "execution_count": 5,
     "metadata": {},
     "output_type": "execute_result"
    }
   ],
   "source": [
    "#convert a list into a series\n",
    "my_ser = pd.Series(my_list)\n",
    "my_ser"
   ]
  },
  {
   "cell_type": "code",
   "execution_count": 6,
   "id": "b6310fe0",
   "metadata": {},
   "outputs": [
    {
     "data": {
      "text/plain": [
       "12"
      ]
     },
     "execution_count": 6,
     "metadata": {},
     "output_type": "execute_result"
    }
   ],
   "source": [
    "my_ser[6]"
   ]
  },
  {
   "cell_type": "code",
   "execution_count": 7,
   "id": "20e603b7",
   "metadata": {},
   "outputs": [
    {
     "data": {
      "application/vnd.microsoft.datawrangler.viewer.v0+json": {
       "columns": [
        {
         "name": "index",
         "rawType": "int64",
         "type": "integer"
        },
        {
         "name": "0",
         "rawType": "int64",
         "type": "integer"
        }
       ],
       "ref": "378dc347-a6fa-4295-b5f5-c992ab9e5da2",
       "rows": [
        [
         "3",
         "4"
        ],
        [
         "4",
         "5"
        ],
        [
         "5",
         "7"
        ],
        [
         "6",
         "12"
        ],
        [
         "7",
         "8"
        ],
        [
         "8",
         "9"
        ]
       ],
       "shape": {
        "columns": 1,
        "rows": 6
       }
      },
      "text/plain": [
       "3     4\n",
       "4     5\n",
       "5     7\n",
       "6    12\n",
       "7     8\n",
       "8     9\n",
       "dtype: int64"
      ]
     },
     "execution_count": 7,
     "metadata": {},
     "output_type": "execute_result"
    }
   ],
   "source": [
    "ny_ser_v2 = my_ser[3:9]\n",
    "ny_ser_v2"
   ]
  },
  {
   "cell_type": "code",
   "execution_count": 8,
   "id": "2ce32d82",
   "metadata": {},
   "outputs": [
    {
     "data": {
      "application/vnd.microsoft.datawrangler.viewer.v0+json": {
       "columns": [
        {
         "name": "index",
         "rawType": "int64",
         "type": "integer"
        },
        {
         "name": "0",
         "rawType": "int64",
         "type": "integer"
        }
       ],
       "ref": "c1834195-da54-4787-8273-2b2ccf0dd1cc",
       "rows": [
        [
         "0",
         "4"
        ],
        [
         "1",
         "5"
        ],
        [
         "2",
         "7"
        ],
        [
         "3",
         "12"
        ],
        [
         "4",
         "8"
        ],
        [
         "5",
         "9"
        ]
       ],
       "shape": {
        "columns": 1,
        "rows": 6
       }
      },
      "text/plain": [
       "0     4\n",
       "1     5\n",
       "2     7\n",
       "3    12\n",
       "4     8\n",
       "5     9\n",
       "dtype: int64"
      ]
     },
     "execution_count": 8,
     "metadata": {},
     "output_type": "execute_result"
    }
   ],
   "source": [
    "# to reset the index (start from 0)\n",
    "ny_ser_v2 = my_ser[3:9].reset_index(drop=True) #it gets rid of the old index\n",
    "ny_ser_v2"
   ]
  },
  {
   "cell_type": "code",
   "execution_count": 9,
   "id": "de181de8",
   "metadata": {},
   "outputs": [
    {
     "data": {
      "application/vnd.microsoft.datawrangler.viewer.v0+json": {
       "columns": [
        {
         "name": "index",
         "rawType": "object",
         "type": "string"
        },
        {
         "name": "0",
         "rawType": "int64",
         "type": "integer"
        }
       ],
       "ref": "d3f67a11-9d19-48c1-85b4-75641bf71b6f",
       "rows": [
        [
         "x",
         "11"
        ],
        [
         "y",
         "12"
        ],
        [
         "z",
         "13"
        ]
       ],
       "shape": {
        "columns": 1,
        "rows": 3
       }
      },
      "text/plain": [
       "x    11\n",
       "y    12\n",
       "z    13\n",
       "dtype: int64"
      ]
     },
     "execution_count": 9,
     "metadata": {},
     "output_type": "execute_result"
    }
   ],
   "source": [
    "my_ser3 = pd.Series([11,12,13], index=['x','y','z'])\n",
    "my_ser3"
   ]
  },
  {
   "cell_type": "code",
   "execution_count": 10,
   "id": "44955efb",
   "metadata": {},
   "outputs": [
    {
     "data": {
      "text/plain": [
       "11"
      ]
     },
     "execution_count": 10,
     "metadata": {},
     "output_type": "execute_result"
    }
   ],
   "source": [
    "my_ser3['x']"
   ]
  },
  {
   "cell_type": "code",
   "execution_count": 11,
   "id": "7dbd073f",
   "metadata": {},
   "outputs": [],
   "source": [
    "import numpy as np"
   ]
  },
  {
   "cell_type": "code",
   "execution_count": 12,
   "id": "5d95952f",
   "metadata": {},
   "outputs": [
    {
     "data": {
      "application/vnd.microsoft.datawrangler.viewer.v0+json": {
       "columns": [
        {
         "name": "index",
         "rawType": "int64",
         "type": "integer"
        },
        {
         "name": "0",
         "rawType": "int64",
         "type": "integer"
        }
       ],
       "ref": "d4ce2528-8f49-41d2-89c4-4d9117183f21",
       "rows": [
        [
         "0",
         "2"
        ],
        [
         "1",
         "3"
        ],
        [
         "2",
         "4"
        ],
        [
         "3",
         "5"
        ],
        [
         "4",
         "6"
        ],
        [
         "5",
         "7"
        ],
        [
         "6",
         "8"
        ],
        [
         "7",
         "9"
        ],
        [
         "8",
         "10"
        ],
        [
         "9",
         "11"
        ],
        [
         "10",
         "12"
        ],
        [
         "11",
         "13"
        ],
        [
         "12",
         "14"
        ],
        [
         "13",
         "15"
        ],
        [
         "14",
         "16"
        ],
        [
         "15",
         "17"
        ],
        [
         "16",
         "18"
        ],
        [
         "17",
         "19"
        ],
        [
         "18",
         "20"
        ],
        [
         "19",
         "21"
        ],
        [
         "20",
         "22"
        ],
        [
         "21",
         "23"
        ],
        [
         "22",
         "24"
        ],
        [
         "23",
         "25"
        ],
        [
         "24",
         "26"
        ],
        [
         "25",
         "27"
        ],
        [
         "26",
         "28"
        ],
        [
         "27",
         "29"
        ]
       ],
       "shape": {
        "columns": 1,
        "rows": 28
       }
      },
      "text/plain": [
       "0      2\n",
       "1      3\n",
       "2      4\n",
       "3      5\n",
       "4      6\n",
       "5      7\n",
       "6      8\n",
       "7      9\n",
       "8     10\n",
       "9     11\n",
       "10    12\n",
       "11    13\n",
       "12    14\n",
       "13    15\n",
       "14    16\n",
       "15    17\n",
       "16    18\n",
       "17    19\n",
       "18    20\n",
       "19    21\n",
       "20    22\n",
       "21    23\n",
       "22    24\n",
       "23    25\n",
       "24    26\n",
       "25    27\n",
       "26    28\n",
       "27    29\n",
       "dtype: int64"
      ]
     },
     "execution_count": 12,
     "metadata": {},
     "output_type": "execute_result"
    }
   ],
   "source": [
    "# converting numpy to pandas\n",
    "my_ser4 = pd.Series(np.arange(2,30))\n",
    "my_ser4"
   ]
  },
  {
   "cell_type": "code",
   "execution_count": 13,
   "id": "3bb2e613",
   "metadata": {},
   "outputs": [
    {
     "data": {
      "text/plain": [
       "array([ 2,  3,  4,  5,  6,  7,  8,  9, 10, 11, 12, 13, 14, 15, 16, 17, 18,\n",
       "       19, 20, 21, 22, 23, 24, 25, 26, 27, 28, 29])"
      ]
     },
     "execution_count": 13,
     "metadata": {},
     "output_type": "execute_result"
    }
   ],
   "source": [
    "# convert pandas to numpy\n",
    "my_ser4.values"
   ]
  },
  {
   "cell_type": "markdown",
   "id": "db8afb8d",
   "metadata": {},
   "source": [
    "## Pandas Dataframes"
   ]
  },
  {
   "cell_type": "markdown",
   "id": "092eaa5e",
   "metadata": {},
   "source": [
    "![ad](https://static.packt-cdn.com/products/9781839213106/graphics/Images/B15597_01_01.png)"
   ]
  },
  {
   "cell_type": "code",
   "execution_count": 14,
   "id": "1ca59c1e",
   "metadata": {},
   "outputs": [],
   "source": [
    "#dictionary \n",
    "data = {'name':['Mark', 'Mike', 'Tammy', 'Becky'],\n",
    "        'age':[55,43,28,35],\n",
    "        'score':[96,84,79,83]\n",
    "        }"
   ]
  },
  {
   "cell_type": "code",
   "execution_count": 15,
   "id": "1fc64483",
   "metadata": {},
   "outputs": [
    {
     "data": {
      "application/vnd.microsoft.datawrangler.viewer.v0+json": {
       "columns": [
        {
         "name": "index",
         "rawType": "int64",
         "type": "integer"
        },
        {
         "name": "name",
         "rawType": "object",
         "type": "string"
        },
        {
         "name": "age",
         "rawType": "int64",
         "type": "integer"
        },
        {
         "name": "score",
         "rawType": "int64",
         "type": "integer"
        }
       ],
       "ref": "d07b6a9a-c8a8-4a73-8623-f26c6761cccc",
       "rows": [
        [
         "0",
         "Mark",
         "55",
         "96"
        ],
        [
         "1",
         "Mike",
         "43",
         "84"
        ],
        [
         "2",
         "Tammy",
         "28",
         "79"
        ],
        [
         "3",
         "Becky",
         "35",
         "83"
        ]
       ],
       "shape": {
        "columns": 3,
        "rows": 4
       }
      },
      "text/html": [
       "<div>\n",
       "<style scoped>\n",
       "    .dataframe tbody tr th:only-of-type {\n",
       "        vertical-align: middle;\n",
       "    }\n",
       "\n",
       "    .dataframe tbody tr th {\n",
       "        vertical-align: top;\n",
       "    }\n",
       "\n",
       "    .dataframe thead th {\n",
       "        text-align: right;\n",
       "    }\n",
       "</style>\n",
       "<table border=\"1\" class=\"dataframe\">\n",
       "  <thead>\n",
       "    <tr style=\"text-align: right;\">\n",
       "      <th></th>\n",
       "      <th>name</th>\n",
       "      <th>age</th>\n",
       "      <th>score</th>\n",
       "    </tr>\n",
       "  </thead>\n",
       "  <tbody>\n",
       "    <tr>\n",
       "      <th>0</th>\n",
       "      <td>Mark</td>\n",
       "      <td>55</td>\n",
       "      <td>96</td>\n",
       "    </tr>\n",
       "    <tr>\n",
       "      <th>1</th>\n",
       "      <td>Mike</td>\n",
       "      <td>43</td>\n",
       "      <td>84</td>\n",
       "    </tr>\n",
       "    <tr>\n",
       "      <th>2</th>\n",
       "      <td>Tammy</td>\n",
       "      <td>28</td>\n",
       "      <td>79</td>\n",
       "    </tr>\n",
       "    <tr>\n",
       "      <th>3</th>\n",
       "      <td>Becky</td>\n",
       "      <td>35</td>\n",
       "      <td>83</td>\n",
       "    </tr>\n",
       "  </tbody>\n",
       "</table>\n",
       "</div>"
      ],
      "text/plain": [
       "    name  age  score\n",
       "0   Mark   55     96\n",
       "1   Mike   43     84\n",
       "2  Tammy   28     79\n",
       "3  Becky   35     83"
      ]
     },
     "execution_count": 15,
     "metadata": {},
     "output_type": "execute_result"
    }
   ],
   "source": [
    "#convert data dict into a dataframe\n",
    "df = pd.DataFrame(data)\n",
    "df"
   ]
  },
  {
   "cell_type": "code",
   "execution_count": 16,
   "id": "5cbf0c63",
   "metadata": {},
   "outputs": [
    {
     "name": "stdout",
     "output_type": "stream",
     "text": [
      "    name  age  score\n",
      "0   Mark   55     96\n",
      "1   Mike   43     84\n",
      "2  Tammy   28     79\n",
      "3  Becky   35     83\n"
     ]
    }
   ],
   "source": [
    "print(df)"
   ]
  },
  {
   "cell_type": "code",
   "execution_count": 17,
   "id": "fc664820",
   "metadata": {},
   "outputs": [
    {
     "data": {
      "text/plain": [
       "(4, 3)"
      ]
     },
     "execution_count": 17,
     "metadata": {},
     "output_type": "execute_result"
    }
   ],
   "source": [
    "# get the num of rows and cols\n",
    "df.shape"
   ]
  },
  {
   "cell_type": "code",
   "execution_count": 18,
   "id": "02cc30c6",
   "metadata": {},
   "outputs": [
    {
     "data": {
      "application/vnd.microsoft.datawrangler.viewer.v0+json": {
       "columns": [
        {
         "name": "index",
         "rawType": "object",
         "type": "string"
        },
        {
         "name": "0",
         "rawType": "object",
         "type": "unknown"
        }
       ],
       "ref": "08cc1634-95b5-4a94-b02f-091fcdb90684",
       "rows": [
        [
         "name",
         "object"
        ],
        [
         "age",
         "int64"
        ],
        [
         "score",
         "int64"
        ]
       ],
       "shape": {
        "columns": 1,
        "rows": 3
       }
      },
      "text/plain": [
       "name     object\n",
       "age       int64\n",
       "score     int64\n",
       "dtype: object"
      ]
     },
     "execution_count": 18,
     "metadata": {},
     "output_type": "execute_result"
    }
   ],
   "source": [
    "#get data types\n",
    "df.dtypes"
   ]
  },
  {
   "cell_type": "code",
   "execution_count": 19,
   "id": "962a40ee",
   "metadata": {},
   "outputs": [
    {
     "data": {
      "text/plain": [
       "2"
      ]
     },
     "execution_count": 19,
     "metadata": {},
     "output_type": "execute_result"
    }
   ],
   "source": [
    "df.ndim"
   ]
  },
  {
   "cell_type": "code",
   "execution_count": 20,
   "id": "4a1c5641",
   "metadata": {},
   "outputs": [
    {
     "data": {
      "text/plain": [
       "4"
      ]
     },
     "execution_count": 20,
     "metadata": {},
     "output_type": "execute_result"
    }
   ],
   "source": [
    "len(df)"
   ]
  },
  {
   "cell_type": "markdown",
   "id": "76afe550",
   "metadata": {},
   "source": [
    "### Slicing and Dicing Data Using `loc[]` and `iloc[]`"
   ]
  },
  {
   "cell_type": "code",
   "execution_count": 21,
   "id": "0226a7ea",
   "metadata": {},
   "outputs": [
    {
     "data": {
      "application/vnd.microsoft.datawrangler.viewer.v0+json": {
       "columns": [
        {
         "name": "index",
         "rawType": "object",
         "type": "string"
        },
        {
         "name": "0",
         "rawType": "object",
         "type": "unknown"
        }
       ],
       "ref": "8e126b2d-d2dd-46d7-9fa5-7eae7be00c7a",
       "rows": [
        [
         "name",
         "Mark"
        ],
        [
         "age",
         "55"
        ],
        [
         "score",
         "96"
        ]
       ],
       "shape": {
        "columns": 1,
        "rows": 3
       }
      },
      "text/plain": [
       "name     Mark\n",
       "age        55\n",
       "score      96\n",
       "Name: 0, dtype: object"
      ]
     },
     "execution_count": 21,
     "metadata": {},
     "output_type": "execute_result"
    }
   ],
   "source": [
    "#get the first row\n",
    "df.loc[0]"
   ]
  },
  {
   "cell_type": "code",
   "execution_count": 22,
   "id": "9777a0dc",
   "metadata": {},
   "outputs": [
    {
     "data": {
      "application/vnd.microsoft.datawrangler.viewer.v0+json": {
       "columns": [
        {
         "name": "index",
         "rawType": "int64",
         "type": "integer"
        },
        {
         "name": "name",
         "rawType": "object",
         "type": "string"
        },
        {
         "name": "age",
         "rawType": "int64",
         "type": "integer"
        },
        {
         "name": "score",
         "rawType": "int64",
         "type": "integer"
        }
       ],
       "ref": "7a53f12a-b801-46cb-9737-1166b97f1911",
       "rows": [
        [
         "0",
         "Mark",
         "55",
         "96"
        ],
        [
         "2",
         "Tammy",
         "28",
         "79"
        ]
       ],
       "shape": {
        "columns": 3,
        "rows": 2
       }
      },
      "text/html": [
       "<div>\n",
       "<style scoped>\n",
       "    .dataframe tbody tr th:only-of-type {\n",
       "        vertical-align: middle;\n",
       "    }\n",
       "\n",
       "    .dataframe tbody tr th {\n",
       "        vertical-align: top;\n",
       "    }\n",
       "\n",
       "    .dataframe thead th {\n",
       "        text-align: right;\n",
       "    }\n",
       "</style>\n",
       "<table border=\"1\" class=\"dataframe\">\n",
       "  <thead>\n",
       "    <tr style=\"text-align: right;\">\n",
       "      <th></th>\n",
       "      <th>name</th>\n",
       "      <th>age</th>\n",
       "      <th>score</th>\n",
       "    </tr>\n",
       "  </thead>\n",
       "  <tbody>\n",
       "    <tr>\n",
       "      <th>0</th>\n",
       "      <td>Mark</td>\n",
       "      <td>55</td>\n",
       "      <td>96</td>\n",
       "    </tr>\n",
       "    <tr>\n",
       "      <th>2</th>\n",
       "      <td>Tammy</td>\n",
       "      <td>28</td>\n",
       "      <td>79</td>\n",
       "    </tr>\n",
       "  </tbody>\n",
       "</table>\n",
       "</div>"
      ],
      "text/plain": [
       "    name  age  score\n",
       "0   Mark   55     96\n",
       "2  Tammy   28     79"
      ]
     },
     "execution_count": 22,
     "metadata": {},
     "output_type": "execute_result"
    }
   ],
   "source": [
    "# get multiple rows by index - first and third row\n",
    "df.loc[[0,2]]"
   ]
  },
  {
   "cell_type": "code",
   "execution_count": 23,
   "id": "9c1e1316",
   "metadata": {},
   "outputs": [
    {
     "data": {
      "application/vnd.microsoft.datawrangler.viewer.v0+json": {
       "columns": [
        {
         "name": "index",
         "rawType": "int64",
         "type": "integer"
        },
        {
         "name": "name",
         "rawType": "object",
         "type": "string"
        },
        {
         "name": "age",
         "rawType": "int64",
         "type": "integer"
        },
        {
         "name": "score",
         "rawType": "int64",
         "type": "integer"
        }
       ],
       "ref": "6433912b-c480-46df-8f4b-562575181954",
       "rows": [
        [
         "0",
         "Mark",
         "55",
         "96"
        ],
        [
         "1",
         "Mike",
         "43",
         "84"
        ],
        [
         "2",
         "Tammy",
         "28",
         "79"
        ]
       ],
       "shape": {
        "columns": 3,
        "rows": 3
       }
      },
      "text/html": [
       "<div>\n",
       "<style scoped>\n",
       "    .dataframe tbody tr th:only-of-type {\n",
       "        vertical-align: middle;\n",
       "    }\n",
       "\n",
       "    .dataframe tbody tr th {\n",
       "        vertical-align: top;\n",
       "    }\n",
       "\n",
       "    .dataframe thead th {\n",
       "        text-align: right;\n",
       "    }\n",
       "</style>\n",
       "<table border=\"1\" class=\"dataframe\">\n",
       "  <thead>\n",
       "    <tr style=\"text-align: right;\">\n",
       "      <th></th>\n",
       "      <th>name</th>\n",
       "      <th>age</th>\n",
       "      <th>score</th>\n",
       "    </tr>\n",
       "  </thead>\n",
       "  <tbody>\n",
       "    <tr>\n",
       "      <th>0</th>\n",
       "      <td>Mark</td>\n",
       "      <td>55</td>\n",
       "      <td>96</td>\n",
       "    </tr>\n",
       "    <tr>\n",
       "      <th>1</th>\n",
       "      <td>Mike</td>\n",
       "      <td>43</td>\n",
       "      <td>84</td>\n",
       "    </tr>\n",
       "    <tr>\n",
       "      <th>2</th>\n",
       "      <td>Tammy</td>\n",
       "      <td>28</td>\n",
       "      <td>79</td>\n",
       "    </tr>\n",
       "  </tbody>\n",
       "</table>\n",
       "</div>"
      ],
      "text/plain": [
       "    name  age  score\n",
       "0   Mark   55     96\n",
       "1   Mike   43     84\n",
       "2  Tammy   28     79"
      ]
     },
     "execution_count": 23,
     "metadata": {},
     "output_type": "execute_result"
    }
   ],
   "source": [
    "df.loc[:2] #loc is an exception to the end point (it gets included)"
   ]
  },
  {
   "cell_type": "code",
   "execution_count": 24,
   "id": "315ad3fd",
   "metadata": {},
   "outputs": [
    {
     "data": {
      "application/vnd.microsoft.datawrangler.viewer.v0+json": {
       "columns": [
        {
         "name": "index",
         "rawType": "int64",
         "type": "integer"
        },
        {
         "name": "age",
         "rawType": "int64",
         "type": "integer"
        },
        {
         "name": "score",
         "rawType": "int64",
         "type": "integer"
        }
       ],
       "ref": "6a6a51ea-11fa-4587-9c54-b200a3832f80",
       "rows": [
        [
         "0",
         "55",
         "96"
        ],
        [
         "1",
         "43",
         "84"
        ],
        [
         "2",
         "28",
         "79"
        ],
        [
         "3",
         "35",
         "83"
        ]
       ],
       "shape": {
        "columns": 2,
        "rows": 4
       }
      },
      "text/html": [
       "<div>\n",
       "<style scoped>\n",
       "    .dataframe tbody tr th:only-of-type {\n",
       "        vertical-align: middle;\n",
       "    }\n",
       "\n",
       "    .dataframe tbody tr th {\n",
       "        vertical-align: top;\n",
       "    }\n",
       "\n",
       "    .dataframe thead th {\n",
       "        text-align: right;\n",
       "    }\n",
       "</style>\n",
       "<table border=\"1\" class=\"dataframe\">\n",
       "  <thead>\n",
       "    <tr style=\"text-align: right;\">\n",
       "      <th></th>\n",
       "      <th>age</th>\n",
       "      <th>score</th>\n",
       "    </tr>\n",
       "  </thead>\n",
       "  <tbody>\n",
       "    <tr>\n",
       "      <th>0</th>\n",
       "      <td>55</td>\n",
       "      <td>96</td>\n",
       "    </tr>\n",
       "    <tr>\n",
       "      <th>1</th>\n",
       "      <td>43</td>\n",
       "      <td>84</td>\n",
       "    </tr>\n",
       "    <tr>\n",
       "      <th>2</th>\n",
       "      <td>28</td>\n",
       "      <td>79</td>\n",
       "    </tr>\n",
       "    <tr>\n",
       "      <th>3</th>\n",
       "      <td>35</td>\n",
       "      <td>83</td>\n",
       "    </tr>\n",
       "  </tbody>\n",
       "</table>\n",
       "</div>"
      ],
      "text/plain": [
       "   age  score\n",
       "0   55     96\n",
       "1   43     84\n",
       "2   28     79\n",
       "3   35     83"
      ]
     },
     "execution_count": 24,
     "metadata": {},
     "output_type": "execute_result"
    }
   ],
   "source": [
    "# get all rows and  age and score columns\n",
    "df.loc[:,['age', 'score']]"
   ]
  },
  {
   "cell_type": "markdown",
   "id": "76a79102",
   "metadata": {},
   "source": [
    "Compares to SQL: `SELECT age, score FROM df`"
   ]
  },
  {
   "cell_type": "markdown",
   "id": "0e33fc5a",
   "metadata": {},
   "source": [
    "Using `loc[]` as a filter"
   ]
  },
  {
   "cell_type": "code",
   "execution_count": 25,
   "id": "5a1f6b11",
   "metadata": {},
   "outputs": [
    {
     "data": {
      "application/vnd.microsoft.datawrangler.viewer.v0+json": {
       "columns": [
        {
         "name": "index",
         "rawType": "int64",
         "type": "integer"
        },
        {
         "name": "name",
         "rawType": "object",
         "type": "string"
        },
        {
         "name": "age",
         "rawType": "int64",
         "type": "integer"
        },
        {
         "name": "score",
         "rawType": "int64",
         "type": "integer"
        }
       ],
       "ref": "e19ea32a-0ed7-48ac-8aa8-e27531e0a317",
       "rows": [
        [
         "0",
         "Mark",
         "55",
         "96"
        ],
        [
         "1",
         "Mike",
         "43",
         "84"
        ]
       ],
       "shape": {
        "columns": 3,
        "rows": 2
       }
      },
      "text/html": [
       "<div>\n",
       "<style scoped>\n",
       "    .dataframe tbody tr th:only-of-type {\n",
       "        vertical-align: middle;\n",
       "    }\n",
       "\n",
       "    .dataframe tbody tr th {\n",
       "        vertical-align: top;\n",
       "    }\n",
       "\n",
       "    .dataframe thead th {\n",
       "        text-align: right;\n",
       "    }\n",
       "</style>\n",
       "<table border=\"1\" class=\"dataframe\">\n",
       "  <thead>\n",
       "    <tr style=\"text-align: right;\">\n",
       "      <th></th>\n",
       "      <th>name</th>\n",
       "      <th>age</th>\n",
       "      <th>score</th>\n",
       "    </tr>\n",
       "  </thead>\n",
       "  <tbody>\n",
       "    <tr>\n",
       "      <th>0</th>\n",
       "      <td>Mark</td>\n",
       "      <td>55</td>\n",
       "      <td>96</td>\n",
       "    </tr>\n",
       "    <tr>\n",
       "      <th>1</th>\n",
       "      <td>Mike</td>\n",
       "      <td>43</td>\n",
       "      <td>84</td>\n",
       "    </tr>\n",
       "  </tbody>\n",
       "</table>\n",
       "</div>"
      ],
      "text/plain": [
       "   name  age  score\n",
       "0  Mark   55     96\n",
       "1  Mike   43     84"
      ]
     },
     "execution_count": 25,
     "metadata": {},
     "output_type": "execute_result"
    }
   ],
   "source": [
    "df.loc[df['age']>40]"
   ]
  },
  {
   "cell_type": "code",
   "execution_count": 26,
   "id": "3ce03e2a",
   "metadata": {},
   "outputs": [
    {
     "data": {
      "application/vnd.microsoft.datawrangler.viewer.v0+json": {
       "columns": [
        {
         "name": "index",
         "rawType": "int64",
         "type": "integer"
        },
        {
         "name": "name",
         "rawType": "object",
         "type": "string"
        },
        {
         "name": "age",
         "rawType": "int64",
         "type": "integer"
        },
        {
         "name": "score",
         "rawType": "int64",
         "type": "integer"
        }
       ],
       "ref": "7c4c2a70-7e0a-4556-89e7-fc6d760bd5c1",
       "rows": [
        [
         "0",
         "Mark",
         "55",
         "96"
        ],
        [
         "1",
         "Mike",
         "43",
         "84"
        ]
       ],
       "shape": {
        "columns": 3,
        "rows": 2
       }
      },
      "text/html": [
       "<div>\n",
       "<style scoped>\n",
       "    .dataframe tbody tr th:only-of-type {\n",
       "        vertical-align: middle;\n",
       "    }\n",
       "\n",
       "    .dataframe tbody tr th {\n",
       "        vertical-align: top;\n",
       "    }\n",
       "\n",
       "    .dataframe thead th {\n",
       "        text-align: right;\n",
       "    }\n",
       "</style>\n",
       "<table border=\"1\" class=\"dataframe\">\n",
       "  <thead>\n",
       "    <tr style=\"text-align: right;\">\n",
       "      <th></th>\n",
       "      <th>name</th>\n",
       "      <th>age</th>\n",
       "      <th>score</th>\n",
       "    </tr>\n",
       "  </thead>\n",
       "  <tbody>\n",
       "    <tr>\n",
       "      <th>0</th>\n",
       "      <td>Mark</td>\n",
       "      <td>55</td>\n",
       "      <td>96</td>\n",
       "    </tr>\n",
       "    <tr>\n",
       "      <th>1</th>\n",
       "      <td>Mike</td>\n",
       "      <td>43</td>\n",
       "      <td>84</td>\n",
       "    </tr>\n",
       "  </tbody>\n",
       "</table>\n",
       "</div>"
      ],
      "text/plain": [
       "   name  age  score\n",
       "0  Mark   55     96\n",
       "1  Mike   43     84"
      ]
     },
     "execution_count": 26,
     "metadata": {},
     "output_type": "execute_result"
    }
   ],
   "source": [
    "df[df['age']>40] #no need to use loc in this example"
   ]
  },
  {
   "cell_type": "code",
   "execution_count": 27,
   "id": "9fdaf5c6",
   "metadata": {},
   "outputs": [
    {
     "data": {
      "application/vnd.microsoft.datawrangler.viewer.v0+json": {
       "columns": [
        {
         "name": "index",
         "rawType": "int64",
         "type": "integer"
        },
        {
         "name": "age",
         "rawType": "int64",
         "type": "integer"
        },
        {
         "name": "score",
         "rawType": "int64",
         "type": "integer"
        }
       ],
       "ref": "b78a978a-7d6f-409e-ada3-249aca99ffd7",
       "rows": [
        [
         "0",
         "55",
         "96"
        ],
        [
         "1",
         "43",
         "84"
        ]
       ],
       "shape": {
        "columns": 2,
        "rows": 2
       }
      },
      "text/html": [
       "<div>\n",
       "<style scoped>\n",
       "    .dataframe tbody tr th:only-of-type {\n",
       "        vertical-align: middle;\n",
       "    }\n",
       "\n",
       "    .dataframe tbody tr th {\n",
       "        vertical-align: top;\n",
       "    }\n",
       "\n",
       "    .dataframe thead th {\n",
       "        text-align: right;\n",
       "    }\n",
       "</style>\n",
       "<table border=\"1\" class=\"dataframe\">\n",
       "  <thead>\n",
       "    <tr style=\"text-align: right;\">\n",
       "      <th></th>\n",
       "      <th>age</th>\n",
       "      <th>score</th>\n",
       "    </tr>\n",
       "  </thead>\n",
       "  <tbody>\n",
       "    <tr>\n",
       "      <th>0</th>\n",
       "      <td>55</td>\n",
       "      <td>96</td>\n",
       "    </tr>\n",
       "    <tr>\n",
       "      <th>1</th>\n",
       "      <td>43</td>\n",
       "      <td>84</td>\n",
       "    </tr>\n",
       "  </tbody>\n",
       "</table>\n",
       "</div>"
      ],
      "text/plain": [
       "   age  score\n",
       "0   55     96\n",
       "1   43     84"
      ]
     },
     "execution_count": 27,
     "metadata": {},
     "output_type": "execute_result"
    }
   ],
   "source": [
    "# use case where loc becomes useful\n",
    "df.loc[df['age']>40, ['age', 'score']]"
   ]
  },
  {
   "cell_type": "code",
   "execution_count": 28,
   "id": "4f626cf6",
   "metadata": {},
   "outputs": [
    {
     "data": {
      "application/vnd.microsoft.datawrangler.viewer.v0+json": {
       "columns": [
        {
         "name": "index",
         "rawType": "int64",
         "type": "integer"
        },
        {
         "name": "name",
         "rawType": "object",
         "type": "string"
        },
        {
         "name": "age",
         "rawType": "int64",
         "type": "integer"
        },
        {
         "name": "score",
         "rawType": "int64",
         "type": "integer"
        }
       ],
       "ref": "489c03b7-2cba-42d1-8f28-f2e1c6641aa2",
       "rows": [
        [
         "1",
         "Mike",
         "43",
         "84"
        ]
       ],
       "shape": {
        "columns": 3,
        "rows": 1
       }
      },
      "text/html": [
       "<div>\n",
       "<style scoped>\n",
       "    .dataframe tbody tr th:only-of-type {\n",
       "        vertical-align: middle;\n",
       "    }\n",
       "\n",
       "    .dataframe tbody tr th {\n",
       "        vertical-align: top;\n",
       "    }\n",
       "\n",
       "    .dataframe thead th {\n",
       "        text-align: right;\n",
       "    }\n",
       "</style>\n",
       "<table border=\"1\" class=\"dataframe\">\n",
       "  <thead>\n",
       "    <tr style=\"text-align: right;\">\n",
       "      <th></th>\n",
       "      <th>name</th>\n",
       "      <th>age</th>\n",
       "      <th>score</th>\n",
       "    </tr>\n",
       "  </thead>\n",
       "  <tbody>\n",
       "    <tr>\n",
       "      <th>1</th>\n",
       "      <td>Mike</td>\n",
       "      <td>43</td>\n",
       "      <td>84</td>\n",
       "    </tr>\n",
       "  </tbody>\n",
       "</table>\n",
       "</div>"
      ],
      "text/plain": [
       "   name  age  score\n",
       "1  Mike   43     84"
      ]
     },
     "execution_count": 28,
     "metadata": {},
     "output_type": "execute_result"
    }
   ],
   "source": [
    "df[(df['age']>40)&(df['score']<95)] "
   ]
  },
  {
   "cell_type": "markdown",
   "id": "1777b88b",
   "metadata": {},
   "source": [
    "Using `iloc[]`"
   ]
  },
  {
   "cell_type": "code",
   "execution_count": 29,
   "id": "ffc41d62",
   "metadata": {},
   "outputs": [
    {
     "data": {
      "application/vnd.microsoft.datawrangler.viewer.v0+json": {
       "columns": [
        {
         "name": "index",
         "rawType": "int64",
         "type": "integer"
        },
        {
         "name": "name",
         "rawType": "object",
         "type": "string"
        },
        {
         "name": "age",
         "rawType": "int64",
         "type": "integer"
        }
       ],
       "ref": "d04bc6a5-3ab0-4675-aca9-49d1d4ca81c9",
       "rows": [
        [
         "0",
         "Mark",
         "55"
        ],
        [
         "1",
         "Mike",
         "43"
        ]
       ],
       "shape": {
        "columns": 2,
        "rows": 2
       }
      },
      "text/html": [
       "<div>\n",
       "<style scoped>\n",
       "    .dataframe tbody tr th:only-of-type {\n",
       "        vertical-align: middle;\n",
       "    }\n",
       "\n",
       "    .dataframe tbody tr th {\n",
       "        vertical-align: top;\n",
       "    }\n",
       "\n",
       "    .dataframe thead th {\n",
       "        text-align: right;\n",
       "    }\n",
       "</style>\n",
       "<table border=\"1\" class=\"dataframe\">\n",
       "  <thead>\n",
       "    <tr style=\"text-align: right;\">\n",
       "      <th></th>\n",
       "      <th>name</th>\n",
       "      <th>age</th>\n",
       "    </tr>\n",
       "  </thead>\n",
       "  <tbody>\n",
       "    <tr>\n",
       "      <th>0</th>\n",
       "      <td>Mark</td>\n",
       "      <td>55</td>\n",
       "    </tr>\n",
       "    <tr>\n",
       "      <th>1</th>\n",
       "      <td>Mike</td>\n",
       "      <td>43</td>\n",
       "    </tr>\n",
       "  </tbody>\n",
       "</table>\n",
       "</div>"
      ],
      "text/plain": [
       "   name  age\n",
       "0  Mark   55\n",
       "1  Mike   43"
      ]
     },
     "execution_count": 29,
     "metadata": {},
     "output_type": "execute_result"
    }
   ],
   "source": [
    "# select first 2 rows with first 2 cols\n",
    "df.iloc[:2,:2]"
   ]
  },
  {
   "cell_type": "code",
   "execution_count": 30,
   "id": "2ed43498",
   "metadata": {},
   "outputs": [
    {
     "data": {
      "application/vnd.microsoft.datawrangler.viewer.v0+json": {
       "columns": [
        {
         "name": "index",
         "rawType": "int64",
         "type": "integer"
        },
        {
         "name": "name",
         "rawType": "object",
         "type": "string"
        },
        {
         "name": "age",
         "rawType": "int64",
         "type": "integer"
        },
        {
         "name": "score",
         "rawType": "int64",
         "type": "integer"
        }
       ],
       "ref": "5c952ed6-3377-4246-aaf7-942f05f349da",
       "rows": [
        [
         "0",
         "Mark",
         "55",
         "96"
        ],
        [
         "1",
         "Mike",
         "43",
         "84"
        ],
        [
         "2",
         "Tammy",
         "28",
         "79"
        ],
        [
         "3",
         "Becky",
         "35",
         "83"
        ]
       ],
       "shape": {
        "columns": 3,
        "rows": 4
       }
      },
      "text/html": [
       "<div>\n",
       "<style scoped>\n",
       "    .dataframe tbody tr th:only-of-type {\n",
       "        vertical-align: middle;\n",
       "    }\n",
       "\n",
       "    .dataframe tbody tr th {\n",
       "        vertical-align: top;\n",
       "    }\n",
       "\n",
       "    .dataframe thead th {\n",
       "        text-align: right;\n",
       "    }\n",
       "</style>\n",
       "<table border=\"1\" class=\"dataframe\">\n",
       "  <thead>\n",
       "    <tr style=\"text-align: right;\">\n",
       "      <th></th>\n",
       "      <th>name</th>\n",
       "      <th>age</th>\n",
       "      <th>score</th>\n",
       "    </tr>\n",
       "  </thead>\n",
       "  <tbody>\n",
       "    <tr>\n",
       "      <th>0</th>\n",
       "      <td>Mark</td>\n",
       "      <td>55</td>\n",
       "      <td>96</td>\n",
       "    </tr>\n",
       "    <tr>\n",
       "      <th>1</th>\n",
       "      <td>Mike</td>\n",
       "      <td>43</td>\n",
       "      <td>84</td>\n",
       "    </tr>\n",
       "    <tr>\n",
       "      <th>2</th>\n",
       "      <td>Tammy</td>\n",
       "      <td>28</td>\n",
       "      <td>79</td>\n",
       "    </tr>\n",
       "    <tr>\n",
       "      <th>3</th>\n",
       "      <td>Becky</td>\n",
       "      <td>35</td>\n",
       "      <td>83</td>\n",
       "    </tr>\n",
       "  </tbody>\n",
       "</table>\n",
       "</div>"
      ],
      "text/plain": [
       "    name  age  score\n",
       "0   Mark   55     96\n",
       "1   Mike   43     84\n",
       "2  Tammy   28     79\n",
       "3  Becky   35     83"
      ]
     },
     "execution_count": 30,
     "metadata": {},
     "output_type": "execute_result"
    }
   ],
   "source": [
    "df"
   ]
  },
  {
   "cell_type": "code",
   "execution_count": 31,
   "id": "7c75090f",
   "metadata": {},
   "outputs": [
    {
     "data": {
      "application/vnd.microsoft.datawrangler.viewer.v0+json": {
       "columns": [
        {
         "name": "index",
         "rawType": "object",
         "type": "string"
        },
        {
         "name": "3",
         "rawType": "object",
         "type": "unknown"
        }
       ],
       "ref": "14cdd397-6307-44bf-bf66-cddeda1ed4b5",
       "rows": [
        [
         "name",
         "Becky"
        ],
        [
         "age",
         "35"
        ],
        [
         "score",
         "83"
        ]
       ],
       "shape": {
        "columns": 1,
        "rows": 3
       }
      },
      "text/plain": [
       "name     Becky\n",
       "age         35\n",
       "score       83\n",
       "Name: 3, dtype: object"
      ]
     },
     "execution_count": 31,
     "metadata": {},
     "output_type": "execute_result"
    }
   ],
   "source": [
    "# you can use negative indices in iloc\n",
    "df.iloc[-1]"
   ]
  },
  {
   "cell_type": "code",
   "execution_count": 32,
   "id": "66eab700",
   "metadata": {},
   "outputs": [
    {
     "data": {
      "text/plain": [
       "83"
      ]
     },
     "execution_count": 32,
     "metadata": {},
     "output_type": "execute_result"
    }
   ],
   "source": [
    "df.iloc[-1,-1] #[row position, col position]"
   ]
  },
  {
   "cell_type": "code",
   "execution_count": 33,
   "id": "cb66e7cd",
   "metadata": {},
   "outputs": [
    {
     "data": {
      "application/vnd.microsoft.datawrangler.viewer.v0+json": {
       "columns": [
        {
         "name": "index",
         "rawType": "int64",
         "type": "integer"
        },
        {
         "name": "age",
         "rawType": "int64",
         "type": "integer"
        },
        {
         "name": "score",
         "rawType": "int64",
         "type": "integer"
        }
       ],
       "ref": "90563dc9-5fd3-4b27-928f-b9ba616c259e",
       "rows": [
        [
         "0",
         "55",
         "96"
        ],
        [
         "1",
         "43",
         "84"
        ],
        [
         "2",
         "28",
         "79"
        ],
        [
         "3",
         "35",
         "83"
        ]
       ],
       "shape": {
        "columns": 2,
        "rows": 4
       }
      },
      "text/html": [
       "<div>\n",
       "<style scoped>\n",
       "    .dataframe tbody tr th:only-of-type {\n",
       "        vertical-align: middle;\n",
       "    }\n",
       "\n",
       "    .dataframe tbody tr th {\n",
       "        vertical-align: top;\n",
       "    }\n",
       "\n",
       "    .dataframe thead th {\n",
       "        text-align: right;\n",
       "    }\n",
       "</style>\n",
       "<table border=\"1\" class=\"dataframe\">\n",
       "  <thead>\n",
       "    <tr style=\"text-align: right;\">\n",
       "      <th></th>\n",
       "      <th>age</th>\n",
       "      <th>score</th>\n",
       "    </tr>\n",
       "  </thead>\n",
       "  <tbody>\n",
       "    <tr>\n",
       "      <th>0</th>\n",
       "      <td>55</td>\n",
       "      <td>96</td>\n",
       "    </tr>\n",
       "    <tr>\n",
       "      <th>1</th>\n",
       "      <td>43</td>\n",
       "      <td>84</td>\n",
       "    </tr>\n",
       "    <tr>\n",
       "      <th>2</th>\n",
       "      <td>28</td>\n",
       "      <td>79</td>\n",
       "    </tr>\n",
       "    <tr>\n",
       "      <th>3</th>\n",
       "      <td>35</td>\n",
       "      <td>83</td>\n",
       "    </tr>\n",
       "  </tbody>\n",
       "</table>\n",
       "</div>"
      ],
      "text/plain": [
       "   age  score\n",
       "0   55     96\n",
       "1   43     84\n",
       "2   28     79\n",
       "3   35     83"
      ]
     },
     "execution_count": 33,
     "metadata": {},
     "output_type": "execute_result"
    }
   ],
   "source": [
    "#select all rows and last 2 columns\n",
    "df.iloc[:, 1:]"
   ]
  },
  {
   "cell_type": "code",
   "execution_count": 34,
   "id": "6aa6f48c",
   "metadata": {},
   "outputs": [
    {
     "data": {
      "application/vnd.microsoft.datawrangler.viewer.v0+json": {
       "columns": [
        {
         "name": "index",
         "rawType": "int64",
         "type": "integer"
        },
        {
         "name": "age",
         "rawType": "int64",
         "type": "integer"
        },
        {
         "name": "score",
         "rawType": "int64",
         "type": "integer"
        }
       ],
       "ref": "40bc903e-f514-4bae-994b-35d5b5d5fb11",
       "rows": [
        [
         "0",
         "55",
         "96"
        ],
        [
         "1",
         "43",
         "84"
        ],
        [
         "2",
         "28",
         "79"
        ],
        [
         "3",
         "35",
         "83"
        ]
       ],
       "shape": {
        "columns": 2,
        "rows": 4
       }
      },
      "text/html": [
       "<div>\n",
       "<style scoped>\n",
       "    .dataframe tbody tr th:only-of-type {\n",
       "        vertical-align: middle;\n",
       "    }\n",
       "\n",
       "    .dataframe tbody tr th {\n",
       "        vertical-align: top;\n",
       "    }\n",
       "\n",
       "    .dataframe thead th {\n",
       "        text-align: right;\n",
       "    }\n",
       "</style>\n",
       "<table border=\"1\" class=\"dataframe\">\n",
       "  <thead>\n",
       "    <tr style=\"text-align: right;\">\n",
       "      <th></th>\n",
       "      <th>age</th>\n",
       "      <th>score</th>\n",
       "    </tr>\n",
       "  </thead>\n",
       "  <tbody>\n",
       "    <tr>\n",
       "      <th>0</th>\n",
       "      <td>55</td>\n",
       "      <td>96</td>\n",
       "    </tr>\n",
       "    <tr>\n",
       "      <th>1</th>\n",
       "      <td>43</td>\n",
       "      <td>84</td>\n",
       "    </tr>\n",
       "    <tr>\n",
       "      <th>2</th>\n",
       "      <td>28</td>\n",
       "      <td>79</td>\n",
       "    </tr>\n",
       "    <tr>\n",
       "      <th>3</th>\n",
       "      <td>35</td>\n",
       "      <td>83</td>\n",
       "    </tr>\n",
       "  </tbody>\n",
       "</table>\n",
       "</div>"
      ],
      "text/plain": [
       "   age  score\n",
       "0   55     96\n",
       "1   43     84\n",
       "2   28     79\n",
       "3   35     83"
      ]
     },
     "execution_count": 34,
     "metadata": {},
     "output_type": "execute_result"
    }
   ],
   "source": [
    "df.iloc[:, -2:]"
   ]
  },
  {
   "cell_type": "markdown",
   "id": "09ebda25",
   "metadata": {},
   "source": [
    "**Summary**\n",
    "- Use `loc[]`\n",
    "    - You need to access data using row index and the header name\n",
    "    - column position might change, and you want to ensure that you are accessing the correct column by name\n",
    "    - the column name must be stable \n",
    "    - you want the code more readable \n",
    "- Use `iloc[]`\n",
    "    - You need to access data using indices by their positions\n",
    "    - The column name might change, and you want to ensure that you are accessing the correct column by position\n",
    "    - the column position must be stable"
   ]
  },
  {
   "cell_type": "code",
   "execution_count": 35,
   "id": "63190616",
   "metadata": {},
   "outputs": [
    {
     "data": {
      "text/plain": [
       "list"
      ]
     },
     "execution_count": 35,
     "metadata": {},
     "output_type": "execute_result"
    }
   ],
   "source": [
    "# creating a dataframe from lists\n",
    "\n",
    "data = [['Mark', 'Mike', 'Tammy', 'Becky'],\n",
    "        [55,43,28,35],\n",
    "        [96,84,79,83]\n",
    "        ]\n",
    "\n",
    "type(data)"
   ]
  },
  {
   "cell_type": "code",
   "execution_count": 36,
   "id": "f7d53694",
   "metadata": {},
   "outputs": [
    {
     "data": {
      "application/vnd.microsoft.datawrangler.viewer.v0+json": {
       "columns": [
        {
         "name": "index",
         "rawType": "int64",
         "type": "integer"
        },
        {
         "name": "0",
         "rawType": "object",
         "type": "unknown"
        },
        {
         "name": "1",
         "rawType": "object",
         "type": "unknown"
        },
        {
         "name": "2",
         "rawType": "object",
         "type": "unknown"
        },
        {
         "name": "3",
         "rawType": "object",
         "type": "unknown"
        }
       ],
       "ref": "7dc1438d-dfb9-4740-9241-6dabb11d53a8",
       "rows": [
        [
         "0",
         "Mark",
         "Mike",
         "Tammy",
         "Becky"
        ],
        [
         "1",
         "55",
         "43",
         "28",
         "35"
        ],
        [
         "2",
         "96",
         "84",
         "79",
         "83"
        ]
       ],
       "shape": {
        "columns": 4,
        "rows": 3
       }
      },
      "text/html": [
       "<div>\n",
       "<style scoped>\n",
       "    .dataframe tbody tr th:only-of-type {\n",
       "        vertical-align: middle;\n",
       "    }\n",
       "\n",
       "    .dataframe tbody tr th {\n",
       "        vertical-align: top;\n",
       "    }\n",
       "\n",
       "    .dataframe thead th {\n",
       "        text-align: right;\n",
       "    }\n",
       "</style>\n",
       "<table border=\"1\" class=\"dataframe\">\n",
       "  <thead>\n",
       "    <tr style=\"text-align: right;\">\n",
       "      <th></th>\n",
       "      <th>0</th>\n",
       "      <th>1</th>\n",
       "      <th>2</th>\n",
       "      <th>3</th>\n",
       "    </tr>\n",
       "  </thead>\n",
       "  <tbody>\n",
       "    <tr>\n",
       "      <th>0</th>\n",
       "      <td>Mark</td>\n",
       "      <td>Mike</td>\n",
       "      <td>Tammy</td>\n",
       "      <td>Becky</td>\n",
       "    </tr>\n",
       "    <tr>\n",
       "      <th>1</th>\n",
       "      <td>55</td>\n",
       "      <td>43</td>\n",
       "      <td>28</td>\n",
       "      <td>35</td>\n",
       "    </tr>\n",
       "    <tr>\n",
       "      <th>2</th>\n",
       "      <td>96</td>\n",
       "      <td>84</td>\n",
       "      <td>79</td>\n",
       "      <td>83</td>\n",
       "    </tr>\n",
       "  </tbody>\n",
       "</table>\n",
       "</div>"
      ],
      "text/plain": [
       "      0     1      2      3\n",
       "0  Mark  Mike  Tammy  Becky\n",
       "1    55    43     28     35\n",
       "2    96    84     79     83"
      ]
     },
     "execution_count": 36,
     "metadata": {},
     "output_type": "execute_result"
    }
   ],
   "source": [
    "df = pd.DataFrame(data)\n",
    "df"
   ]
  },
  {
   "cell_type": "code",
   "execution_count": 37,
   "id": "ecb169f2",
   "metadata": {},
   "outputs": [
    {
     "data": {
      "application/vnd.microsoft.datawrangler.viewer.v0+json": {
       "columns": [
        {
         "name": "index",
         "rawType": "int64",
         "type": "integer"
        },
        {
         "name": "0",
         "rawType": "object",
         "type": "string"
        },
        {
         "name": "1",
         "rawType": "object",
         "type": "unknown"
        },
        {
         "name": "2",
         "rawType": "object",
         "type": "unknown"
        }
       ],
       "ref": "60487801-c674-423c-8629-ef50a9efe06c",
       "rows": [
        [
         "0",
         "Mark",
         "55",
         "96"
        ],
        [
         "1",
         "Mike",
         "43",
         "84"
        ],
        [
         "2",
         "Tammy",
         "28",
         "79"
        ],
        [
         "3",
         "Becky",
         "35",
         "83"
        ]
       ],
       "shape": {
        "columns": 3,
        "rows": 4
       }
      },
      "text/html": [
       "<div>\n",
       "<style scoped>\n",
       "    .dataframe tbody tr th:only-of-type {\n",
       "        vertical-align: middle;\n",
       "    }\n",
       "\n",
       "    .dataframe tbody tr th {\n",
       "        vertical-align: top;\n",
       "    }\n",
       "\n",
       "    .dataframe thead th {\n",
       "        text-align: right;\n",
       "    }\n",
       "</style>\n",
       "<table border=\"1\" class=\"dataframe\">\n",
       "  <thead>\n",
       "    <tr style=\"text-align: right;\">\n",
       "      <th></th>\n",
       "      <th>0</th>\n",
       "      <th>1</th>\n",
       "      <th>2</th>\n",
       "    </tr>\n",
       "  </thead>\n",
       "  <tbody>\n",
       "    <tr>\n",
       "      <th>0</th>\n",
       "      <td>Mark</td>\n",
       "      <td>55</td>\n",
       "      <td>96</td>\n",
       "    </tr>\n",
       "    <tr>\n",
       "      <th>1</th>\n",
       "      <td>Mike</td>\n",
       "      <td>43</td>\n",
       "      <td>84</td>\n",
       "    </tr>\n",
       "    <tr>\n",
       "      <th>2</th>\n",
       "      <td>Tammy</td>\n",
       "      <td>28</td>\n",
       "      <td>79</td>\n",
       "    </tr>\n",
       "    <tr>\n",
       "      <th>3</th>\n",
       "      <td>Becky</td>\n",
       "      <td>35</td>\n",
       "      <td>83</td>\n",
       "    </tr>\n",
       "  </tbody>\n",
       "</table>\n",
       "</div>"
      ],
      "text/plain": [
       "       0   1   2\n",
       "0   Mark  55  96\n",
       "1   Mike  43  84\n",
       "2  Tammy  28  79\n",
       "3  Becky  35  83"
      ]
     },
     "execution_count": 37,
     "metadata": {},
     "output_type": "execute_result"
    }
   ],
   "source": [
    "df = df.T #transpose\n",
    "df"
   ]
  },
  {
   "cell_type": "code",
   "execution_count": 38,
   "id": "44675a2d",
   "metadata": {},
   "outputs": [
    {
     "data": {
      "application/vnd.microsoft.datawrangler.viewer.v0+json": {
       "columns": [
        {
         "name": "index",
         "rawType": "int64",
         "type": "integer"
        },
        {
         "name": "Names",
         "rawType": "object",
         "type": "string"
        },
        {
         "name": "Age",
         "rawType": "object",
         "type": "unknown"
        },
        {
         "name": "Score",
         "rawType": "object",
         "type": "unknown"
        }
       ],
       "ref": "d0503873-eaf0-4ad1-b34d-84ca4852496e",
       "rows": [
        [
         "0",
         "Mark",
         "55",
         "96"
        ],
        [
         "1",
         "Mike",
         "43",
         "84"
        ],
        [
         "2",
         "Tammy",
         "28",
         "79"
        ],
        [
         "3",
         "Becky",
         "35",
         "83"
        ]
       ],
       "shape": {
        "columns": 3,
        "rows": 4
       }
      },
      "text/html": [
       "<div>\n",
       "<style scoped>\n",
       "    .dataframe tbody tr th:only-of-type {\n",
       "        vertical-align: middle;\n",
       "    }\n",
       "\n",
       "    .dataframe tbody tr th {\n",
       "        vertical-align: top;\n",
       "    }\n",
       "\n",
       "    .dataframe thead th {\n",
       "        text-align: right;\n",
       "    }\n",
       "</style>\n",
       "<table border=\"1\" class=\"dataframe\">\n",
       "  <thead>\n",
       "    <tr style=\"text-align: right;\">\n",
       "      <th></th>\n",
       "      <th>Names</th>\n",
       "      <th>Age</th>\n",
       "      <th>Score</th>\n",
       "    </tr>\n",
       "  </thead>\n",
       "  <tbody>\n",
       "    <tr>\n",
       "      <th>0</th>\n",
       "      <td>Mark</td>\n",
       "      <td>55</td>\n",
       "      <td>96</td>\n",
       "    </tr>\n",
       "    <tr>\n",
       "      <th>1</th>\n",
       "      <td>Mike</td>\n",
       "      <td>43</td>\n",
       "      <td>84</td>\n",
       "    </tr>\n",
       "    <tr>\n",
       "      <th>2</th>\n",
       "      <td>Tammy</td>\n",
       "      <td>28</td>\n",
       "      <td>79</td>\n",
       "    </tr>\n",
       "    <tr>\n",
       "      <th>3</th>\n",
       "      <td>Becky</td>\n",
       "      <td>35</td>\n",
       "      <td>83</td>\n",
       "    </tr>\n",
       "  </tbody>\n",
       "</table>\n",
       "</div>"
      ],
      "text/plain": [
       "   Names Age Score\n",
       "0   Mark  55    96\n",
       "1   Mike  43    84\n",
       "2  Tammy  28    79\n",
       "3  Becky  35    83"
      ]
     },
     "execution_count": 38,
     "metadata": {},
     "output_type": "execute_result"
    }
   ],
   "source": [
    "# rename the columns\n",
    "df.columns = ['Names', 'Age', 'Score']\n",
    "df"
   ]
  },
  {
   "cell_type": "code",
   "execution_count": 39,
   "id": "863ec7aa",
   "metadata": {},
   "outputs": [
    {
     "data": {
      "application/vnd.microsoft.datawrangler.viewer.v0+json": {
       "columns": [
        {
         "name": "index",
         "rawType": "int64",
         "type": "integer"
        },
        {
         "name": "Names",
         "rawType": "object",
         "type": "string"
        },
        {
         "name": "Age",
         "rawType": "object",
         "type": "unknown"
        },
        {
         "name": "Score",
         "rawType": "object",
         "type": "unknown"
        }
       ],
       "ref": "be9f9986-3e1a-4250-85ba-a6c700b333a8",
       "rows": [
        [
         "0",
         "Mark",
         "55",
         "96"
        ],
        [
         "1",
         "Mike",
         "43",
         "84"
        ],
        [
         "2",
         "Tammy",
         "28",
         "79"
        ],
        [
         "3",
         "Becky",
         "35",
         "83"
        ]
       ],
       "shape": {
        "columns": 3,
        "rows": 4
       }
      },
      "text/html": [
       "<div>\n",
       "<style scoped>\n",
       "    .dataframe tbody tr th:only-of-type {\n",
       "        vertical-align: middle;\n",
       "    }\n",
       "\n",
       "    .dataframe tbody tr th {\n",
       "        vertical-align: top;\n",
       "    }\n",
       "\n",
       "    .dataframe thead th {\n",
       "        text-align: right;\n",
       "    }\n",
       "</style>\n",
       "<table border=\"1\" class=\"dataframe\">\n",
       "  <thead>\n",
       "    <tr style=\"text-align: right;\">\n",
       "      <th></th>\n",
       "      <th>Names</th>\n",
       "      <th>Age</th>\n",
       "      <th>Score</th>\n",
       "    </tr>\n",
       "  </thead>\n",
       "  <tbody>\n",
       "    <tr>\n",
       "      <th>0</th>\n",
       "      <td>Mark</td>\n",
       "      <td>55</td>\n",
       "      <td>96</td>\n",
       "    </tr>\n",
       "    <tr>\n",
       "      <th>1</th>\n",
       "      <td>Mike</td>\n",
       "      <td>43</td>\n",
       "      <td>84</td>\n",
       "    </tr>\n",
       "    <tr>\n",
       "      <th>2</th>\n",
       "      <td>Tammy</td>\n",
       "      <td>28</td>\n",
       "      <td>79</td>\n",
       "    </tr>\n",
       "    <tr>\n",
       "      <th>3</th>\n",
       "      <td>Becky</td>\n",
       "      <td>35</td>\n",
       "      <td>83</td>\n",
       "    </tr>\n",
       "  </tbody>\n",
       "</table>\n",
       "</div>"
      ],
      "text/plain": [
       "   Names Age Score\n",
       "0   Mark  55    96\n",
       "1   Mike  43    84\n",
       "2  Tammy  28    79\n",
       "3  Becky  35    83"
      ]
     },
     "execution_count": 39,
     "metadata": {},
     "output_type": "execute_result"
    }
   ],
   "source": [
    "# do everything in one shot\n",
    "df = pd.DataFrame(data, index=['Names', 'Age', 'Score']).T\n",
    "df"
   ]
  },
  {
   "cell_type": "markdown",
   "id": "4ef26ca8",
   "metadata": {},
   "source": [
    "## Pandas Iteration Methods"
   ]
  },
  {
   "cell_type": "code",
   "execution_count": 40,
   "id": "c7cd3822",
   "metadata": {},
   "outputs": [
    {
     "data": {
      "application/vnd.microsoft.datawrangler.viewer.v0+json": {
       "columns": [
        {
         "name": "index",
         "rawType": "int64",
         "type": "integer"
        },
        {
         "name": "name",
         "rawType": "object",
         "type": "string"
        },
        {
         "name": "age",
         "rawType": "int64",
         "type": "integer"
        },
        {
         "name": "score",
         "rawType": "int64",
         "type": "integer"
        },
        {
         "name": "city",
         "rawType": "object",
         "type": "string"
        }
       ],
       "ref": "f25f3899-016c-4bab-bef6-726e88a6fbc5",
       "rows": [
        [
         "0",
         "Mark",
         "55",
         "96",
         "New York"
        ],
        [
         "1",
         "Mike",
         "43",
         "84",
         "Nashville"
        ],
        [
         "2",
         "Tammy",
         "28",
         "79",
         "Atlanta"
        ],
        [
         "3",
         "Becky",
         "35",
         "83",
         "Boston"
        ],
        [
         "4",
         "John",
         "38",
         "88",
         "San Diego"
        ]
       ],
       "shape": {
        "columns": 4,
        "rows": 5
       }
      },
      "text/html": [
       "<div>\n",
       "<style scoped>\n",
       "    .dataframe tbody tr th:only-of-type {\n",
       "        vertical-align: middle;\n",
       "    }\n",
       "\n",
       "    .dataframe tbody tr th {\n",
       "        vertical-align: top;\n",
       "    }\n",
       "\n",
       "    .dataframe thead th {\n",
       "        text-align: right;\n",
       "    }\n",
       "</style>\n",
       "<table border=\"1\" class=\"dataframe\">\n",
       "  <thead>\n",
       "    <tr style=\"text-align: right;\">\n",
       "      <th></th>\n",
       "      <th>name</th>\n",
       "      <th>age</th>\n",
       "      <th>score</th>\n",
       "      <th>city</th>\n",
       "    </tr>\n",
       "  </thead>\n",
       "  <tbody>\n",
       "    <tr>\n",
       "      <th>0</th>\n",
       "      <td>Mark</td>\n",
       "      <td>55</td>\n",
       "      <td>96</td>\n",
       "      <td>New York</td>\n",
       "    </tr>\n",
       "    <tr>\n",
       "      <th>1</th>\n",
       "      <td>Mike</td>\n",
       "      <td>43</td>\n",
       "      <td>84</td>\n",
       "      <td>Nashville</td>\n",
       "    </tr>\n",
       "    <tr>\n",
       "      <th>2</th>\n",
       "      <td>Tammy</td>\n",
       "      <td>28</td>\n",
       "      <td>79</td>\n",
       "      <td>Atlanta</td>\n",
       "    </tr>\n",
       "    <tr>\n",
       "      <th>3</th>\n",
       "      <td>Becky</td>\n",
       "      <td>35</td>\n",
       "      <td>83</td>\n",
       "      <td>Boston</td>\n",
       "    </tr>\n",
       "    <tr>\n",
       "      <th>4</th>\n",
       "      <td>John</td>\n",
       "      <td>38</td>\n",
       "      <td>88</td>\n",
       "      <td>San Diego</td>\n",
       "    </tr>\n",
       "  </tbody>\n",
       "</table>\n",
       "</div>"
      ],
      "text/plain": [
       "    name  age  score       city\n",
       "0   Mark   55     96   New York\n",
       "1   Mike   43     84  Nashville\n",
       "2  Tammy   28     79    Atlanta\n",
       "3  Becky   35     83     Boston\n",
       "4   John   38     88  San Diego"
      ]
     },
     "execution_count": 40,
     "metadata": {},
     "output_type": "execute_result"
    }
   ],
   "source": [
    "#dictionary \n",
    "data = {'name':['Mark', 'Mike', 'Tammy', 'Becky', 'John'],\n",
    "        'age':[55,43,28,35, 38],\n",
    "        'score':[96,84,79,83,88],\n",
    "        'city':['New York', 'Nashville', 'Atlanta', 'Boston', 'San Diego']\n",
    "        }\n",
    "\n",
    "df = pd.DataFrame(data)\n",
    "df"
   ]
  },
  {
   "cell_type": "code",
   "execution_count": 41,
   "id": "edc4ef1a",
   "metadata": {},
   "outputs": [
    {
     "name": "stdout",
     "output_type": "stream",
     "text": [
      "Mark is 55 years old\n"
     ]
    }
   ],
   "source": [
    "print(f\"{df.loc[0,'name']} is {df.loc[0,'age']} years old\")"
   ]
  },
  {
   "cell_type": "markdown",
   "id": "2540b05b",
   "metadata": {},
   "source": [
    "#### Method 1 - Using the `df.index`"
   ]
  },
  {
   "cell_type": "code",
   "execution_count": 42,
   "id": "0c813a65",
   "metadata": {},
   "outputs": [
    {
     "data": {
      "text/plain": [
       "RangeIndex(start=0, stop=5, step=1)"
      ]
     },
     "execution_count": 42,
     "metadata": {},
     "output_type": "execute_result"
    }
   ],
   "source": [
    "df.index"
   ]
  },
  {
   "cell_type": "code",
   "execution_count": 43,
   "id": "b1898732",
   "metadata": {},
   "outputs": [
    {
     "name": "stdout",
     "output_type": "stream",
     "text": [
      "Mark is 55 years old\n",
      "Mike is 43 years old\n",
      "Tammy is 28 years old\n",
      "Becky is 35 years old\n",
      "John is 38 years old\n"
     ]
    }
   ],
   "source": [
    "for i in df.index:\n",
    "    print(f\"{df.loc[i,'name']} is {df.loc[i,'age']} years old\")"
   ]
  },
  {
   "cell_type": "markdown",
   "id": "066bf944",
   "metadata": {},
   "source": [
    "#### Method 2 - Using `iterrows()`"
   ]
  },
  {
   "cell_type": "code",
   "execution_count": 44,
   "id": "45702694",
   "metadata": {},
   "outputs": [
    {
     "name": "stdout",
     "output_type": "stream",
     "text": [
      "Person 1: Mark is 55 years old - location New York\n",
      "Person 2: Mike is 43 years old - location Nashville\n",
      "Person 3: Tammy is 28 years old - location Atlanta\n",
      "Person 4: Becky is 35 years old - location Boston\n",
      "Person 5: John is 38 years old - location San Diego\n"
     ]
    }
   ],
   "source": [
    "for i, row in df.iterrows():\n",
    "    print(f\"Person {i+1}: {row['name']} is {row['age']} years old - location {row['city']}\")"
   ]
  },
  {
   "cell_type": "code",
   "execution_count": 45,
   "id": "1e7292ed",
   "metadata": {},
   "outputs": [],
   "source": [
    "# before editing the df, it's recommended to make a backup of it\n",
    "df_org = df.copy()"
   ]
  },
  {
   "cell_type": "code",
   "execution_count": 46,
   "id": "2e9308cd",
   "metadata": {},
   "outputs": [
    {
     "data": {
      "application/vnd.microsoft.datawrangler.viewer.v0+json": {
       "columns": [
        {
         "name": "index",
         "rawType": "int64",
         "type": "integer"
        },
        {
         "name": "name",
         "rawType": "object",
         "type": "string"
        },
        {
         "name": "age",
         "rawType": "int64",
         "type": "integer"
        },
        {
         "name": "score",
         "rawType": "int64",
         "type": "integer"
        },
        {
         "name": "city",
         "rawType": "object",
         "type": "string"
        }
       ],
       "ref": "db8e0f10-0be3-4e0c-a49a-6ca12809a010",
       "rows": [
        [
         "0",
         "Mark",
         "55",
         "96",
         "New York"
        ],
        [
         "1",
         "Mike",
         "43",
         "84",
         "Nashville"
        ],
        [
         "2",
         "Tammy",
         "28",
         "79",
         "Atlanta"
        ],
        [
         "3",
         "Becky",
         "35",
         "83",
         "Boston"
        ],
        [
         "4",
         "John",
         "38",
         "88",
         "San Diego"
        ]
       ],
       "shape": {
        "columns": 4,
        "rows": 5
       }
      },
      "text/html": [
       "<div>\n",
       "<style scoped>\n",
       "    .dataframe tbody tr th:only-of-type {\n",
       "        vertical-align: middle;\n",
       "    }\n",
       "\n",
       "    .dataframe tbody tr th {\n",
       "        vertical-align: top;\n",
       "    }\n",
       "\n",
       "    .dataframe thead th {\n",
       "        text-align: right;\n",
       "    }\n",
       "</style>\n",
       "<table border=\"1\" class=\"dataframe\">\n",
       "  <thead>\n",
       "    <tr style=\"text-align: right;\">\n",
       "      <th></th>\n",
       "      <th>name</th>\n",
       "      <th>age</th>\n",
       "      <th>score</th>\n",
       "      <th>city</th>\n",
       "    </tr>\n",
       "  </thead>\n",
       "  <tbody>\n",
       "    <tr>\n",
       "      <th>0</th>\n",
       "      <td>Mark</td>\n",
       "      <td>55</td>\n",
       "      <td>96</td>\n",
       "      <td>New York</td>\n",
       "    </tr>\n",
       "    <tr>\n",
       "      <th>1</th>\n",
       "      <td>Mike</td>\n",
       "      <td>43</td>\n",
       "      <td>84</td>\n",
       "      <td>Nashville</td>\n",
       "    </tr>\n",
       "    <tr>\n",
       "      <th>2</th>\n",
       "      <td>Tammy</td>\n",
       "      <td>28</td>\n",
       "      <td>79</td>\n",
       "      <td>Atlanta</td>\n",
       "    </tr>\n",
       "    <tr>\n",
       "      <th>3</th>\n",
       "      <td>Becky</td>\n",
       "      <td>35</td>\n",
       "      <td>83</td>\n",
       "      <td>Boston</td>\n",
       "    </tr>\n",
       "    <tr>\n",
       "      <th>4</th>\n",
       "      <td>John</td>\n",
       "      <td>38</td>\n",
       "      <td>88</td>\n",
       "      <td>San Diego</td>\n",
       "    </tr>\n",
       "  </tbody>\n",
       "</table>\n",
       "</div>"
      ],
      "text/plain": [
       "    name  age  score       city\n",
       "0   Mark   55     96   New York\n",
       "1   Mike   43     84  Nashville\n",
       "2  Tammy   28     79    Atlanta\n",
       "3  Becky   35     83     Boston\n",
       "4   John   38     88  San Diego"
      ]
     },
     "execution_count": 46,
     "metadata": {},
     "output_type": "execute_result"
    }
   ],
   "source": [
    "df_org"
   ]
  },
  {
   "cell_type": "code",
   "execution_count": 47,
   "id": "275462db",
   "metadata": {},
   "outputs": [
    {
     "data": {
      "application/vnd.microsoft.datawrangler.viewer.v0+json": {
       "columns": [
        {
         "name": "index",
         "rawType": "int64",
         "type": "integer"
        },
        {
         "name": "name",
         "rawType": "object",
         "type": "string"
        },
        {
         "name": "age",
         "rawType": "int64",
         "type": "integer"
        },
        {
         "name": "score",
         "rawType": "int64",
         "type": "integer"
        },
        {
         "name": "city",
         "rawType": "object",
         "type": "string"
        }
       ],
       "ref": "8b08df46-ad82-468f-b102-29d6762805e4",
       "rows": [
        [
         "0",
         "Mark",
         "60",
         "96",
         "New York"
        ],
        [
         "1",
         "Mike",
         "48",
         "84",
         "Nashville"
        ],
        [
         "2",
         "Tammy",
         "33",
         "79",
         "Atlanta"
        ],
        [
         "3",
         "Becky",
         "40",
         "83",
         "Boston"
        ],
        [
         "4",
         "John",
         "43",
         "88",
         "San Diego"
        ]
       ],
       "shape": {
        "columns": 4,
        "rows": 5
       }
      },
      "text/html": [
       "<div>\n",
       "<style scoped>\n",
       "    .dataframe tbody tr th:only-of-type {\n",
       "        vertical-align: middle;\n",
       "    }\n",
       "\n",
       "    .dataframe tbody tr th {\n",
       "        vertical-align: top;\n",
       "    }\n",
       "\n",
       "    .dataframe thead th {\n",
       "        text-align: right;\n",
       "    }\n",
       "</style>\n",
       "<table border=\"1\" class=\"dataframe\">\n",
       "  <thead>\n",
       "    <tr style=\"text-align: right;\">\n",
       "      <th></th>\n",
       "      <th>name</th>\n",
       "      <th>age</th>\n",
       "      <th>score</th>\n",
       "      <th>city</th>\n",
       "    </tr>\n",
       "  </thead>\n",
       "  <tbody>\n",
       "    <tr>\n",
       "      <th>0</th>\n",
       "      <td>Mark</td>\n",
       "      <td>60</td>\n",
       "      <td>96</td>\n",
       "      <td>New York</td>\n",
       "    </tr>\n",
       "    <tr>\n",
       "      <th>1</th>\n",
       "      <td>Mike</td>\n",
       "      <td>48</td>\n",
       "      <td>84</td>\n",
       "      <td>Nashville</td>\n",
       "    </tr>\n",
       "    <tr>\n",
       "      <th>2</th>\n",
       "      <td>Tammy</td>\n",
       "      <td>33</td>\n",
       "      <td>79</td>\n",
       "      <td>Atlanta</td>\n",
       "    </tr>\n",
       "    <tr>\n",
       "      <th>3</th>\n",
       "      <td>Becky</td>\n",
       "      <td>40</td>\n",
       "      <td>83</td>\n",
       "      <td>Boston</td>\n",
       "    </tr>\n",
       "    <tr>\n",
       "      <th>4</th>\n",
       "      <td>John</td>\n",
       "      <td>43</td>\n",
       "      <td>88</td>\n",
       "      <td>San Diego</td>\n",
       "    </tr>\n",
       "  </tbody>\n",
       "</table>\n",
       "</div>"
      ],
      "text/plain": [
       "    name  age  score       city\n",
       "0   Mark   60     96   New York\n",
       "1   Mike   48     84  Nashville\n",
       "2  Tammy   33     79    Atlanta\n",
       "3  Becky   40     83     Boston\n",
       "4   John   43     88  San Diego"
      ]
     },
     "execution_count": 47,
     "metadata": {},
     "output_type": "execute_result"
    }
   ],
   "source": [
    "# increase the age of the people by 5 years\n",
    "df['age'] = df['age'] + 5\n",
    "df"
   ]
  },
  {
   "cell_type": "code",
   "execution_count": 48,
   "id": "8b294108",
   "metadata": {},
   "outputs": [
    {
     "data": {
      "application/vnd.microsoft.datawrangler.viewer.v0+json": {
       "columns": [
        {
         "name": "index",
         "rawType": "int64",
         "type": "integer"
        },
        {
         "name": "name",
         "rawType": "object",
         "type": "string"
        },
        {
         "name": "age",
         "rawType": "int64",
         "type": "integer"
        },
        {
         "name": "score",
         "rawType": "int64",
         "type": "integer"
        },
        {
         "name": "city",
         "rawType": "object",
         "type": "string"
        },
        {
         "name": "discount",
         "rawType": "object",
         "type": "string"
        }
       ],
       "ref": "c049f787-f077-4892-95f9-b282058d553c",
       "rows": [
        [
         "0",
         "Mark",
         "60",
         "96",
         "New York",
         "yes"
        ],
        [
         "1",
         "Mike",
         "48",
         "84",
         "Nashville",
         "yes"
        ],
        [
         "2",
         "Tammy",
         "33",
         "79",
         "Atlanta",
         "no"
        ],
        [
         "3",
         "Becky",
         "40",
         "83",
         "Boston",
         "no"
        ],
        [
         "4",
         "John",
         "43",
         "88",
         "San Diego",
         "yes"
        ]
       ],
       "shape": {
        "columns": 5,
        "rows": 5
       }
      },
      "text/html": [
       "<div>\n",
       "<style scoped>\n",
       "    .dataframe tbody tr th:only-of-type {\n",
       "        vertical-align: middle;\n",
       "    }\n",
       "\n",
       "    .dataframe tbody tr th {\n",
       "        vertical-align: top;\n",
       "    }\n",
       "\n",
       "    .dataframe thead th {\n",
       "        text-align: right;\n",
       "    }\n",
       "</style>\n",
       "<table border=\"1\" class=\"dataframe\">\n",
       "  <thead>\n",
       "    <tr style=\"text-align: right;\">\n",
       "      <th></th>\n",
       "      <th>name</th>\n",
       "      <th>age</th>\n",
       "      <th>score</th>\n",
       "      <th>city</th>\n",
       "      <th>discount</th>\n",
       "    </tr>\n",
       "  </thead>\n",
       "  <tbody>\n",
       "    <tr>\n",
       "      <th>0</th>\n",
       "      <td>Mark</td>\n",
       "      <td>60</td>\n",
       "      <td>96</td>\n",
       "      <td>New York</td>\n",
       "      <td>yes</td>\n",
       "    </tr>\n",
       "    <tr>\n",
       "      <th>1</th>\n",
       "      <td>Mike</td>\n",
       "      <td>48</td>\n",
       "      <td>84</td>\n",
       "      <td>Nashville</td>\n",
       "      <td>yes</td>\n",
       "    </tr>\n",
       "    <tr>\n",
       "      <th>2</th>\n",
       "      <td>Tammy</td>\n",
       "      <td>33</td>\n",
       "      <td>79</td>\n",
       "      <td>Atlanta</td>\n",
       "      <td>no</td>\n",
       "    </tr>\n",
       "    <tr>\n",
       "      <th>3</th>\n",
       "      <td>Becky</td>\n",
       "      <td>40</td>\n",
       "      <td>83</td>\n",
       "      <td>Boston</td>\n",
       "      <td>no</td>\n",
       "    </tr>\n",
       "    <tr>\n",
       "      <th>4</th>\n",
       "      <td>John</td>\n",
       "      <td>43</td>\n",
       "      <td>88</td>\n",
       "      <td>San Diego</td>\n",
       "      <td>yes</td>\n",
       "    </tr>\n",
       "  </tbody>\n",
       "</table>\n",
       "</div>"
      ],
      "text/plain": [
       "    name  age  score       city discount\n",
       "0   Mark   60     96   New York      yes\n",
       "1   Mike   48     84  Nashville      yes\n",
       "2  Tammy   33     79    Atlanta       no\n",
       "3  Becky   40     83     Boston       no\n",
       "4   John   43     88  San Diego      yes"
      ]
     },
     "execution_count": 48,
     "metadata": {},
     "output_type": "execute_result"
    }
   ],
   "source": [
    "## create a column that indicates whether the person has a discount based on age > 43\n",
    "df['discount'] = df['age'].apply(lambda x: 'yes' if x > 40 else 'no')\n",
    "df"
   ]
  },
  {
   "cell_type": "markdown",
   "id": "3315cf68",
   "metadata": {},
   "source": [
    "```SQL\n",
    "SELECT name, age, score, city,\n",
    "    CASE WHEN age > 40 THEN 'yes'\n",
    "    ELSE 'no'\n",
    "    END AS discount\n",
    "FROM df\n",
    "```"
   ]
  },
  {
   "cell_type": "markdown",
   "id": "e63ea104",
   "metadata": {},
   "source": [
    "Applying a defined function instead of `lambda`"
   ]
  },
  {
   "cell_type": "code",
   "execution_count": 49,
   "id": "51045d0c",
   "metadata": {},
   "outputs": [],
   "source": [
    "def age_categ(row):\n",
    "    if row['age'] > 50:\n",
    "        return 'Senior'\n",
    "    elif row['age'] > 40:\n",
    "        return 'Mid-Age'\n",
    "    else:\n",
    "        return 'Junior'"
   ]
  },
  {
   "cell_type": "code",
   "execution_count": 50,
   "id": "8773d835",
   "metadata": {},
   "outputs": [
    {
     "data": {
      "application/vnd.microsoft.datawrangler.viewer.v0+json": {
       "columns": [
        {
         "name": "index",
         "rawType": "int64",
         "type": "integer"
        },
        {
         "name": "name",
         "rawType": "object",
         "type": "string"
        },
        {
         "name": "age",
         "rawType": "int64",
         "type": "integer"
        },
        {
         "name": "score",
         "rawType": "int64",
         "type": "integer"
        },
        {
         "name": "city",
         "rawType": "object",
         "type": "string"
        },
        {
         "name": "discount",
         "rawType": "object",
         "type": "string"
        },
        {
         "name": "age_category",
         "rawType": "object",
         "type": "string"
        }
       ],
       "ref": "42688f76-109e-43d7-9ef6-15a6c45a0714",
       "rows": [
        [
         "0",
         "Mark",
         "60",
         "96",
         "New York",
         "yes",
         "Senior"
        ],
        [
         "1",
         "Mike",
         "48",
         "84",
         "Nashville",
         "yes",
         "Mid-Age"
        ],
        [
         "2",
         "Tammy",
         "33",
         "79",
         "Atlanta",
         "no",
         "Junior"
        ],
        [
         "3",
         "Becky",
         "40",
         "83",
         "Boston",
         "no",
         "Junior"
        ],
        [
         "4",
         "John",
         "43",
         "88",
         "San Diego",
         "yes",
         "Mid-Age"
        ]
       ],
       "shape": {
        "columns": 6,
        "rows": 5
       }
      },
      "text/html": [
       "<div>\n",
       "<style scoped>\n",
       "    .dataframe tbody tr th:only-of-type {\n",
       "        vertical-align: middle;\n",
       "    }\n",
       "\n",
       "    .dataframe tbody tr th {\n",
       "        vertical-align: top;\n",
       "    }\n",
       "\n",
       "    .dataframe thead th {\n",
       "        text-align: right;\n",
       "    }\n",
       "</style>\n",
       "<table border=\"1\" class=\"dataframe\">\n",
       "  <thead>\n",
       "    <tr style=\"text-align: right;\">\n",
       "      <th></th>\n",
       "      <th>name</th>\n",
       "      <th>age</th>\n",
       "      <th>score</th>\n",
       "      <th>city</th>\n",
       "      <th>discount</th>\n",
       "      <th>age_category</th>\n",
       "    </tr>\n",
       "  </thead>\n",
       "  <tbody>\n",
       "    <tr>\n",
       "      <th>0</th>\n",
       "      <td>Mark</td>\n",
       "      <td>60</td>\n",
       "      <td>96</td>\n",
       "      <td>New York</td>\n",
       "      <td>yes</td>\n",
       "      <td>Senior</td>\n",
       "    </tr>\n",
       "    <tr>\n",
       "      <th>1</th>\n",
       "      <td>Mike</td>\n",
       "      <td>48</td>\n",
       "      <td>84</td>\n",
       "      <td>Nashville</td>\n",
       "      <td>yes</td>\n",
       "      <td>Mid-Age</td>\n",
       "    </tr>\n",
       "    <tr>\n",
       "      <th>2</th>\n",
       "      <td>Tammy</td>\n",
       "      <td>33</td>\n",
       "      <td>79</td>\n",
       "      <td>Atlanta</td>\n",
       "      <td>no</td>\n",
       "      <td>Junior</td>\n",
       "    </tr>\n",
       "    <tr>\n",
       "      <th>3</th>\n",
       "      <td>Becky</td>\n",
       "      <td>40</td>\n",
       "      <td>83</td>\n",
       "      <td>Boston</td>\n",
       "      <td>no</td>\n",
       "      <td>Junior</td>\n",
       "    </tr>\n",
       "    <tr>\n",
       "      <th>4</th>\n",
       "      <td>John</td>\n",
       "      <td>43</td>\n",
       "      <td>88</td>\n",
       "      <td>San Diego</td>\n",
       "      <td>yes</td>\n",
       "      <td>Mid-Age</td>\n",
       "    </tr>\n",
       "  </tbody>\n",
       "</table>\n",
       "</div>"
      ],
      "text/plain": [
       "    name  age  score       city discount age_category\n",
       "0   Mark   60     96   New York      yes       Senior\n",
       "1   Mike   48     84  Nashville      yes      Mid-Age\n",
       "2  Tammy   33     79    Atlanta       no       Junior\n",
       "3  Becky   40     83     Boston       no       Junior\n",
       "4   John   43     88  San Diego      yes      Mid-Age"
      ]
     },
     "execution_count": 50,
     "metadata": {},
     "output_type": "execute_result"
    }
   ],
   "source": [
    "df['age_category'] = df.apply(age_categ, axis=1)\n",
    "df"
   ]
  },
  {
   "cell_type": "code",
   "execution_count": 51,
   "id": "1144917f",
   "metadata": {},
   "outputs": [
    {
     "data": {
      "application/vnd.microsoft.datawrangler.viewer.v0+json": {
       "columns": [
        {
         "name": "index",
         "rawType": "int64",
         "type": "integer"
        },
        {
         "name": "name",
         "rawType": "object",
         "type": "string"
        },
        {
         "name": "age",
         "rawType": "int64",
         "type": "integer"
        },
        {
         "name": "score",
         "rawType": "int64",
         "type": "integer"
        },
        {
         "name": "city",
         "rawType": "object",
         "type": "string"
        },
        {
         "name": "discount",
         "rawType": "object",
         "type": "string"
        },
        {
         "name": "age_category",
         "rawType": "object",
         "type": "string"
        }
       ],
       "ref": "976d932e-fd20-4295-812f-bf85b9b42caa",
       "rows": [
        [
         "0",
         "Mark",
         "60",
         "96",
         "New York",
         "yes",
         "Senior"
        ],
        [
         "1",
         "Mike",
         "48",
         "84",
         "Nashville",
         "yes",
         "Mid-Age"
        ],
        [
         "2",
         "Tammy",
         "33",
         "79",
         "Atlanta",
         "no",
         "Junior"
        ],
        [
         "3",
         "Becky",
         "40",
         "83",
         "Boston",
         "no",
         "Junior"
        ],
        [
         "4",
         "John",
         "43",
         "88",
         "San Diego",
         "yes",
         "Mid-Age"
        ]
       ],
       "shape": {
        "columns": 6,
        "rows": 5
       }
      },
      "text/html": [
       "<div>\n",
       "<style scoped>\n",
       "    .dataframe tbody tr th:only-of-type {\n",
       "        vertical-align: middle;\n",
       "    }\n",
       "\n",
       "    .dataframe tbody tr th {\n",
       "        vertical-align: top;\n",
       "    }\n",
       "\n",
       "    .dataframe thead th {\n",
       "        text-align: right;\n",
       "    }\n",
       "</style>\n",
       "<table border=\"1\" class=\"dataframe\">\n",
       "  <thead>\n",
       "    <tr style=\"text-align: right;\">\n",
       "      <th></th>\n",
       "      <th>name</th>\n",
       "      <th>age</th>\n",
       "      <th>score</th>\n",
       "      <th>city</th>\n",
       "      <th>discount</th>\n",
       "      <th>age_category</th>\n",
       "    </tr>\n",
       "  </thead>\n",
       "  <tbody>\n",
       "    <tr>\n",
       "      <th>0</th>\n",
       "      <td>Mark</td>\n",
       "      <td>60</td>\n",
       "      <td>96</td>\n",
       "      <td>New York</td>\n",
       "      <td>yes</td>\n",
       "      <td>Senior</td>\n",
       "    </tr>\n",
       "    <tr>\n",
       "      <th>1</th>\n",
       "      <td>Mike</td>\n",
       "      <td>48</td>\n",
       "      <td>84</td>\n",
       "      <td>Nashville</td>\n",
       "      <td>yes</td>\n",
       "      <td>Mid-Age</td>\n",
       "    </tr>\n",
       "    <tr>\n",
       "      <th>2</th>\n",
       "      <td>Tammy</td>\n",
       "      <td>33</td>\n",
       "      <td>79</td>\n",
       "      <td>Atlanta</td>\n",
       "      <td>no</td>\n",
       "      <td>Junior</td>\n",
       "    </tr>\n",
       "    <tr>\n",
       "      <th>3</th>\n",
       "      <td>Becky</td>\n",
       "      <td>40</td>\n",
       "      <td>83</td>\n",
       "      <td>Boston</td>\n",
       "      <td>no</td>\n",
       "      <td>Junior</td>\n",
       "    </tr>\n",
       "    <tr>\n",
       "      <th>4</th>\n",
       "      <td>John</td>\n",
       "      <td>43</td>\n",
       "      <td>88</td>\n",
       "      <td>San Diego</td>\n",
       "      <td>yes</td>\n",
       "      <td>Mid-Age</td>\n",
       "    </tr>\n",
       "  </tbody>\n",
       "</table>\n",
       "</div>"
      ],
      "text/plain": [
       "    name  age  score       city discount age_category\n",
       "0   Mark   60     96   New York      yes       Senior\n",
       "1   Mike   48     84  Nashville      yes      Mid-Age\n",
       "2  Tammy   33     79    Atlanta       no       Junior\n",
       "3  Becky   40     83     Boston       no       Junior\n",
       "4   John   43     88  San Diego      yes      Mid-Age"
      ]
     },
     "execution_count": 51,
     "metadata": {},
     "output_type": "execute_result"
    }
   ],
   "source": [
    "def age_categ(x):\n",
    "    if x > 50:\n",
    "        return 'Senior'\n",
    "    elif x > 40:\n",
    "        return 'Mid-Age'\n",
    "    else:\n",
    "        return 'Junior'\n",
    "    \n",
    "df['age_category'] = df['age'].apply(age_categ)\n",
    "df"
   ]
  },
  {
   "cell_type": "code",
   "execution_count": 52,
   "id": "884d41dd",
   "metadata": {},
   "outputs": [
    {
     "data": {
      "application/vnd.microsoft.datawrangler.viewer.v0+json": {
       "columns": [
        {
         "name": "index",
         "rawType": "int64",
         "type": "integer"
        },
        {
         "name": "name",
         "rawType": "object",
         "type": "string"
        },
        {
         "name": "age",
         "rawType": "int64",
         "type": "integer"
        },
        {
         "name": "score",
         "rawType": "int64",
         "type": "integer"
        },
        {
         "name": "city",
         "rawType": "object",
         "type": "string"
        },
        {
         "name": "discount",
         "rawType": "object",
         "type": "string"
        }
       ],
       "ref": "3eba57d6-11f3-48b8-9262-dd0ca00ff8f6",
       "rows": [
        [
         "0",
         "Mark",
         "60",
         "96",
         "New York",
         "yes"
        ],
        [
         "1",
         "Mike",
         "48",
         "84",
         "Nashville",
         "yes"
        ],
        [
         "2",
         "Tammy",
         "33",
         "79",
         "Atlanta",
         "no"
        ],
        [
         "3",
         "Becky",
         "40",
         "83",
         "Boston",
         "no"
        ],
        [
         "4",
         "John",
         "43",
         "88",
         "San Diego",
         "yes"
        ]
       ],
       "shape": {
        "columns": 5,
        "rows": 5
       }
      },
      "text/html": [
       "<div>\n",
       "<style scoped>\n",
       "    .dataframe tbody tr th:only-of-type {\n",
       "        vertical-align: middle;\n",
       "    }\n",
       "\n",
       "    .dataframe tbody tr th {\n",
       "        vertical-align: top;\n",
       "    }\n",
       "\n",
       "    .dataframe thead th {\n",
       "        text-align: right;\n",
       "    }\n",
       "</style>\n",
       "<table border=\"1\" class=\"dataframe\">\n",
       "  <thead>\n",
       "    <tr style=\"text-align: right;\">\n",
       "      <th></th>\n",
       "      <th>name</th>\n",
       "      <th>age</th>\n",
       "      <th>score</th>\n",
       "      <th>city</th>\n",
       "      <th>discount</th>\n",
       "    </tr>\n",
       "  </thead>\n",
       "  <tbody>\n",
       "    <tr>\n",
       "      <th>0</th>\n",
       "      <td>Mark</td>\n",
       "      <td>60</td>\n",
       "      <td>96</td>\n",
       "      <td>New York</td>\n",
       "      <td>yes</td>\n",
       "    </tr>\n",
       "    <tr>\n",
       "      <th>1</th>\n",
       "      <td>Mike</td>\n",
       "      <td>48</td>\n",
       "      <td>84</td>\n",
       "      <td>Nashville</td>\n",
       "      <td>yes</td>\n",
       "    </tr>\n",
       "    <tr>\n",
       "      <th>2</th>\n",
       "      <td>Tammy</td>\n",
       "      <td>33</td>\n",
       "      <td>79</td>\n",
       "      <td>Atlanta</td>\n",
       "      <td>no</td>\n",
       "    </tr>\n",
       "    <tr>\n",
       "      <th>3</th>\n",
       "      <td>Becky</td>\n",
       "      <td>40</td>\n",
       "      <td>83</td>\n",
       "      <td>Boston</td>\n",
       "      <td>no</td>\n",
       "    </tr>\n",
       "    <tr>\n",
       "      <th>4</th>\n",
       "      <td>John</td>\n",
       "      <td>43</td>\n",
       "      <td>88</td>\n",
       "      <td>San Diego</td>\n",
       "      <td>yes</td>\n",
       "    </tr>\n",
       "  </tbody>\n",
       "</table>\n",
       "</div>"
      ],
      "text/plain": [
       "    name  age  score       city discount\n",
       "0   Mark   60     96   New York      yes\n",
       "1   Mike   48     84  Nashville      yes\n",
       "2  Tammy   33     79    Atlanta       no\n",
       "3  Becky   40     83     Boston       no\n",
       "4   John   43     88  San Diego      yes"
      ]
     },
     "execution_count": 52,
     "metadata": {},
     "output_type": "execute_result"
    }
   ],
   "source": [
    "# drop a column\n",
    "df.drop(columns='age_category', inplace=True) #inplace overwrites the exiting df\n",
    "df"
   ]
  },
  {
   "cell_type": "code",
   "execution_count": 53,
   "id": "d4e4367b",
   "metadata": {},
   "outputs": [],
   "source": [
    "#alternative without inplace\n",
    "#df = df.drop(columns='age_category')"
   ]
  },
  {
   "cell_type": "code",
   "execution_count": 54,
   "id": "f95158e4",
   "metadata": {},
   "outputs": [
    {
     "data": {
      "application/vnd.microsoft.datawrangler.viewer.v0+json": {
       "columns": [
        {
         "name": "index",
         "rawType": "int64",
         "type": "integer"
        },
        {
         "name": "name",
         "rawType": "object",
         "type": "string"
        },
        {
         "name": "age",
         "rawType": "int64",
         "type": "integer"
        },
        {
         "name": "age_category",
         "rawType": "object",
         "type": "string"
        },
        {
         "name": "score",
         "rawType": "int64",
         "type": "integer"
        },
        {
         "name": "city",
         "rawType": "object",
         "type": "string"
        },
        {
         "name": "discount",
         "rawType": "object",
         "type": "string"
        }
       ],
       "ref": "f2e34ac0-f416-442d-af04-8dbf7b594423",
       "rows": [
        [
         "0",
         "Mark",
         "60",
         "Senior",
         "96",
         "New York",
         "yes"
        ],
        [
         "1",
         "Mike",
         "48",
         "Mid-Age",
         "84",
         "Nashville",
         "yes"
        ],
        [
         "2",
         "Tammy",
         "33",
         "Junior",
         "79",
         "Atlanta",
         "no"
        ],
        [
         "3",
         "Becky",
         "40",
         "Junior",
         "83",
         "Boston",
         "no"
        ],
        [
         "4",
         "John",
         "43",
         "Mid-Age",
         "88",
         "San Diego",
         "yes"
        ]
       ],
       "shape": {
        "columns": 6,
        "rows": 5
       }
      },
      "text/html": [
       "<div>\n",
       "<style scoped>\n",
       "    .dataframe tbody tr th:only-of-type {\n",
       "        vertical-align: middle;\n",
       "    }\n",
       "\n",
       "    .dataframe tbody tr th {\n",
       "        vertical-align: top;\n",
       "    }\n",
       "\n",
       "    .dataframe thead th {\n",
       "        text-align: right;\n",
       "    }\n",
       "</style>\n",
       "<table border=\"1\" class=\"dataframe\">\n",
       "  <thead>\n",
       "    <tr style=\"text-align: right;\">\n",
       "      <th></th>\n",
       "      <th>name</th>\n",
       "      <th>age</th>\n",
       "      <th>age_category</th>\n",
       "      <th>score</th>\n",
       "      <th>city</th>\n",
       "      <th>discount</th>\n",
       "    </tr>\n",
       "  </thead>\n",
       "  <tbody>\n",
       "    <tr>\n",
       "      <th>0</th>\n",
       "      <td>Mark</td>\n",
       "      <td>60</td>\n",
       "      <td>Senior</td>\n",
       "      <td>96</td>\n",
       "      <td>New York</td>\n",
       "      <td>yes</td>\n",
       "    </tr>\n",
       "    <tr>\n",
       "      <th>1</th>\n",
       "      <td>Mike</td>\n",
       "      <td>48</td>\n",
       "      <td>Mid-Age</td>\n",
       "      <td>84</td>\n",
       "      <td>Nashville</td>\n",
       "      <td>yes</td>\n",
       "    </tr>\n",
       "    <tr>\n",
       "      <th>2</th>\n",
       "      <td>Tammy</td>\n",
       "      <td>33</td>\n",
       "      <td>Junior</td>\n",
       "      <td>79</td>\n",
       "      <td>Atlanta</td>\n",
       "      <td>no</td>\n",
       "    </tr>\n",
       "    <tr>\n",
       "      <th>3</th>\n",
       "      <td>Becky</td>\n",
       "      <td>40</td>\n",
       "      <td>Junior</td>\n",
       "      <td>83</td>\n",
       "      <td>Boston</td>\n",
       "      <td>no</td>\n",
       "    </tr>\n",
       "    <tr>\n",
       "      <th>4</th>\n",
       "      <td>John</td>\n",
       "      <td>43</td>\n",
       "      <td>Mid-Age</td>\n",
       "      <td>88</td>\n",
       "      <td>San Diego</td>\n",
       "      <td>yes</td>\n",
       "    </tr>\n",
       "  </tbody>\n",
       "</table>\n",
       "</div>"
      ],
      "text/plain": [
       "    name  age age_category  score       city discount\n",
       "0   Mark   60       Senior     96   New York      yes\n",
       "1   Mike   48      Mid-Age     84  Nashville      yes\n",
       "2  Tammy   33       Junior     79    Atlanta       no\n",
       "3  Becky   40       Junior     83     Boston       no\n",
       "4   John   43      Mid-Age     88  San Diego      yes"
      ]
     },
     "execution_count": 54,
     "metadata": {},
     "output_type": "execute_result"
    }
   ],
   "source": [
    "# insert a column ina  specific location\n",
    "df.insert(2, 'age_category', df['age'].apply(age_categ))\n",
    "df"
   ]
  },
  {
   "cell_type": "markdown",
   "id": "f963647f",
   "metadata": {},
   "source": [
    "### Using `map()`"
   ]
  },
  {
   "cell_type": "code",
   "execution_count": 55,
   "id": "3306a68b",
   "metadata": {},
   "outputs": [
    {
     "data": {
      "application/vnd.microsoft.datawrangler.viewer.v0+json": {
       "columns": [
        {
         "name": "index",
         "rawType": "int64",
         "type": "integer"
        },
        {
         "name": "name",
         "rawType": "object",
         "type": "string"
        },
        {
         "name": "age",
         "rawType": "int64",
         "type": "integer"
        },
        {
         "name": "age_category",
         "rawType": "object",
         "type": "string"
        },
        {
         "name": "score",
         "rawType": "int64",
         "type": "integer"
        },
        {
         "name": "city",
         "rawType": "object",
         "type": "string"
        },
        {
         "name": "discount",
         "rawType": "object",
         "type": "string"
        },
        {
         "name": "region",
         "rawType": "object",
         "type": "string"
        }
       ],
       "ref": "9696e710-9af0-4199-8d69-1aa83f64192d",
       "rows": [
        [
         "0",
         "Mark",
         "60",
         "Senior",
         "96",
         "New York",
         "yes",
         "North"
        ],
        [
         "1",
         "Mike",
         "48",
         "Mid-Age",
         "84",
         "Nashville",
         "yes",
         "South"
        ],
        [
         "2",
         "Tammy",
         "33",
         "Junior",
         "79",
         "Atlanta",
         "no",
         "South"
        ],
        [
         "3",
         "Becky",
         "40",
         "Junior",
         "83",
         "Boston",
         "no",
         "North"
        ],
        [
         "4",
         "John",
         "43",
         "Mid-Age",
         "88",
         "San Diego",
         "yes",
         "West"
        ]
       ],
       "shape": {
        "columns": 7,
        "rows": 5
       }
      },
      "text/html": [
       "<div>\n",
       "<style scoped>\n",
       "    .dataframe tbody tr th:only-of-type {\n",
       "        vertical-align: middle;\n",
       "    }\n",
       "\n",
       "    .dataframe tbody tr th {\n",
       "        vertical-align: top;\n",
       "    }\n",
       "\n",
       "    .dataframe thead th {\n",
       "        text-align: right;\n",
       "    }\n",
       "</style>\n",
       "<table border=\"1\" class=\"dataframe\">\n",
       "  <thead>\n",
       "    <tr style=\"text-align: right;\">\n",
       "      <th></th>\n",
       "      <th>name</th>\n",
       "      <th>age</th>\n",
       "      <th>age_category</th>\n",
       "      <th>score</th>\n",
       "      <th>city</th>\n",
       "      <th>discount</th>\n",
       "      <th>region</th>\n",
       "    </tr>\n",
       "  </thead>\n",
       "  <tbody>\n",
       "    <tr>\n",
       "      <th>0</th>\n",
       "      <td>Mark</td>\n",
       "      <td>60</td>\n",
       "      <td>Senior</td>\n",
       "      <td>96</td>\n",
       "      <td>New York</td>\n",
       "      <td>yes</td>\n",
       "      <td>North</td>\n",
       "    </tr>\n",
       "    <tr>\n",
       "      <th>1</th>\n",
       "      <td>Mike</td>\n",
       "      <td>48</td>\n",
       "      <td>Mid-Age</td>\n",
       "      <td>84</td>\n",
       "      <td>Nashville</td>\n",
       "      <td>yes</td>\n",
       "      <td>South</td>\n",
       "    </tr>\n",
       "    <tr>\n",
       "      <th>2</th>\n",
       "      <td>Tammy</td>\n",
       "      <td>33</td>\n",
       "      <td>Junior</td>\n",
       "      <td>79</td>\n",
       "      <td>Atlanta</td>\n",
       "      <td>no</td>\n",
       "      <td>South</td>\n",
       "    </tr>\n",
       "    <tr>\n",
       "      <th>3</th>\n",
       "      <td>Becky</td>\n",
       "      <td>40</td>\n",
       "      <td>Junior</td>\n",
       "      <td>83</td>\n",
       "      <td>Boston</td>\n",
       "      <td>no</td>\n",
       "      <td>North</td>\n",
       "    </tr>\n",
       "    <tr>\n",
       "      <th>4</th>\n",
       "      <td>John</td>\n",
       "      <td>43</td>\n",
       "      <td>Mid-Age</td>\n",
       "      <td>88</td>\n",
       "      <td>San Diego</td>\n",
       "      <td>yes</td>\n",
       "      <td>West</td>\n",
       "    </tr>\n",
       "  </tbody>\n",
       "</table>\n",
       "</div>"
      ],
      "text/plain": [
       "    name  age age_category  score       city discount region\n",
       "0   Mark   60       Senior     96   New York      yes  North\n",
       "1   Mike   48      Mid-Age     84  Nashville      yes  South\n",
       "2  Tammy   33       Junior     79    Atlanta       no  South\n",
       "3  Becky   40       Junior     83     Boston       no  North\n",
       "4   John   43      Mid-Age     88  San Diego      yes   West"
      ]
     },
     "execution_count": 55,
     "metadata": {},
     "output_type": "execute_result"
    }
   ],
   "source": [
    "# create a column that gives us the region of the city in the US\n",
    "df['region'] = df['city'].map(\n",
    "                            {\n",
    "                               'New York': 'North',\n",
    "                               'Nashville': 'South',\n",
    "                               'Atlanta':'South',\n",
    "                               'San Diego':'West',\n",
    "                               'Boston':'North' \n",
    "                            }\n",
    "                    )\n",
    "\n",
    "df"
   ]
  },
  {
   "cell_type": "markdown",
   "id": "cb6e3648",
   "metadata": {},
   "source": [
    "- If you miss a category, `pandas` will apply `NaN`. Also, keep in mind python/pandas are case sensitive.\n",
    "- No need to repeat the category if it's applicable to multiple values."
   ]
  },
  {
   "cell_type": "markdown",
   "id": "719e8bc6",
   "metadata": {},
   "source": [
    "Using `replace()`"
   ]
  },
  {
   "cell_type": "code",
   "execution_count": 56,
   "id": "a20b7e5e",
   "metadata": {},
   "outputs": [
    {
     "data": {
      "application/vnd.microsoft.datawrangler.viewer.v0+json": {
       "columns": [
        {
         "name": "index",
         "rawType": "int64",
         "type": "integer"
        },
        {
         "name": "name",
         "rawType": "object",
         "type": "string"
        },
        {
         "name": "age",
         "rawType": "int64",
         "type": "integer"
        },
        {
         "name": "age_category",
         "rawType": "object",
         "type": "string"
        },
        {
         "name": "score",
         "rawType": "int64",
         "type": "integer"
        },
        {
         "name": "city",
         "rawType": "object",
         "type": "string"
        },
        {
         "name": "discount",
         "rawType": "object",
         "type": "string"
        },
        {
         "name": "region",
         "rawType": "object",
         "type": "string"
        }
       ],
       "ref": "b15ef158-e763-4517-9798-992db5239d71",
       "rows": [
        [
         "0",
         "Jeff",
         "60",
         "Senior",
         "96",
         "New York",
         "yes",
         "North"
        ],
        [
         "1",
         "Mike",
         "48",
         "Mid-Age",
         "84",
         "Nashville",
         "yes",
         "South"
        ],
        [
         "2",
         "Brittney",
         "33",
         "Junior",
         "79",
         "Atlanta",
         "no",
         "South"
        ],
        [
         "3",
         "Becky",
         "40",
         "Junior",
         "83",
         "Boston",
         "no",
         "North"
        ],
        [
         "4",
         "John",
         "43",
         "Mid-Age",
         "88",
         "San Diego",
         "yes",
         "West"
        ]
       ],
       "shape": {
        "columns": 7,
        "rows": 5
       }
      },
      "text/html": [
       "<div>\n",
       "<style scoped>\n",
       "    .dataframe tbody tr th:only-of-type {\n",
       "        vertical-align: middle;\n",
       "    }\n",
       "\n",
       "    .dataframe tbody tr th {\n",
       "        vertical-align: top;\n",
       "    }\n",
       "\n",
       "    .dataframe thead th {\n",
       "        text-align: right;\n",
       "    }\n",
       "</style>\n",
       "<table border=\"1\" class=\"dataframe\">\n",
       "  <thead>\n",
       "    <tr style=\"text-align: right;\">\n",
       "      <th></th>\n",
       "      <th>name</th>\n",
       "      <th>age</th>\n",
       "      <th>age_category</th>\n",
       "      <th>score</th>\n",
       "      <th>city</th>\n",
       "      <th>discount</th>\n",
       "      <th>region</th>\n",
       "    </tr>\n",
       "  </thead>\n",
       "  <tbody>\n",
       "    <tr>\n",
       "      <th>0</th>\n",
       "      <td>Jeff</td>\n",
       "      <td>60</td>\n",
       "      <td>Senior</td>\n",
       "      <td>96</td>\n",
       "      <td>New York</td>\n",
       "      <td>yes</td>\n",
       "      <td>North</td>\n",
       "    </tr>\n",
       "    <tr>\n",
       "      <th>1</th>\n",
       "      <td>Mike</td>\n",
       "      <td>48</td>\n",
       "      <td>Mid-Age</td>\n",
       "      <td>84</td>\n",
       "      <td>Nashville</td>\n",
       "      <td>yes</td>\n",
       "      <td>South</td>\n",
       "    </tr>\n",
       "    <tr>\n",
       "      <th>2</th>\n",
       "      <td>Brittney</td>\n",
       "      <td>33</td>\n",
       "      <td>Junior</td>\n",
       "      <td>79</td>\n",
       "      <td>Atlanta</td>\n",
       "      <td>no</td>\n",
       "      <td>South</td>\n",
       "    </tr>\n",
       "    <tr>\n",
       "      <th>3</th>\n",
       "      <td>Becky</td>\n",
       "      <td>40</td>\n",
       "      <td>Junior</td>\n",
       "      <td>83</td>\n",
       "      <td>Boston</td>\n",
       "      <td>no</td>\n",
       "      <td>North</td>\n",
       "    </tr>\n",
       "    <tr>\n",
       "      <th>4</th>\n",
       "      <td>John</td>\n",
       "      <td>43</td>\n",
       "      <td>Mid-Age</td>\n",
       "      <td>88</td>\n",
       "      <td>San Diego</td>\n",
       "      <td>yes</td>\n",
       "      <td>West</td>\n",
       "    </tr>\n",
       "  </tbody>\n",
       "</table>\n",
       "</div>"
      ],
      "text/plain": [
       "       name  age age_category  score       city discount region\n",
       "0      Jeff   60       Senior     96   New York      yes  North\n",
       "1      Mike   48      Mid-Age     84  Nashville      yes  South\n",
       "2  Brittney   33       Junior     79    Atlanta       no  South\n",
       "3     Becky   40       Junior     83     Boston       no  North\n",
       "4      John   43      Mid-Age     88  San Diego      yes   West"
      ]
     },
     "execution_count": 56,
     "metadata": {},
     "output_type": "execute_result"
    }
   ],
   "source": [
    "df['name'] = df['name'].replace({'Mark': 'Jeff', 'Tammy':'Brittney'}) #replacing mark with jeff\n",
    "df"
   ]
  },
  {
   "cell_type": "markdown",
   "id": "653b7c48",
   "metadata": {},
   "source": [
    "- Use `replace()` to edit existing columns (you don't have to specify every value)\n",
    "- Use `map()` to create new columns based on an existing column.\n",
    "- For a full df scan and replace use `df = df.replace(...)`\n",
    "- `replace` has also RegEx capability which will explore in the future."
   ]
  },
  {
   "cell_type": "markdown",
   "id": "9416f919",
   "metadata": {},
   "source": [
    "### Sorting Data"
   ]
  },
  {
   "cell_type": "code",
   "execution_count": 57,
   "id": "8d4d63c6",
   "metadata": {},
   "outputs": [
    {
     "data": {
      "application/vnd.microsoft.datawrangler.viewer.v0+json": {
       "columns": [
        {
         "name": "index",
         "rawType": "int64",
         "type": "integer"
        },
        {
         "name": "name",
         "rawType": "object",
         "type": "string"
        },
        {
         "name": "age",
         "rawType": "int64",
         "type": "integer"
        },
        {
         "name": "age_category",
         "rawType": "object",
         "type": "string"
        },
        {
         "name": "score",
         "rawType": "int64",
         "type": "integer"
        },
        {
         "name": "city",
         "rawType": "object",
         "type": "string"
        },
        {
         "name": "discount",
         "rawType": "object",
         "type": "string"
        },
        {
         "name": "region",
         "rawType": "object",
         "type": "string"
        }
       ],
       "ref": "2172a235-2b3c-419b-8c57-301e81424d2b",
       "rows": [
        [
         "0",
         "Brittney",
         "33",
         "Junior",
         "79",
         "Atlanta",
         "no",
         "South"
        ],
        [
         "1",
         "Becky",
         "40",
         "Junior",
         "83",
         "Boston",
         "no",
         "North"
        ],
        [
         "2",
         "John",
         "43",
         "Mid-Age",
         "88",
         "San Diego",
         "yes",
         "West"
        ],
        [
         "3",
         "Mike",
         "48",
         "Mid-Age",
         "84",
         "Nashville",
         "yes",
         "South"
        ],
        [
         "4",
         "Jeff",
         "60",
         "Senior",
         "96",
         "New York",
         "yes",
         "North"
        ]
       ],
       "shape": {
        "columns": 7,
        "rows": 5
       }
      },
      "text/html": [
       "<div>\n",
       "<style scoped>\n",
       "    .dataframe tbody tr th:only-of-type {\n",
       "        vertical-align: middle;\n",
       "    }\n",
       "\n",
       "    .dataframe tbody tr th {\n",
       "        vertical-align: top;\n",
       "    }\n",
       "\n",
       "    .dataframe thead th {\n",
       "        text-align: right;\n",
       "    }\n",
       "</style>\n",
       "<table border=\"1\" class=\"dataframe\">\n",
       "  <thead>\n",
       "    <tr style=\"text-align: right;\">\n",
       "      <th></th>\n",
       "      <th>name</th>\n",
       "      <th>age</th>\n",
       "      <th>age_category</th>\n",
       "      <th>score</th>\n",
       "      <th>city</th>\n",
       "      <th>discount</th>\n",
       "      <th>region</th>\n",
       "    </tr>\n",
       "  </thead>\n",
       "  <tbody>\n",
       "    <tr>\n",
       "      <th>0</th>\n",
       "      <td>Brittney</td>\n",
       "      <td>33</td>\n",
       "      <td>Junior</td>\n",
       "      <td>79</td>\n",
       "      <td>Atlanta</td>\n",
       "      <td>no</td>\n",
       "      <td>South</td>\n",
       "    </tr>\n",
       "    <tr>\n",
       "      <th>1</th>\n",
       "      <td>Becky</td>\n",
       "      <td>40</td>\n",
       "      <td>Junior</td>\n",
       "      <td>83</td>\n",
       "      <td>Boston</td>\n",
       "      <td>no</td>\n",
       "      <td>North</td>\n",
       "    </tr>\n",
       "    <tr>\n",
       "      <th>2</th>\n",
       "      <td>John</td>\n",
       "      <td>43</td>\n",
       "      <td>Mid-Age</td>\n",
       "      <td>88</td>\n",
       "      <td>San Diego</td>\n",
       "      <td>yes</td>\n",
       "      <td>West</td>\n",
       "    </tr>\n",
       "    <tr>\n",
       "      <th>3</th>\n",
       "      <td>Mike</td>\n",
       "      <td>48</td>\n",
       "      <td>Mid-Age</td>\n",
       "      <td>84</td>\n",
       "      <td>Nashville</td>\n",
       "      <td>yes</td>\n",
       "      <td>South</td>\n",
       "    </tr>\n",
       "    <tr>\n",
       "      <th>4</th>\n",
       "      <td>Jeff</td>\n",
       "      <td>60</td>\n",
       "      <td>Senior</td>\n",
       "      <td>96</td>\n",
       "      <td>New York</td>\n",
       "      <td>yes</td>\n",
       "      <td>North</td>\n",
       "    </tr>\n",
       "  </tbody>\n",
       "</table>\n",
       "</div>"
      ],
      "text/plain": [
       "       name  age age_category  score       city discount region\n",
       "0  Brittney   33       Junior     79    Atlanta       no  South\n",
       "1     Becky   40       Junior     83     Boston       no  North\n",
       "2      John   43      Mid-Age     88  San Diego      yes   West\n",
       "3      Mike   48      Mid-Age     84  Nashville      yes  South\n",
       "4      Jeff   60       Senior     96   New York      yes  North"
      ]
     },
     "execution_count": 57,
     "metadata": {},
     "output_type": "execute_result"
    }
   ],
   "source": [
    "# for one col\n",
    "df.sort_values(by='age', inplace=True, ignore_index=True) #ignore index will reset the index \n",
    "df"
   ]
  },
  {
   "cell_type": "code",
   "execution_count": 58,
   "id": "44cc235b",
   "metadata": {},
   "outputs": [
    {
     "data": {
      "application/vnd.microsoft.datawrangler.viewer.v0+json": {
       "columns": [
        {
         "name": "index",
         "rawType": "int64",
         "type": "integer"
        },
        {
         "name": "name",
         "rawType": "object",
         "type": "string"
        },
        {
         "name": "age",
         "rawType": "int64",
         "type": "integer"
        },
        {
         "name": "age_category",
         "rawType": "object",
         "type": "string"
        },
        {
         "name": "score",
         "rawType": "int64",
         "type": "integer"
        },
        {
         "name": "city",
         "rawType": "object",
         "type": "string"
        },
        {
         "name": "discount",
         "rawType": "object",
         "type": "string"
        },
        {
         "name": "region",
         "rawType": "object",
         "type": "string"
        }
       ],
       "ref": "723b5e3b-dfd1-4e75-9428-1a98cf752bb2",
       "rows": [
        [
         "0",
         "Jeff",
         "60",
         "Senior",
         "96",
         "New York",
         "yes",
         "North"
        ],
        [
         "1",
         "Mike",
         "48",
         "Mid-Age",
         "84",
         "Nashville",
         "yes",
         "South"
        ],
        [
         "2",
         "John",
         "43",
         "Mid-Age",
         "88",
         "San Diego",
         "yes",
         "West"
        ],
        [
         "3",
         "Becky",
         "40",
         "Junior",
         "83",
         "Boston",
         "no",
         "North"
        ],
        [
         "4",
         "Brittney",
         "33",
         "Junior",
         "79",
         "Atlanta",
         "no",
         "South"
        ]
       ],
       "shape": {
        "columns": 7,
        "rows": 5
       }
      },
      "text/html": [
       "<div>\n",
       "<style scoped>\n",
       "    .dataframe tbody tr th:only-of-type {\n",
       "        vertical-align: middle;\n",
       "    }\n",
       "\n",
       "    .dataframe tbody tr th {\n",
       "        vertical-align: top;\n",
       "    }\n",
       "\n",
       "    .dataframe thead th {\n",
       "        text-align: right;\n",
       "    }\n",
       "</style>\n",
       "<table border=\"1\" class=\"dataframe\">\n",
       "  <thead>\n",
       "    <tr style=\"text-align: right;\">\n",
       "      <th></th>\n",
       "      <th>name</th>\n",
       "      <th>age</th>\n",
       "      <th>age_category</th>\n",
       "      <th>score</th>\n",
       "      <th>city</th>\n",
       "      <th>discount</th>\n",
       "      <th>region</th>\n",
       "    </tr>\n",
       "  </thead>\n",
       "  <tbody>\n",
       "    <tr>\n",
       "      <th>0</th>\n",
       "      <td>Jeff</td>\n",
       "      <td>60</td>\n",
       "      <td>Senior</td>\n",
       "      <td>96</td>\n",
       "      <td>New York</td>\n",
       "      <td>yes</td>\n",
       "      <td>North</td>\n",
       "    </tr>\n",
       "    <tr>\n",
       "      <th>1</th>\n",
       "      <td>Mike</td>\n",
       "      <td>48</td>\n",
       "      <td>Mid-Age</td>\n",
       "      <td>84</td>\n",
       "      <td>Nashville</td>\n",
       "      <td>yes</td>\n",
       "      <td>South</td>\n",
       "    </tr>\n",
       "    <tr>\n",
       "      <th>2</th>\n",
       "      <td>John</td>\n",
       "      <td>43</td>\n",
       "      <td>Mid-Age</td>\n",
       "      <td>88</td>\n",
       "      <td>San Diego</td>\n",
       "      <td>yes</td>\n",
       "      <td>West</td>\n",
       "    </tr>\n",
       "    <tr>\n",
       "      <th>3</th>\n",
       "      <td>Becky</td>\n",
       "      <td>40</td>\n",
       "      <td>Junior</td>\n",
       "      <td>83</td>\n",
       "      <td>Boston</td>\n",
       "      <td>no</td>\n",
       "      <td>North</td>\n",
       "    </tr>\n",
       "    <tr>\n",
       "      <th>4</th>\n",
       "      <td>Brittney</td>\n",
       "      <td>33</td>\n",
       "      <td>Junior</td>\n",
       "      <td>79</td>\n",
       "      <td>Atlanta</td>\n",
       "      <td>no</td>\n",
       "      <td>South</td>\n",
       "    </tr>\n",
       "  </tbody>\n",
       "</table>\n",
       "</div>"
      ],
      "text/plain": [
       "       name  age age_category  score       city discount region\n",
       "0      Jeff   60       Senior     96   New York      yes  North\n",
       "1      Mike   48      Mid-Age     84  Nashville      yes  South\n",
       "2      John   43      Mid-Age     88  San Diego      yes   West\n",
       "3     Becky   40       Junior     83     Boston       no  North\n",
       "4  Brittney   33       Junior     79    Atlanta       no  South"
      ]
     },
     "execution_count": 58,
     "metadata": {},
     "output_type": "execute_result"
    }
   ],
   "source": [
    "# for one col - descending order\n",
    "df.sort_values(by='age', inplace=True, ignore_index=True, ascending=False) #ignore index will reset the index \n",
    "df"
   ]
  },
  {
   "cell_type": "code",
   "execution_count": null,
   "id": "46f8fe02",
   "metadata": {},
   "outputs": [
    {
     "data": {
      "application/vnd.microsoft.datawrangler.viewer.v0+json": {
       "columns": [
        {
         "name": "index",
         "rawType": "int64",
         "type": "integer"
        },
        {
         "name": "name",
         "rawType": "object",
         "type": "string"
        },
        {
         "name": "age",
         "rawType": "int64",
         "type": "integer"
        },
        {
         "name": "age_category",
         "rawType": "object",
         "type": "string"
        },
        {
         "name": "score",
         "rawType": "int64",
         "type": "integer"
        },
        {
         "name": "city",
         "rawType": "object",
         "type": "string"
        },
        {
         "name": "discount",
         "rawType": "object",
         "type": "string"
        },
        {
         "name": "region",
         "rawType": "object",
         "type": "string"
        }
       ],
       "ref": "034fe52b-8d6a-496e-b7d7-2ac340b10743",
       "rows": [
        [
         "0",
         "Becky",
         "40",
         "Junior",
         "83",
         "Boston",
         "no",
         "North"
        ],
        [
         "1",
         "Jeff",
         "60",
         "Senior",
         "96",
         "New York",
         "yes",
         "North"
        ],
        [
         "2",
         "Brittney",
         "33",
         "Junior",
         "79",
         "Atlanta",
         "no",
         "South"
        ],
        [
         "3",
         "Mike",
         "48",
         "Mid-Age",
         "84",
         "Nashville",
         "yes",
         "South"
        ],
        [
         "4",
         "John",
         "43",
         "Mid-Age",
         "88",
         "San Diego",
         "yes",
         "West"
        ]
       ],
       "shape": {
        "columns": 7,
        "rows": 5
       }
      },
      "text/html": [
       "<div>\n",
       "<style scoped>\n",
       "    .dataframe tbody tr th:only-of-type {\n",
       "        vertical-align: middle;\n",
       "    }\n",
       "\n",
       "    .dataframe tbody tr th {\n",
       "        vertical-align: top;\n",
       "    }\n",
       "\n",
       "    .dataframe thead th {\n",
       "        text-align: right;\n",
       "    }\n",
       "</style>\n",
       "<table border=\"1\" class=\"dataframe\">\n",
       "  <thead>\n",
       "    <tr style=\"text-align: right;\">\n",
       "      <th></th>\n",
       "      <th>name</th>\n",
       "      <th>age</th>\n",
       "      <th>age_category</th>\n",
       "      <th>score</th>\n",
       "      <th>city</th>\n",
       "      <th>discount</th>\n",
       "      <th>region</th>\n",
       "    </tr>\n",
       "  </thead>\n",
       "  <tbody>\n",
       "    <tr>\n",
       "      <th>0</th>\n",
       "      <td>Becky</td>\n",
       "      <td>40</td>\n",
       "      <td>Junior</td>\n",
       "      <td>83</td>\n",
       "      <td>Boston</td>\n",
       "      <td>no</td>\n",
       "      <td>North</td>\n",
       "    </tr>\n",
       "    <tr>\n",
       "      <th>1</th>\n",
       "      <td>Jeff</td>\n",
       "      <td>60</td>\n",
       "      <td>Senior</td>\n",
       "      <td>96</td>\n",
       "      <td>New York</td>\n",
       "      <td>yes</td>\n",
       "      <td>North</td>\n",
       "    </tr>\n",
       "    <tr>\n",
       "      <th>2</th>\n",
       "      <td>Brittney</td>\n",
       "      <td>33</td>\n",
       "      <td>Junior</td>\n",
       "      <td>79</td>\n",
       "      <td>Atlanta</td>\n",
       "      <td>no</td>\n",
       "      <td>South</td>\n",
       "    </tr>\n",
       "    <tr>\n",
       "      <th>3</th>\n",
       "      <td>Mike</td>\n",
       "      <td>48</td>\n",
       "      <td>Mid-Age</td>\n",
       "      <td>84</td>\n",
       "      <td>Nashville</td>\n",
       "      <td>yes</td>\n",
       "      <td>South</td>\n",
       "    </tr>\n",
       "    <tr>\n",
       "      <th>4</th>\n",
       "      <td>John</td>\n",
       "      <td>43</td>\n",
       "      <td>Mid-Age</td>\n",
       "      <td>88</td>\n",
       "      <td>San Diego</td>\n",
       "      <td>yes</td>\n",
       "      <td>West</td>\n",
       "    </tr>\n",
       "  </tbody>\n",
       "</table>\n",
       "</div>"
      ],
      "text/plain": [
       "       name  age age_category  score       city discount region\n",
       "0     Becky   40       Junior     83     Boston       no  North\n",
       "1      Jeff   60       Senior     96   New York      yes  North\n",
       "2  Brittney   33       Junior     79    Atlanta       no  South\n",
       "3      Mike   48      Mid-Age     84  Nashville      yes  South\n",
       "4      John   43      Mid-Age     88  San Diego      yes   West"
      ]
     },
     "execution_count": 59,
     "metadata": {},
     "output_type": "execute_result"
    }
   ],
   "source": [
    "# for one col\n",
    "df.sort_values(by=['region','age'], inplace=True, ignore_index=True) #ignore index will reset the index \n",
    "df"
   ]
  },
  {
   "cell_type": "code",
   "execution_count": 60,
   "id": "49a1125b",
   "metadata": {},
   "outputs": [
    {
     "data": {
      "application/vnd.microsoft.datawrangler.viewer.v0+json": {
       "columns": [
        {
         "name": "index",
         "rawType": "int64",
         "type": "integer"
        },
        {
         "name": "name",
         "rawType": "object",
         "type": "string"
        },
        {
         "name": "age",
         "rawType": "int64",
         "type": "integer"
        },
        {
         "name": "age_category",
         "rawType": "object",
         "type": "string"
        },
        {
         "name": "score",
         "rawType": "int64",
         "type": "integer"
        },
        {
         "name": "city",
         "rawType": "object",
         "type": "string"
        },
        {
         "name": "discount",
         "rawType": "object",
         "type": "string"
        },
        {
         "name": "region",
         "rawType": "category",
         "type": "unknown"
        }
       ],
       "ref": "27a48f2b-944a-4758-82d0-49a3246aab65",
       "rows": [
        [
         "2",
         "Brittney",
         "33",
         "Junior",
         "79",
         "Atlanta",
         "no",
         "South"
        ],
        [
         "3",
         "Mike",
         "48",
         "Mid-Age",
         "84",
         "Nashville",
         "yes",
         "South"
        ],
        [
         "0",
         "Becky",
         "40",
         "Junior",
         "83",
         "Boston",
         "no",
         "North"
        ],
        [
         "1",
         "Jeff",
         "60",
         "Senior",
         "96",
         "New York",
         "yes",
         "North"
        ],
        [
         "4",
         "John",
         "43",
         "Mid-Age",
         "88",
         "San Diego",
         "yes",
         "West"
        ]
       ],
       "shape": {
        "columns": 7,
        "rows": 5
       }
      },
      "text/html": [
       "<div>\n",
       "<style scoped>\n",
       "    .dataframe tbody tr th:only-of-type {\n",
       "        vertical-align: middle;\n",
       "    }\n",
       "\n",
       "    .dataframe tbody tr th {\n",
       "        vertical-align: top;\n",
       "    }\n",
       "\n",
       "    .dataframe thead th {\n",
       "        text-align: right;\n",
       "    }\n",
       "</style>\n",
       "<table border=\"1\" class=\"dataframe\">\n",
       "  <thead>\n",
       "    <tr style=\"text-align: right;\">\n",
       "      <th></th>\n",
       "      <th>name</th>\n",
       "      <th>age</th>\n",
       "      <th>age_category</th>\n",
       "      <th>score</th>\n",
       "      <th>city</th>\n",
       "      <th>discount</th>\n",
       "      <th>region</th>\n",
       "    </tr>\n",
       "  </thead>\n",
       "  <tbody>\n",
       "    <tr>\n",
       "      <th>2</th>\n",
       "      <td>Brittney</td>\n",
       "      <td>33</td>\n",
       "      <td>Junior</td>\n",
       "      <td>79</td>\n",
       "      <td>Atlanta</td>\n",
       "      <td>no</td>\n",
       "      <td>South</td>\n",
       "    </tr>\n",
       "    <tr>\n",
       "      <th>3</th>\n",
       "      <td>Mike</td>\n",
       "      <td>48</td>\n",
       "      <td>Mid-Age</td>\n",
       "      <td>84</td>\n",
       "      <td>Nashville</td>\n",
       "      <td>yes</td>\n",
       "      <td>South</td>\n",
       "    </tr>\n",
       "    <tr>\n",
       "      <th>0</th>\n",
       "      <td>Becky</td>\n",
       "      <td>40</td>\n",
       "      <td>Junior</td>\n",
       "      <td>83</td>\n",
       "      <td>Boston</td>\n",
       "      <td>no</td>\n",
       "      <td>North</td>\n",
       "    </tr>\n",
       "    <tr>\n",
       "      <th>1</th>\n",
       "      <td>Jeff</td>\n",
       "      <td>60</td>\n",
       "      <td>Senior</td>\n",
       "      <td>96</td>\n",
       "      <td>New York</td>\n",
       "      <td>yes</td>\n",
       "      <td>North</td>\n",
       "    </tr>\n",
       "    <tr>\n",
       "      <th>4</th>\n",
       "      <td>John</td>\n",
       "      <td>43</td>\n",
       "      <td>Mid-Age</td>\n",
       "      <td>88</td>\n",
       "      <td>San Diego</td>\n",
       "      <td>yes</td>\n",
       "      <td>West</td>\n",
       "    </tr>\n",
       "  </tbody>\n",
       "</table>\n",
       "</div>"
      ],
      "text/plain": [
       "       name  age age_category  score       city discount region\n",
       "2  Brittney   33       Junior     79    Atlanta       no  South\n",
       "3      Mike   48      Mid-Age     84  Nashville      yes  South\n",
       "0     Becky   40       Junior     83     Boston       no  North\n",
       "1      Jeff   60       Senior     96   New York      yes  North\n",
       "4      John   43      Mid-Age     88  San Diego      yes   West"
      ]
     },
     "execution_count": 60,
     "metadata": {},
     "output_type": "execute_result"
    }
   ],
   "source": [
    "region_order = ['South','North','West']\n",
    "\n",
    "df['region'] = pd.Categorical(df['region'], categories=region_order, ordered=True)\n",
    "\n",
    "df.sort_values('region')"
   ]
  },
  {
   "cell_type": "code",
   "execution_count": null,
   "id": "8e07dfe7",
   "metadata": {},
   "outputs": [
    {
     "data": {
      "application/vnd.microsoft.datawrangler.viewer.v0+json": {
       "columns": [
        {
         "name": "index",
         "rawType": "int64",
         "type": "integer"
        },
        {
         "name": "name",
         "rawType": "object",
         "type": "string"
        },
        {
         "name": "age",
         "rawType": "int64",
         "type": "integer"
        },
        {
         "name": "age_category",
         "rawType": "object",
         "type": "string"
        },
        {
         "name": "score",
         "rawType": "int64",
         "type": "integer"
        },
        {
         "name": "city",
         "rawType": "object",
         "type": "string"
        },
        {
         "name": "discount",
         "rawType": "object",
         "type": "string"
        },
        {
         "name": "region",
         "rawType": "category",
         "type": "unknown"
        }
       ],
       "ref": "6a87b1d3-691e-4789-beb9-ec4f3bfcf7eb",
       "rows": [
        [
         "0",
         "Mike",
         "48",
         "Mid-Age",
         "84",
         "Nashville",
         "yes",
         "South"
        ],
        [
         "1",
         "John",
         "43",
         "Mid-Age",
         "88",
         "San Diego",
         "yes",
         "West"
        ],
        [
         "2",
         "Jeff",
         "60",
         "Senior",
         "96",
         "New York",
         "yes",
         "North"
        ],
        [
         "3",
         "Brittney",
         "33",
         "Junior",
         "79",
         "Atlanta",
         "no",
         "South"
        ],
        [
         "4",
         "Becky",
         "40",
         "Junior",
         "83",
         "Boston",
         "no",
         "North"
        ]
       ],
       "shape": {
        "columns": 7,
        "rows": 5
       }
      },
      "text/html": [
       "<div>\n",
       "<style scoped>\n",
       "    .dataframe tbody tr th:only-of-type {\n",
       "        vertical-align: middle;\n",
       "    }\n",
       "\n",
       "    .dataframe tbody tr th {\n",
       "        vertical-align: top;\n",
       "    }\n",
       "\n",
       "    .dataframe thead th {\n",
       "        text-align: right;\n",
       "    }\n",
       "</style>\n",
       "<table border=\"1\" class=\"dataframe\">\n",
       "  <thead>\n",
       "    <tr style=\"text-align: right;\">\n",
       "      <th></th>\n",
       "      <th>name</th>\n",
       "      <th>age</th>\n",
       "      <th>age_category</th>\n",
       "      <th>score</th>\n",
       "      <th>city</th>\n",
       "      <th>discount</th>\n",
       "      <th>region</th>\n",
       "    </tr>\n",
       "  </thead>\n",
       "  <tbody>\n",
       "    <tr>\n",
       "      <th>0</th>\n",
       "      <td>Mike</td>\n",
       "      <td>48</td>\n",
       "      <td>Mid-Age</td>\n",
       "      <td>84</td>\n",
       "      <td>Nashville</td>\n",
       "      <td>yes</td>\n",
       "      <td>South</td>\n",
       "    </tr>\n",
       "    <tr>\n",
       "      <th>1</th>\n",
       "      <td>John</td>\n",
       "      <td>43</td>\n",
       "      <td>Mid-Age</td>\n",
       "      <td>88</td>\n",
       "      <td>San Diego</td>\n",
       "      <td>yes</td>\n",
       "      <td>West</td>\n",
       "    </tr>\n",
       "    <tr>\n",
       "      <th>2</th>\n",
       "      <td>Jeff</td>\n",
       "      <td>60</td>\n",
       "      <td>Senior</td>\n",
       "      <td>96</td>\n",
       "      <td>New York</td>\n",
       "      <td>yes</td>\n",
       "      <td>North</td>\n",
       "    </tr>\n",
       "    <tr>\n",
       "      <th>3</th>\n",
       "      <td>Brittney</td>\n",
       "      <td>33</td>\n",
       "      <td>Junior</td>\n",
       "      <td>79</td>\n",
       "      <td>Atlanta</td>\n",
       "      <td>no</td>\n",
       "      <td>South</td>\n",
       "    </tr>\n",
       "    <tr>\n",
       "      <th>4</th>\n",
       "      <td>Becky</td>\n",
       "      <td>40</td>\n",
       "      <td>Junior</td>\n",
       "      <td>83</td>\n",
       "      <td>Boston</td>\n",
       "      <td>no</td>\n",
       "      <td>North</td>\n",
       "    </tr>\n",
       "  </tbody>\n",
       "</table>\n",
       "</div>"
      ],
      "text/plain": [
       "       name  age age_category  score       city discount region\n",
       "0      Mike   48      Mid-Age     84  Nashville      yes  South\n",
       "1      John   43      Mid-Age     88  San Diego      yes   West\n",
       "2      Jeff   60       Senior     96   New York      yes  North\n",
       "3  Brittney   33       Junior     79    Atlanta       no  South\n",
       "4     Becky   40       Junior     83     Boston       no  North"
      ]
     },
     "execution_count": 61,
     "metadata": {},
     "output_type": "execute_result"
    }
   ],
   "source": [
    "# sort by name descending and then age ascending\n",
    "df.sort_values(by=['name','age'], inplace=True, ignore_index=True, ascending=[False, True])\n",
    "df"
   ]
  },
  {
   "cell_type": "markdown",
   "id": "d9911835",
   "metadata": {},
   "source": [
    "### Looking for Nulls\n"
   ]
  },
  {
   "cell_type": "code",
   "execution_count": 62,
   "id": "8943a883",
   "metadata": {},
   "outputs": [
    {
     "data": {
      "application/vnd.microsoft.datawrangler.viewer.v0+json": {
       "columns": [
        {
         "name": "index",
         "rawType": "int64",
         "type": "integer"
        },
        {
         "name": "name",
         "rawType": "object",
         "type": "string"
        },
        {
         "name": "age",
         "rawType": "float64",
         "type": "float"
        },
        {
         "name": "score",
         "rawType": "float64",
         "type": "float"
        },
        {
         "name": "city",
         "rawType": "object",
         "type": "string"
        }
       ],
       "ref": "96e86952-ef68-4e5e-a530-bde7be0b1f2b",
       "rows": [
        [
         "0",
         "Mark",
         "55.0",
         "96.0",
         "New York"
        ],
        [
         "1",
         "Mike",
         null,
         "84.0",
         "Nashville"
        ],
        [
         "2",
         "Tammy",
         "28.0",
         "79.0",
         "Atlanta"
        ],
        [
         "3",
         "Becky",
         "35.0",
         "83.0",
         "Boston"
        ],
        [
         "4",
         "John",
         null,
         null,
         "San Diego"
        ]
       ],
       "shape": {
        "columns": 4,
        "rows": 5
       }
      },
      "text/html": [
       "<div>\n",
       "<style scoped>\n",
       "    .dataframe tbody tr th:only-of-type {\n",
       "        vertical-align: middle;\n",
       "    }\n",
       "\n",
       "    .dataframe tbody tr th {\n",
       "        vertical-align: top;\n",
       "    }\n",
       "\n",
       "    .dataframe thead th {\n",
       "        text-align: right;\n",
       "    }\n",
       "</style>\n",
       "<table border=\"1\" class=\"dataframe\">\n",
       "  <thead>\n",
       "    <tr style=\"text-align: right;\">\n",
       "      <th></th>\n",
       "      <th>name</th>\n",
       "      <th>age</th>\n",
       "      <th>score</th>\n",
       "      <th>city</th>\n",
       "    </tr>\n",
       "  </thead>\n",
       "  <tbody>\n",
       "    <tr>\n",
       "      <th>0</th>\n",
       "      <td>Mark</td>\n",
       "      <td>55.0</td>\n",
       "      <td>96.0</td>\n",
       "      <td>New York</td>\n",
       "    </tr>\n",
       "    <tr>\n",
       "      <th>1</th>\n",
       "      <td>Mike</td>\n",
       "      <td>NaN</td>\n",
       "      <td>84.0</td>\n",
       "      <td>Nashville</td>\n",
       "    </tr>\n",
       "    <tr>\n",
       "      <th>2</th>\n",
       "      <td>Tammy</td>\n",
       "      <td>28.0</td>\n",
       "      <td>79.0</td>\n",
       "      <td>Atlanta</td>\n",
       "    </tr>\n",
       "    <tr>\n",
       "      <th>3</th>\n",
       "      <td>Becky</td>\n",
       "      <td>35.0</td>\n",
       "      <td>83.0</td>\n",
       "      <td>Boston</td>\n",
       "    </tr>\n",
       "    <tr>\n",
       "      <th>4</th>\n",
       "      <td>John</td>\n",
       "      <td>NaN</td>\n",
       "      <td>NaN</td>\n",
       "      <td>San Diego</td>\n",
       "    </tr>\n",
       "  </tbody>\n",
       "</table>\n",
       "</div>"
      ],
      "text/plain": [
       "    name   age  score       city\n",
       "0   Mark  55.0   96.0   New York\n",
       "1   Mike   NaN   84.0  Nashville\n",
       "2  Tammy  28.0   79.0    Atlanta\n",
       "3  Becky  35.0   83.0     Boston\n",
       "4   John   NaN    NaN  San Diego"
      ]
     },
     "execution_count": 62,
     "metadata": {},
     "output_type": "execute_result"
    }
   ],
   "source": [
    "#dictionary \n",
    "data = {'name':['Mark', 'Mike', 'Tammy', 'Becky', 'John'],\n",
    "        'age':[55,np.nan,28,35, np.nan],\n",
    "        'score':[96,84,79,83,np.nan],\n",
    "        'city':['New York', 'Nashville', 'Atlanta', 'Boston', 'San Diego']\n",
    "        }\n",
    "\n",
    "df = pd.DataFrame(data)\n",
    "df"
   ]
  },
  {
   "cell_type": "code",
   "execution_count": 63,
   "id": "76f88574",
   "metadata": {},
   "outputs": [
    {
     "data": {
      "application/vnd.microsoft.datawrangler.viewer.v0+json": {
       "columns": [
        {
         "name": "index",
         "rawType": "object",
         "type": "string"
        },
        {
         "name": "0",
         "rawType": "int64",
         "type": "integer"
        }
       ],
       "ref": "aaab4fd0-4d76-49ba-a693-682aed94bfcf",
       "rows": [
        [
         "name",
         "0"
        ],
        [
         "age",
         "2"
        ],
        [
         "score",
         "1"
        ],
        [
         "city",
         "0"
        ]
       ],
       "shape": {
        "columns": 1,
        "rows": 4
       }
      },
      "text/plain": [
       "name     0\n",
       "age      2\n",
       "score    1\n",
       "city     0\n",
       "dtype: int64"
      ]
     },
     "execution_count": 63,
     "metadata": {},
     "output_type": "execute_result"
    }
   ],
   "source": [
    "df.isna().sum()"
   ]
  },
  {
   "cell_type": "code",
   "execution_count": 64,
   "id": "6bd1eeb1",
   "metadata": {},
   "outputs": [
    {
     "data": {
      "application/vnd.microsoft.datawrangler.viewer.v0+json": {
       "columns": [
        {
         "name": "index",
         "rawType": "int64",
         "type": "integer"
        },
        {
         "name": "age",
         "rawType": "float64",
         "type": "float"
        }
       ],
       "ref": "1b236d46-b515-4012-a75b-1ffc15256299",
       "rows": [
        [
         "2",
         "28.0"
        ],
        [
         "3",
         "35.0"
        ],
        [
         "0",
         "55.0"
        ],
        [
         "1",
         null
        ],
        [
         "4",
         null
        ]
       ],
       "shape": {
        "columns": 1,
        "rows": 5
       }
      },
      "text/plain": [
       "2    28.0\n",
       "3    35.0\n",
       "0    55.0\n",
       "1     NaN\n",
       "4     NaN\n",
       "Name: age, dtype: float64"
      ]
     },
     "execution_count": 64,
     "metadata": {},
     "output_type": "execute_result"
    }
   ],
   "source": [
    "df['age'].sort_values()"
   ]
  },
  {
   "cell_type": "code",
   "execution_count": 65,
   "id": "c9ad9088",
   "metadata": {},
   "outputs": [
    {
     "data": {
      "application/vnd.microsoft.datawrangler.viewer.v0+json": {
       "columns": [
        {
         "name": "index",
         "rawType": "int64",
         "type": "integer"
        },
        {
         "name": "name",
         "rawType": "object",
         "type": "string"
        },
        {
         "name": "age",
         "rawType": "float64",
         "type": "float"
        },
        {
         "name": "score",
         "rawType": "float64",
         "type": "float"
        },
        {
         "name": "city",
         "rawType": "object",
         "type": "string"
        }
       ],
       "ref": "9ed0cca5-5415-4502-b23a-05cb01942ee3",
       "rows": [
        [
         "1",
         "Mike",
         null,
         "84.0",
         "Nashville"
        ],
        [
         "4",
         "John",
         null,
         null,
         "San Diego"
        ]
       ],
       "shape": {
        "columns": 4,
        "rows": 2
       }
      },
      "text/html": [
       "<div>\n",
       "<style scoped>\n",
       "    .dataframe tbody tr th:only-of-type {\n",
       "        vertical-align: middle;\n",
       "    }\n",
       "\n",
       "    .dataframe tbody tr th {\n",
       "        vertical-align: top;\n",
       "    }\n",
       "\n",
       "    .dataframe thead th {\n",
       "        text-align: right;\n",
       "    }\n",
       "</style>\n",
       "<table border=\"1\" class=\"dataframe\">\n",
       "  <thead>\n",
       "    <tr style=\"text-align: right;\">\n",
       "      <th></th>\n",
       "      <th>name</th>\n",
       "      <th>age</th>\n",
       "      <th>score</th>\n",
       "      <th>city</th>\n",
       "    </tr>\n",
       "  </thead>\n",
       "  <tbody>\n",
       "    <tr>\n",
       "      <th>1</th>\n",
       "      <td>Mike</td>\n",
       "      <td>NaN</td>\n",
       "      <td>84.0</td>\n",
       "      <td>Nashville</td>\n",
       "    </tr>\n",
       "    <tr>\n",
       "      <th>4</th>\n",
       "      <td>John</td>\n",
       "      <td>NaN</td>\n",
       "      <td>NaN</td>\n",
       "      <td>San Diego</td>\n",
       "    </tr>\n",
       "  </tbody>\n",
       "</table>\n",
       "</div>"
      ],
      "text/plain": [
       "   name  age  score       city\n",
       "1  Mike  NaN   84.0  Nashville\n",
       "4  John  NaN    NaN  San Diego"
      ]
     },
     "execution_count": 65,
     "metadata": {},
     "output_type": "execute_result"
    }
   ],
   "source": [
    "# get the rows with nulls\n",
    "df[df.isna().any(axis=1)]"
   ]
  },
  {
   "cell_type": "code",
   "execution_count": 66,
   "id": "87208d3b",
   "metadata": {},
   "outputs": [
    {
     "data": {
      "application/vnd.microsoft.datawrangler.viewer.v0+json": {
       "columns": [
        {
         "name": "index",
         "rawType": "int64",
         "type": "integer"
        },
        {
         "name": "name",
         "rawType": "object",
         "type": "string"
        },
        {
         "name": "age",
         "rawType": "float64",
         "type": "float"
        },
        {
         "name": "score",
         "rawType": "float64",
         "type": "float"
        },
        {
         "name": "city",
         "rawType": "object",
         "type": "string"
        }
       ],
       "ref": "4535576e-c74e-4d06-8993-1871b23cb8cc",
       "rows": [
        [
         "0",
         "Mark",
         "55.0",
         "96.0",
         "New York"
        ],
        [
         "2",
         "Tammy",
         "28.0",
         "79.0",
         "Atlanta"
        ],
        [
         "3",
         "Becky",
         "35.0",
         "83.0",
         "Boston"
        ]
       ],
       "shape": {
        "columns": 4,
        "rows": 3
       }
      },
      "text/html": [
       "<div>\n",
       "<style scoped>\n",
       "    .dataframe tbody tr th:only-of-type {\n",
       "        vertical-align: middle;\n",
       "    }\n",
       "\n",
       "    .dataframe tbody tr th {\n",
       "        vertical-align: top;\n",
       "    }\n",
       "\n",
       "    .dataframe thead th {\n",
       "        text-align: right;\n",
       "    }\n",
       "</style>\n",
       "<table border=\"1\" class=\"dataframe\">\n",
       "  <thead>\n",
       "    <tr style=\"text-align: right;\">\n",
       "      <th></th>\n",
       "      <th>name</th>\n",
       "      <th>age</th>\n",
       "      <th>score</th>\n",
       "      <th>city</th>\n",
       "    </tr>\n",
       "  </thead>\n",
       "  <tbody>\n",
       "    <tr>\n",
       "      <th>0</th>\n",
       "      <td>Mark</td>\n",
       "      <td>55.0</td>\n",
       "      <td>96.0</td>\n",
       "      <td>New York</td>\n",
       "    </tr>\n",
       "    <tr>\n",
       "      <th>2</th>\n",
       "      <td>Tammy</td>\n",
       "      <td>28.0</td>\n",
       "      <td>79.0</td>\n",
       "      <td>Atlanta</td>\n",
       "    </tr>\n",
       "    <tr>\n",
       "      <th>3</th>\n",
       "      <td>Becky</td>\n",
       "      <td>35.0</td>\n",
       "      <td>83.0</td>\n",
       "      <td>Boston</td>\n",
       "    </tr>\n",
       "  </tbody>\n",
       "</table>\n",
       "</div>"
      ],
      "text/plain": [
       "    name   age  score      city\n",
       "0   Mark  55.0   96.0  New York\n",
       "2  Tammy  28.0   79.0   Atlanta\n",
       "3  Becky  35.0   83.0    Boston"
      ]
     },
     "execution_count": 66,
     "metadata": {},
     "output_type": "execute_result"
    }
   ],
   "source": [
    "df[~df.isna().any(axis=1)]"
   ]
  },
  {
   "cell_type": "code",
   "execution_count": 67,
   "id": "e5ac4cd2",
   "metadata": {},
   "outputs": [
    {
     "data": {
      "application/vnd.microsoft.datawrangler.viewer.v0+json": {
       "columns": [
        {
         "name": "index",
         "rawType": "int64",
         "type": "integer"
        },
        {
         "name": "name",
         "rawType": "object",
         "type": "string"
        },
        {
         "name": "age",
         "rawType": "float64",
         "type": "float"
        },
        {
         "name": "score",
         "rawType": "float64",
         "type": "float"
        },
        {
         "name": "city",
         "rawType": "object",
         "type": "string"
        }
       ],
       "ref": "83ff2520-6ab3-47ee-9b1b-b78bfe2577ed",
       "rows": [
        [
         "0",
         "Mark",
         "55.0",
         "96.0",
         "New York"
        ],
        [
         "2",
         "Tammy",
         "28.0",
         "79.0",
         "Atlanta"
        ],
        [
         "3",
         "Becky",
         "35.0",
         "83.0",
         "Boston"
        ]
       ],
       "shape": {
        "columns": 4,
        "rows": 3
       }
      },
      "text/html": [
       "<div>\n",
       "<style scoped>\n",
       "    .dataframe tbody tr th:only-of-type {\n",
       "        vertical-align: middle;\n",
       "    }\n",
       "\n",
       "    .dataframe tbody tr th {\n",
       "        vertical-align: top;\n",
       "    }\n",
       "\n",
       "    .dataframe thead th {\n",
       "        text-align: right;\n",
       "    }\n",
       "</style>\n",
       "<table border=\"1\" class=\"dataframe\">\n",
       "  <thead>\n",
       "    <tr style=\"text-align: right;\">\n",
       "      <th></th>\n",
       "      <th>name</th>\n",
       "      <th>age</th>\n",
       "      <th>score</th>\n",
       "      <th>city</th>\n",
       "    </tr>\n",
       "  </thead>\n",
       "  <tbody>\n",
       "    <tr>\n",
       "      <th>0</th>\n",
       "      <td>Mark</td>\n",
       "      <td>55.0</td>\n",
       "      <td>96.0</td>\n",
       "      <td>New York</td>\n",
       "    </tr>\n",
       "    <tr>\n",
       "      <th>2</th>\n",
       "      <td>Tammy</td>\n",
       "      <td>28.0</td>\n",
       "      <td>79.0</td>\n",
       "      <td>Atlanta</td>\n",
       "    </tr>\n",
       "    <tr>\n",
       "      <th>3</th>\n",
       "      <td>Becky</td>\n",
       "      <td>35.0</td>\n",
       "      <td>83.0</td>\n",
       "      <td>Boston</td>\n",
       "    </tr>\n",
       "  </tbody>\n",
       "</table>\n",
       "</div>"
      ],
      "text/plain": [
       "    name   age  score      city\n",
       "0   Mark  55.0   96.0  New York\n",
       "2  Tammy  28.0   79.0   Atlanta\n",
       "3  Becky  35.0   83.0    Boston"
      ]
     },
     "execution_count": 67,
     "metadata": {},
     "output_type": "execute_result"
    }
   ],
   "source": [
    "#instead of using the function above to get non-nulls, use dropna()\n",
    "df.dropna()"
   ]
  },
  {
   "cell_type": "code",
   "execution_count": 71,
   "id": "84e2d970",
   "metadata": {},
   "outputs": [
    {
     "data": {
      "text/plain": [
       "array(['Mark', 'Mike', 'Tammy', 'Becky', 'John'], dtype=object)"
      ]
     },
     "execution_count": 71,
     "metadata": {},
     "output_type": "execute_result"
    }
   ],
   "source": [
    "df['name'].unique()"
   ]
  },
  {
   "cell_type": "code",
   "execution_count": 74,
   "id": "e489c9db",
   "metadata": {},
   "outputs": [
    {
     "name": "stdout",
     "output_type": "stream",
     "text": [
      "Count of nulls for Mark 0\n",
      "Count of nulls for Mike 1\n",
      "Count of nulls for Tammy 0\n",
      "Count of nulls for Becky 0\n",
      "Count of nulls for John 2\n"
     ]
    }
   ],
   "source": [
    "for val in df['name'].unique():\n",
    "    print('Count of nulls for',val,df[df['name']==val].isna().sum().sum())"
   ]
  },
  {
   "cell_type": "code",
   "execution_count": null,
   "id": "2f0c2a67",
   "metadata": {},
   "outputs": [],
   "source": []
  }
 ],
 "metadata": {
  "kernelspec": {
   "display_name": "Python 3",
   "language": "python",
   "name": "python3"
  },
  "language_info": {
   "codemirror_mode": {
    "name": "ipython",
    "version": 3
   },
   "file_extension": ".py",
   "mimetype": "text/x-python",
   "name": "python",
   "nbconvert_exporter": "python",
   "pygments_lexer": "ipython3",
   "version": "3.11.3"
  }
 },
 "nbformat": 4,
 "nbformat_minor": 5
}
